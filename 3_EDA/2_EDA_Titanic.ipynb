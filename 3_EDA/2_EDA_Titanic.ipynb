{
 "cells": [
  {
   "cell_type": "markdown",
   "metadata": {
    "id": "QTef_yKBhBjA"
   },
   "source": [
    "# **EDA on titanic dataset**"
   ]
  },
  {
   "cell_type": "markdown",
   "metadata": {
    "id": "QuDZqGzuhGlE"
   },
   "source": [
    "Loading and observing the data of titanic dataset"
   ]
  },
  {
   "cell_type": "markdown",
   "metadata": {},
   "source": [
    "Dataset link: [Titanic_dataset_kaggle](https://www.kaggle.com/competitions/titanic)"
   ]
  },
  {
   "cell_type": "code",
   "execution_count": 27,
   "metadata": {},
   "outputs": [],
   "source": [
    "# importing libraries\n",
    "\n",
    "import pandas as pd\n",
    "import numpy as np\n",
    "\n",
    "import matplotlib.pyplot as plt\n",
    "import seaborn as sns\n",
    "\n",
    "import warnings\n",
    "warnings.filterwarnings('ignore')"
   ]
  },
  {
   "cell_type": "code",
   "execution_count": 2,
   "metadata": {
    "executionInfo": {
     "elapsed": 41,
     "status": "ok",
     "timestamp": 1754029734983,
     "user": {
      "displayName": "Srinivas Appana",
      "userId": "17871761728706768737"
     },
     "user_tz": -330
    },
    "id": "hfgtoqx_dAxl"
   },
   "outputs": [],
   "source": [
    "# loading the data\n",
    "\n",
    "titanic = pd.read_csv(\"./datasets/titanic_train.csv\")"
   ]
  },
  {
   "cell_type": "code",
   "execution_count": 3,
   "metadata": {
    "colab": {
     "base_uri": "https://localhost:8080/"
    },
    "executionInfo": {
     "elapsed": 12,
     "status": "ok",
     "timestamp": 1754029736241,
     "user": {
      "displayName": "Srinivas Appana",
      "userId": "17871761728706768737"
     },
     "user_tz": -330
    },
    "id": "jXFfBcAohOuV",
    "outputId": "affffa81-6101-458f-8d51-3b89976101c4"
   },
   "outputs": [
    {
     "data": {
      "text/plain": [
       "['PassengerId',\n",
       " 'Survived',\n",
       " 'Pclass',\n",
       " 'Name',\n",
       " 'Sex',\n",
       " 'Age',\n",
       " 'SibSp',\n",
       " 'Parch',\n",
       " 'Ticket',\n",
       " 'Fare',\n",
       " 'Cabin',\n",
       " 'Embarked']"
      ]
     },
     "execution_count": 3,
     "metadata": {},
     "output_type": "execute_result"
    }
   ],
   "source": [
    "# observing the columns\n",
    "\n",
    "titanic.columns.tolist()"
   ]
  },
  {
   "cell_type": "code",
   "execution_count": 4,
   "metadata": {
    "colab": {
     "base_uri": "https://localhost:8080/",
     "height": 460
    },
    "executionInfo": {
     "elapsed": 19,
     "status": "ok",
     "timestamp": 1754029737025,
     "user": {
      "displayName": "Srinivas Appana",
      "userId": "17871761728706768737"
     },
     "user_tz": -330
    },
    "id": "x7NYD2QqiCoK",
    "outputId": "4ce3bc19-4811-43aa-dcf1-681c080810b6"
   },
   "outputs": [
    {
     "data": {
      "text/plain": [
       "PassengerId    891\n",
       "Survived         2\n",
       "Pclass           3\n",
       "Name           891\n",
       "Sex              2\n",
       "Age             88\n",
       "SibSp            7\n",
       "Parch            7\n",
       "Ticket         681\n",
       "Fare           248\n",
       "Cabin          147\n",
       "Embarked         3\n",
       "dtype: int64"
      ]
     },
     "execution_count": 4,
     "metadata": {},
     "output_type": "execute_result"
    }
   ],
   "source": [
    "# unique values of each column\n",
    "\n",
    "titanic.nunique()"
   ]
  },
  {
   "cell_type": "markdown",
   "metadata": {
    "id": "bBT-WQUJh_if"
   },
   "source": [
    "What does each column says\n",
    "* **PassengerId**: id of the passenger\n",
    "* **Survived**: Wether passenger is survived or not (1/0)\n",
    "* **Pclass**: Travelling class of passenger (1/2/3)\n",
    "* **Name**: name of the passenger\n",
    "* **Sex**: gender of the passenger\n",
    "* **Age**: age of the passenger\n",
    "* **Sisb**: how many related members travelling with that passenger (count)\n",
    "* **Parch**: how many parents or childs travelling with that passenger (count)\n",
    "* **Ticket**: ticket number\n",
    "* **Fare**: what is the cost of ticket\n",
    "* **cabin**: in which cabin does the customer travells\n",
    "* **Embarked**: From which station does this titanic starts travelling (S/C/QT)"
   ]
  },
  {
   "cell_type": "code",
   "execution_count": 5,
   "metadata": {
    "colab": {
     "base_uri": "https://localhost:8080/",
     "height": 258
    },
    "executionInfo": {
     "elapsed": 111,
     "status": "ok",
     "timestamp": 1754029741436,
     "user": {
      "displayName": "Srinivas Appana",
      "userId": "17871761728706768737"
     },
     "user_tz": -330
    },
    "id": "am-ttkh5hS5E",
    "outputId": "22dd9eca-e423-4f43-aa71-028da0cd4458"
   },
   "outputs": [
    {
     "data": {
      "text/html": [
       "<div>\n",
       "<style scoped>\n",
       "    .dataframe tbody tr th:only-of-type {\n",
       "        vertical-align: middle;\n",
       "    }\n",
       "\n",
       "    .dataframe tbody tr th {\n",
       "        vertical-align: top;\n",
       "    }\n",
       "\n",
       "    .dataframe thead th {\n",
       "        text-align: right;\n",
       "    }\n",
       "</style>\n",
       "<table border=\"1\" class=\"dataframe\">\n",
       "  <thead>\n",
       "    <tr style=\"text-align: right;\">\n",
       "      <th></th>\n",
       "      <th>PassengerId</th>\n",
       "      <th>Survived</th>\n",
       "      <th>Pclass</th>\n",
       "      <th>Name</th>\n",
       "      <th>Sex</th>\n",
       "      <th>Age</th>\n",
       "      <th>SibSp</th>\n",
       "      <th>Parch</th>\n",
       "      <th>Ticket</th>\n",
       "      <th>Fare</th>\n",
       "      <th>Cabin</th>\n",
       "      <th>Embarked</th>\n",
       "    </tr>\n",
       "  </thead>\n",
       "  <tbody>\n",
       "    <tr>\n",
       "      <th>0</th>\n",
       "      <td>1</td>\n",
       "      <td>0</td>\n",
       "      <td>3</td>\n",
       "      <td>Braund, Mr. Owen Harris</td>\n",
       "      <td>male</td>\n",
       "      <td>22.0</td>\n",
       "      <td>1</td>\n",
       "      <td>0</td>\n",
       "      <td>A/5 21171</td>\n",
       "      <td>7.2500</td>\n",
       "      <td>NaN</td>\n",
       "      <td>S</td>\n",
       "    </tr>\n",
       "    <tr>\n",
       "      <th>1</th>\n",
       "      <td>2</td>\n",
       "      <td>1</td>\n",
       "      <td>1</td>\n",
       "      <td>Cumings, Mrs. John Bradley (Florence Briggs Th...</td>\n",
       "      <td>female</td>\n",
       "      <td>38.0</td>\n",
       "      <td>1</td>\n",
       "      <td>0</td>\n",
       "      <td>PC 17599</td>\n",
       "      <td>71.2833</td>\n",
       "      <td>C85</td>\n",
       "      <td>C</td>\n",
       "    </tr>\n",
       "    <tr>\n",
       "      <th>2</th>\n",
       "      <td>3</td>\n",
       "      <td>1</td>\n",
       "      <td>3</td>\n",
       "      <td>Heikkinen, Miss. Laina</td>\n",
       "      <td>female</td>\n",
       "      <td>26.0</td>\n",
       "      <td>0</td>\n",
       "      <td>0</td>\n",
       "      <td>STON/O2. 3101282</td>\n",
       "      <td>7.9250</td>\n",
       "      <td>NaN</td>\n",
       "      <td>S</td>\n",
       "    </tr>\n",
       "    <tr>\n",
       "      <th>3</th>\n",
       "      <td>4</td>\n",
       "      <td>1</td>\n",
       "      <td>1</td>\n",
       "      <td>Futrelle, Mrs. Jacques Heath (Lily May Peel)</td>\n",
       "      <td>female</td>\n",
       "      <td>35.0</td>\n",
       "      <td>1</td>\n",
       "      <td>0</td>\n",
       "      <td>113803</td>\n",
       "      <td>53.1000</td>\n",
       "      <td>C123</td>\n",
       "      <td>S</td>\n",
       "    </tr>\n",
       "    <tr>\n",
       "      <th>4</th>\n",
       "      <td>5</td>\n",
       "      <td>0</td>\n",
       "      <td>3</td>\n",
       "      <td>Allen, Mr. William Henry</td>\n",
       "      <td>male</td>\n",
       "      <td>35.0</td>\n",
       "      <td>0</td>\n",
       "      <td>0</td>\n",
       "      <td>373450</td>\n",
       "      <td>8.0500</td>\n",
       "      <td>NaN</td>\n",
       "      <td>S</td>\n",
       "    </tr>\n",
       "  </tbody>\n",
       "</table>\n",
       "</div>"
      ],
      "text/plain": [
       "   PassengerId  Survived  Pclass  \\\n",
       "0            1         0       3   \n",
       "1            2         1       1   \n",
       "2            3         1       3   \n",
       "3            4         1       1   \n",
       "4            5         0       3   \n",
       "\n",
       "                                                Name     Sex   Age  SibSp  \\\n",
       "0                            Braund, Mr. Owen Harris    male  22.0      1   \n",
       "1  Cumings, Mrs. John Bradley (Florence Briggs Th...  female  38.0      1   \n",
       "2                             Heikkinen, Miss. Laina  female  26.0      0   \n",
       "3       Futrelle, Mrs. Jacques Heath (Lily May Peel)  female  35.0      1   \n",
       "4                           Allen, Mr. William Henry    male  35.0      0   \n",
       "\n",
       "   Parch            Ticket     Fare Cabin Embarked  \n",
       "0      0         A/5 21171   7.2500   NaN        S  \n",
       "1      0          PC 17599  71.2833   C85        C  \n",
       "2      0  STON/O2. 3101282   7.9250   NaN        S  \n",
       "3      0            113803  53.1000  C123        S  \n",
       "4      0            373450   8.0500   NaN        S  "
      ]
     },
     "execution_count": 5,
     "metadata": {},
     "output_type": "execute_result"
    }
   ],
   "source": [
    "# first few rows of the data\n",
    "\n",
    "titanic.head()"
   ]
  },
  {
   "cell_type": "code",
   "execution_count": 6,
   "metadata": {
    "colab": {
     "base_uri": "https://localhost:8080/"
    },
    "executionInfo": {
     "elapsed": 60,
     "status": "ok",
     "timestamp": 1754029743852,
     "user": {
      "displayName": "Srinivas Appana",
      "userId": "17871761728706768737"
     },
     "user_tz": -330
    },
    "id": "1QVdLUVVheq7",
    "outputId": "22ebef79-3ce2-496f-982d-e81dcf84e2b1"
   },
   "outputs": [
    {
     "name": "stdout",
     "output_type": "stream",
     "text": [
      "Number of rows in the dataset: 891\n",
      "Number of columns in the dataset: 12\n"
     ]
    }
   ],
   "source": [
    "# shape of the data\n",
    "\n",
    "print(f\"Number of rows in the dataset: {titanic.shape[0]}\")\n",
    "print(f\"Number of columns in the dataset: {titanic.shape[1]}\")"
   ]
  },
  {
   "cell_type": "code",
   "execution_count": 7,
   "metadata": {
    "colab": {
     "base_uri": "https://localhost:8080/"
    },
    "executionInfo": {
     "elapsed": 37,
     "status": "ok",
     "timestamp": 1754029777722,
     "user": {
      "displayName": "Srinivas Appana",
      "userId": "17871761728706768737"
     },
     "user_tz": -330
    },
    "id": "0DPrqJxxh3Me",
    "outputId": "5b5bb037-dbb9-4f45-f8fc-889dd7fb6e6a"
   },
   "outputs": [
    {
     "name": "stdout",
     "output_type": "stream",
     "text": [
      "<class 'pandas.core.frame.DataFrame'>\n",
      "RangeIndex: 891 entries, 0 to 890\n",
      "Data columns (total 12 columns):\n",
      " #   Column       Non-Null Count  Dtype  \n",
      "---  ------       --------------  -----  \n",
      " 0   PassengerId  891 non-null    int64  \n",
      " 1   Survived     891 non-null    int64  \n",
      " 2   Pclass       891 non-null    int64  \n",
      " 3   Name         891 non-null    object \n",
      " 4   Sex          891 non-null    object \n",
      " 5   Age          714 non-null    float64\n",
      " 6   SibSp        891 non-null    int64  \n",
      " 7   Parch        891 non-null    int64  \n",
      " 8   Ticket       891 non-null    object \n",
      " 9   Fare         891 non-null    float64\n",
      " 10  Cabin        204 non-null    object \n",
      " 11  Embarked     889 non-null    object \n",
      "dtypes: float64(2), int64(5), object(5)\n",
      "memory usage: 83.7+ KB\n"
     ]
    }
   ],
   "source": [
    "# avaiable columns and their datatypes\n",
    "titanic.info()"
   ]
  },
  {
   "cell_type": "markdown",
   "metadata": {
    "id": "kjnP86KVUoDz"
   },
   "source": [
    "### Broadly, the column types are\n",
    "\n",
    "\n",
    "*   **Numerical** - Age, Fare, PassengerId\n",
    "*   **Categorical** - survived, Pclass, Sex, SibSp, Parch, Embarked\n",
    "*   **Mixed** - Name, Ticket, Cabin\n",
    "\n"
   ]
  },
  {
   "cell_type": "markdown",
   "metadata": {
    "id": "l9eeA8npWKse"
   },
   "source": [
    "## **Univariate Analysis**"
   ]
  },
  {
   "cell_type": "markdown",
   "metadata": {
    "id": "al7lv-2uXHEZ"
   },
   "source": [
    "We can observe that, **passengerId** wont play much role in the analysis, so we can neglect it."
   ]
  },
  {
   "cell_type": "markdown",
   "metadata": {
    "id": "ge-eTWFbXahP"
   },
   "source": [
    "### **Age**"
   ]
  },
  {
   "cell_type": "code",
   "execution_count": 8,
   "metadata": {
    "colab": {
     "base_uri": "https://localhost:8080/"
    },
    "executionInfo": {
     "elapsed": 29,
     "status": "ok",
     "timestamp": 1754032575280,
     "user": {
      "displayName": "Srinivas Appana",
      "userId": "17871761728706768737"
     },
     "user_tz": -330
    },
    "id": "fN2iV109fMXv",
    "outputId": "fffd2603-d4bd-408b-e22d-654311b859d3"
   },
   "outputs": [
    {
     "data": {
      "text/plain": [
       "dtype('float64')"
      ]
     },
     "execution_count": 8,
     "metadata": {},
     "output_type": "execute_result"
    }
   ],
   "source": [
    "# datatype of age\n",
    "\n",
    "titanic[\"Age\"].dtype"
   ]
  },
  {
   "cell_type": "code",
   "execution_count": 9,
   "metadata": {
    "colab": {
     "base_uri": "https://localhost:8080/",
     "height": 335
    },
    "executionInfo": {
     "elapsed": 25,
     "status": "ok",
     "timestamp": 1754030817319,
     "user": {
      "displayName": "Srinivas Appana",
      "userId": "17871761728706768737"
     },
     "user_tz": -330
    },
    "id": "X_cU1jKUXDch",
    "outputId": "a853803f-f058-45f6-ab24-1a2406ff85c1"
   },
   "outputs": [
    {
     "data": {
      "text/plain": [
       "count    714.000000\n",
       "mean      29.699118\n",
       "std       14.526497\n",
       "min        0.420000\n",
       "25%       20.125000\n",
       "50%       28.000000\n",
       "75%       38.000000\n",
       "max       80.000000\n",
       "Name: Age, dtype: float64"
      ]
     },
     "execution_count": 9,
     "metadata": {},
     "output_type": "execute_result"
    }
   ],
   "source": [
    "# univariate analysis on Age\n",
    "titanic['Age'].describe()"
   ]
  },
  {
   "cell_type": "markdown",
   "metadata": {
    "id": "IbuDlX3YYygl"
   },
   "source": [
    "we can observe that\n",
    "* max age is : 80\n",
    "* min age is : 0.42\n",
    "\n",
    "so there may be no any otliers or wrong data points\n",
    "\n",
    "Also 75% of peoples age is <= 38 (so most of people were not old)"
   ]
  },
  {
   "cell_type": "code",
   "execution_count": 10,
   "metadata": {
    "colab": {
     "base_uri": "https://localhost:8080/",
     "height": 542
    },
    "executionInfo": {
     "elapsed": 81,
     "status": "ok",
     "timestamp": 1754031417770,
     "user": {
      "displayName": "Srinivas Appana",
      "userId": "17871761728706768737"
     },
     "user_tz": -330
    },
    "id": "F3jydiJvUmGY",
    "outputId": "4e8cdcec-b34f-4b30-b6f3-bf9d8ca15678"
   },
   "outputs": [
    {
     "data": {
      "image/png": "[encoded data removed]",
      "text/plain": [
       "<Figure size 800x500 with 1 Axes>"
      ]
     },
     "metadata": {},
     "output_type": "display_data"
    }
   ],
   "source": [
    "# plotting for more better results\n",
    "\n",
    "plt.figure(figsize=(8, 5))\n",
    "sns.histplot(\n",
    "    data=titanic,\n",
    "    x='Age',\n",
    "    bins=30,\n",
    "    kde=False\n",
    ")\n",
    "\n",
    "plt.title(\"Distribution of Age\")\n",
    "plt.xlabel(\"Age\")\n",
    "plt.ylabel(\"Count\")\n",
    "\n",
    "plt.show()"
   ]
  },
  {
   "cell_type": "markdown",
   "metadata": {
    "id": "yaV9orqRa3xA"
   },
   "source": [
    "We can observe that, most of the people are in age b/w 20 & 30"
   ]
  },
  {
   "cell_type": "code",
   "execution_count": 11,
   "metadata": {
    "colab": {
     "base_uri": "https://localhost:8080/",
     "height": 347
    },
    "executionInfo": {
     "elapsed": 572,
     "status": "ok",
     "timestamp": 1754031533980,
     "user": {
      "displayName": "Srinivas Appana",
      "userId": "17871761728706768737"
     },
     "user_tz": -330
    },
    "id": "oZW1xTGRZPLO",
    "outputId": "9e5a93fd-0df2-41dd-db8f-f19d15838ff1"
   },
   "outputs": [
    {
     "data": {
      "image/png": "[encoded data removed]",
      "text/plain": [
       "<Figure size 1000x500 with 1 Axes>"
      ]
     },
     "metadata": {},
     "output_type": "display_data"
    }
   ],
   "source": [
    "# kde distrubution of age\n",
    "\n",
    "sns.set_theme(style = \"darkgrid\")\n",
    "plt.figure(figsize=(10,5))\n",
    "sns.kdeplot(titanic['Age'], fill = True)\n",
    "plt.show()"
   ]
  },
  {
   "cell_type": "code",
   "execution_count": 12,
   "metadata": {
    "colab": {
     "base_uri": "https://localhost:8080/"
    },
    "executionInfo": {
     "elapsed": 36,
     "status": "ok",
     "timestamp": 1754031577498,
     "user": {
      "displayName": "Srinivas Appana",
      "userId": "17871761728706768737"
     },
     "user_tz": -330
    },
    "id": "6hl6IwKkbL8y",
    "outputId": "7b9b635a-0f49-4aee-8435-fa75d6b9088e"
   },
   "outputs": [
    {
     "name": "stdout",
     "output_type": "stream",
     "text": [
      "skewness of age is : 0.38910778230082704\n"
     ]
    }
   ],
   "source": [
    "# observing the skewness also\n",
    "\n",
    "print(f\"skewness of age is : {titanic['Age'].skew()}\")"
   ]
  },
  {
   "cell_type": "markdown",
   "metadata": {
    "id": "iUk_v8d3beb4"
   },
   "source": [
    "skewness of age is nearly to 0, so roughly it follows normal distribution\n",
    "\n",
    "\n",
    "*   if skewness is +ve -- positively skewed data\n",
    "*   if skewness is -ve -- negatively skewed data\n",
    "\n"
   ]
  },
  {
   "cell_type": "code",
   "execution_count": 13,
   "metadata": {
    "colab": {
     "base_uri": "https://localhost:8080/",
     "height": 542
    },
    "executionInfo": {
     "elapsed": 111,
     "status": "ok",
     "timestamp": 1754031702712,
     "user": {
      "displayName": "Srinivas Appana",
      "userId": "17871761728706768737"
     },
     "user_tz": -330
    },
    "id": "fmndH0CZbdfs",
    "outputId": "e41132e4-855a-4afb-d0cd-6f6a749d54b4"
   },
   "outputs": [
    {
     "data": {
      "image/png": "[encoded data removed]",
      "text/plain": [
       "<Figure size 800x500 with 1 Axes>"
      ]
     },
     "metadata": {},
     "output_type": "display_data"
    }
   ],
   "source": [
    "# observing the outliers of age column using blox plot\n",
    "\n",
    "plt.figure(figsize=(8, 5))\n",
    "sns.boxplot(\n",
    "    data=titanic,\n",
    "    x='Age'\n",
    ")\n",
    "\n",
    "plt.title(\"Box plot of Age\")\n",
    "plt.xlabel(\"Age\")\n",
    "\n",
    "plt.show()"
   ]
  },
  {
   "cell_type": "markdown",
   "metadata": {
    "id": "x2Sbv_encPpt"
   },
   "source": [
    "A few outliers were present, but we need to decide to accept or reject these outliers"
   ]
  },
  {
   "cell_type": "markdown",
   "metadata": {
    "id": "dm8PntNpclyM"
   },
   "source": [
    "Above box plot gives that, above 65 aged people are outliers"
   ]
  },
  {
   "cell_type": "code",
   "execution_count": 14,
   "metadata": {
    "colab": {
     "base_uri": "https://localhost:8080/",
     "height": 580
    },
    "executionInfo": {
     "elapsed": 134,
     "status": "ok",
     "timestamp": 1754031916332,
     "user": {
      "displayName": "Srinivas Appana",
      "userId": "17871761728706768737"
     },
     "user_tz": -330
    },
    "id": "u7UHCCYtb8Cp",
    "outputId": "65fa15b9-c6ce-49de-bed4-edf13f893bae"
   },
   "outputs": [
    {
     "data": {
      "text/html": [
       "<div>\n",
       "<style scoped>\n",
       "    .dataframe tbody tr th:only-of-type {\n",
       "        vertical-align: middle;\n",
       "    }\n",
       "\n",
       "    .dataframe tbody tr th {\n",
       "        vertical-align: top;\n",
       "    }\n",
       "\n",
       "    .dataframe thead th {\n",
       "        text-align: right;\n",
       "    }\n",
       "</style>\n",
       "<table border=\"1\" class=\"dataframe\">\n",
       "  <thead>\n",
       "    <tr style=\"text-align: right;\">\n",
       "      <th></th>\n",
       "      <th>PassengerId</th>\n",
       "      <th>Survived</th>\n",
       "      <th>Pclass</th>\n",
       "      <th>Name</th>\n",
       "      <th>Sex</th>\n",
       "      <th>Age</th>\n",
       "      <th>SibSp</th>\n",
       "      <th>Parch</th>\n",
       "      <th>Ticket</th>\n",
       "      <th>Fare</th>\n",
       "      <th>Cabin</th>\n",
       "      <th>Embarked</th>\n",
       "    </tr>\n",
       "  </thead>\n",
       "  <tbody>\n",
       "    <tr>\n",
       "      <th>33</th>\n",
       "      <td>34</td>\n",
       "      <td>0</td>\n",
       "      <td>2</td>\n",
       "      <td>Wheadon, Mr. Edward H</td>\n",
       "      <td>male</td>\n",
       "      <td>66.0</td>\n",
       "      <td>0</td>\n",
       "      <td>0</td>\n",
       "      <td>C.A. 24579</td>\n",
       "      <td>10.5000</td>\n",
       "      <td>NaN</td>\n",
       "      <td>S</td>\n",
       "    </tr>\n",
       "    <tr>\n",
       "      <th>96</th>\n",
       "      <td>97</td>\n",
       "      <td>0</td>\n",
       "      <td>1</td>\n",
       "      <td>Goldschmidt, Mr. George B</td>\n",
       "      <td>male</td>\n",
       "      <td>71.0</td>\n",
       "      <td>0</td>\n",
       "      <td>0</td>\n",
       "      <td>PC 17754</td>\n",
       "      <td>34.6542</td>\n",
       "      <td>A5</td>\n",
       "      <td>C</td>\n",
       "    </tr>\n",
       "    <tr>\n",
       "      <th>116</th>\n",
       "      <td>117</td>\n",
       "      <td>0</td>\n",
       "      <td>3</td>\n",
       "      <td>Connors, Mr. Patrick</td>\n",
       "      <td>male</td>\n",
       "      <td>70.5</td>\n",
       "      <td>0</td>\n",
       "      <td>0</td>\n",
       "      <td>370369</td>\n",
       "      <td>7.7500</td>\n",
       "      <td>NaN</td>\n",
       "      <td>Q</td>\n",
       "    </tr>\n",
       "    <tr>\n",
       "      <th>493</th>\n",
       "      <td>494</td>\n",
       "      <td>0</td>\n",
       "      <td>1</td>\n",
       "      <td>Artagaveytia, Mr. Ramon</td>\n",
       "      <td>male</td>\n",
       "      <td>71.0</td>\n",
       "      <td>0</td>\n",
       "      <td>0</td>\n",
       "      <td>PC 17609</td>\n",
       "      <td>49.5042</td>\n",
       "      <td>NaN</td>\n",
       "      <td>C</td>\n",
       "    </tr>\n",
       "    <tr>\n",
       "      <th>630</th>\n",
       "      <td>631</td>\n",
       "      <td>1</td>\n",
       "      <td>1</td>\n",
       "      <td>Barkworth, Mr. Algernon Henry Wilson</td>\n",
       "      <td>male</td>\n",
       "      <td>80.0</td>\n",
       "      <td>0</td>\n",
       "      <td>0</td>\n",
       "      <td>27042</td>\n",
       "      <td>30.0000</td>\n",
       "      <td>A23</td>\n",
       "      <td>S</td>\n",
       "    </tr>\n",
       "    <tr>\n",
       "      <th>672</th>\n",
       "      <td>673</td>\n",
       "      <td>0</td>\n",
       "      <td>2</td>\n",
       "      <td>Mitchell, Mr. Henry Michael</td>\n",
       "      <td>male</td>\n",
       "      <td>70.0</td>\n",
       "      <td>0</td>\n",
       "      <td>0</td>\n",
       "      <td>C.A. 24580</td>\n",
       "      <td>10.5000</td>\n",
       "      <td>NaN</td>\n",
       "      <td>S</td>\n",
       "    </tr>\n",
       "    <tr>\n",
       "      <th>745</th>\n",
       "      <td>746</td>\n",
       "      <td>0</td>\n",
       "      <td>1</td>\n",
       "      <td>Crosby, Capt. Edward Gifford</td>\n",
       "      <td>male</td>\n",
       "      <td>70.0</td>\n",
       "      <td>1</td>\n",
       "      <td>1</td>\n",
       "      <td>WE/P 5735</td>\n",
       "      <td>71.0000</td>\n",
       "      <td>B22</td>\n",
       "      <td>S</td>\n",
       "    </tr>\n",
       "    <tr>\n",
       "      <th>851</th>\n",
       "      <td>852</td>\n",
       "      <td>0</td>\n",
       "      <td>3</td>\n",
       "      <td>Svensson, Mr. Johan</td>\n",
       "      <td>male</td>\n",
       "      <td>74.0</td>\n",
       "      <td>0</td>\n",
       "      <td>0</td>\n",
       "      <td>347060</td>\n",
       "      <td>7.7750</td>\n",
       "      <td>NaN</td>\n",
       "      <td>S</td>\n",
       "    </tr>\n",
       "  </tbody>\n",
       "</table>\n",
       "</div>"
      ],
      "text/plain": [
       "     PassengerId  Survived  Pclass                                  Name  \\\n",
       "33            34         0       2                 Wheadon, Mr. Edward H   \n",
       "96            97         0       1             Goldschmidt, Mr. George B   \n",
       "116          117         0       3                  Connors, Mr. Patrick   \n",
       "493          494         0       1               Artagaveytia, Mr. Ramon   \n",
       "630          631         1       1  Barkworth, Mr. Algernon Henry Wilson   \n",
       "672          673         0       2           Mitchell, Mr. Henry Michael   \n",
       "745          746         0       1          Crosby, Capt. Edward Gifford   \n",
       "851          852         0       3                   Svensson, Mr. Johan   \n",
       "\n",
       "      Sex   Age  SibSp  Parch      Ticket     Fare Cabin Embarked  \n",
       "33   male  66.0      0      0  C.A. 24579  10.5000   NaN        S  \n",
       "96   male  71.0      0      0    PC 17754  34.6542    A5        C  \n",
       "116  male  70.5      0      0      370369   7.7500   NaN        Q  \n",
       "493  male  71.0      0      0    PC 17609  49.5042   NaN        C  \n",
       "630  male  80.0      0      0       27042  30.0000   A23        S  \n",
       "672  male  70.0      0      0  C.A. 24580  10.5000   NaN        S  \n",
       "745  male  70.0      1      1   WE/P 5735  71.0000   B22        S  \n",
       "851  male  74.0      0      0      347060   7.7750   NaN        S  "
      ]
     },
     "execution_count": 14,
     "metadata": {},
     "output_type": "execute_result"
    }
   ],
   "source": [
    "# observing the outliers data\n",
    "\n",
    "titanic[titanic['Age'] > 65]"
   ]
  },
  {
   "cell_type": "markdown",
   "metadata": {
    "id": "zxrhGHB5c8XS"
   },
   "source": [
    "from the outlier age values we can decide to reject or accept those datapoints"
   ]
  },
  {
   "cell_type": "code",
   "execution_count": 15,
   "metadata": {
    "colab": {
     "base_uri": "https://localhost:8080/"
    },
    "executionInfo": {
     "elapsed": 37,
     "status": "ok",
     "timestamp": 1754032188515,
     "user": {
      "displayName": "Srinivas Appana",
      "userId": "17871761728706768737"
     },
     "user_tz": -330
    },
    "id": "g8lpnDM2cwMI",
    "outputId": "5bacea26-eda1-4def-bf2d-c021df84d735"
   },
   "outputs": [
    {
     "name": "stdout",
     "output_type": "stream",
     "text": [
      "number of null values in age column is : 177\n",
      "percentage of null values in age column : 19.87%\n"
     ]
    }
   ],
   "source": [
    "# finding the null values of age column\n",
    "\n",
    "print(f\"number of null values in age column is : {titanic['Age'].isnull().sum()}\")\n",
    "print(f\"percentage of null values in age column : {round(titanic['Age'].isnull().sum()/len(titanic['Age'])*100, 2)}%\")"
   ]
  },
  {
   "cell_type": "markdown",
   "metadata": {
    "id": "RD97IbkNdNDq"
   },
   "source": [
    "there are 177 missing values existed in the age column"
   ]
  },
  {
   "cell_type": "markdown",
   "metadata": {
    "id": "GKd2-_o0XeLh"
   },
   "source": [
    "**Conclusions on Age**\n",
    "\n",
    "\n",
    "\n",
    "*   Age is normally(almost) distributed\n",
    "*   19.8% of the values are missing\n",
    "*   There are some outliers, but can be cosiderable.\n",
    "\n"
   ]
  },
  {
   "cell_type": "markdown",
   "metadata": {
    "id": "qwwTI4H0e1Fa"
   },
   "source": [
    "### **Fare**"
   ]
  },
  {
   "cell_type": "code",
   "execution_count": 16,
   "metadata": {
    "colab": {
     "base_uri": "https://localhost:8080/"
    },
    "executionInfo": {
     "elapsed": 33,
     "status": "ok",
     "timestamp": 1754032544200,
     "user": {
      "displayName": "Srinivas Appana",
      "userId": "17871761728706768737"
     },
     "user_tz": -330
    },
    "id": "-YHBWWOPdI5l",
    "outputId": "a82ea5f6-d109-45eb-f346-81b556e79e4a"
   },
   "outputs": [
    {
     "data": {
      "text/plain": [
       "dtype('float64')"
      ]
     },
     "execution_count": 16,
     "metadata": {},
     "output_type": "execute_result"
    }
   ],
   "source": [
    "# datatype of Fare\n",
    "\n",
    "titanic['Fare'].dtype"
   ]
  },
  {
   "cell_type": "code",
   "execution_count": 17,
   "metadata": {
    "colab": {
     "base_uri": "https://localhost:8080/",
     "height": 335
    },
    "executionInfo": {
     "elapsed": 47,
     "status": "ok",
     "timestamp": 1754032666051,
     "user": {
      "displayName": "Srinivas Appana",
      "userId": "17871761728706768737"
     },
     "user_tz": -330
    },
    "id": "8G8lXC9nfJgf",
    "outputId": "03b7edbf-e382-4bc4-e5cb-df3caa609948"
   },
   "outputs": [
    {
     "data": {
      "text/plain": [
       "count    891.000000\n",
       "mean      32.204208\n",
       "std       49.693429\n",
       "min        0.000000\n",
       "25%        7.910400\n",
       "50%       14.454200\n",
       "75%       31.000000\n",
       "max      512.329200\n",
       "Name: Fare, dtype: float64"
      ]
     },
     "execution_count": 17,
     "metadata": {},
     "output_type": "execute_result"
    }
   ],
   "source": [
    "# describing the age\n",
    "\n",
    "titanic['Fare'].describe()"
   ]
  },
  {
   "cell_type": "markdown",
   "metadata": {
    "id": "S60zNCd2f0Yf"
   },
   "source": [
    "we can observe that\n",
    "* max fare is : 512.32\n",
    "* min fare is : 0.00\n",
    "\n",
    "so there may be no any otliers or wrong data points\n",
    "\n",
    "Also 75% of peoples fare is <= 31 (so few people are travelling with high fare)"
   ]
  },
  {
   "cell_type": "code",
   "execution_count": 18,
   "metadata": {
    "colab": {
     "base_uri": "https://localhost:8080/"
    },
    "executionInfo": {
     "elapsed": 25,
     "status": "ok",
     "timestamp": 1754032830558,
     "user": {
      "displayName": "Srinivas Appana",
      "userId": "17871761728706768737"
     },
     "user_tz": -330
    },
    "id": "YRo-Uz73fnP8",
    "outputId": "7c471b40-8ca9-4d66-ecc6-cbaa8e576840"
   },
   "outputs": [
    {
     "name": "stdout",
     "output_type": "stream",
     "text": [
      "skewness of fare is : 4.787316519674893\n"
     ]
    }
   ],
   "source": [
    "# distribution of fare\n",
    "\n",
    "print(f\"skewness of fare is : {titanic['Fare'].skew()}\")"
   ]
  },
  {
   "cell_type": "markdown",
   "metadata": {
    "id": "tRCVE7GAgQXZ"
   },
   "source": [
    "Skewness is very high and +ve\n",
    "\n",
    "So fare is positively skewed data"
   ]
  },
  {
   "cell_type": "code",
   "execution_count": 19,
   "metadata": {
    "colab": {
     "base_uri": "https://localhost:8080/",
     "height": 542
    },
    "executionInfo": {
     "elapsed": 29,
     "status": "ok",
     "timestamp": 1754032902741,
     "user": {
      "displayName": "Srinivas Appana",
      "userId": "17871761728706768737"
     },
     "user_tz": -330
    },
    "id": "2PeHeZnRgPa-",
    "outputId": "fef478c8-d03b-4970-ea39-edbe3a034ed1"
   },
   "outputs": [
    {
     "data": {
      "image/png": "[encoded data removed]",
      "text/plain": [
       "<Figure size 800x500 with 1 Axes>"
      ]
     },
     "metadata": {},
     "output_type": "display_data"
    }
   ],
   "source": [
    "# histplot of fare\n",
    "\n",
    "plt.figure(figsize=(8, 5))\n",
    "sns.histplot(\n",
    "    data=titanic,\n",
    "    x='Fare',\n",
    "    bins=30,\n",
    "    kde=False\n",
    ")\n",
    "\n",
    "plt.title(\"Distribution of Fare\")\n",
    "plt.xlabel(\"Fare\")\n",
    "plt.ylabel(\"Count\")\n",
    "\n",
    "plt.show()"
   ]
  },
  {
   "cell_type": "markdown",
   "metadata": {
    "id": "EzMyfI4zg0I9"
   },
   "source": [
    "data is highly positively skewed\n",
    "\n",
    "If the data is correct, we can conclude that, most of the people travelled with low fare"
   ]
  },
  {
   "cell_type": "code",
   "execution_count": 20,
   "metadata": {
    "colab": {
     "base_uri": "https://localhost:8080/",
     "height": 480
    },
    "executionInfo": {
     "elapsed": 804,
     "status": "ok",
     "timestamp": 1754033088684,
     "user": {
      "displayName": "Srinivas Appana",
      "userId": "17871761728706768737"
     },
     "user_tz": -330
    },
    "id": "J19td_x-ghCV",
    "outputId": "9e7ffdc8-7250-4aeb-e323-324f9b1742bb"
   },
   "outputs": [
    {
     "data": {
      "image/png": "[encoded data removed]",
      "text/plain": [
       "<Figure size 640x480 with 1 Axes>"
      ]
     },
     "metadata": {},
     "output_type": "display_data"
    }
   ],
   "source": [
    "# kde plot of fare\n",
    "\n",
    "sns.kdeplot(titanic['Fare'], fill = True)\n",
    "plt.title(\"kde plot of Fare\")\n",
    "plt.show()"
   ]
  },
  {
   "cell_type": "code",
   "execution_count": 21,
   "metadata": {
    "colab": {
     "base_uri": "https://localhost:8080/",
     "height": 542
    },
    "executionInfo": {
     "elapsed": 70,
     "status": "ok",
     "timestamp": 1754033109910,
     "user": {
      "displayName": "Srinivas Appana",
      "userId": "17871761728706768737"
     },
     "user_tz": -330
    },
    "id": "4B3V4iEQhOP3",
    "outputId": "75838c88-d9f8-4aa1-a8c6-97b57b9c8694"
   },
   "outputs": [
    {
     "data": {
      "image/png": "[encoded data removed]",
      "text/plain": [
       "<Figure size 800x500 with 1 Axes>"
      ]
     },
     "metadata": {},
     "output_type": "display_data"
    }
   ],
   "source": [
    "# observing the outliers\n",
    "\n",
    "plt.figure(figsize=(8, 5))\n",
    "sns.boxplot(\n",
    "    data=titanic,\n",
    "    x='Fare'\n",
    ")\n",
    "\n",
    "plt.title(\"Box plot of Fare\")\n",
    "plt.xlabel(\"Fare\")\n",
    "plt.show()"
   ]
  },
  {
   "cell_type": "code",
   "execution_count": 22,
   "metadata": {
    "colab": {
     "base_uri": "https://localhost:8080/",
     "height": 998
    },
    "executionInfo": {
     "elapsed": 40,
     "status": "ok",
     "timestamp": 1754033169368,
     "user": {
      "displayName": "Srinivas Appana",
      "userId": "17871761728706768737"
     },
     "user_tz": -330
    },
    "id": "kxey5hyohTiW",
    "outputId": "eef9019e-4029-437a-f311-7fb5a10910c4"
   },
   "outputs": [
    {
     "data": {
      "text/html": [
       "<div>\n",
       "<style scoped>\n",
       "    .dataframe tbody tr th:only-of-type {\n",
       "        vertical-align: middle;\n",
       "    }\n",
       "\n",
       "    .dataframe tbody tr th {\n",
       "        vertical-align: top;\n",
       "    }\n",
       "\n",
       "    .dataframe thead th {\n",
       "        text-align: right;\n",
       "    }\n",
       "</style>\n",
       "<table border=\"1\" class=\"dataframe\">\n",
       "  <thead>\n",
       "    <tr style=\"text-align: right;\">\n",
       "      <th></th>\n",
       "      <th>PassengerId</th>\n",
       "      <th>Survived</th>\n",
       "      <th>Pclass</th>\n",
       "      <th>Name</th>\n",
       "      <th>Sex</th>\n",
       "      <th>Age</th>\n",
       "      <th>SibSp</th>\n",
       "      <th>Parch</th>\n",
       "      <th>Ticket</th>\n",
       "      <th>Fare</th>\n",
       "      <th>Cabin</th>\n",
       "      <th>Embarked</th>\n",
       "    </tr>\n",
       "  </thead>\n",
       "  <tbody>\n",
       "    <tr>\n",
       "      <th>1</th>\n",
       "      <td>2</td>\n",
       "      <td>1</td>\n",
       "      <td>1</td>\n",
       "      <td>Cumings, Mrs. John Bradley (Florence Briggs Th...</td>\n",
       "      <td>female</td>\n",
       "      <td>38.0</td>\n",
       "      <td>1</td>\n",
       "      <td>0</td>\n",
       "      <td>PC 17599</td>\n",
       "      <td>71.2833</td>\n",
       "      <td>C85</td>\n",
       "      <td>C</td>\n",
       "    </tr>\n",
       "    <tr>\n",
       "      <th>27</th>\n",
       "      <td>28</td>\n",
       "      <td>0</td>\n",
       "      <td>1</td>\n",
       "      <td>Fortune, Mr. Charles Alexander</td>\n",
       "      <td>male</td>\n",
       "      <td>19.0</td>\n",
       "      <td>3</td>\n",
       "      <td>2</td>\n",
       "      <td>19950</td>\n",
       "      <td>263.0000</td>\n",
       "      <td>C23 C25 C27</td>\n",
       "      <td>S</td>\n",
       "    </tr>\n",
       "    <tr>\n",
       "      <th>31</th>\n",
       "      <td>32</td>\n",
       "      <td>1</td>\n",
       "      <td>1</td>\n",
       "      <td>Spencer, Mrs. William Augustus (Marie Eugenie)</td>\n",
       "      <td>female</td>\n",
       "      <td>NaN</td>\n",
       "      <td>1</td>\n",
       "      <td>0</td>\n",
       "      <td>PC 17569</td>\n",
       "      <td>146.5208</td>\n",
       "      <td>B78</td>\n",
       "      <td>C</td>\n",
       "    </tr>\n",
       "    <tr>\n",
       "      <th>34</th>\n",
       "      <td>35</td>\n",
       "      <td>0</td>\n",
       "      <td>1</td>\n",
       "      <td>Meyer, Mr. Edgar Joseph</td>\n",
       "      <td>male</td>\n",
       "      <td>28.0</td>\n",
       "      <td>1</td>\n",
       "      <td>0</td>\n",
       "      <td>PC 17604</td>\n",
       "      <td>82.1708</td>\n",
       "      <td>NaN</td>\n",
       "      <td>C</td>\n",
       "    </tr>\n",
       "    <tr>\n",
       "      <th>52</th>\n",
       "      <td>53</td>\n",
       "      <td>1</td>\n",
       "      <td>1</td>\n",
       "      <td>Harper, Mrs. Henry Sleeper (Myna Haxtun)</td>\n",
       "      <td>female</td>\n",
       "      <td>49.0</td>\n",
       "      <td>1</td>\n",
       "      <td>0</td>\n",
       "      <td>PC 17572</td>\n",
       "      <td>76.7292</td>\n",
       "      <td>D33</td>\n",
       "      <td>C</td>\n",
       "    </tr>\n",
       "    <tr>\n",
       "      <th>...</th>\n",
       "      <td>...</td>\n",
       "      <td>...</td>\n",
       "      <td>...</td>\n",
       "      <td>...</td>\n",
       "      <td>...</td>\n",
       "      <td>...</td>\n",
       "      <td>...</td>\n",
       "      <td>...</td>\n",
       "      <td>...</td>\n",
       "      <td>...</td>\n",
       "      <td>...</td>\n",
       "      <td>...</td>\n",
       "    </tr>\n",
       "    <tr>\n",
       "      <th>846</th>\n",
       "      <td>847</td>\n",
       "      <td>0</td>\n",
       "      <td>3</td>\n",
       "      <td>Sage, Mr. Douglas Bullen</td>\n",
       "      <td>male</td>\n",
       "      <td>NaN</td>\n",
       "      <td>8</td>\n",
       "      <td>2</td>\n",
       "      <td>CA. 2343</td>\n",
       "      <td>69.5500</td>\n",
       "      <td>NaN</td>\n",
       "      <td>S</td>\n",
       "    </tr>\n",
       "    <tr>\n",
       "      <th>849</th>\n",
       "      <td>850</td>\n",
       "      <td>1</td>\n",
       "      <td>1</td>\n",
       "      <td>Goldenberg, Mrs. Samuel L (Edwiga Grabowska)</td>\n",
       "      <td>female</td>\n",
       "      <td>NaN</td>\n",
       "      <td>1</td>\n",
       "      <td>0</td>\n",
       "      <td>17453</td>\n",
       "      <td>89.1042</td>\n",
       "      <td>C92</td>\n",
       "      <td>C</td>\n",
       "    </tr>\n",
       "    <tr>\n",
       "      <th>856</th>\n",
       "      <td>857</td>\n",
       "      <td>1</td>\n",
       "      <td>1</td>\n",
       "      <td>Wick, Mrs. George Dennick (Mary Hitchcock)</td>\n",
       "      <td>female</td>\n",
       "      <td>45.0</td>\n",
       "      <td>1</td>\n",
       "      <td>1</td>\n",
       "      <td>36928</td>\n",
       "      <td>164.8667</td>\n",
       "      <td>NaN</td>\n",
       "      <td>S</td>\n",
       "    </tr>\n",
       "    <tr>\n",
       "      <th>863</th>\n",
       "      <td>864</td>\n",
       "      <td>0</td>\n",
       "      <td>3</td>\n",
       "      <td>Sage, Miss. Dorothy Edith \"Dolly\"</td>\n",
       "      <td>female</td>\n",
       "      <td>NaN</td>\n",
       "      <td>8</td>\n",
       "      <td>2</td>\n",
       "      <td>CA. 2343</td>\n",
       "      <td>69.5500</td>\n",
       "      <td>NaN</td>\n",
       "      <td>S</td>\n",
       "    </tr>\n",
       "    <tr>\n",
       "      <th>879</th>\n",
       "      <td>880</td>\n",
       "      <td>1</td>\n",
       "      <td>1</td>\n",
       "      <td>Potter, Mrs. Thomas Jr (Lily Alexenia Wilson)</td>\n",
       "      <td>female</td>\n",
       "      <td>56.0</td>\n",
       "      <td>0</td>\n",
       "      <td>1</td>\n",
       "      <td>11767</td>\n",
       "      <td>83.1583</td>\n",
       "      <td>C50</td>\n",
       "      <td>C</td>\n",
       "    </tr>\n",
       "  </tbody>\n",
       "</table>\n",
       "<p>116 rows × 12 columns</p>\n",
       "</div>"
      ],
      "text/plain": [
       "     PassengerId  Survived  Pclass  \\\n",
       "1              2         1       1   \n",
       "27            28         0       1   \n",
       "31            32         1       1   \n",
       "34            35         0       1   \n",
       "52            53         1       1   \n",
       "..           ...       ...     ...   \n",
       "846          847         0       3   \n",
       "849          850         1       1   \n",
       "856          857         1       1   \n",
       "863          864         0       3   \n",
       "879          880         1       1   \n",
       "\n",
       "                                                  Name     Sex   Age  SibSp  \\\n",
       "1    Cumings, Mrs. John Bradley (Florence Briggs Th...  female  38.0      1   \n",
       "27                      Fortune, Mr. Charles Alexander    male  19.0      3   \n",
       "31      Spencer, Mrs. William Augustus (Marie Eugenie)  female   NaN      1   \n",
       "34                             Meyer, Mr. Edgar Joseph    male  28.0      1   \n",
       "52            Harper, Mrs. Henry Sleeper (Myna Haxtun)  female  49.0      1   \n",
       "..                                                 ...     ...   ...    ...   \n",
       "846                           Sage, Mr. Douglas Bullen    male   NaN      8   \n",
       "849       Goldenberg, Mrs. Samuel L (Edwiga Grabowska)  female   NaN      1   \n",
       "856         Wick, Mrs. George Dennick (Mary Hitchcock)  female  45.0      1   \n",
       "863                  Sage, Miss. Dorothy Edith \"Dolly\"  female   NaN      8   \n",
       "879      Potter, Mrs. Thomas Jr (Lily Alexenia Wilson)  female  56.0      0   \n",
       "\n",
       "     Parch    Ticket      Fare        Cabin Embarked  \n",
       "1        0  PC 17599   71.2833          C85        C  \n",
       "27       2     19950  263.0000  C23 C25 C27        S  \n",
       "31       0  PC 17569  146.5208          B78        C  \n",
       "34       0  PC 17604   82.1708          NaN        C  \n",
       "52       0  PC 17572   76.7292          D33        C  \n",
       "..     ...       ...       ...          ...      ...  \n",
       "846      2  CA. 2343   69.5500          NaN        S  \n",
       "849      0     17453   89.1042          C92        C  \n",
       "856      1     36928  164.8667          NaN        S  \n",
       "863      2  CA. 2343   69.5500          NaN        S  \n",
       "879      1     11767   83.1583          C50        C  \n",
       "\n",
       "[116 rows x 12 columns]"
      ]
     },
     "execution_count": 22,
     "metadata": {},
     "output_type": "execute_result"
    }
   ],
   "source": [
    "# upper fare is 65, so remaining are considered as outliers\n",
    "\n",
    "titanic[titanic['Fare']>65]"
   ]
  },
  {
   "cell_type": "code",
   "execution_count": 23,
   "metadata": {
    "colab": {
     "base_uri": "https://localhost:8080/",
     "height": 320
    },
    "executionInfo": {
     "elapsed": 56,
     "status": "ok",
     "timestamp": 1754033606076,
     "user": {
      "displayName": "Srinivas Appana",
      "userId": "17871761728706768737"
     },
     "user_tz": -330
    },
    "id": "QUT9jrS_jHkr",
    "outputId": "6a9d1cad-5380-4fe1-ef2f-408042f235d3"
   },
   "outputs": [
    {
     "data": {
      "text/html": [
       "<div>\n",
       "<style scoped>\n",
       "    .dataframe tbody tr th:only-of-type {\n",
       "        vertical-align: middle;\n",
       "    }\n",
       "\n",
       "    .dataframe tbody tr th {\n",
       "        vertical-align: top;\n",
       "    }\n",
       "\n",
       "    .dataframe thead th {\n",
       "        text-align: right;\n",
       "    }\n",
       "</style>\n",
       "<table border=\"1\" class=\"dataframe\">\n",
       "  <thead>\n",
       "    <tr style=\"text-align: right;\">\n",
       "      <th></th>\n",
       "      <th>PassengerId</th>\n",
       "      <th>Survived</th>\n",
       "      <th>Pclass</th>\n",
       "      <th>Name</th>\n",
       "      <th>Sex</th>\n",
       "      <th>Age</th>\n",
       "      <th>SibSp</th>\n",
       "      <th>Parch</th>\n",
       "      <th>Ticket</th>\n",
       "      <th>Fare</th>\n",
       "      <th>Cabin</th>\n",
       "      <th>Embarked</th>\n",
       "    </tr>\n",
       "  </thead>\n",
       "  <tbody>\n",
       "    <tr>\n",
       "      <th>258</th>\n",
       "      <td>259</td>\n",
       "      <td>1</td>\n",
       "      <td>1</td>\n",
       "      <td>Ward, Miss. Anna</td>\n",
       "      <td>female</td>\n",
       "      <td>35.0</td>\n",
       "      <td>0</td>\n",
       "      <td>0</td>\n",
       "      <td>PC 17755</td>\n",
       "      <td>512.3292</td>\n",
       "      <td>NaN</td>\n",
       "      <td>C</td>\n",
       "    </tr>\n",
       "    <tr>\n",
       "      <th>679</th>\n",
       "      <td>680</td>\n",
       "      <td>1</td>\n",
       "      <td>1</td>\n",
       "      <td>Cardeza, Mr. Thomas Drake Martinez</td>\n",
       "      <td>male</td>\n",
       "      <td>36.0</td>\n",
       "      <td>0</td>\n",
       "      <td>1</td>\n",
       "      <td>PC 17755</td>\n",
       "      <td>512.3292</td>\n",
       "      <td>B51 B53 B55</td>\n",
       "      <td>C</td>\n",
       "    </tr>\n",
       "    <tr>\n",
       "      <th>737</th>\n",
       "      <td>738</td>\n",
       "      <td>1</td>\n",
       "      <td>1</td>\n",
       "      <td>Lesurer, Mr. Gustave J</td>\n",
       "      <td>male</td>\n",
       "      <td>35.0</td>\n",
       "      <td>0</td>\n",
       "      <td>0</td>\n",
       "      <td>PC 17755</td>\n",
       "      <td>512.3292</td>\n",
       "      <td>B101</td>\n",
       "      <td>C</td>\n",
       "    </tr>\n",
       "  </tbody>\n",
       "</table>\n",
       "</div>"
      ],
      "text/plain": [
       "     PassengerId  Survived  Pclass                                Name  \\\n",
       "258          259         1       1                    Ward, Miss. Anna   \n",
       "679          680         1       1  Cardeza, Mr. Thomas Drake Martinez   \n",
       "737          738         1       1              Lesurer, Mr. Gustave J   \n",
       "\n",
       "        Sex   Age  SibSp  Parch    Ticket      Fare        Cabin Embarked  \n",
       "258  female  35.0      0      0  PC 17755  512.3292          NaN        C  \n",
       "679    male  36.0      0      1  PC 17755  512.3292  B51 B53 B55        C  \n",
       "737    male  35.0      0      0  PC 17755  512.3292         B101        C  "
      ]
     },
     "execution_count": 23,
     "metadata": {},
     "output_type": "execute_result"
    }
   ],
   "source": [
    "titanic[titanic['Fare']>300]"
   ]
  },
  {
   "cell_type": "markdown",
   "metadata": {
    "id": "LXuMywZEjagd"
   },
   "source": [
    "we can observe that, fare same and also the ticket also same for the three rows"
   ]
  },
  {
   "cell_type": "markdown",
   "metadata": {
    "id": "RCL6YKAAjieN"
   },
   "source": [
    "From this we can coclude that\n",
    "* This dataset rows doesn't describe individual fare data\n",
    "* The rows actually describes the group fare data (family members)"
   ]
  },
  {
   "cell_type": "markdown",
   "metadata": {
    "id": "IyYNDLzyhmyZ"
   },
   "source": [
    "116 rows are cosidered as outliers"
   ]
  },
  {
   "cell_type": "code",
   "execution_count": 24,
   "metadata": {
    "colab": {
     "base_uri": "https://localhost:8080/"
    },
    "executionInfo": {
     "elapsed": 20,
     "status": "ok",
     "timestamp": 1754033258021,
     "user": {
      "displayName": "Srinivas Appana",
      "userId": "17871761728706768737"
     },
     "user_tz": -330
    },
    "id": "TLLX2T8ehiIz",
    "outputId": "30fc6633-d76d-464e-bb97-b8dd3fb95cfc"
   },
   "outputs": [
    {
     "name": "stdout",
     "output_type": "stream",
     "text": [
      "number of null values in fare column is : 0\n",
      "percentage of null values in fare column : 0.0%\n"
     ]
    }
   ],
   "source": [
    "# observing the null values of the fare column\n",
    "\n",
    "print(f\"number of null values in fare column is : {titanic['Fare'].isnull().sum()}\")\n",
    "print(f\"percentage of null values in fare column : {round(titanic['Fare'].isnull().sum()/len(titanic['Fare'])*100, 2)}%\")"
   ]
  },
  {
   "cell_type": "markdown",
   "metadata": {
    "id": "4FRKbijhe5i4"
   },
   "source": [
    "**Conclusions**\n",
    "\n",
    "\n",
    "*   Fare data is +vely skewed\n",
    "*   There are no missing values in the fare data\n",
    "*   there are 116 rows outliers in the fare data\n",
    "*   fare column actually contains the group fares, but not individual fares (This might be an issue)\n",
    "*   We need to create a new col called individual fare\n",
    "\n"
   ]
  },
  {
   "cell_type": "markdown",
   "metadata": {
    "id": "TsPwdFgzlOgn"
   },
   "source": [
    "### **Survived**"
   ]
  },
  {
   "cell_type": "code",
   "execution_count": 25,
   "metadata": {
    "colab": {
     "base_uri": "https://localhost:8080/",
     "height": 178
    },
    "executionInfo": {
     "elapsed": 27,
     "status": "ok",
     "timestamp": 1754040161475,
     "user": {
      "displayName": "Srinivas Appana",
      "userId": "17871761728706768737"
     },
     "user_tz": -330
    },
    "id": "eHZ6q1O475eI",
    "outputId": "3d613208-6f45-40d0-c566-b59607311500"
   },
   "outputs": [
    {
     "data": {
      "text/plain": [
       "Survived\n",
       "0    549\n",
       "1    342\n",
       "Name: count, dtype: int64"
      ]
     },
     "execution_count": 25,
     "metadata": {},
     "output_type": "execute_result"
    }
   ],
   "source": [
    "# frequency distribution of survived columns\n",
    "\n",
    "titanic['Survived'].value_counts()"
   ]
  },
  {
   "cell_type": "markdown",
   "metadata": {
    "id": "i5m3EA9i8QS2"
   },
   "source": [
    "Data is slightly imbalanced, but its ok"
   ]
  },
  {
   "cell_type": "code",
   "execution_count": 28,
   "metadata": {
    "colab": {
     "base_uri": "https://localhost:8080/",
     "height": 542
    },
    "executionInfo": {
     "elapsed": 162,
     "status": "ok",
     "timestamp": 1754040751362,
     "user": {
      "displayName": "Srinivas Appana",
      "userId": "17871761728706768737"
     },
     "user_tz": -330
    },
    "id": "V7b8QfsW8NMD",
    "outputId": "cc7f7e55-ec39-474d-c14c-960e389ec6a9"
   },
   "outputs": [
    {
     "data": {
      "image/png": "[encoded data removed]",
      "text/plain": [
       "<Figure size 640x480 with 1 Axes>"
      ]
     },
     "metadata": {},
     "output_type": "display_data"
    }
   ],
   "source": [
    "# bar chart of survived column\n",
    "\n",
    "sns.countplot(data=titanic, x='Survived', palette='Set2')\n",
    "plt.title(\"Survived column frequencies\")\n",
    "plt.show()"
   ]
  },
  {
   "cell_type": "code",
   "execution_count": 29,
   "metadata": {
    "colab": {
     "base_uri": "https://localhost:8080/",
     "height": 542
    },
    "executionInfo": {
     "elapsed": 137,
     "status": "ok",
     "timestamp": 1754040290850,
     "user": {
      "displayName": "Srinivas Appana",
      "userId": "17871761728706768737"
     },
     "user_tz": -330
    },
    "id": "rrzieLYs8fwv",
    "outputId": "3da6fb55-9137-47f8-b21d-aec7bd406ec0"
   },
   "outputs": [
    {
     "data": {
      "image/png": "[encoded data removed]",
      "text/plain": [
       "<Figure size 640x480 with 1 Axes>"
      ]
     },
     "metadata": {},
     "output_type": "display_data"
    }
   ],
   "source": [
    "# pie chart\n",
    "\n",
    "titanic['Survived'].value_counts().plot(\n",
    "    kind='pie',\n",
    "    autopct='%1.1f%%',\n",
    "    startangle=90,\n",
    "    colors=['skyblue', 'lightgreen']\n",
    ")\n",
    "\n",
    "plt.title(\"Survived column frequencies\")\n",
    "plt.ylabel('')\n",
    "plt.show()"
   ]
  },
  {
   "cell_type": "markdown",
   "metadata": {
    "id": "b18YZ1Al8wi8"
   },
   "source": [
    "we can observe that, percentages are 38.4% for survived = 1 and 61.6% for survived = 0\n",
    "\n",
    "So many people wer died and few few people were survived"
   ]
  },
  {
   "cell_type": "code",
   "execution_count": 30,
   "metadata": {
    "colab": {
     "base_uri": "https://localhost:8080/"
    },
    "executionInfo": {
     "elapsed": 52,
     "status": "ok",
     "timestamp": 1754040452325,
     "user": {
      "displayName": "Srinivas Appana",
      "userId": "17871761728706768737"
     },
     "user_tz": -330
    },
    "id": "S9ukHjaG8swE",
    "outputId": "baf11e60-d497-4953-f75b-470550c0b0eb"
   },
   "outputs": [
    {
     "name": "stdout",
     "output_type": "stream",
     "text": [
      "number of null values in survived column is : 0\n",
      "percentage of null values in survived column : 0.0%\n"
     ]
    }
   ],
   "source": [
    "# missing vlues and threir percentages in the survived column\n",
    "\n",
    "print(f\"number of null values in survived column is : {titanic['Survived'].isnull().sum()}\")\n",
    "print(f\"percentage of null values in survived column : {round(titanic['Survived'].isnull().sum()/len(titanic['Survived'])*100, 2)}%\")"
   ]
  },
  {
   "cell_type": "markdown",
   "metadata": {
    "id": "z5aVgca7lUh5"
   },
   "source": [
    "**conclusion**\n",
    "\n",
    "* The dataset is somewhat balanced\n",
    "* But analytically we can say, more people were not survived."
   ]
  },
  {
   "cell_type": "markdown",
   "metadata": {
    "id": "s0WcjNHr90_w"
   },
   "source": [
    "### **Pclass**"
   ]
  },
  {
   "cell_type": "code",
   "execution_count": 31,
   "metadata": {
    "colab": {
     "base_uri": "https://localhost:8080/",
     "height": 209
    },
    "executionInfo": {
     "elapsed": 40,
     "status": "ok",
     "timestamp": 1754040617394,
     "user": {
      "displayName": "Srinivas Appana",
      "userId": "17871761728706768737"
     },
     "user_tz": -330
    },
    "id": "823r8gQb9UMj",
    "outputId": "f7960a51-569e-46ef-8a94-7c863cc613e8"
   },
   "outputs": [
    {
     "data": {
      "text/plain": [
       "Pclass\n",
       "3    491\n",
       "1    216\n",
       "2    184\n",
       "Name: count, dtype: int64"
      ]
     },
     "execution_count": 31,
     "metadata": {},
     "output_type": "execute_result"
    }
   ],
   "source": [
    "# frequency distribution of plcass\n",
    "\n",
    "titanic['Pclass'].value_counts()"
   ]
  },
  {
   "cell_type": "code",
   "execution_count": 32,
   "metadata": {
    "colab": {
     "base_uri": "https://localhost:8080/",
     "height": 542
    },
    "executionInfo": {
     "elapsed": 166,
     "status": "ok",
     "timestamp": 1754040773511,
     "user": {
      "displayName": "Srinivas Appana",
      "userId": "17871761728706768737"
     },
     "user_tz": -330
    },
    "id": "4zHgCUe698f6",
    "outputId": "5ea08187-7144-4955-83d1-f35857be18aa"
   },
   "outputs": [
    {
     "data": {
      "image/png": "[encoded data removed]",
      "text/plain": [
       "<Figure size 640x480 with 1 Axes>"
      ]
     },
     "metadata": {},
     "output_type": "display_data"
    }
   ],
   "source": [
    "# frequency distribution visualization\n",
    "\n",
    "sns.countplot(data=titanic, x='Pclass', palette='Set2')\n",
    "plt.title(\"Pclass column frequencies\")\n",
    "plt.show()"
   ]
  },
  {
   "cell_type": "markdown",
   "metadata": {
    "id": "mPkJQeHH-n_G"
   },
   "source": [
    "Most of the people were from 3rd class"
   ]
  },
  {
   "cell_type": "code",
   "execution_count": 33,
   "metadata": {
    "colab": {
     "base_uri": "https://localhost:8080/",
     "height": 542
    },
    "executionInfo": {
     "elapsed": 88,
     "status": "ok",
     "timestamp": 1754040834417,
     "user": {
      "displayName": "Srinivas Appana",
      "userId": "17871761728706768737"
     },
     "user_tz": -330
    },
    "id": "I4caEegg-JkZ",
    "outputId": "4d8d4e44-8d76-45a5-a12f-0b9b998b41f6"
   },
   "outputs": [
    {
     "data": {
      "image/png": "[encoded data removed]",
      "text/plain": [
       "<Figure size 640x480 with 1 Axes>"
      ]
     },
     "metadata": {},
     "output_type": "display_data"
    }
   ],
   "source": [
    "# pie chart for percetage of frequency distributions\n",
    "\n",
    "titanic['Pclass'].value_counts().sort_index().plot(\n",
    "    kind='pie',\n",
    "    autopct='%1.1f%%',\n",
    "    startangle=90,\n",
    "    colors=['skyblue', 'lightgreen', 'salmon']\n",
    ")\n",
    "\n",
    "plt.title(\"Pclass column frequencies\")\n",
    "plt.ylabel('')\n",
    "plt.show()"
   ]
  },
  {
   "cell_type": "code",
   "execution_count": 34,
   "metadata": {
    "colab": {
     "base_uri": "https://localhost:8080/"
    },
    "executionInfo": {
     "elapsed": 31,
     "status": "ok",
     "timestamp": 1754040860898,
     "user": {
      "displayName": "Srinivas Appana",
      "userId": "17871761728706768737"
     },
     "user_tz": -330
    },
    "id": "tfErbAZv-xdn",
    "outputId": "cb1ac811-603a-457e-d3aa-fbf5dbc37ff5"
   },
   "outputs": [
    {
     "name": "stdout",
     "output_type": "stream",
     "text": [
      "number of null values in pclass column is : 0\n",
      "percentage of null values in pclass column : 0.0%\n"
     ]
    }
   ],
   "source": [
    "# null values count of pclass\n",
    "\n",
    "print(f\"number of null values in pclass column is : {titanic['Pclass'].isnull().sum()}\")\n",
    "print(f\"percentage of null values in pclass column : {round(titanic['Pclass'].isnull().sum()/len(titanic['Pclass'])*100, 2)}%\")"
   ]
  },
  {
   "cell_type": "markdown",
   "metadata": {
    "id": "RNdG7x-a-5Bz"
   },
   "source": [
    "**Conclusion**\n",
    "* There are 3 classes of people\n",
    "* Most people were from 3rd class\n",
    "* There are no null values in the pclass column\n",
    "* also when compared, less people travelled in pclass 2 compared to pclass 3"
   ]
  },
  {
   "cell_type": "markdown",
   "metadata": {
    "id": "Hk5nSXwBAkud"
   },
   "source": [
    "### **sex**"
   ]
  },
  {
   "cell_type": "code",
   "execution_count": 35,
   "metadata": {
    "colab": {
     "base_uri": "https://localhost:8080/",
     "height": 178
    },
    "executionInfo": {
     "elapsed": 27,
     "status": "ok",
     "timestamp": 1754041344421,
     "user": {
      "displayName": "Srinivas Appana",
      "userId": "17871761728706768737"
     },
     "user_tz": -330
    },
    "id": "9PmUiAvl-38x",
    "outputId": "b9959a25-e377-4b60-824e-3ef27c6952de"
   },
   "outputs": [
    {
     "data": {
      "text/plain": [
       "Sex\n",
       "male      577\n",
       "female    314\n",
       "Name: count, dtype: int64"
      ]
     },
     "execution_count": 35,
     "metadata": {},
     "output_type": "execute_result"
    }
   ],
   "source": [
    "# frequencies distribution of gender\n",
    "\n",
    "titanic['Sex'].value_counts()"
   ]
  },
  {
   "cell_type": "markdown",
   "metadata": {
    "id": "xc6TwHMQAv6N"
   },
   "source": [
    "Travelling males are more, when compared to females"
   ]
  },
  {
   "cell_type": "code",
   "execution_count": 36,
   "metadata": {
    "colab": {
     "base_uri": "https://localhost:8080/",
     "height": 542
    },
    "executionInfo": {
     "elapsed": 132,
     "status": "ok",
     "timestamp": 1754041384126,
     "user": {
      "displayName": "Srinivas Appana",
      "userId": "17871761728706768737"
     },
     "user_tz": -330
    },
    "id": "NhNJTb89At_2",
    "outputId": "5c50c9cb-8ff7-4f6e-b97c-7da2198d52a8"
   },
   "outputs": [
    {
     "data": {
      "image/png": "[encoded data removed]",
      "text/plain": [
       "<Figure size 640x480 with 1 Axes>"
      ]
     },
     "metadata": {},
     "output_type": "display_data"
    }
   ],
   "source": [
    "# bar chart\n",
    "\n",
    "sns.countplot(data=titanic, x='Sex', palette='Set2')\n",
    "plt.title(\"Sex column frequencies\")\n",
    "plt.show()"
   ]
  },
  {
   "cell_type": "code",
   "execution_count": 37,
   "metadata": {
    "colab": {
     "base_uri": "https://localhost:8080/",
     "height": 542
    },
    "executionInfo": {
     "elapsed": 151,
     "status": "ok",
     "timestamp": 1754041397325,
     "user": {
      "displayName": "Srinivas Appana",
      "userId": "17871761728706768737"
     },
     "user_tz": -330
    },
    "id": "g5q1LEfEA3p4",
    "outputId": "9067da6f-b278-4872-e3d3-4aed57d65c4b"
   },
   "outputs": [
    {
     "data": {
      "image/png": "[encoded data removed]",
      "text/plain": [
       "<Figure size 640x480 with 1 Axes>"
      ]
     },
     "metadata": {},
     "output_type": "display_data"
    }
   ],
   "source": [
    "# pie chart\n",
    "\n",
    "titanic['Sex'].value_counts().plot(\n",
    "    kind='pie',\n",
    "    autopct='%1.1f%%',\n",
    "    startangle=90,\n",
    "    colors=['skyblue', 'lightpink']\n",
    ")\n",
    "\n",
    "plt.title(\"Sex column frequencies\")\n",
    "plt.ylabel('')\n",
    "plt.show()"
   ]
  },
  {
   "cell_type": "code",
   "execution_count": 38,
   "metadata": {
    "colab": {
     "base_uri": "https://localhost:8080/"
    },
    "executionInfo": {
     "elapsed": 49,
     "status": "ok",
     "timestamp": 1754041415131,
     "user": {
      "displayName": "Srinivas Appana",
      "userId": "17871761728706768737"
     },
     "user_tz": -330
    },
    "id": "GZhmW-MYA64j",
    "outputId": "0add9a77-200d-4225-ec2f-497d535af12f"
   },
   "outputs": [
    {
     "name": "stdout",
     "output_type": "stream",
     "text": [
      "number of null values in sex column is : 0\n",
      "percentage of null values in sex column : 0.0%\n"
     ]
    }
   ],
   "source": [
    "# count of null vlaues if any\n",
    "\n",
    "print(f\"number of null values in sex column is : {titanic['Sex'].isnull().sum()}\")\n",
    "print(f\"percentage of null values in sex column : {round(titanic['Sex'].isnull().sum()/len(titanic['Sex'])*100, 2)}%\")"
   ]
  },
  {
   "cell_type": "markdown",
   "metadata": {
    "id": "8iJUaK_YBCya"
   },
   "source": [
    "**conclusion**\n",
    "* more males are travelling, when compared to females"
   ]
  },
  {
   "cell_type": "markdown",
   "metadata": {
    "id": "VFPIHDMYBKaH"
   },
   "source": [
    "### **sibsp**"
   ]
  },
  {
   "cell_type": "code",
   "execution_count": 40,
   "metadata": {
    "colab": {
     "base_uri": "https://localhost:8080/",
     "height": 335
    },
    "executionInfo": {
     "elapsed": 71,
     "status": "ok",
     "timestamp": 1754041500887,
     "user": {
      "displayName": "Srinivas Appana",
      "userId": "17871761728706768737"
     },
     "user_tz": -330
    },
    "id": "9ReetMVPA_QZ",
    "outputId": "d7019519-e478-4e78-ea48-b3b3bb9bf37e"
   },
   "outputs": [
    {
     "data": {
      "text/plain": [
       "SibSp\n",
       "0    608\n",
       "1    209\n",
       "2     28\n",
       "4     18\n",
       "3     16\n",
       "8      7\n",
       "5      5\n",
       "Name: count, dtype: int64"
      ]
     },
     "execution_count": 40,
     "metadata": {},
     "output_type": "execute_result"
    }
   ],
   "source": [
    " # distribution of sibsp\n",
    "\n",
    "titanic['SibSp'].value_counts()"
   ]
  },
  {
   "cell_type": "markdown",
   "metadata": {
    "id": "bah61PZ0BXYo"
   },
   "source": [
    "There are more people who were travelling individually"
   ]
  },
  {
   "cell_type": "code",
   "execution_count": 41,
   "metadata": {
    "colab": {
     "base_uri": "https://localhost:8080/",
     "height": 480
    },
    "executionInfo": {
     "elapsed": 623,
     "status": "ok",
     "timestamp": 1754042100058,
     "user": {
      "displayName": "Srinivas Appana",
      "userId": "17871761728706768737"
     },
     "user_tz": -330
    },
    "id": "VLGMjusLBUMA",
    "outputId": "fa90046a-c24d-42e1-e064-120893e990d1"
   },
   "outputs": [
    {
     "data": {
      "image/png": "[encoded data removed]",
      "text/plain": [
       "<Figure size 640x480 with 1 Axes>"
      ]
     },
     "metadata": {},
     "output_type": "display_data"
    }
   ],
   "source": [
    "# bar chart\n",
    "\n",
    "sibsp_counts = titanic['SibSp'].value_counts()\n",
    "\n",
    "sns.set_theme(style=\"darkgrid\")\n",
    "ax = sns.barplot(x=sibsp_counts.index, y=sibsp_counts.values)\n",
    "\n",
    "# Add counts on top of each bar\n",
    "for i, count in enumerate(sibsp_counts.values):\n",
    "    ax.text(i, count + 1, str(count), ha='center', va='bottom')\n",
    "\n",
    "plt.title(\"Distribution of SibSp\")\n",
    "plt.xlabel(\"Number of SibSp\")\n",
    "plt.ylabel(\"Count\")\n",
    "plt.show()\n"
   ]
  },
  {
   "cell_type": "code",
   "execution_count": 42,
   "metadata": {
    "colab": {
     "base_uri": "https://localhost:8080/",
     "height": 542
    },
    "executionInfo": {
     "elapsed": 205,
     "status": "ok",
     "timestamp": 1754042110722,
     "user": {
      "displayName": "Srinivas Appana",
      "userId": "17871761728706768737"
     },
     "user_tz": -330
    },
    "id": "2Oj6RL_rBfWL",
    "outputId": "af582637-28b6-4651-bca3-a7c45d5cb793"
   },
   "outputs": [
    {
     "data": {
      "image/png": "[encoded data removed]",
      "text/plain": [
       "<Figure size 640x480 with 1 Axes>"
      ]
     },
     "metadata": {},
     "output_type": "display_data"
    }
   ],
   "source": [
    "# pie chart\n",
    "\n",
    "titanic['SibSp'].value_counts().sort_index().plot(\n",
    "    kind='pie',\n",
    "    autopct='%1.1f%%',\n",
    "    startangle=90,\n",
    "    cmap='Set3'\n",
    ")\n",
    "\n",
    "plt.title(\"SibSp column frequencies\")\n",
    "plt.ylabel('')\n",
    "plt.show()"
   ]
  },
  {
   "cell_type": "code",
   "execution_count": 43,
   "metadata": {
    "colab": {
     "base_uri": "https://localhost:8080/"
    },
    "executionInfo": {
     "elapsed": 16,
     "status": "ok",
     "timestamp": 1754042140344,
     "user": {
      "displayName": "Srinivas Appana",
      "userId": "17871761728706768737"
     },
     "user_tz": -330
    },
    "id": "DVC7dgMnDpCR",
    "outputId": "56fc1e22-631d-470b-9800-0eb2f2c735a7"
   },
   "outputs": [
    {
     "name": "stdout",
     "output_type": "stream",
     "text": [
      "number of null values in sibsp column is : 0\n",
      "percentage of null values in sibsp column : 0.0%\n"
     ]
    }
   ],
   "source": [
    "# null value counts\n",
    "\n",
    "print(f\"number of null values in sibsp column is : {titanic['SibSp'].isnull().sum()}\")\n",
    "print(f\"percentage of null values in sibsp column : {round(titanic['SibSp'].isnull().sum()/len(titanic['SibSp'])*100, 2)}%\")"
   ]
  },
  {
   "cell_type": "markdown",
   "metadata": {
    "id": "6qhgPpU3DxR9"
   },
   "source": [
    "**conclusion**\n",
    "* There are no null values in this sbsp\n",
    "* More that half of the people travelling singly"
   ]
  },
  {
   "cell_type": "markdown",
   "metadata": {
    "id": "vH6kciWnEQ5i"
   },
   "source": [
    "### **Parch**"
   ]
  },
  {
   "cell_type": "code",
   "execution_count": 44,
   "metadata": {
    "colab": {
     "base_uri": "https://localhost:8080/",
     "height": 335
    },
    "executionInfo": {
     "elapsed": 14,
     "status": "ok",
     "timestamp": 1754042294843,
     "user": {
      "displayName": "Srinivas Appana",
      "userId": "17871761728706768737"
     },
     "user_tz": -330
    },
    "id": "mYFMP_QuDwUR",
    "outputId": "61966087-bffa-4f1f-9de0-422a12b6f1ee"
   },
   "outputs": [
    {
     "data": {
      "text/plain": [
       "Parch\n",
       "0    678\n",
       "1    118\n",
       "2     80\n",
       "5      5\n",
       "3      5\n",
       "4      4\n",
       "6      1\n",
       "Name: count, dtype: int64"
      ]
     },
     "execution_count": 44,
     "metadata": {},
     "output_type": "execute_result"
    }
   ],
   "source": [
    "## Parch distribution\n",
    "\n",
    "titanic['Parch'].value_counts()"
   ]
  },
  {
   "cell_type": "markdown",
   "metadata": {
    "id": "RL-LSctXEbAE"
   },
   "source": [
    "Most people were travelling solo"
   ]
  },
  {
   "cell_type": "code",
   "execution_count": 45,
   "metadata": {
    "colab": {
     "base_uri": "https://localhost:8080/",
     "height": 480
    },
    "executionInfo": {
     "elapsed": 315,
     "status": "ok",
     "timestamp": 1754042441133,
     "user": {
      "displayName": "Srinivas Appana",
      "userId": "17871761728706768737"
     },
     "user_tz": -330
    },
    "id": "QZMXikX1EWCJ",
    "outputId": "16f8c0b3-632a-4e65-979c-ebec0cce056a"
   },
   "outputs": [
    {
     "data": {
      "image/png": "[encoded data removed]",
      "text/plain": [
       "<Figure size 640x480 with 1 Axes>"
      ]
     },
     "metadata": {},
     "output_type": "display_data"
    }
   ],
   "source": [
    "# bar chart\n",
    "\n",
    "parch_counts = titanic['Parch'].value_counts()\n",
    "\n",
    "sns.set_theme(style=\"darkgrid\")\n",
    "ax = sns.barplot(x=parch_counts.index, y=parch_counts.values)\n",
    "\n",
    "# Add counts on top of each bar\n",
    "for i, count in enumerate(parch_counts.values):\n",
    "    ax.text(i, count + 1, str(count), ha='center', va='bottom')\n",
    "\n",
    "plt.title(\"Distribution of Parch\")\n",
    "plt.xlabel(\"Number of Parch\")\n",
    "plt.ylabel(\"Count\")\n",
    "plt.show()\n",
    "\n"
   ]
  },
  {
   "cell_type": "code",
   "execution_count": 46,
   "metadata": {
    "colab": {
     "base_uri": "https://localhost:8080/",
     "height": 542
    },
    "executionInfo": {
     "elapsed": 76,
     "status": "ok",
     "timestamp": 1754042457348,
     "user": {
      "displayName": "Srinivas Appana",
      "userId": "17871761728706768737"
     },
     "user_tz": -330
    },
    "id": "O5tfbzMNE5rD",
    "outputId": "e12ed1b5-5da9-4fd6-9ace-bd7c70eb6def"
   },
   "outputs": [
    {
     "data": {
      "image/png": "[encoded data removed]",
      "text/plain": [
       "<Figure size 640x480 with 1 Axes>"
      ]
     },
     "metadata": {},
     "output_type": "display_data"
    }
   ],
   "source": [
    "# pie chart\n",
    "\n",
    "titanic['Parch'].value_counts().sort_index().plot(\n",
    "    kind='pie',\n",
    "    autopct='%1.1f%%',\n",
    "    startangle=90,\n",
    "    cmap='Set3'\n",
    ")\n",
    "\n",
    "plt.title(\"Parch column frequencies\")\n",
    "plt.ylabel('')\n",
    "plt.show()"
   ]
  },
  {
   "cell_type": "code",
   "execution_count": 47,
   "metadata": {
    "colab": {
     "base_uri": "https://localhost:8080/"
    },
    "executionInfo": {
     "elapsed": 41,
     "status": "ok",
     "timestamp": 1754042477713,
     "user": {
      "displayName": "Srinivas Appana",
      "userId": "17871761728706768737"
     },
     "user_tz": -330
    },
    "id": "6hBON5tPE9rv",
    "outputId": "e3227d43-8d7d-4911-a7e4-41dfccf6d860"
   },
   "outputs": [
    {
     "name": "stdout",
     "output_type": "stream",
     "text": [
      "number of null values in parch column is : 0\n",
      "percentage of null values in parch column : 0.0%\n"
     ]
    }
   ],
   "source": [
    "# counting of null values\n",
    "\n",
    "print(f\"number of null values in parch column is : {titanic['Parch'].isnull().sum()}\")\n",
    "print(f\"percentage of null values in parch column : {round(titanic['Parch'].isnull().sum()/len(titanic['Parch'])*100, 2)}%\")"
   ]
  },
  {
   "cell_type": "markdown",
   "metadata": {
    "id": "uoTePci2FM_-"
   },
   "source": [
    "**conclusion**\n",
    "\n",
    "* More people were travelling solo\n",
    "* There are no null values\n",
    "* Parch and Sibsp cols can be merged to form a new col called family size\n",
    "* We can also create a new column called \"is alone\" (because alone people has more chances to survive than the person who contain family members)"
   ]
  },
  {
   "cell_type": "markdown",
   "metadata": {
    "id": "UDAJnp1ZF5dW"
   },
   "source": [
    "### **Embarked**"
   ]
  },
  {
   "cell_type": "code",
   "execution_count": 48,
   "metadata": {
    "colab": {
     "base_uri": "https://localhost:8080/",
     "height": 209
    },
    "executionInfo": {
     "elapsed": 33,
     "status": "ok",
     "timestamp": 1754042721814,
     "user": {
      "displayName": "Srinivas Appana",
      "userId": "17871761728706768737"
     },
     "user_tz": -330
    },
    "id": "8hXhr108FCqx",
    "outputId": "08ed64b2-c597-4d98-a7bc-23394ef63b4b"
   },
   "outputs": [
    {
     "data": {
      "text/plain": [
       "Embarked\n",
       "S    644\n",
       "C    168\n",
       "Q     77\n",
       "Name: count, dtype: int64"
      ]
     },
     "execution_count": 48,
     "metadata": {},
     "output_type": "execute_result"
    }
   ],
   "source": [
    "# frequency disribution\n",
    "\n",
    "titanic['Embarked'].value_counts()"
   ]
  },
  {
   "cell_type": "markdown",
   "metadata": {
    "id": "vxMFI3EVF_6-"
   },
   "source": [
    "Most frequent source passangers were from \"s\""
   ]
  },
  {
   "cell_type": "code",
   "execution_count": 49,
   "metadata": {
    "colab": {
     "base_uri": "https://localhost:8080/",
     "height": 542
    },
    "executionInfo": {
     "elapsed": 127,
     "status": "ok",
     "timestamp": 1754042780187,
     "user": {
      "displayName": "Srinivas Appana",
      "userId": "17871761728706768737"
     },
     "user_tz": -330
    },
    "id": "-UdSCyU5F-RH",
    "outputId": "332ba429-4833-4b12-cb13-31d8d8fb6220"
   },
   "outputs": [
    {
     "data": {
      "image/png": "[encoded data removed]",
      "text/plain": [
       "<Figure size 640x480 with 1 Axes>"
      ]
     },
     "metadata": {},
     "output_type": "display_data"
    }
   ],
   "source": [
    "# bar chart\n",
    "\n",
    "sns.countplot(data=titanic, x='Embarked', palette='Set2')\n",
    "plt.title(\"Embarked column frequencies\")\n",
    "plt.show()"
   ]
  },
  {
   "cell_type": "code",
   "execution_count": 50,
   "metadata": {
    "colab": {
     "base_uri": "https://localhost:8080/",
     "height": 542
    },
    "executionInfo": {
     "elapsed": 138,
     "status": "ok",
     "timestamp": 1754042798087,
     "user": {
      "displayName": "Srinivas Appana",
      "userId": "17871761728706768737"
     },
     "user_tz": -330
    },
    "id": "hHLYDHvHGMfY",
    "outputId": "76a3ff38-1e55-492e-c71a-6adc4bf4537c"
   },
   "outputs": [
    {
     "data": {
      "image/png": "[encoded data removed]",
      "text/plain": [
       "<Figure size 640x480 with 1 Axes>"
      ]
     },
     "metadata": {},
     "output_type": "display_data"
    }
   ],
   "source": [
    "# pie chart\n",
    "\n",
    "titanic['Embarked'].value_counts().sort_index().plot(\n",
    "    kind='pie',\n",
    "    autopct='%1.1f%%',\n",
    "    startangle=90,\n",
    "    colors=['skyblue', 'lightgreen', 'salmon']\n",
    ")\n",
    "\n",
    "plt.title(\"Embarked column frequencies\")\n",
    "plt.ylabel('')\n",
    "plt.show()"
   ]
  },
  {
   "cell_type": "code",
   "execution_count": 51,
   "metadata": {
    "colab": {
     "base_uri": "https://localhost:8080/"
    },
    "executionInfo": {
     "elapsed": 58,
     "status": "ok",
     "timestamp": 1754042823016,
     "user": {
      "displayName": "Srinivas Appana",
      "userId": "17871761728706768737"
     },
     "user_tz": -330
    },
    "id": "-MiMNlbkGQ2w",
    "outputId": "29b42c93-c8f2-43c4-c9e2-27602949a9a6"
   },
   "outputs": [
    {
     "name": "stdout",
     "output_type": "stream",
     "text": [
      "number of null values in embarked column is : 2\n",
      "percentage of null values in embarked column : 0.22%\n"
     ]
    }
   ],
   "source": [
    "# null values\n",
    "\n",
    "print(f\"number of null values in embarked column is : {titanic['Embarked'].isnull().sum()}\")\n",
    "print(f\"percentage of null values in embarked column : {round(titanic['Embarked'].isnull().sum()/len(titanic['Embarked'])*100, 2)}%\")"
   ]
  },
  {
   "cell_type": "markdown",
   "metadata": {
    "id": "__meFyiFGY2J"
   },
   "source": [
    "Two missing values were present"
   ]
  },
  {
   "cell_type": "code",
   "execution_count": 52,
   "metadata": {
    "colab": {
     "base_uri": "https://localhost:8080/",
     "height": 254
    },
    "executionInfo": {
     "elapsed": 100,
     "status": "ok",
     "timestamp": 1754042871651,
     "user": {
      "displayName": "Srinivas Appana",
      "userId": "17871761728706768737"
     },
     "user_tz": -330
    },
    "id": "JDZNxiyXGW9z",
    "outputId": "f21b3fbb-152c-46ac-b02c-16afc5878f47"
   },
   "outputs": [
    {
     "data": {
      "text/html": [
       "<div>\n",
       "<style scoped>\n",
       "    .dataframe tbody tr th:only-of-type {\n",
       "        vertical-align: middle;\n",
       "    }\n",
       "\n",
       "    .dataframe tbody tr th {\n",
       "        vertical-align: top;\n",
       "    }\n",
       "\n",
       "    .dataframe thead th {\n",
       "        text-align: right;\n",
       "    }\n",
       "</style>\n",
       "<table border=\"1\" class=\"dataframe\">\n",
       "  <thead>\n",
       "    <tr style=\"text-align: right;\">\n",
       "      <th></th>\n",
       "      <th>PassengerId</th>\n",
       "      <th>Survived</th>\n",
       "      <th>Pclass</th>\n",
       "      <th>Name</th>\n",
       "      <th>Sex</th>\n",
       "      <th>Age</th>\n",
       "      <th>SibSp</th>\n",
       "      <th>Parch</th>\n",
       "      <th>Ticket</th>\n",
       "      <th>Fare</th>\n",
       "      <th>Cabin</th>\n",
       "      <th>Embarked</th>\n",
       "    </tr>\n",
       "  </thead>\n",
       "  <tbody>\n",
       "    <tr>\n",
       "      <th>61</th>\n",
       "      <td>62</td>\n",
       "      <td>1</td>\n",
       "      <td>1</td>\n",
       "      <td>Icard, Miss. Amelie</td>\n",
       "      <td>female</td>\n",
       "      <td>38.0</td>\n",
       "      <td>0</td>\n",
       "      <td>0</td>\n",
       "      <td>113572</td>\n",
       "      <td>80.0</td>\n",
       "      <td>B28</td>\n",
       "      <td>NaN</td>\n",
       "    </tr>\n",
       "    <tr>\n",
       "      <th>829</th>\n",
       "      <td>830</td>\n",
       "      <td>1</td>\n",
       "      <td>1</td>\n",
       "      <td>Stone, Mrs. George Nelson (Martha Evelyn)</td>\n",
       "      <td>female</td>\n",
       "      <td>62.0</td>\n",
       "      <td>0</td>\n",
       "      <td>0</td>\n",
       "      <td>113572</td>\n",
       "      <td>80.0</td>\n",
       "      <td>B28</td>\n",
       "      <td>NaN</td>\n",
       "    </tr>\n",
       "  </tbody>\n",
       "</table>\n",
       "</div>"
      ],
      "text/plain": [
       "     PassengerId  Survived  Pclass                                       Name  \\\n",
       "61            62         1       1                        Icard, Miss. Amelie   \n",
       "829          830         1       1  Stone, Mrs. George Nelson (Martha Evelyn)   \n",
       "\n",
       "        Sex   Age  SibSp  Parch  Ticket  Fare Cabin Embarked  \n",
       "61   female  38.0      0      0  113572  80.0   B28      NaN  \n",
       "829  female  62.0      0      0  113572  80.0   B28      NaN  "
      ]
     },
     "execution_count": 52,
     "metadata": {},
     "output_type": "execute_result"
    }
   ],
   "source": [
    "# seeing those missing valued rows of embarked column\n",
    "\n",
    "titanic[titanic['Embarked'].isnull()]"
   ]
  },
  {
   "cell_type": "markdown",
   "metadata": {
    "id": "Py8fe-ZBGnDt"
   },
   "source": [
    "**Conclusion**\n",
    "* Most of the people were started from \"S\"\n",
    "* There were 2 null values exists in this \"embarked\" column"
   ]
  },
  {
   "cell_type": "markdown",
   "metadata": {
    "id": "WcBQOTu7HP_F"
   },
   "source": [
    "### Mixed columns (Name, Ticket, cabin)\n"
   ]
  },
  {
   "cell_type": "markdown",
   "metadata": {
    "id": "ap7NGMP0HeY-"
   },
   "source": [
    "Need to feature engineer the mized columns to get more insights"
   ]
  },
  {
   "cell_type": "markdown",
   "metadata": {
    "id": "R4G_8vOmHnj_"
   },
   "source": [
    "## **Bivariate Analysis**"
   ]
  },
  {
   "cell_type": "markdown",
   "metadata": {
    "id": "UBhx4IQMH_C9"
   },
   "source": [
    "### Possibilities of selcted two columns\n",
    "\n",
    "* Numerical - Numerical (NN)\n",
    "\n",
    "* Numerical - Categorical (NC)\n",
    "\n",
    "* Categorical - Categorical (CC)\n",
    "\n"
   ]
  },
  {
   "cell_type": "markdown",
   "metadata": {
    "id": "I7nmBT-eJEZI"
   },
   "source": [
    "### **Suvived - Pclass (CC)**\n",
    "\n"
   ]
  },
  {
   "cell_type": "markdown",
   "metadata": {
    "id": "Ob8SvIjKNMbm"
   },
   "source": [
    "**how many people survived and died based on each class**"
   ]
  },
  {
   "cell_type": "code",
   "execution_count": 53,
   "metadata": {
    "colab": {
     "base_uri": "https://localhost:8080/",
     "height": 303
    },
    "executionInfo": {
     "elapsed": 58,
     "status": "ok",
     "timestamp": 1754044611663,
     "user": {
      "displayName": "Srinivas Appana",
      "userId": "17871761728706768737"
     },
     "user_tz": -330
    },
    "id": "b6ofYGM6Gejp",
    "outputId": "d4c6bf59-74ad-4b8b-9e6a-2d0cab2ec348"
   },
   "outputs": [
    {
     "data": {
      "text/plain": [
       "Pclass  Survived\n",
       "1       1           136\n",
       "        0            80\n",
       "2       0            97\n",
       "        1            87\n",
       "3       0           372\n",
       "        1           119\n",
       "Name: count, dtype: int64"
      ]
     },
     "execution_count": 53,
     "metadata": {},
     "output_type": "execute_result"
    }
   ],
   "source": [
    "titanic.groupby('Pclass')['Survived'].value_counts()"
   ]
  },
  {
   "cell_type": "code",
   "execution_count": 54,
   "metadata": {
    "colab": {
     "base_uri": "https://localhost:8080/",
     "height": 143
    },
    "executionInfo": {
     "elapsed": 126,
     "status": "ok",
     "timestamp": 1754044327491,
     "user": {
      "displayName": "Srinivas Appana",
      "userId": "17871761728706768737"
     },
     "user_tz": -330
    },
    "id": "M8yoTWG6LwQI",
    "outputId": "1e486af2-4cd7-44de-d9ef-57d87aa86c07"
   },
   "outputs": [
    {
     "data": {
      "text/html": [
       "<div>\n",
       "<style scoped>\n",
       "    .dataframe tbody tr th:only-of-type {\n",
       "        vertical-align: middle;\n",
       "    }\n",
       "\n",
       "    .dataframe tbody tr th {\n",
       "        vertical-align: top;\n",
       "    }\n",
       "\n",
       "    .dataframe thead th {\n",
       "        text-align: right;\n",
       "    }\n",
       "</style>\n",
       "<table border=\"1\" class=\"dataframe\">\n",
       "  <thead>\n",
       "    <tr style=\"text-align: right;\">\n",
       "      <th>Pclass</th>\n",
       "      <th>1</th>\n",
       "      <th>2</th>\n",
       "      <th>3</th>\n",
       "    </tr>\n",
       "    <tr>\n",
       "      <th>Survived</th>\n",
       "      <th></th>\n",
       "      <th></th>\n",
       "      <th></th>\n",
       "    </tr>\n",
       "  </thead>\n",
       "  <tbody>\n",
       "    <tr>\n",
       "      <th>0</th>\n",
       "      <td>80</td>\n",
       "      <td>97</td>\n",
       "      <td>372</td>\n",
       "    </tr>\n",
       "    <tr>\n",
       "      <th>1</th>\n",
       "      <td>136</td>\n",
       "      <td>87</td>\n",
       "      <td>119</td>\n",
       "    </tr>\n",
       "  </tbody>\n",
       "</table>\n",
       "</div>"
      ],
      "text/plain": [
       "Pclass      1   2    3\n",
       "Survived              \n",
       "0          80  97  372\n",
       "1         136  87  119"
      ]
     },
     "execution_count": 54,
     "metadata": {},
     "output_type": "execute_result"
    }
   ],
   "source": [
    "# we can all do it by using contingency table\n",
    "\n",
    "pd.crosstab(titanic['Survived'], titanic['Pclass'])"
   ]
  },
  {
   "cell_type": "code",
   "execution_count": 55,
   "metadata": {
    "colab": {
     "base_uri": "https://localhost:8080/",
     "height": 143
    },
    "executionInfo": {
     "elapsed": 112,
     "status": "ok",
     "timestamp": 1754044475867,
     "user": {
      "displayName": "Srinivas Appana",
      "userId": "17871761728706768737"
     },
     "user_tz": -330
    },
    "id": "8ijGZ3_CL_63",
    "outputId": "84823b24-1708-4686-ad42-a063453ab3b3"
   },
   "outputs": [
    {
     "data": {
      "text/html": [
       "<div>\n",
       "<style scoped>\n",
       "    .dataframe tbody tr th:only-of-type {\n",
       "        vertical-align: middle;\n",
       "    }\n",
       "\n",
       "    .dataframe tbody tr th {\n",
       "        vertical-align: top;\n",
       "    }\n",
       "\n",
       "    .dataframe thead th {\n",
       "        text-align: right;\n",
       "    }\n",
       "</style>\n",
       "<table border=\"1\" class=\"dataframe\">\n",
       "  <thead>\n",
       "    <tr style=\"text-align: right;\">\n",
       "      <th>Pclass</th>\n",
       "      <th>1</th>\n",
       "      <th>2</th>\n",
       "      <th>3</th>\n",
       "    </tr>\n",
       "    <tr>\n",
       "      <th>Survived</th>\n",
       "      <th></th>\n",
       "      <th></th>\n",
       "      <th></th>\n",
       "    </tr>\n",
       "  </thead>\n",
       "  <tbody>\n",
       "    <tr>\n",
       "      <th>0</th>\n",
       "      <td>37.037037</td>\n",
       "      <td>52.717391</td>\n",
       "      <td>75.763747</td>\n",
       "    </tr>\n",
       "    <tr>\n",
       "      <th>1</th>\n",
       "      <td>62.962963</td>\n",
       "      <td>47.282609</td>\n",
       "      <td>24.236253</td>\n",
       "    </tr>\n",
       "  </tbody>\n",
       "</table>\n",
       "</div>"
      ],
      "text/plain": [
       "Pclass            1          2          3\n",
       "Survived                                 \n",
       "0         37.037037  52.717391  75.763747\n",
       "1         62.962963  47.282609  24.236253"
      ]
     },
     "execution_count": 55,
     "metadata": {},
     "output_type": "execute_result"
    }
   ],
   "source": [
    "# observing the same thing in form of percentage\n",
    "\n",
    "pd.crosstab(titanic['Survived'], titanic['Pclass'], normalize = 'columns')*100"
   ]
  },
  {
   "cell_type": "markdown",
   "metadata": {
    "id": "rRLkO_O7Mt1d"
   },
   "source": [
    "\n",
    "\n",
    "*   Pclass 1: 37% died, 63% survived\n",
    "*   Pclass 2: 52% died, 47% survived\n",
    "*   Pclass 3: 75% died, 24% survived\n",
    "\n"
   ]
  },
  {
   "cell_type": "markdown",
   "metadata": {
    "id": "ZxSWgkvmM9-I"
   },
   "source": [
    "We can observe that comparatively 1st class people were survived more than 3rd class people"
   ]
  },
  {
   "cell_type": "code",
   "execution_count": 56,
   "metadata": {
    "colab": {
     "base_uri": "https://localhost:8080/",
     "height": 458
    },
    "executionInfo": {
     "elapsed": 367,
     "status": "ok",
     "timestamp": 1754044787342,
     "user": {
      "displayName": "Srinivas Appana",
      "userId": "17871761728706768737"
     },
     "user_tz": -330
    },
    "id": "Q3-q8vVdMg3T",
    "outputId": "803656c0-fa96-435e-9073-08710fdb6606"
   },
   "outputs": [
    {
     "data": {
      "image/png": "[encoded data removed]",
      "text/plain": [
       "<Figure size 640x480 with 2 Axes>"
      ]
     },
     "metadata": {},
     "output_type": "display_data"
    }
   ],
   "source": [
    "# visualizing the above data in a heatmap\n",
    "\n",
    "data = pd.crosstab(titanic['Survived'], titanic['Pclass'], normalize = 'columns')*100\n",
    "sns.heatmap(data, annot = True, linewidths=2, cmap = 'hot')\n",
    "plt.show()"
   ]
  },
  {
   "cell_type": "markdown",
   "metadata": {
    "id": "Mi0WywBsN_mb"
   },
   "source": [
    "### **Survived - Sex**"
   ]
  },
  {
   "cell_type": "markdown",
   "metadata": {
    "id": "Y8Vp02JDOGUm"
   },
   "source": [
    "Survived people based on gender"
   ]
  },
  {
   "cell_type": "code",
   "execution_count": 57,
   "metadata": {
    "colab": {
     "base_uri": "https://localhost:8080/",
     "height": 241
    },
    "executionInfo": {
     "elapsed": 50,
     "status": "ok",
     "timestamp": 1754044906479,
     "user": {
      "displayName": "Srinivas Appana",
      "userId": "17871761728706768737"
     },
     "user_tz": -330
    },
    "id": "zQb-uvDHNZmM",
    "outputId": "9ef01811-7bff-4b05-9645-d6b96c869648"
   },
   "outputs": [
    {
     "data": {
      "text/plain": [
       "Sex     Survived\n",
       "female  1           233\n",
       "        0            81\n",
       "male    0           468\n",
       "        1           109\n",
       "Name: count, dtype: int64"
      ]
     },
     "execution_count": 57,
     "metadata": {},
     "output_type": "execute_result"
    }
   ],
   "source": [
    "titanic.groupby('Sex')['Survived'].value_counts()"
   ]
  },
  {
   "cell_type": "code",
   "execution_count": 58,
   "metadata": {
    "colab": {
     "base_uri": "https://localhost:8080/",
     "height": 143
    },
    "executionInfo": {
     "elapsed": 75,
     "status": "ok",
     "timestamp": 1754044942097,
     "user": {
      "displayName": "Srinivas Appana",
      "userId": "17871761728706768737"
     },
     "user_tz": -330
    },
    "id": "Cdp-eR-tOP8A",
    "outputId": "0f290eca-7a67-4acd-cc25-7d3d033059f7"
   },
   "outputs": [
    {
     "data": {
      "text/html": [
       "<div>\n",
       "<style scoped>\n",
       "    .dataframe tbody tr th:only-of-type {\n",
       "        vertical-align: middle;\n",
       "    }\n",
       "\n",
       "    .dataframe tbody tr th {\n",
       "        vertical-align: top;\n",
       "    }\n",
       "\n",
       "    .dataframe thead th {\n",
       "        text-align: right;\n",
       "    }\n",
       "</style>\n",
       "<table border=\"1\" class=\"dataframe\">\n",
       "  <thead>\n",
       "    <tr style=\"text-align: right;\">\n",
       "      <th>Sex</th>\n",
       "      <th>female</th>\n",
       "      <th>male</th>\n",
       "    </tr>\n",
       "    <tr>\n",
       "      <th>Survived</th>\n",
       "      <th></th>\n",
       "      <th></th>\n",
       "    </tr>\n",
       "  </thead>\n",
       "  <tbody>\n",
       "    <tr>\n",
       "      <th>0</th>\n",
       "      <td>81</td>\n",
       "      <td>468</td>\n",
       "    </tr>\n",
       "    <tr>\n",
       "      <th>1</th>\n",
       "      <td>233</td>\n",
       "      <td>109</td>\n",
       "    </tr>\n",
       "  </tbody>\n",
       "</table>\n",
       "</div>"
      ],
      "text/plain": [
       "Sex       female  male\n",
       "Survived              \n",
       "0             81   468\n",
       "1            233   109"
      ]
     },
     "execution_count": 58,
     "metadata": {},
     "output_type": "execute_result"
    }
   ],
   "source": [
    "# using contingency table\n",
    "\n",
    "pd.crosstab(titanic['Survived'], titanic['Sex'])"
   ]
  },
  {
   "cell_type": "code",
   "execution_count": 59,
   "metadata": {
    "colab": {
     "base_uri": "https://localhost:8080/",
     "height": 143
    },
    "executionInfo": {
     "elapsed": 79,
     "status": "ok",
     "timestamp": 1754044965950,
     "user": {
      "displayName": "Srinivas Appana",
      "userId": "17871761728706768737"
     },
     "user_tz": -330
    },
    "id": "Lz2rFpVYOcUO",
    "outputId": "ed89464d-c368-4b93-c4e6-4f05c21b9c5a"
   },
   "outputs": [
    {
     "data": {
      "text/html": [
       "<div>\n",
       "<style scoped>\n",
       "    .dataframe tbody tr th:only-of-type {\n",
       "        vertical-align: middle;\n",
       "    }\n",
       "\n",
       "    .dataframe tbody tr th {\n",
       "        vertical-align: top;\n",
       "    }\n",
       "\n",
       "    .dataframe thead th {\n",
       "        text-align: right;\n",
       "    }\n",
       "</style>\n",
       "<table border=\"1\" class=\"dataframe\">\n",
       "  <thead>\n",
       "    <tr style=\"text-align: right;\">\n",
       "      <th>Sex</th>\n",
       "      <th>female</th>\n",
       "      <th>male</th>\n",
       "    </tr>\n",
       "    <tr>\n",
       "      <th>Survived</th>\n",
       "      <th></th>\n",
       "      <th></th>\n",
       "    </tr>\n",
       "  </thead>\n",
       "  <tbody>\n",
       "    <tr>\n",
       "      <th>0</th>\n",
       "      <td>25.796178</td>\n",
       "      <td>81.109185</td>\n",
       "    </tr>\n",
       "    <tr>\n",
       "      <th>1</th>\n",
       "      <td>74.203822</td>\n",
       "      <td>18.890815</td>\n",
       "    </tr>\n",
       "  </tbody>\n",
       "</table>\n",
       "</div>"
      ],
      "text/plain": [
       "Sex          female       male\n",
       "Survived                      \n",
       "0         25.796178  81.109185\n",
       "1         74.203822  18.890815"
      ]
     },
     "execution_count": 59,
     "metadata": {},
     "output_type": "execute_result"
    }
   ],
   "source": [
    "# using contingency table with normalization\n",
    "\n",
    "pd.crosstab(titanic['Survived'], titanic['Sex'], normalize = 'columns')*100"
   ]
  },
  {
   "cell_type": "markdown",
   "metadata": {
    "id": "KoFhzsUVOkCe"
   },
   "source": [
    "Observed data\n",
    "*  female - 25% died, 75% survived\n",
    "*  Male - 81% died, 19% survived"
   ]
  },
  {
   "cell_type": "markdown",
   "metadata": {
    "id": "7JLft-XxYvsg"
   },
   "source": [
    "From this we can say that \"females were prioritized for saving first\""
   ]
  },
  {
   "cell_type": "markdown",
   "metadata": {
    "id": "J0npg-ugY4tQ"
   },
   "source": [
    "### **Survived - Embarked**"
   ]
  },
  {
   "cell_type": "code",
   "execution_count": 60,
   "metadata": {
    "colab": {
     "base_uri": "https://localhost:8080/",
     "height": 143
    },
    "executionInfo": {
     "elapsed": 158,
     "status": "ok",
     "timestamp": 1754047755024,
     "user": {
      "displayName": "Srinivas Appana",
      "userId": "17871761728706768737"
     },
     "user_tz": -330
    },
    "id": "VNMTOwFnOiIw",
    "outputId": "bfffa4b0-a506-4ffc-d0ab-7bfa765d69b2"
   },
   "outputs": [
    {
     "data": {
      "text/html": [
       "<div>\n",
       "<style scoped>\n",
       "    .dataframe tbody tr th:only-of-type {\n",
       "        vertical-align: middle;\n",
       "    }\n",
       "\n",
       "    .dataframe tbody tr th {\n",
       "        vertical-align: top;\n",
       "    }\n",
       "\n",
       "    .dataframe thead th {\n",
       "        text-align: right;\n",
       "    }\n",
       "</style>\n",
       "<table border=\"1\" class=\"dataframe\">\n",
       "  <thead>\n",
       "    <tr style=\"text-align: right;\">\n",
       "      <th>Embarked</th>\n",
       "      <th>C</th>\n",
       "      <th>Q</th>\n",
       "      <th>S</th>\n",
       "    </tr>\n",
       "    <tr>\n",
       "      <th>Survived</th>\n",
       "      <th></th>\n",
       "      <th></th>\n",
       "      <th></th>\n",
       "    </tr>\n",
       "  </thead>\n",
       "  <tbody>\n",
       "    <tr>\n",
       "      <th>0</th>\n",
       "      <td>75</td>\n",
       "      <td>47</td>\n",
       "      <td>427</td>\n",
       "    </tr>\n",
       "    <tr>\n",
       "      <th>1</th>\n",
       "      <td>93</td>\n",
       "      <td>30</td>\n",
       "      <td>217</td>\n",
       "    </tr>\n",
       "  </tbody>\n",
       "</table>\n",
       "</div>"
      ],
      "text/plain": [
       "Embarked   C   Q    S\n",
       "Survived             \n",
       "0         75  47  427\n",
       "1         93  30  217"
      ]
     },
     "execution_count": 60,
     "metadata": {},
     "output_type": "execute_result"
    }
   ],
   "source": [
    "# contingency table\n",
    "\n",
    "pd.crosstab(titanic['Survived'], titanic['Embarked'])"
   ]
  },
  {
   "cell_type": "code",
   "execution_count": 61,
   "metadata": {
    "colab": {
     "base_uri": "https://localhost:8080/",
     "height": 143
    },
    "executionInfo": {
     "elapsed": 133,
     "status": "ok",
     "timestamp": 1754047778433,
     "user": {
      "displayName": "Srinivas Appana",
      "userId": "17871761728706768737"
     },
     "user_tz": -330
    },
    "id": "2nrEyVUCZLC5",
    "outputId": "953c4751-412d-49ae-f41f-47bc754b459a"
   },
   "outputs": [
    {
     "data": {
      "text/html": [
       "<div>\n",
       "<style scoped>\n",
       "    .dataframe tbody tr th:only-of-type {\n",
       "        vertical-align: middle;\n",
       "    }\n",
       "\n",
       "    .dataframe tbody tr th {\n",
       "        vertical-align: top;\n",
       "    }\n",
       "\n",
       "    .dataframe thead th {\n",
       "        text-align: right;\n",
       "    }\n",
       "</style>\n",
       "<table border=\"1\" class=\"dataframe\">\n",
       "  <thead>\n",
       "    <tr style=\"text-align: right;\">\n",
       "      <th>Embarked</th>\n",
       "      <th>C</th>\n",
       "      <th>Q</th>\n",
       "      <th>S</th>\n",
       "    </tr>\n",
       "    <tr>\n",
       "      <th>Survived</th>\n",
       "      <th></th>\n",
       "      <th></th>\n",
       "      <th></th>\n",
       "    </tr>\n",
       "  </thead>\n",
       "  <tbody>\n",
       "    <tr>\n",
       "      <th>0</th>\n",
       "      <td>44.642857</td>\n",
       "      <td>61.038961</td>\n",
       "      <td>66.304348</td>\n",
       "    </tr>\n",
       "    <tr>\n",
       "      <th>1</th>\n",
       "      <td>55.357143</td>\n",
       "      <td>38.961039</td>\n",
       "      <td>33.695652</td>\n",
       "    </tr>\n",
       "  </tbody>\n",
       "</table>\n",
       "</div>"
      ],
      "text/plain": [
       "Embarked          C          Q          S\n",
       "Survived                                 \n",
       "0         44.642857  61.038961  66.304348\n",
       "1         55.357143  38.961039  33.695652"
      ]
     },
     "execution_count": 61,
     "metadata": {},
     "output_type": "execute_result"
    }
   ],
   "source": [
    "# contingency table with normalization\n",
    "\n",
    "pd.crosstab(titanic['Survived'], titanic['Embarked'], normalize = 'columns')*100"
   ]
  },
  {
   "cell_type": "code",
   "execution_count": 62,
   "metadata": {
    "colab": {
     "base_uri": "https://localhost:8080/",
     "height": 458
    },
    "executionInfo": {
     "elapsed": 642,
     "status": "ok",
     "timestamp": 1754047802972,
     "user": {
      "displayName": "Srinivas Appana",
      "userId": "17871761728706768737"
     },
     "user_tz": -330
    },
    "id": "e0xI5kZKZQwq",
    "outputId": "915c9271-d3d2-49f0-8e4d-2b58473dfad7"
   },
   "outputs": [
    {
     "data": {
      "image/png": "[encoded data removed]",
      "text/plain": [
       "<Figure size 640x480 with 2 Axes>"
      ]
     },
     "metadata": {},
     "output_type": "display_data"
    }
   ],
   "source": [
    "# vusualizing the data\n",
    "\n",
    "data = pd.crosstab(titanic['Survived'], titanic['Embarked'], normalize = 'columns')*100\n",
    "sns.heatmap(data, annot = True, linewidths=2, cmap = 'hot')\n",
    "plt.show()"
   ]
  },
  {
   "cell_type": "markdown",
   "metadata": {
    "id": "JaOjiKyfZZ37"
   },
   "source": [
    "from above data\n",
    "* C -- 45% died, 55% survived\n",
    "* Q -- 61% died, 39% survived\n",
    "* S -- 66% died, 34% survived"
   ]
  },
  {
   "cell_type": "markdown",
   "metadata": {
    "id": "7QiJjy9UayLs"
   },
   "source": [
    "in \"C\" more members were survived\n",
    "\n",
    "There may be many reasons for that\n",
    "* May be females were more from \"C\"\n",
    "* May be \"C\" cotains more 1st class people"
   ]
  },
  {
   "cell_type": "code",
   "execution_count": 63,
   "metadata": {
    "colab": {
     "base_uri": "https://localhost:8080/",
     "height": 143
    },
    "executionInfo": {
     "elapsed": 118,
     "status": "ok",
     "timestamp": 1754048567718,
     "user": {
      "displayName": "Srinivas Appana",
      "userId": "17871761728706768737"
     },
     "user_tz": -330
    },
    "id": "Q9l6O-zhZWoJ",
    "outputId": "86496122-d6df-4dda-9d24-5bcb9d6614d9"
   },
   "outputs": [
    {
     "data": {
      "text/html": [
       "<div>\n",
       "<style scoped>\n",
       "    .dataframe tbody tr th:only-of-type {\n",
       "        vertical-align: middle;\n",
       "    }\n",
       "\n",
       "    .dataframe tbody tr th {\n",
       "        vertical-align: top;\n",
       "    }\n",
       "\n",
       "    .dataframe thead th {\n",
       "        text-align: right;\n",
       "    }\n",
       "</style>\n",
       "<table border=\"1\" class=\"dataframe\">\n",
       "  <thead>\n",
       "    <tr style=\"text-align: right;\">\n",
       "      <th>Embarked</th>\n",
       "      <th>C</th>\n",
       "      <th>Q</th>\n",
       "      <th>S</th>\n",
       "    </tr>\n",
       "    <tr>\n",
       "      <th>Sex</th>\n",
       "      <th></th>\n",
       "      <th></th>\n",
       "      <th></th>\n",
       "    </tr>\n",
       "  </thead>\n",
       "  <tbody>\n",
       "    <tr>\n",
       "      <th>female</th>\n",
       "      <td>43.452381</td>\n",
       "      <td>46.753247</td>\n",
       "      <td>31.521739</td>\n",
       "    </tr>\n",
       "    <tr>\n",
       "      <th>male</th>\n",
       "      <td>56.547619</td>\n",
       "      <td>53.246753</td>\n",
       "      <td>68.478261</td>\n",
       "    </tr>\n",
       "  </tbody>\n",
       "</table>\n",
       "</div>"
      ],
      "text/plain": [
       "Embarked          C          Q          S\n",
       "Sex                                      \n",
       "female    43.452381  46.753247  31.521739\n",
       "male      56.547619  53.246753  68.478261"
      ]
     },
     "execution_count": 63,
     "metadata": {},
     "output_type": "execute_result"
    }
   ],
   "source": [
    "# checking the assumptions\n",
    "\n",
    "# May be females were more from \"C\"\n",
    "\n",
    "pd.crosstab(titanic['Sex'], titanic['Embarked'], normalize='columns')*100"
   ]
  },
  {
   "cell_type": "markdown",
   "metadata": {
    "id": "GSfwApJ9cXXb"
   },
   "source": [
    "\"C\" and \"Q\" has similar percentage of gender distribution"
   ]
  },
  {
   "cell_type": "markdown",
   "metadata": {
    "id": "LVJz0Y3CcdR6"
   },
   "source": [
    "So the assumption \"females were more from C\" is wrong"
   ]
  },
  {
   "cell_type": "code",
   "execution_count": 64,
   "metadata": {
    "colab": {
     "base_uri": "https://localhost:8080/",
     "height": 175
    },
    "executionInfo": {
     "elapsed": 124,
     "status": "ok",
     "timestamp": 1754048681077,
     "user": {
      "displayName": "Srinivas Appana",
      "userId": "17871761728706768737"
     },
     "user_tz": -330
    },
    "id": "lWKGYBa6cJ3r",
    "outputId": "2914574f-6f5c-41cf-843b-a32d5eefa672"
   },
   "outputs": [
    {
     "data": {
      "text/html": [
       "<div>\n",
       "<style scoped>\n",
       "    .dataframe tbody tr th:only-of-type {\n",
       "        vertical-align: middle;\n",
       "    }\n",
       "\n",
       "    .dataframe tbody tr th {\n",
       "        vertical-align: top;\n",
       "    }\n",
       "\n",
       "    .dataframe thead th {\n",
       "        text-align: right;\n",
       "    }\n",
       "</style>\n",
       "<table border=\"1\" class=\"dataframe\">\n",
       "  <thead>\n",
       "    <tr style=\"text-align: right;\">\n",
       "      <th>Embarked</th>\n",
       "      <th>C</th>\n",
       "      <th>Q</th>\n",
       "      <th>S</th>\n",
       "    </tr>\n",
       "    <tr>\n",
       "      <th>Pclass</th>\n",
       "      <th></th>\n",
       "      <th></th>\n",
       "      <th></th>\n",
       "    </tr>\n",
       "  </thead>\n",
       "  <tbody>\n",
       "    <tr>\n",
       "      <th>1</th>\n",
       "      <td>50.595238</td>\n",
       "      <td>2.597403</td>\n",
       "      <td>19.720497</td>\n",
       "    </tr>\n",
       "    <tr>\n",
       "      <th>2</th>\n",
       "      <td>10.119048</td>\n",
       "      <td>3.896104</td>\n",
       "      <td>25.465839</td>\n",
       "    </tr>\n",
       "    <tr>\n",
       "      <th>3</th>\n",
       "      <td>39.285714</td>\n",
       "      <td>93.506494</td>\n",
       "      <td>54.813665</td>\n",
       "    </tr>\n",
       "  </tbody>\n",
       "</table>\n",
       "</div>"
      ],
      "text/plain": [
       "Embarked          C          Q          S\n",
       "Pclass                                   \n",
       "1         50.595238   2.597403  19.720497\n",
       "2         10.119048   3.896104  25.465839\n",
       "3         39.285714  93.506494  54.813665"
      ]
     },
     "execution_count": 64,
     "metadata": {},
     "output_type": "execute_result"
    }
   ],
   "source": [
    "# May be C contains first class people\n",
    "\n",
    "pd.crosstab(titanic['Pclass'], titanic['Embarked'], normalize='columns')*100"
   ]
  },
  {
   "cell_type": "markdown",
   "metadata": {
    "id": "zpvU4Zc2cvyD"
   },
   "source": [
    "Yes\n",
    "\n",
    "From C more people are 1st class"
   ]
  },
  {
   "cell_type": "markdown",
   "metadata": {
    "id": "D09R4SiSdBGc"
   },
   "source": [
    "### **Survived - Age**"
   ]
  },
  {
   "cell_type": "code",
   "execution_count": 66,
   "metadata": {
    "colab": {
     "base_uri": "https://localhost:8080/",
     "height": 542
    },
    "executionInfo": {
     "elapsed": 127,
     "status": "ok",
     "timestamp": 1754049119984,
     "user": {
      "displayName": "Srinivas Appana",
      "userId": "17871761728706768737"
     },
     "user_tz": -330
    },
    "id": "_zUBivqQctI5",
    "outputId": "89c9ab29-17d4-44f8-adec-499bafc50840"
   },
   "outputs": [
    {
     "data": {
      "image/png": "[encoded data removed]",
      "text/plain": [
       "<Figure size 800x500 with 1 Axes>"
      ]
     },
     "metadata": {},
     "output_type": "display_data"
    }
   ],
   "source": [
    "# scatter plot\n",
    "\n",
    "plt.figure(figsize=(8, 5))\n",
    "sns.scatterplot(data=titanic, x='Age', y='Survived', hue='Sex', palette='Set2')\n",
    "plt.title(\"Scatter plot of Age and Survived\")\n",
    "plt.show()"
   ]
  },
  {
   "cell_type": "markdown",
   "metadata": {
    "id": "D0W6WQhzekQJ"
   },
   "source": [
    "There are mixed ages of people whio were survived and not survived"
   ]
  },
  {
   "cell_type": "markdown",
   "metadata": {
    "id": "hWMxauhffGSL"
   },
   "source": [
    "But we can observe that, max females were survived"
   ]
  },
  {
   "cell_type": "code",
   "execution_count": 67,
   "metadata": {
    "colab": {
     "base_uri": "https://localhost:8080/",
     "height": 542
    },
    "executionInfo": {
     "elapsed": 130,
     "status": "ok",
     "timestamp": 1754049288097,
     "user": {
      "displayName": "Srinivas Appana",
      "userId": "17871761728706768737"
     },
     "user_tz": -330
    },
    "id": "RxQlyb1beMLD",
    "outputId": "e3a127e1-6557-4379-97ce-5f439b2cb34d"
   },
   "outputs": [
    {
     "data": {
      "image/png": "[encoded data removed]",
      "text/plain": [
       "<Figure size 800x500 with 1 Axes>"
      ]
     },
     "metadata": {},
     "output_type": "display_data"
    }
   ],
   "source": [
    "plt.figure(figsize=(8, 5))\n",
    "sns.scatterplot(data=titanic, x='Age', y='Survived', hue='Pclass', palette='Set2')\n",
    "plt.title(\"Scatter plot of Age and Survived\")\n",
    "plt.show()"
   ]
  },
  {
   "cell_type": "markdown",
   "metadata": {
    "id": "WzjDn5VbfLNc"
   },
   "source": [
    "we can observe that, max 1st class people were survived"
   ]
  },
  {
   "cell_type": "code",
   "execution_count": 68,
   "metadata": {
    "colab": {
     "base_uri": "https://localhost:8080/",
     "height": 434
    },
    "executionInfo": {
     "elapsed": 669,
     "status": "ok",
     "timestamp": 1754049733795,
     "user": {
      "displayName": "Srinivas Appana",
      "userId": "17871761728706768737"
     },
     "user_tz": -330
    },
    "id": "GY2yjPLBe0f0",
    "outputId": "91c48849-5a73-4d27-b680-b749722ad381"
   },
   "outputs": [
    {
     "data": {
      "image/png": "[encoded data removed]",
      "text/plain": [
       "<Figure size 640x480 with 1 Axes>"
      ]
     },
     "metadata": {},
     "output_type": "display_data"
    }
   ],
   "source": [
    "titanic[titanic['Survived'] == 1]['Age'].plot(kind = 'kde', label = 'survived')\n",
    "titanic[titanic['Survived'] == 0]['Age'].plot(kind = 'kde', label = 'not survived')\n",
    "plt.legend()\n",
    "plt.show()"
   ]
  },
  {
   "cell_type": "markdown",
   "metadata": {
    "id": "Ci34ahjDg2_U"
   },
   "source": [
    "* people aged b/w 0 to 10, have higher chances of surviving that death\n",
    "* people aged b/w 10 to 30 has more chance of death than survival\n",
    "* people who survived in p1, has mean age b/w 30 to 40\n",
    "* people aged b/w 60 to 80 has more chances of death than surviving"
   ]
  },
  {
   "cell_type": "code",
   "execution_count": 69,
   "metadata": {
    "colab": {
     "base_uri": "https://localhost:8080/"
    },
    "executionInfo": {
     "elapsed": 48,
     "status": "ok",
     "timestamp": 1754050167778,
     "user": {
      "displayName": "Srinivas Appana",
      "userId": "17871761728706768737"
     },
     "user_tz": -330
    },
    "id": "W25A3-qfgoPn",
    "outputId": "abc6fda1-75df-40eb-f5c5-9bad5c1243e6"
   },
   "outputs": [
    {
     "data": {
      "text/plain": [
       "np.float64(38.233440860215055)"
      ]
     },
     "execution_count": 69,
     "metadata": {},
     "output_type": "execute_result"
    }
   ],
   "source": [
    "# proving statement 3\n",
    "titanic[titanic['Pclass'] == 1]['Age'].mean()"
   ]
  },
  {
   "cell_type": "markdown",
   "metadata": {
    "id": "tWE2R3CFi_L6"
   },
   "source": [
    "## **Feature engeneering**"
   ]
  },
  {
   "cell_type": "markdown",
   "metadata": {
    "id": "SUD8sj25jFCX"
   },
   "source": [
    "### **Fare** column"
   ]
  },
  {
   "cell_type": "markdown",
   "metadata": {
    "id": "EqtklFevjIHW"
   },
   "source": [
    "It tells about the grouped fares rather than individual fares\n",
    "\n",
    "so need to modify that column"
   ]
  },
  {
   "cell_type": "code",
   "execution_count": 70,
   "metadata": {
    "colab": {
     "base_uri": "https://localhost:8080/",
     "height": 269
    },
    "executionInfo": {
     "elapsed": 114,
     "status": "ok",
     "timestamp": 1754050668488,
     "user": {
      "displayName": "Srinivas Appana",
      "userId": "17871761728706768737"
     },
     "user_tz": -330
    },
    "id": "rnbL9mypiWpu",
    "outputId": "e1fd7fc0-566b-4e17-a810-d3f73a2059f9"
   },
   "outputs": [
    {
     "data": {
      "text/html": [
       "<div>\n",
       "<style scoped>\n",
       "    .dataframe tbody tr th:only-of-type {\n",
       "        vertical-align: middle;\n",
       "    }\n",
       "\n",
       "    .dataframe tbody tr th {\n",
       "        vertical-align: top;\n",
       "    }\n",
       "\n",
       "    .dataframe thead th {\n",
       "        text-align: right;\n",
       "    }\n",
       "</style>\n",
       "<table border=\"1\" class=\"dataframe\">\n",
       "  <thead>\n",
       "    <tr style=\"text-align: right;\">\n",
       "      <th></th>\n",
       "      <th>PassengerId</th>\n",
       "      <th>Survived</th>\n",
       "      <th>Pclass</th>\n",
       "      <th>Name</th>\n",
       "      <th>Sex</th>\n",
       "      <th>Age</th>\n",
       "      <th>SibSp</th>\n",
       "      <th>Parch</th>\n",
       "      <th>Ticket</th>\n",
       "      <th>Fare</th>\n",
       "      <th>Cabin</th>\n",
       "      <th>Embarked</th>\n",
       "    </tr>\n",
       "  </thead>\n",
       "  <tbody>\n",
       "    <tr>\n",
       "      <th>159</th>\n",
       "      <td>160</td>\n",
       "      <td>0</td>\n",
       "      <td>3</td>\n",
       "      <td>Sage, Master. Thomas Henry</td>\n",
       "      <td>male</td>\n",
       "      <td>NaN</td>\n",
       "      <td>8</td>\n",
       "      <td>2</td>\n",
       "      <td>CA. 2343</td>\n",
       "      <td>69.55</td>\n",
       "      <td>NaN</td>\n",
       "      <td>S</td>\n",
       "    </tr>\n",
       "    <tr>\n",
       "      <th>180</th>\n",
       "      <td>181</td>\n",
       "      <td>0</td>\n",
       "      <td>3</td>\n",
       "      <td>Sage, Miss. Constance Gladys</td>\n",
       "      <td>female</td>\n",
       "      <td>NaN</td>\n",
       "      <td>8</td>\n",
       "      <td>2</td>\n",
       "      <td>CA. 2343</td>\n",
       "      <td>69.55</td>\n",
       "      <td>NaN</td>\n",
       "      <td>S</td>\n",
       "    </tr>\n",
       "    <tr>\n",
       "      <th>201</th>\n",
       "      <td>202</td>\n",
       "      <td>0</td>\n",
       "      <td>3</td>\n",
       "      <td>Sage, Mr. Frederick</td>\n",
       "      <td>male</td>\n",
       "      <td>NaN</td>\n",
       "      <td>8</td>\n",
       "      <td>2</td>\n",
       "      <td>CA. 2343</td>\n",
       "      <td>69.55</td>\n",
       "      <td>NaN</td>\n",
       "      <td>S</td>\n",
       "    </tr>\n",
       "    <tr>\n",
       "      <th>324</th>\n",
       "      <td>325</td>\n",
       "      <td>0</td>\n",
       "      <td>3</td>\n",
       "      <td>Sage, Mr. George John Jr</td>\n",
       "      <td>male</td>\n",
       "      <td>NaN</td>\n",
       "      <td>8</td>\n",
       "      <td>2</td>\n",
       "      <td>CA. 2343</td>\n",
       "      <td>69.55</td>\n",
       "      <td>NaN</td>\n",
       "      <td>S</td>\n",
       "    </tr>\n",
       "    <tr>\n",
       "      <th>792</th>\n",
       "      <td>793</td>\n",
       "      <td>0</td>\n",
       "      <td>3</td>\n",
       "      <td>Sage, Miss. Stella Anna</td>\n",
       "      <td>female</td>\n",
       "      <td>NaN</td>\n",
       "      <td>8</td>\n",
       "      <td>2</td>\n",
       "      <td>CA. 2343</td>\n",
       "      <td>69.55</td>\n",
       "      <td>NaN</td>\n",
       "      <td>S</td>\n",
       "    </tr>\n",
       "    <tr>\n",
       "      <th>846</th>\n",
       "      <td>847</td>\n",
       "      <td>0</td>\n",
       "      <td>3</td>\n",
       "      <td>Sage, Mr. Douglas Bullen</td>\n",
       "      <td>male</td>\n",
       "      <td>NaN</td>\n",
       "      <td>8</td>\n",
       "      <td>2</td>\n",
       "      <td>CA. 2343</td>\n",
       "      <td>69.55</td>\n",
       "      <td>NaN</td>\n",
       "      <td>S</td>\n",
       "    </tr>\n",
       "    <tr>\n",
       "      <th>863</th>\n",
       "      <td>864</td>\n",
       "      <td>0</td>\n",
       "      <td>3</td>\n",
       "      <td>Sage, Miss. Dorothy Edith \"Dolly\"</td>\n",
       "      <td>female</td>\n",
       "      <td>NaN</td>\n",
       "      <td>8</td>\n",
       "      <td>2</td>\n",
       "      <td>CA. 2343</td>\n",
       "      <td>69.55</td>\n",
       "      <td>NaN</td>\n",
       "      <td>S</td>\n",
       "    </tr>\n",
       "  </tbody>\n",
       "</table>\n",
       "</div>"
      ],
      "text/plain": [
       "     PassengerId  Survived  Pclass                               Name     Sex  \\\n",
       "159          160         0       3         Sage, Master. Thomas Henry    male   \n",
       "180          181         0       3       Sage, Miss. Constance Gladys  female   \n",
       "201          202         0       3                Sage, Mr. Frederick    male   \n",
       "324          325         0       3           Sage, Mr. George John Jr    male   \n",
       "792          793         0       3            Sage, Miss. Stella Anna  female   \n",
       "846          847         0       3           Sage, Mr. Douglas Bullen    male   \n",
       "863          864         0       3  Sage, Miss. Dorothy Edith \"Dolly\"  female   \n",
       "\n",
       "     Age  SibSp  Parch    Ticket   Fare Cabin Embarked  \n",
       "159  NaN      8      2  CA. 2343  69.55   NaN        S  \n",
       "180  NaN      8      2  CA. 2343  69.55   NaN        S  \n",
       "201  NaN      8      2  CA. 2343  69.55   NaN        S  \n",
       "324  NaN      8      2  CA. 2343  69.55   NaN        S  \n",
       "792  NaN      8      2  CA. 2343  69.55   NaN        S  \n",
       "846  NaN      8      2  CA. 2343  69.55   NaN        S  \n",
       "863  NaN      8      2  CA. 2343  69.55   NaN        S  "
      ]
     },
     "execution_count": 70,
     "metadata": {},
     "output_type": "execute_result"
    }
   ],
   "source": [
    "titanic[titanic['SibSp'] == 8]"
   ]
  }
 ],
 "metadata": {
  "colab": {
   "authorship_tag": "ABX9TyMn6P2mGj4jTR+/Q9HIdEO0",
   "provenance": [],
   "toc_visible": true
  },
  "kernelspec": {
   "display_name": "Data Science (3.12.10)",
   "language": "python",
   "name": "python3"
  },
  "language_info": {
   "codemirror_mode": {
    "name": "ipython",
    "version": 3
   },
   "file_extension": ".py",
   "mimetype": "text/x-python",
   "name": "python",
   "nbconvert_exporter": "python",
   "pygments_lexer": "ipython3",
   "version": "3.12.10"
  }
 },
 "nbformat": 4,
 "nbformat_minor": 0
}
