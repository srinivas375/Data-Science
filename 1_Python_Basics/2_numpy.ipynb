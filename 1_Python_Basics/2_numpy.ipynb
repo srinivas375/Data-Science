{
 "cells": [
  {
   "cell_type": "markdown",
   "metadata": {
    "id": "GPMqhX5iNOQL"
   },
   "source": [
    "# **Numpy**"
   ]
  },
  {
   "cell_type": "markdown",
   "metadata": {
    "id": "OPVj7eHmNf3r"
   },
   "source": [
    "* **NumPy (Numerical Python)** is a powerful Python library used for **numerical\n",
    "computations**. It provides support for **multidimensional arrays** (ndarrays), **mathematical functions**, **linear algebra**, **random number generation**, and more.\n",
    "* NumPy is especially useful for data science, machine learning, and scientific computing, as it allows fast operations on large datasets using vectorized code."
   ]
  },
  {
   "cell_type": "markdown",
   "metadata": {},
   "source": [
    "Installing numpy\n",
    "* using pip\n",
    "    - `pip install numpy`\n",
    "* using uv\n",
    "    - `uv add numpy`"
   ]
  },
  {
   "cell_type": "markdown",
   "metadata": {
    "id": "DGTE9tYCaFo6"
   },
   "source": [
    "## **Importing and creating numpy arrays**"
   ]
  },
  {
   "cell_type": "code",
   "execution_count": 2,
   "metadata": {
    "executionInfo": {
     "elapsed": 6,
     "status": "ok",
     "timestamp": 1753712513365,
     "user": {
      "displayName": "Srinivas Appana",
      "userId": "17871761728706768737"
     },
     "user_tz": -330
    },
    "id": "67BdM5DoNDX4"
   },
   "outputs": [],
   "source": [
    "import numpy as np"
   ]
  },
  {
   "cell_type": "code",
   "execution_count": 3,
   "metadata": {
    "colab": {
     "base_uri": "https://localhost:8080/"
    },
    "executionInfo": {
     "elapsed": 8,
     "status": "ok",
     "timestamp": 1753713087013,
     "user": {
      "displayName": "Srinivas Appana",
      "userId": "17871761728706768737"
     },
     "user_tz": -330
    },
    "id": "9jga32NBaSqP",
    "outputId": "d16e4141-7398-41f5-f18c-6dc02b4222d6"
   },
   "outputs": [
    {
     "name": "stdout",
     "output_type": "stream",
     "text": [
      "1D array: [1 2 3 4]\n",
      "<class 'numpy.ndarray'>\n",
      "\n",
      "1D array: [5 6 7 8]\n",
      "<class 'numpy.ndarray'>\n"
     ]
    }
   ],
   "source": [
    "#creating a 1d numpy array\n",
    "arr1 = np.array([1, 2, 3, 4])\n",
    "print(\"1D array:\", arr1)\n",
    "\n",
    "#type\n",
    "print(type(arr1))\n",
    "\n",
    "# we can pass list, tuple input to array\n",
    "arr2 = np.array((5, 6, 7, 8))\n",
    "print(\"\\n1D array:\", arr2)\n",
    "print(type(arr2))\n"
   ]
  },
  {
   "cell_type": "code",
   "execution_count": 4,
   "metadata": {
    "colab": {
     "base_uri": "https://localhost:8080/"
    },
    "executionInfo": {
     "elapsed": 7,
     "status": "ok",
     "timestamp": 1753713093763,
     "user": {
      "displayName": "Srinivas Appana",
      "userId": "17871761728706768737"
     },
     "user_tz": -330
    },
    "id": "LWHTNR7zaZVf",
    "outputId": "7f63603c-39d2-4d48-8a3b-385a68f6b408"
   },
   "outputs": [
    {
     "name": "stdout",
     "output_type": "stream",
     "text": [
      "1\n",
      "1\n"
     ]
    }
   ],
   "source": [
    "# knowing the dimentions of array -- ndim\n",
    "\n",
    "print(arr1.ndim)\n",
    "print(arr2.ndim)"
   ]
  },
  {
   "cell_type": "code",
   "execution_count": 5,
   "metadata": {
    "colab": {
     "base_uri": "https://localhost:8080/"
    },
    "executionInfo": {
     "elapsed": 12,
     "status": "ok",
     "timestamp": 1753713239399,
     "user": {
      "displayName": "Srinivas Appana",
      "userId": "17871761728706768737"
     },
     "user_tz": -330
    },
    "id": "PTwrZjKEccHT",
    "outputId": "ea3a2667-36bc-48d0-871f-ed29efb02abf"
   },
   "outputs": [
    {
     "name": "stdout",
     "output_type": "stream",
     "text": [
      "2D array:\n",
      " [[1. 2. 3.]\n",
      " [4. 5. 6.]]\n",
      "dimention of the 2d array is :  2\n"
     ]
    }
   ],
   "source": [
    "# creating a 2d numpy array\n",
    "\n",
    "arr3 = np.array([[1.0, 2, 3], [4, 5, 6]])\n",
    "print(\"2D array:\\n\", arr3)\n",
    "print(\"dimention of the 2d array is : \", arr3.ndim)"
   ]
  },
  {
   "cell_type": "code",
   "execution_count": 6,
   "metadata": {
    "colab": {
     "base_uri": "https://localhost:8080/"
    },
    "executionInfo": {
     "elapsed": 7,
     "status": "ok",
     "timestamp": 1753713316363,
     "user": {
      "displayName": "Srinivas Appana",
      "userId": "17871761728706768737"
     },
     "user_tz": -330
    },
    "id": "cH51Q6kwc93-",
    "outputId": "e843d22f-f706-4a45-bc05-57e0414dfb51"
   },
   "outputs": [
    {
     "name": "stdout",
     "output_type": "stream",
     "text": [
      "3D array:\n",
      " [[[ 1  2  3]\n",
      "  [ 4  5  6]]\n",
      "\n",
      " [[ 7  8  9]\n",
      "  [10 11 12]]]\n",
      "\n",
      "dimention of 3d array is :  3\n"
     ]
    }
   ],
   "source": [
    "# creating a 3d numpy array\n",
    "\n",
    "arr4 = np.array([[[1, 2, 3], [4, 5, 6]], [[7, 8, 9], [10, 11, 12]]])\n",
    "print(\"3D array:\\n\", arr4)\n",
    "print(\"\\ndimention of 3d array is : \", arr4.ndim)"
   ]
  },
  {
   "cell_type": "code",
   "execution_count": 7,
   "metadata": {
    "colab": {
     "base_uri": "https://localhost:8080/"
    },
    "executionInfo": {
     "elapsed": 11,
     "status": "ok",
     "timestamp": 1753713385113,
     "user": {
      "displayName": "Srinivas Appana",
      "userId": "17871761728706768737"
     },
     "user_tz": -330
    },
    "id": "kIh9NeQRdX0I",
    "outputId": "c54e6bba-40b8-408d-bf4d-ae3730a8b693"
   },
   "outputs": [
    {
     "name": "stdout",
     "output_type": "stream",
     "text": [
      "[[[[[1 2 3 4]]]]]\n",
      "number of dimensions : 5\n"
     ]
    }
   ],
   "source": [
    "# can also define dimention\n",
    "\n",
    "arr5 = np.array([1, 2, 3, 4], ndmin=5)\n",
    "print(arr5)\n",
    "print('number of dimensions :', arr5.ndim)"
   ]
  },
  {
   "cell_type": "code",
   "execution_count": 8,
   "metadata": {
    "colab": {
     "base_uri": "https://localhost:8080/"
    },
    "executionInfo": {
     "elapsed": 25,
     "status": "ok",
     "timestamp": 1753713414370,
     "user": {
      "displayName": "Srinivas Appana",
      "userId": "17871761728706768737"
     },
     "user_tz": -330
    },
    "id": "Grs-XuzRdp1m",
    "outputId": "2c078e00-0232-42c3-cec7-b97d85e1333f"
   },
   "outputs": [
    {
     "name": "stdout",
     "output_type": "stream",
     "text": [
      "Zeros array:\n",
      " [[0. 0. 0.]\n",
      " [0. 0. 0.]]\n"
     ]
    }
   ],
   "source": [
    "# Array of zeros\n",
    "\n",
    "zeros_arr = np.zeros((2, 3))  # 2 rows, 3 columns\n",
    "print(\"Zeros array:\\n\", zeros_arr)"
   ]
  },
  {
   "cell_type": "code",
   "execution_count": 9,
   "metadata": {
    "colab": {
     "base_uri": "https://localhost:8080/"
    },
    "executionInfo": {
     "elapsed": 10,
     "status": "ok",
     "timestamp": 1753713441536,
     "user": {
      "displayName": "Srinivas Appana",
      "userId": "17871761728706768737"
     },
     "user_tz": -330
    },
    "id": "KxUkVaOOdvps",
    "outputId": "cf7e6ab3-54da-4c97-e68f-d69433d99623"
   },
   "outputs": [
    {
     "name": "stdout",
     "output_type": "stream",
     "text": [
      "Ones array:\n",
      " [[1. 1.]\n",
      " [1. 1.]\n",
      " [1. 1.]]\n"
     ]
    }
   ],
   "source": [
    "# array of ones\n",
    "\n",
    "ones_arr = np.ones((3, 2))\n",
    "print(\"Ones array:\\n\", ones_arr)"
   ]
  },
  {
   "cell_type": "code",
   "execution_count": 10,
   "metadata": {
    "colab": {
     "base_uri": "https://localhost:8080/"
    },
    "executionInfo": {
     "elapsed": 74,
     "status": "ok",
     "timestamp": 1753713473109,
     "user": {
      "displayName": "Srinivas Appana",
      "userId": "17871761728706768737"
     },
     "user_tz": -330
    },
    "id": "mGm-QuGWd3nH",
    "outputId": "b6181989-a66c-40dd-f6cb-079d0445a7dc"
   },
   "outputs": [
    {
     "name": "stdout",
     "output_type": "stream",
     "text": [
      "Empty array:\n",
      " [[6.23042070e-307 4.67296746e-307]\n",
      " [1.69121096e-306 0.00000000e+000]]\n"
     ]
    }
   ],
   "source": [
    "# Empty array (contains garbage values)\n",
    "\n",
    "empty_arr = np.empty((2, 2))\n",
    "print(\"Empty array:\\n\", empty_arr)"
   ]
  },
  {
   "cell_type": "code",
   "execution_count": 11,
   "metadata": {
    "colab": {
     "base_uri": "https://localhost:8080/"
    },
    "executionInfo": {
     "elapsed": 20,
     "status": "ok",
     "timestamp": 1753713503008,
     "user": {
      "displayName": "Srinivas Appana",
      "userId": "17871761728706768737"
     },
     "user_tz": -330
    },
    "id": "Fz6fdqpTd_Tp",
    "outputId": "235e0685-e475-4836-8516-52b2dfbce875"
   },
   "outputs": [
    {
     "name": "stdout",
     "output_type": "stream",
     "text": [
      "Range array: [0 2 4 6 8]\n"
     ]
    }
   ],
   "source": [
    "# Array with a range of values -- np.arange()\n",
    "\n",
    "range_arr = np.arange(0, 10, 2)  # start, stop, step\n",
    "print(\"Range array:\", range_arr)"
   ]
  },
  {
   "cell_type": "code",
   "execution_count": 12,
   "metadata": {
    "colab": {
     "base_uri": "https://localhost:8080/"
    },
    "executionInfo": {
     "elapsed": 17,
     "status": "ok",
     "timestamp": 1753713673095,
     "user": {
      "displayName": "Srinivas Appana",
      "userId": "17871761728706768737"
     },
     "user_tz": -330
    },
    "id": "xoewLW_weGnq",
    "outputId": "7aa1d9b8-e585-4c2b-8d8b-291d3e4b2bd3"
   },
   "outputs": [
    {
     "name": "stdout",
     "output_type": "stream",
     "text": [
      "Linspace array: [0.   0.25 0.5  0.75 1.  ]\n",
      "shape of the resulted lin space array is: (5,)\n"
     ]
    }
   ],
   "source": [
    "# Array with evenly spaced values -- linspace()\n",
    "\n",
    "lin_arr = np.linspace(0, 1, 5)  # start, stop, num points\n",
    "print(\"Linspace array:\", lin_arr)\n",
    "print(\"shape of the resulted lin space array is:\", lin_arr.shape)"
   ]
  },
  {
   "cell_type": "code",
   "execution_count": 13,
   "metadata": {
    "colab": {
     "base_uri": "https://localhost:8080/"
    },
    "executionInfo": {
     "elapsed": 18,
     "status": "ok",
     "timestamp": 1753713632997,
     "user": {
      "displayName": "Srinivas Appana",
      "userId": "17871761728706768737"
     },
     "user_tz": -330
    },
    "id": "meLYZg6heLma",
    "outputId": "03125e8b-d706-40fd-a8df-9214aeb3499f"
   },
   "outputs": [
    {
     "name": "stdout",
     "output_type": "stream",
     "text": [
      "Identity matrix:\n",
      " [[1. 0. 0.]\n",
      " [0. 1. 0.]\n",
      " [0. 0. 1.]]\n",
      "Shape of identity matrix: (3, 3)\n"
     ]
    }
   ],
   "source": [
    "# Identity matrix\n",
    "\n",
    "identity = np.eye(3)  # 3*3 identity matrix\n",
    "print(\"Identity matrix:\\n\", identity)\n",
    "print(\"Shape of identity matrix:\", identity.shape)"
   ]
  },
  {
   "cell_type": "code",
   "execution_count": 14,
   "metadata": {
    "colab": {
     "base_uri": "https://localhost:8080/"
    },
    "executionInfo": {
     "elapsed": 16,
     "status": "ok",
     "timestamp": 1753713640557,
     "user": {
      "displayName": "Srinivas Appana",
      "userId": "17871761728706768737"
     },
     "user_tz": -330
    },
    "id": "6Gu924lqeSLx",
    "outputId": "f9c8bc1f-ffe4-4e34-9ce1-10aebe9b7742"
   },
   "outputs": [
    {
     "name": "stdout",
     "output_type": "stream",
     "text": [
      "Full array with 7s:\n",
      " [[7 7 7]\n",
      " [7 7 7]]\n",
      "Shape of full array: (2, 3)\n"
     ]
    }
   ],
   "source": [
    "# Full array with a constant value\n",
    "\n",
    "filled = np.full((2, 3), 7) # 3*3 array with all values as 7\n",
    "print(\"Full array with 7s:\\n\", filled)\n",
    "print(\"Shape of full array:\", filled.shape)"
   ]
  },
  {
   "cell_type": "markdown",
   "metadata": {
    "id": "z3MpU8IRe5fn"
   },
   "source": [
    "## Array properties"
   ]
  },
  {
   "cell_type": "code",
   "execution_count": 15,
   "metadata": {
    "executionInfo": {
     "elapsed": 3,
     "status": "ok",
     "timestamp": 1753713746721,
     "user": {
      "displayName": "Srinivas Appana",
      "userId": "17871761728706768737"
     },
     "user_tz": -330
    },
    "id": "I2L5hrDBecki"
   },
   "outputs": [],
   "source": [
    "arr = np.array([[1, 2, 3], [4, 5, 6]])"
   ]
  },
  {
   "cell_type": "code",
   "execution_count": 16,
   "metadata": {
    "colab": {
     "base_uri": "https://localhost:8080/"
    },
    "executionInfo": {
     "elapsed": 33,
     "status": "ok",
     "timestamp": 1753713751191,
     "user": {
      "displayName": "Srinivas Appana",
      "userId": "17871761728706768737"
     },
     "user_tz": -330
    },
    "id": "PUt69hmofCHr",
    "outputId": "584f8dc7-b6f9-4251-8114-ab85e72e469d"
   },
   "outputs": [
    {
     "name": "stdout",
     "output_type": "stream",
     "text": [
      "Shape: (2, 3)\n"
     ]
    }
   ],
   "source": [
    "# Shape – returns a tuple of dimensions (rows, cols)\n",
    "\n",
    "print(\"Shape:\", arr.shape)"
   ]
  },
  {
   "cell_type": "code",
   "execution_count": 17,
   "metadata": {
    "colab": {
     "base_uri": "https://localhost:8080/"
    },
    "executionInfo": {
     "elapsed": 14,
     "status": "ok",
     "timestamp": 1753713761006,
     "user": {
      "displayName": "Srinivas Appana",
      "userId": "17871761728706768737"
     },
     "user_tz": -330
    },
    "id": "XMOWevV0fDM_",
    "outputId": "99c48aae-c0fa-47d1-d4e6-4fd0670438b0"
   },
   "outputs": [
    {
     "name": "stdout",
     "output_type": "stream",
     "text": [
      "Dimensions (ndim): 2\n"
     ]
    }
   ],
   "source": [
    "# Number of dimensions\n",
    "\n",
    "print(\"Dimensions (ndim):\", arr.ndim)"
   ]
  },
  {
   "cell_type": "code",
   "execution_count": 18,
   "metadata": {
    "colab": {
     "base_uri": "https://localhost:8080/"
    },
    "executionInfo": {
     "elapsed": 25,
     "status": "ok",
     "timestamp": 1753713778002,
     "user": {
      "displayName": "Srinivas Appana",
      "userId": "17871761728706768737"
     },
     "user_tz": -330
    },
    "id": "y_l7WmSMfFm9",
    "outputId": "19095f18-7f5a-460a-df3a-8d861f186b5b"
   },
   "outputs": [
    {
     "name": "stdout",
     "output_type": "stream",
     "text": [
      "Size: 6\n"
     ]
    }
   ],
   "source": [
    "# Total number of elements\n",
    "\n",
    "print(\"Size:\", arr.size)"
   ]
  },
  {
   "cell_type": "code",
   "execution_count": 19,
   "metadata": {
    "colab": {
     "base_uri": "https://localhost:8080/"
    },
    "executionInfo": {
     "elapsed": 20,
     "status": "ok",
     "timestamp": 1753713796781,
     "user": {
      "displayName": "Srinivas Appana",
      "userId": "17871761728706768737"
     },
     "user_tz": -330
    },
    "id": "YwEejP9OfJwY",
    "outputId": "91c4d9f2-7f32-4162-a66e-b86f937125e6"
   },
   "outputs": [
    {
     "name": "stdout",
     "output_type": "stream",
     "text": [
      "Data type (dtype): int64\n"
     ]
    }
   ],
   "source": [
    "# dtype -- Data type of array elements\n",
    "\n",
    "print(\"Data type (dtype):\", arr.dtype)"
   ]
  },
  {
   "cell_type": "code",
   "execution_count": 20,
   "metadata": {
    "colab": {
     "base_uri": "https://localhost:8080/"
    },
    "executionInfo": {
     "elapsed": 11,
     "status": "ok",
     "timestamp": 1753713827939,
     "user": {
      "displayName": "Srinivas Appana",
      "userId": "17871761728706768737"
     },
     "user_tz": -330
    },
    "id": "6PF2U4C2fOV2",
    "outputId": "3b658da6-6165-4c61-a45c-39e7b957c021"
   },
   "outputs": [
    {
     "name": "stdout",
     "output_type": "stream",
     "text": [
      "Float array: [1. 2. 3.]\n",
      "New dtype: float64\n"
     ]
    }
   ],
   "source": [
    "# Changing dtype while creating\n",
    "\n",
    "float_arr = np.array([1, 2, 3], dtype=float)\n",
    "print(\"Float array:\", float_arr)\n",
    "print(\"New dtype:\", float_arr.dtype)"
   ]
  },
  {
   "cell_type": "markdown",
   "metadata": {
    "id": "QQdqv54Yfa7K"
   },
   "source": [
    "## Indexing and slicing"
   ]
  },
  {
   "cell_type": "code",
   "execution_count": 21,
   "metadata": {
    "executionInfo": {
     "elapsed": 44,
     "status": "ok",
     "timestamp": 1753713893377,
     "user": {
      "displayName": "Srinivas Appana",
      "userId": "17871761728706768737"
     },
     "user_tz": -330
    },
    "id": "0C75lBTNfV81"
   },
   "outputs": [],
   "source": [
    "arr1 = np.array([10, 20, 30, 40, 50])"
   ]
  },
  {
   "cell_type": "code",
   "execution_count": 22,
   "metadata": {
    "colab": {
     "base_uri": "https://localhost:8080/"
    },
    "executionInfo": {
     "elapsed": 17,
     "status": "ok",
     "timestamp": 1753713901407,
     "user": {
      "displayName": "Srinivas Appana",
      "userId": "17871761728706768737"
     },
     "user_tz": -330
    },
    "id": "24iysAhgfl6t",
    "outputId": "8a809812-ed78-40f8-f459-7dcefb531462"
   },
   "outputs": [
    {
     "name": "stdout",
     "output_type": "stream",
     "text": [
      "Element at index 2: 30\n",
      "Slicing [1:4]: [20 30 40]\n",
      "Reverse array: [50 40 30 20 10]\n"
     ]
    }
   ],
   "source": [
    "print(\"Element at index 2:\", arr1[2])\n",
    "print(\"Slicing [1:4]:\", arr1[1:4])\n",
    "print(\"Reverse array:\", arr1[::-1])"
   ]
  },
  {
   "cell_type": "code",
   "execution_count": 23,
   "metadata": {
    "colab": {
     "base_uri": "https://localhost:8080/"
    },
    "executionInfo": {
     "elapsed": 15,
     "status": "ok",
     "timestamp": 1753715949576,
     "user": {
      "displayName": "Srinivas Appana",
      "userId": "17871761728706768737"
     },
     "user_tz": -330
    },
    "id": "YJtalrznfn4w",
    "outputId": "69c61cf7-6837-453f-817a-83a946ab5053"
   },
   "outputs": [
    {
     "name": "stdout",
     "output_type": "stream",
     "text": [
      "Element at [1][2]: 6\n",
      "Element at [1][2] 6\n",
      "First row: [1 2 3]\n",
      "Second column: [2 5 8]\n",
      "Submatrix [0:2, 1:3]:\n",
      " [[2 3]\n",
      " [5 6]]\n"
     ]
    }
   ],
   "source": [
    "arr2 = np.array([[1, 2, 3], [4, 5, 6], [7, 8, 9]])\n",
    "\n",
    "print(\"Element at [1][2]:\", arr2[1, 2])\n",
    "print(\"Element at [1][2]\", arr2[1][2])\n",
    "print(\"First row:\", arr2[0])\n",
    "print(\"Second column:\", arr2[:, 1])\n",
    "print(\"Submatrix [0:2, 1:3]:\\n\", arr2[0:2, 1:3])"
   ]
  },
  {
   "cell_type": "code",
   "execution_count": 24,
   "metadata": {
    "colab": {
     "base_uri": "https://localhost:8080/"
    },
    "executionInfo": {
     "elapsed": 15,
     "status": "ok",
     "timestamp": 1753715976581,
     "user": {
      "displayName": "Srinivas Appana",
      "userId": "17871761728706768737"
     },
     "user_tz": -330
    },
    "id": "Ej9ALMMUm_jC",
    "outputId": "d0ae640e-5eca-4e64-bbed-9ef20bb04179"
   },
   "outputs": [
    {
     "name": "stdout",
     "output_type": "stream",
     "text": [
      "Last row: [7 8 9]\n",
      "Last column: [3 6 9]\n"
     ]
    }
   ],
   "source": [
    "# Negative indexing\n",
    "\n",
    "print(\"Last row:\", arr2[-1])\n",
    "print(\"Last column:\", arr2[:, -1])"
   ]
  },
  {
   "cell_type": "code",
   "execution_count": 25,
   "metadata": {
    "colab": {
     "base_uri": "https://localhost:8080/"
    },
    "executionInfo": {
     "elapsed": 41,
     "status": "ok",
     "timestamp": 1753716017717,
     "user": {
      "displayName": "Srinivas Appana",
      "userId": "17871761728706768737"
     },
     "user_tz": -330
    },
    "id": "VaDJTbP2nihI",
    "outputId": "47f1a962-6d4a-43a9-9612-4ab481682ec5"
   },
   "outputs": [
    {
     "name": "stdout",
     "output_type": "stream",
     "text": [
      "Values > 15: [20 25]\n"
     ]
    }
   ],
   "source": [
    "# Boolean indexing\n",
    "\n",
    "arr3 = np.array([5, 10, 15, 20, 25])\n",
    "print(\"Values > 15:\", arr3[arr3 > 15])"
   ]
  },
  {
   "cell_type": "code",
   "execution_count": 26,
   "metadata": {
    "colab": {
     "base_uri": "https://localhost:8080/"
    },
    "executionInfo": {
     "elapsed": 170,
     "status": "ok",
     "timestamp": 1753716079023,
     "user": {
      "displayName": "Srinivas Appana",
      "userId": "17871761728706768737"
     },
     "user_tz": -330
    },
    "id": "Lwny4pgjnsjQ",
    "outputId": "6a8f5d59-a296-4d2a-efcb-52a2e7c9555b"
   },
   "outputs": [
    {
     "name": "stdout",
     "output_type": "stream",
     "text": [
      "[[False  True False]\n",
      " [ True False  True]\n",
      " [False  True False]]\n",
      "Even elements:\n",
      " [2 4 6 8]\n"
     ]
    }
   ],
   "source": [
    "# Using condition on 2D array\n",
    "print(arr2 % 2 == 0)\n",
    "\n",
    "print(\"Even elements:\\n\", arr2[arr2 % 2 == 0])"
   ]
  },
  {
   "cell_type": "markdown",
   "metadata": {
    "id": "XvkUJ2-8oVpi"
   },
   "source": [
    "## **Array operations in numpy**"
   ]
  },
  {
   "cell_type": "code",
   "execution_count": 27,
   "metadata": {
    "executionInfo": {
     "elapsed": 43,
     "status": "ok",
     "timestamp": 1753716220420,
     "user": {
      "displayName": "Srinivas Appana",
      "userId": "17871761728706768737"
     },
     "user_tz": -330
    },
    "id": "Wq_jmuaNn6wU"
   },
   "outputs": [],
   "source": [
    "a = np.array([1, 2, 3])\n",
    "b = np.array([4, 5, 6])"
   ]
  },
  {
   "cell_type": "code",
   "execution_count": 28,
   "metadata": {
    "colab": {
     "base_uri": "https://localhost:8080/"
    },
    "executionInfo": {
     "elapsed": 52,
     "status": "ok",
     "timestamp": 1753716259408,
     "user": {
      "displayName": "Srinivas Appana",
      "userId": "17871761728706768737"
     },
     "user_tz": -330
    },
    "id": "TnXaGx5IoeCx",
    "outputId": "c3e67126-35db-427f-9c73-cf56909e639b"
   },
   "outputs": [
    {
     "name": "stdout",
     "output_type": "stream",
     "text": [
      "Addition: [5 7 9]\n",
      "Subtraction: [3 3 3]\n",
      "Multiplication: [ 4 10 18]\n",
      "Division: [4.  2.5 2. ]\n"
     ]
    }
   ],
   "source": [
    "# Element-wise arithmetic\n",
    "\n",
    "print(\"Addition:\", a + b)\n",
    "print(\"Subtraction:\", b - a)\n",
    "print(\"Multiplication:\", a * b)\n",
    "print(\"Division:\", b / a)"
   ]
  },
  {
   "cell_type": "code",
   "execution_count": 29,
   "metadata": {
    "colab": {
     "base_uri": "https://localhost:8080/"
    },
    "executionInfo": {
     "elapsed": 26,
     "status": "ok",
     "timestamp": 1753716338061,
     "user": {
      "displayName": "Srinivas Appana",
      "userId": "17871761728706768737"
     },
     "user_tz": -330
    },
    "id": "wSNp6BTponjy",
    "outputId": "8b679cbf-fa72-4328-8fd5-47005d47e8d4"
   },
   "outputs": [
    {
     "name": "stdout",
     "output_type": "stream",
     "text": [
      "Power: [1 4 9]\n",
      "Modulus: [0 1 0]\n",
      "ModulusL [1 0 1]\n"
     ]
    }
   ],
   "source": [
    "# Element-wise power and modulus\n",
    "\n",
    "print(\"Power:\", a ** 2)\n",
    "print(\"Modulus:\", b % a)\n",
    "print(\"ModulusL\", a%2)"
   ]
  },
  {
   "cell_type": "code",
   "execution_count": 30,
   "metadata": {
    "colab": {
     "base_uri": "https://localhost:8080/"
    },
    "executionInfo": {
     "elapsed": 9,
     "status": "ok",
     "timestamp": 1753716412329,
     "user": {
      "displayName": "Srinivas Appana",
      "userId": "17871761728706768737"
     },
     "user_tz": -330
    },
    "id": "w1vhdXH1ov8G",
    "outputId": "a6b03594-4258-4a2d-f873-1bd452b3350b"
   },
   "outputs": [
    {
     "name": "stdout",
     "output_type": "stream",
     "text": [
      "[1 2 3]\n",
      "Add scalar: [11 12 13]\n",
      "Multiply scalar: [2 4 6]\n",
      "Subtract scalar: [-9 -8 -7]\n",
      "Divide scalar: [0.5 1.  1.5]\n"
     ]
    }
   ],
   "source": [
    "# Scalar operations\n",
    "\n",
    "print(a)\n",
    "print(\"Add scalar:\", a + 10)\n",
    "print(\"Multiply scalar:\", a * 2)\n",
    "print(\"Subtract scalar:\", a - 10)\n",
    "print(\"Divide scalar:\", a / 2)"
   ]
  },
  {
   "cell_type": "code",
   "execution_count": 31,
   "metadata": {
    "colab": {
     "base_uri": "https://localhost:8080/"
    },
    "executionInfo": {
     "elapsed": 18,
     "status": "ok",
     "timestamp": 1753716463447,
     "user": {
      "displayName": "Srinivas Appana",
      "userId": "17871761728706768737"
     },
     "user_tz": -330
    },
    "id": "YpBGkdEpo_Cl",
    "outputId": "8290f10e-0d26-4975-aaeb-ac72a8726ed2"
   },
   "outputs": [
    {
     "name": "stdout",
     "output_type": "stream",
     "text": [
      "a > 2: [False False  True]\n",
      "Equal: [False False False]\n",
      "Equal: [False  True False]\n"
     ]
    }
   ],
   "source": [
    "# Comparison\n",
    "\n",
    "print(\"a > 2:\", a > 2)\n",
    "print(\"Equal:\", a == b)\n",
    "print(\"Equal:\", a == 2.0)"
   ]
  },
  {
   "cell_type": "code",
   "execution_count": 32,
   "metadata": {
    "colab": {
     "base_uri": "https://localhost:8080/"
    },
    "executionInfo": {
     "elapsed": 14,
     "status": "ok",
     "timestamp": 1753716508624,
     "user": {
      "displayName": "Srinivas Appana",
      "userId": "17871761728706768737"
     },
     "user_tz": -330
    },
    "id": "OuunArg1pSWc",
    "outputId": "ee031d26-824f-4884-fbb1-2843f2ecaf2d"
   },
   "outputs": [
    {
     "name": "stdout",
     "output_type": "stream",
     "text": [
      "[1 2 3]\n",
      "[4 5 6]\n",
      "Logical AND: [False  True False]\n",
      "Logical OR: [False  True  True]\n"
     ]
    }
   ],
   "source": [
    "# Logical operations\n",
    "print(a)\n",
    "print(b)\n",
    "\n",
    "print(\"Logical AND:\", np.logical_and(a < 3, b > 4))\n",
    "print(\"Logical OR:\", np.logical_or(a == 2, b == 6))"
   ]
  },
  {
   "cell_type": "markdown",
   "metadata": {
    "id": "QZCqKxrQp-sH"
   },
   "source": [
    "## **Mathematical operations on numpy**"
   ]
  },
  {
   "cell_type": "code",
   "execution_count": 33,
   "metadata": {
    "executionInfo": {
     "elapsed": 47,
     "status": "ok",
     "timestamp": 1753716647600,
     "user": {
      "displayName": "Srinivas Appana",
      "userId": "17871761728706768737"
     },
     "user_tz": -330
    },
    "id": "c3j41SZjpkag"
   },
   "outputs": [],
   "source": [
    "arr = np.array([1, 2, 3, 4, 5])"
   ]
  },
  {
   "cell_type": "code",
   "execution_count": 34,
   "metadata": {
    "colab": {
     "base_uri": "https://localhost:8080/"
    },
    "executionInfo": {
     "elapsed": 52,
     "status": "ok",
     "timestamp": 1753716686986,
     "user": {
      "displayName": "Srinivas Appana",
      "userId": "17871761728706768737"
     },
     "user_tz": -330
    },
    "id": "HwwTDnTRqGVY",
    "outputId": "b62caf20-b130-4613-e820-0161d56bd4e5"
   },
   "outputs": [
    {
     "name": "stdout",
     "output_type": "stream",
     "text": [
      "Sum: 15\n",
      "Mean: 3.0\n",
      "Median: 3.0\n",
      "Min: 1\n",
      "Max: 5\n",
      "Standard Deviation: 1.4142135623730951\n",
      "Variance: 2.0\n"
     ]
    }
   ],
   "source": [
    "# Basic statistics\n",
    "\n",
    "print(\"Sum:\", np.sum(arr))\n",
    "print(\"Mean:\", np.mean(arr))\n",
    "print(\"Median:\", np.median(arr))\n",
    "print(\"Min:\", np.min(arr))\n",
    "print(\"Max:\", np.max(arr))\n",
    "print(\"Standard Deviation:\", np.std(arr))\n",
    "print(\"Variance:\", np.var(arr))"
   ]
  },
  {
   "cell_type": "code",
   "execution_count": 35,
   "metadata": {
    "colab": {
     "base_uri": "https://localhost:8080/"
    },
    "executionInfo": {
     "elapsed": 16,
     "status": "ok",
     "timestamp": 1753716745116,
     "user": {
      "displayName": "Srinivas Appana",
      "userId": "17871761728706768737"
     },
     "user_tz": -330
    },
    "id": "6iDo9c96qP8z",
    "outputId": "f1141954-eb92-44da-de06-3acbc293920e"
   },
   "outputs": [
    {
     "name": "stdout",
     "output_type": "stream",
     "text": [
      "Square root: [1.         1.41421356 1.73205081 2.         2.23606798]\n",
      "Exponential: [  2.71828183   7.3890561   20.08553692  54.59815003 148.4131591 ]\n",
      "Natural Logarithm: [0.         0.69314718 1.09861229 1.38629436 1.60943791]\n"
     ]
    }
   ],
   "source": [
    "# Math operations\n",
    "\n",
    "print(\"Square root:\", np.sqrt(arr))\n",
    "print(\"Exponential:\", np.exp(arr))\n",
    "print(\"Natural Logarithm:\", np.log(arr))"
   ]
  },
  {
   "cell_type": "code",
   "execution_count": 36,
   "metadata": {
    "colab": {
     "base_uri": "https://localhost:8080/"
    },
    "executionInfo": {
     "elapsed": 18,
     "status": "ok",
     "timestamp": 1753716771033,
     "user": {
      "displayName": "Srinivas Appana",
      "userId": "17871761728706768737"
     },
     "user_tz": -330
    },
    "id": "Uja4FLcsqXBN",
    "outputId": "42402616-b802-48a8-eb45-da237f10bb56"
   },
   "outputs": [
    {
     "name": "stdout",
     "output_type": "stream",
     "text": [
      "Rounded: [3.14 2.72 1.62]\n",
      "Floor: [3. 2. 1.]\n",
      "Ceil: [4. 3. 2.]\n"
     ]
    }
   ],
   "source": [
    "# Rounding\n",
    "\n",
    "decimals = np.array([3.14159, 2.71828, 1.61803])\n",
    "print(\"Rounded:\", np.round(decimals, 2))\n",
    "print(\"Floor:\", np.floor(decimals))\n",
    "print(\"Ceil:\", np.ceil(decimals))"
   ]
  },
  {
   "cell_type": "markdown",
   "metadata": {
    "id": "aI-zcnbnqotJ"
   },
   "source": [
    "## **Reshaping and manipulating arrays**"
   ]
  },
  {
   "cell_type": "code",
   "execution_count": 37,
   "metadata": {
    "colab": {
     "base_uri": "https://localhost:8080/"
    },
    "executionInfo": {
     "elapsed": 7,
     "status": "ok",
     "timestamp": 1753717383600,
     "user": {
      "displayName": "Srinivas Appana",
      "userId": "17871761728706768737"
     },
     "user_tz": -330
    },
    "id": "VYk9lH26qked",
    "outputId": "e2232442-1ff4-4769-ac90-fa3ea096a5d3"
   },
   "outputs": [
    {
     "name": "stdout",
     "output_type": "stream",
     "text": [
      "[ 1  2  3  4  5  6  7  8  9 10 11 12]\n"
     ]
    }
   ],
   "source": [
    "arr = np.arange(1, 13)\n",
    "\n",
    "print(arr)"
   ]
  },
  {
   "cell_type": "code",
   "execution_count": 38,
   "metadata": {
    "colab": {
     "base_uri": "https://localhost:8080/"
    },
    "executionInfo": {
     "elapsed": 55,
     "status": "ok",
     "timestamp": 1753717371715,
     "user": {
      "displayName": "Srinivas Appana",
      "userId": "17871761728706768737"
     },
     "user_tz": -330
    },
    "id": "kHuA3twXspha",
    "outputId": "fb104852-9749-4384-948b-143a68dd01b1"
   },
   "outputs": [
    {
     "name": "stdout",
     "output_type": "stream",
     "text": [
      "Reshaped (3x4):\n",
      " [[ 1  2  3  4]\n",
      " [ 5  6  7  8]\n",
      " [ 9 10 11 12]]\n"
     ]
    }
   ],
   "source": [
    "# Reshape to 2D (3 rows, 4 columns)\n",
    "\n",
    "reshaped = arr.reshape(3, 4)\n",
    "print(\"Reshaped (3x4):\\n\", reshaped)"
   ]
  },
  {
   "cell_type": "code",
   "execution_count": 39,
   "metadata": {
    "colab": {
     "base_uri": "https://localhost:8080/"
    },
    "executionInfo": {
     "elapsed": 55,
     "status": "ok",
     "timestamp": 1753717423177,
     "user": {
      "displayName": "Srinivas Appana",
      "userId": "17871761728706768737"
     },
     "user_tz": -330
    },
    "id": "UITSoItKs3Hm",
    "outputId": "de5f2152-19e6-4e08-9128-ce1de326b907"
   },
   "outputs": [
    {
     "name": "stdout",
     "output_type": "stream",
     "text": [
      "Flattened: [ 1  2  3  4  5  6  7  8  9 10 11 12]\n",
      "Flattened: [ 1  2  3  4  5  6  7  8  9 10 11 12]\n"
     ]
    }
   ],
   "source": [
    "# Flatten the array (1D)\n",
    "\n",
    "flat = reshaped.flatten()\n",
    "print(\"Flattened:\", flat)\n",
    "\n",
    "flat = reshaped.reshape(-1)\n",
    "print(\"Flattened:\", flat)"
   ]
  },
  {
   "cell_type": "code",
   "execution_count": 40,
   "metadata": {
    "colab": {
     "base_uri": "https://localhost:8080/"
    },
    "executionInfo": {
     "elapsed": 52,
     "status": "ok",
     "timestamp": 1753717452176,
     "user": {
      "displayName": "Srinivas Appana",
      "userId": "17871761728706768737"
     },
     "user_tz": -330
    },
    "id": "gcrAd_WRtDrp",
    "outputId": "adbb1883-d6dd-43a1-c179-5aa59c114019"
   },
   "outputs": [
    {
     "name": "stdout",
     "output_type": "stream",
     "text": [
      "Transposed:\n",
      " [[ 1  5  9]\n",
      " [ 2  6 10]\n",
      " [ 3  7 11]\n",
      " [ 4  8 12]]\n"
     ]
    }
   ],
   "source": [
    "# Transpose\n",
    "\n",
    "transposed = reshaped.T\n",
    "print(\"Transposed:\\n\", transposed)"
   ]
  },
  {
   "cell_type": "code",
   "execution_count": 41,
   "metadata": {
    "colab": {
     "base_uri": "https://localhost:8080/"
    },
    "executionInfo": {
     "elapsed": 43,
     "status": "ok",
     "timestamp": 1753717501664,
     "user": {
      "displayName": "Srinivas Appana",
      "userId": "17871761728706768737"
     },
     "user_tz": -330
    },
    "id": "ePkECgbStKw3",
    "outputId": "2927030c-83cf-45de-ffb4-850d10773566"
   },
   "outputs": [
    {
     "name": "stdout",
     "output_type": "stream",
     "text": [
      "Resized (2x6):\n",
      " [[ 1  2  3  4  5  6]\n",
      " [ 7  8  9 10 11 12]]\n"
     ]
    }
   ],
   "source": [
    "# Resize array inplace\n",
    "\n",
    "resized = arr.copy()\n",
    "resized.resize((2, 6))\n",
    "print(\"Resized (2x6):\\n\", resized)"
   ]
  },
  {
   "cell_type": "code",
   "execution_count": 42,
   "metadata": {
    "colab": {
     "base_uri": "https://localhost:8080/"
    },
    "executionInfo": {
     "elapsed": 15,
     "status": "ok",
     "timestamp": 1753717528798,
     "user": {
      "displayName": "Srinivas Appana",
      "userId": "17871761728706768737"
     },
     "user_tz": -330
    },
    "id": "wu5y6rI6tW2N",
    "outputId": "9f889e31-dfa9-4f40-891b-adc1c529848e"
   },
   "outputs": [
    {
     "name": "stdout",
     "output_type": "stream",
     "text": [
      "[[1 2]\n",
      " [3 4]]\n",
      "[[5 6]\n",
      " [7 8]]\n",
      "Vertical Stack:\n",
      " [[1 2]\n",
      " [3 4]\n",
      " [5 6]\n",
      " [7 8]]\n",
      "Horizontal Stack:\n",
      " [[1 2 5 6]\n",
      " [3 4 7 8]]\n"
     ]
    }
   ],
   "source": [
    "# Stacking arrays vertically and horizontally\n",
    "\n",
    "a = np.array([[1, 2], [3, 4]])\n",
    "b = np.array([[5, 6], [7, 8]])\n",
    "\n",
    "print(a)\n",
    "print(b)\n",
    "\n",
    "v_stack = np.vstack((a, b))\n",
    "h_stack = np.hstack((a, b))\n",
    "print(\"Vertical Stack:\\n\", v_stack)\n",
    "print(\"Horizontal Stack:\\n\", h_stack)"
   ]
  },
  {
   "cell_type": "code",
   "execution_count": 43,
   "metadata": {
    "colab": {
     "base_uri": "https://localhost:8080/"
    },
    "executionInfo": {
     "elapsed": 13,
     "status": "ok",
     "timestamp": 1753717579387,
     "user": {
      "displayName": "Srinivas Appana",
      "userId": "17871761728706768737"
     },
     "user_tz": -330
    },
    "id": "_AskcQ85tdel",
    "outputId": "d7668cfe-3d7b-47aa-cabc-cfc9d37131e2"
   },
   "outputs": [
    {
     "name": "stdout",
     "output_type": "stream",
     "text": [
      "Split into 3 parts: [array([10, 20]), array([30, 40]), array([50, 60])]\n"
     ]
    }
   ],
   "source": [
    "# Splitting arrays\n",
    "\n",
    "arr2 = np.array([10, 20, 30, 40, 50, 60])\n",
    "split_arr = np.split(arr2, 3)\n",
    "print(\"Split into 3 parts:\", split_arr)"
   ]
  },
  {
   "cell_type": "markdown",
   "metadata": {
    "id": "7cfKLjVpuPoj"
   },
   "source": [
    "## **numpy copy() vs view()**"
   ]
  },
  {
   "cell_type": "code",
   "execution_count": 44,
   "metadata": {
    "colab": {
     "base_uri": "https://localhost:8080/"
    },
    "executionInfo": {
     "elapsed": 22,
     "status": "ok",
     "timestamp": 1753717866221,
     "user": {
      "displayName": "Srinivas Appana",
      "userId": "17871761728706768737"
     },
     "user_tz": -330
    },
    "id": "bbTrqrwOtoHx",
    "outputId": "4862fc37-f883-49e8-f341-3fc1db6082bb"
   },
   "outputs": [
    {
     "name": "stdout",
     "output_type": "stream",
     "text": [
      "original array: [10 20 30 40]\n"
     ]
    }
   ],
   "source": [
    "original = np.array([10, 20, 30, 40])\n",
    "print(\"original array:\", original)"
   ]
  },
  {
   "cell_type": "code",
   "execution_count": 45,
   "metadata": {
    "colab": {
     "base_uri": "https://localhost:8080/"
    },
    "executionInfo": {
     "elapsed": 9,
     "status": "ok",
     "timestamp": 1753717867460,
     "user": {
      "displayName": "Srinivas Appana",
      "userId": "17871761728706768737"
     },
     "user_tz": -330
    },
    "id": "gp0GLjekudAF",
    "outputId": "ba465c81-667f-4b33-8110-29bee9c6d2c8"
   },
   "outputs": [
    {
     "name": "stdout",
     "output_type": "stream",
     "text": [
      "View: [20 30]\n",
      "Modified view: [999  30]\n",
      "Original after view change: [ 10 999  30  40]\n"
     ]
    }
   ],
   "source": [
    "# View (creates a reference, not a new object)\n",
    "view_arr = original[1:3]\n",
    "print(\"View:\", view_arr)\n",
    "\n",
    "\n",
    "# Modifying the view affects original\n",
    "view_arr[0] = 999\n",
    "print(\"Modified view:\", view_arr)\n",
    "print(\"Original after view change:\", original)"
   ]
  },
  {
   "cell_type": "code",
   "execution_count": 46,
   "metadata": {
    "colab": {
     "base_uri": "https://localhost:8080/"
    },
    "executionInfo": {
     "elapsed": 75,
     "status": "ok",
     "timestamp": 1753717987201,
     "user": {
      "displayName": "Srinivas Appana",
      "userId": "17871761728706768737"
     },
     "user_tz": -330
    },
    "id": "ujcJPkThuqlh",
    "outputId": "0e6e68a1-124f-48b6-d17e-7fd7901a1bce"
   },
   "outputs": [
    {
     "name": "stdout",
     "output_type": "stream",
     "text": [
      "Copy: [111 999  30  40]\n",
      "Original after copy change: [ 10 999  30  40]\n",
      "View is original slice: True\n",
      "Copy is original slice: False\n"
     ]
    }
   ],
   "source": [
    "# Copy (creates a new independent object)\n",
    "copy_arr = original.copy()\n",
    "copy_arr[0] = 111\n",
    "print(\"Copy:\", copy_arr)\n",
    "print(\"Original after copy change:\", original)\n",
    "\n",
    "# To verify object identity\n",
    "print(\"View is original slice:\", view_arr.base is original)\n",
    "print(\"Copy is original slice:\", copy_arr.base is original)"
   ]
  },
  {
   "cell_type": "markdown",
   "metadata": {
    "id": "OlmKVpusz4-V"
   },
   "source": [
    "## **Random module in numpy**"
   ]
  },
  {
   "cell_type": "code",
   "execution_count": 47,
   "metadata": {
    "executionInfo": {
     "elapsed": 41,
     "status": "ok",
     "timestamp": 1753719253097,
     "user": {
      "displayName": "Srinivas Appana",
      "userId": "17871761728706768737"
     },
     "user_tz": -330
    },
    "id": "MV3fl5IuvNYS"
   },
   "outputs": [],
   "source": [
    "# seed for reproducability\n",
    "\n",
    "np.random.seed(42)"
   ]
  },
  {
   "cell_type": "code",
   "execution_count": 48,
   "metadata": {
    "colab": {
     "base_uri": "https://localhost:8080/"
    },
    "executionInfo": {
     "elapsed": 11,
     "status": "ok",
     "timestamp": 1753719274039,
     "user": {
      "displayName": "Srinivas Appana",
      "userId": "17871761728706768737"
     },
     "user_tz": -330
    },
    "id": "5wBXf3cD0CaG",
    "outputId": "23fdcf8d-03b8-462f-c605-64c21b911a7b"
   },
   "outputs": [
    {
     "name": "stdout",
     "output_type": "stream",
     "text": [
      "Random float array:\n",
      " [[0.37454012 0.95071431 0.73199394]\n",
      " [0.59865848 0.15601864 0.15599452]]\n"
     ]
    }
   ],
   "source": [
    "# Random float array (0 to 1)\n",
    "\n",
    "rand_arr = np.random.rand(2, 3)\n",
    "print(\"Random float array:\\n\", rand_arr)"
   ]
  },
  {
   "cell_type": "code",
   "execution_count": 49,
   "metadata": {
    "colab": {
     "base_uri": "https://localhost:8080/"
    },
    "executionInfo": {
     "elapsed": 19,
     "status": "ok",
     "timestamp": 1753719371251,
     "user": {
      "displayName": "Srinivas Appana",
      "userId": "17871761728706768737"
     },
     "user_tz": -330
    },
    "id": "-cOoDHcy0HkE",
    "outputId": "cd816617-c98b-4037-ec6f-07864c470b02"
   },
   "outputs": [
    {
     "name": "stdout",
     "output_type": "stream",
     "text": [
      "Random normal values: [ 1.57921282  0.76743473 -0.46947439]\n"
     ]
    }
   ],
   "source": [
    "# Standard normal distribution (mean=0, std=1)\n",
    "\n",
    "normal_arr = np.random.randn(3)\n",
    "print(\"Random normal values:\", normal_arr)"
   ]
  },
  {
   "cell_type": "code",
   "execution_count": 50,
   "metadata": {
    "colab": {
     "base_uri": "https://localhost:8080/"
    },
    "executionInfo": {
     "elapsed": 53,
     "status": "ok",
     "timestamp": 1753719413616,
     "user": {
      "displayName": "Srinivas Appana",
      "userId": "17871761728706768737"
     },
     "user_tz": -330
    },
    "id": "tjUOT_J30VSr",
    "outputId": "5dd9ae43-5c19-4d00-bebe-5d09218c9fd9"
   },
   "outputs": [
    {
     "name": "stdout",
     "output_type": "stream",
     "text": [
      "Random integers:\n",
      " [[73 69 30 42]\n",
      " [85 67 31 98]]\n"
     ]
    }
   ],
   "source": [
    "# Random integers from 10 to 99\n",
    "\n",
    "rand_ints = np.random.randint(10, 100, size=(2, 4))\n",
    "print(\"Random integers:\\n\", rand_ints)"
   ]
  },
  {
   "cell_type": "code",
   "execution_count": 51,
   "metadata": {
    "colab": {
     "base_uri": "https://localhost:8080/"
    },
    "executionInfo": {
     "elapsed": 20,
     "status": "ok",
     "timestamp": 1753719471169,
     "user": {
      "displayName": "Srinivas Appana",
      "userId": "17871761728706768737"
     },
     "user_tz": -330
    },
    "id": "IlI5XuR60poT",
    "outputId": "9dbbf15d-6fd3-4d39-8b64-90db81587bac"
   },
   "outputs": [
    {
     "name": "stdout",
     "output_type": "stream",
     "text": [
      "Random choices: 10\n"
     ]
    }
   ],
   "source": [
    "# Random choice from a list\n",
    "\n",
    "choice = np.random.choice([10, 20, 30, 40])\n",
    "print(\"Random choices:\", choice)"
   ]
  },
  {
   "cell_type": "code",
   "execution_count": 52,
   "metadata": {
    "colab": {
     "base_uri": "https://localhost:8080/"
    },
    "executionInfo": {
     "elapsed": 11,
     "status": "ok",
     "timestamp": 1753719503442,
     "user": {
      "displayName": "Srinivas Appana",
      "userId": "17871761728706768737"
     },
     "user_tz": -330
    },
    "id": "8xP5PKd80u9i",
    "outputId": "2296dfdf-7016-41e8-d7b3-891db2a50cb0"
   },
   "outputs": [
    {
     "name": "stdout",
     "output_type": "stream",
     "text": [
      "Shuffled array: [1 2 4 5 3]\n"
     ]
    }
   ],
   "source": [
    "# shuffle inplace\n",
    "\n",
    "arr = np.array([1, 2, 3, 4, 5])\n",
    "np.random.shuffle(arr)\n",
    "print(\"Shuffled array:\", arr)"
   ]
  },
  {
   "cell_type": "code",
   "execution_count": 53,
   "metadata": {
    "colab": {
     "base_uri": "https://localhost:8080/"
    },
    "executionInfo": {
     "elapsed": 10,
     "status": "ok",
     "timestamp": 1753719558027,
     "user": {
      "displayName": "Srinivas Appana",
      "userId": "17871761728706768737"
     },
     "user_tz": -330
    },
    "id": "8zPkrMa-08y7",
    "outputId": "b0a07a57-0376-4403-fb64-3d5c95720123"
   },
   "outputs": [
    {
     "name": "stdout",
     "output_type": "stream",
     "text": [
      "Unique picks: [48 71 12 26 45]\n"
     ]
    }
   ],
   "source": [
    "# pick random elements without replacement\n",
    "\n",
    "pick = np.random.choice(np.arange(100), size=5, replace=False)\n",
    "print(\"Unique picks:\", pick)"
   ]
  },
  {
   "cell_type": "markdown",
   "metadata": {
    "id": "jqlQFpfD1RJm"
   },
   "source": [
    "## **Linear algebra with numpy**"
   ]
  },
  {
   "cell_type": "code",
   "execution_count": 54,
   "metadata": {
    "colab": {
     "base_uri": "https://localhost:8080/"
    },
    "executionInfo": {
     "elapsed": 22,
     "status": "ok",
     "timestamp": 1753719991476,
     "user": {
      "displayName": "Srinivas Appana",
      "userId": "17871761728706768737"
     },
     "user_tz": -330
    },
    "id": "rRdrYaPP1M5X",
    "outputId": "af2a6341-c691-4546-f08d-2abc11b5c9b9"
   },
   "outputs": [
    {
     "name": "stdout",
     "output_type": "stream",
     "text": [
      "[[1 2]\n",
      " [3 4]]\n",
      "--------\n",
      "[[2 0]\n",
      " [1 2]]\n"
     ]
    }
   ],
   "source": [
    "A = np.array([[1, 2], [3, 4]])\n",
    "B = np.array([[2, 0], [1, 2]])\n",
    "\n",
    "print(A)\n",
    "print(\"--\"*4)\n",
    "print(B)"
   ]
  },
  {
   "cell_type": "code",
   "execution_count": 55,
   "metadata": {
    "colab": {
     "base_uri": "https://localhost:8080/"
    },
    "executionInfo": {
     "elapsed": 22,
     "status": "ok",
     "timestamp": 1753719920691,
     "user": {
      "displayName": "Srinivas Appana",
      "userId": "17871761728706768737"
     },
     "user_tz": -330
    },
    "id": "TtoCGhr42Ehb",
    "outputId": "653960fb-ab5e-4d58-cb50-2f4cff4ffd4e"
   },
   "outputs": [
    {
     "name": "stdout",
     "output_type": "stream",
     "text": [
      "Dot product:\n",
      " [[ 4  4]\n",
      " [10  8]]\n"
     ]
    }
   ],
   "source": [
    "# Matrix multiplication (dot product)\n",
    "\n",
    "dot_product = np.dot(A, B)\n",
    "print(\"Dot product:\\n\", dot_product)"
   ]
  },
  {
   "cell_type": "code",
   "execution_count": 56,
   "metadata": {
    "colab": {
     "base_uri": "https://localhost:8080/"
    },
    "executionInfo": {
     "elapsed": 16,
     "status": "ok",
     "timestamp": 1753719967053,
     "user": {
      "displayName": "Srinivas Appana",
      "userId": "17871761728706768737"
     },
     "user_tz": -330
    },
    "id": "u5YoYnGs2lbx",
    "outputId": "2d48530c-d3f8-4061-c90a-13dc547c0f6b"
   },
   "outputs": [
    {
     "name": "stdout",
     "output_type": "stream",
     "text": [
      "Transpose of A:\n",
      " [[1 3]\n",
      " [2 4]]\n"
     ]
    }
   ],
   "source": [
    "# Matrix transpose\n",
    "print(\"Transpose of A:\\n\", A.T)"
   ]
  },
  {
   "cell_type": "code",
   "execution_count": 57,
   "metadata": {
    "colab": {
     "base_uri": "https://localhost:8080/"
    },
    "executionInfo": {
     "elapsed": 46,
     "status": "ok",
     "timestamp": 1753720010982,
     "user": {
      "displayName": "Srinivas Appana",
      "userId": "17871761728706768737"
     },
     "user_tz": -330
    },
    "id": "QziqGTQd2wwM",
    "outputId": "648ff3c8-94ff-44db-eed1-d436e2e3afae"
   },
   "outputs": [
    {
     "name": "stdout",
     "output_type": "stream",
     "text": [
      "Inverse of A:\n",
      " [[-2.   1. ]\n",
      " [ 1.5 -0.5]]\n"
     ]
    }
   ],
   "source": [
    "# Matrix inverse\n",
    "\n",
    "inv_A = np.linalg.inv(A)\n",
    "print(\"Inverse of A:\\n\", inv_A)"
   ]
  },
  {
   "cell_type": "code",
   "execution_count": 58,
   "metadata": {
    "colab": {
     "base_uri": "https://localhost:8080/"
    },
    "executionInfo": {
     "elapsed": 24,
     "status": "ok",
     "timestamp": 1753720023188,
     "user": {
      "displayName": "Srinivas Appana",
      "userId": "17871761728706768737"
     },
     "user_tz": -330
    },
    "id": "hJMRYy0M27eF",
    "outputId": "977880a3-13f4-49dd-a7dc-7dc3a1f85e22"
   },
   "outputs": [
    {
     "name": "stdout",
     "output_type": "stream",
     "text": [
      "Determinant of A: -2.0000000000000004\n"
     ]
    }
   ],
   "source": [
    "# Determinant of A\n",
    "\n",
    "det_A = np.linalg.det(A)\n",
    "print(\"Determinant of A:\", det_A)"
   ]
  },
  {
   "cell_type": "code",
   "execution_count": 59,
   "metadata": {
    "colab": {
     "base_uri": "https://localhost:8080/"
    },
    "executionInfo": {
     "elapsed": 16,
     "status": "ok",
     "timestamp": 1753720039038,
     "user": {
      "displayName": "Srinivas Appana",
      "userId": "17871761728706768737"
     },
     "user_tz": -330
    },
    "id": "TOQ5uv9s2-dS",
    "outputId": "99559882-b603-40e4-d10a-e58b7062de1b"
   },
   "outputs": [
    {
     "name": "stdout",
     "output_type": "stream",
     "text": [
      "Eigenvalues: [-0.37228132  5.37228132]\n",
      "Eigenvectors:\n",
      " [[-0.82456484 -0.41597356]\n",
      " [ 0.56576746 -0.90937671]]\n"
     ]
    }
   ],
   "source": [
    "# Eigenvalues and eigenvectors\n",
    "\n",
    "eigenvalues, eigenvectors = np.linalg.eig(A)\n",
    "print(\"Eigenvalues:\", eigenvalues)\n",
    "print(\"Eigenvectors:\\n\", eigenvectors)"
   ]
  },
  {
   "cell_type": "code",
   "execution_count": 60,
   "metadata": {
    "colab": {
     "base_uri": "https://localhost:8080/"
    },
    "executionInfo": {
     "elapsed": 12,
     "status": "ok",
     "timestamp": 1753720115227,
     "user": {
      "displayName": "Srinivas Appana",
      "userId": "17871761728706768737"
     },
     "user_tz": -330
    },
    "id": "ke5crf3z3CUU",
    "outputId": "78b4e4cf-ead8-4c45-85df-36fc6ae02ee2"
   },
   "outputs": [
    {
     "name": "stdout",
     "output_type": "stream",
     "text": [
      "Solution of Ax = b: [1. 2.]\n"
     ]
    }
   ],
   "source": [
    "# Solve linear system: Ax = b\n",
    "\n",
    "b = np.array([5, 11])\n",
    "x = np.linalg.solve(A, b)\n",
    "print(\"Solution of Ax = b:\", x)"
   ]
  },
  {
   "cell_type": "markdown",
   "metadata": {
    "id": "V0Rysffw3X49"
   },
   "source": [
    "## **Saving and loading of numpy arrays**"
   ]
  },
  {
   "cell_type": "code",
   "execution_count": 61,
   "metadata": {
    "executionInfo": {
     "elapsed": 3,
     "status": "ok",
     "timestamp": 1753720180067,
     "user": {
      "displayName": "Srinivas Appana",
      "userId": "17871761728706768737"
     },
     "user_tz": -330
    },
    "id": "AOY-2JlG3Roj"
   },
   "outputs": [],
   "source": [
    "arr = np.array([[10, 20, 30], [40, 50, 60]])"
   ]
  },
  {
   "cell_type": "code",
   "execution_count": 62,
   "metadata": {
    "executionInfo": {
     "elapsed": 3,
     "status": "ok",
     "timestamp": 1753720193005,
     "user": {
      "displayName": "Srinivas Appana",
      "userId": "17871761728706768737"
     },
     "user_tz": -330
    },
    "id": "7uUv_ahm3kwv"
   },
   "outputs": [],
   "source": [
    "# Save array to a .npy file\n",
    "np.save('my_array.npy', arr)"
   ]
  },
  {
   "cell_type": "code",
   "execution_count": 63,
   "metadata": {
    "colab": {
     "base_uri": "https://localhost:8080/"
    },
    "executionInfo": {
     "elapsed": 15,
     "status": "ok",
     "timestamp": 1753720195668,
     "user": {
      "displayName": "Srinivas Appana",
      "userId": "17871761728706768737"
     },
     "user_tz": -330
    },
    "id": "CTJ0OVjb3n63",
    "outputId": "6cba5ba0-e932-4c4c-e7cb-9d2d49ac6faa"
   },
   "outputs": [
    {
     "name": "stdout",
     "output_type": "stream",
     "text": [
      "Loaded array from .npy:\n",
      " [[10 20 30]\n",
      " [40 50 60]]\n"
     ]
    }
   ],
   "source": [
    "# Load it back\n",
    "loaded_arr = np.load('my_array.npy')\n",
    "print(\"Loaded array from .npy:\\n\", loaded_arr)"
   ]
  }
 ],
 "metadata": {
  "colab": {
   "authorship_tag": "ABX9TyPrp1xM47PKo0bt/bDVsc+Z",
   "provenance": []
  },
  "kernelspec": {
   "display_name": "Data Science (3.12.10)",
   "language": "python",
   "name": "python3"
  },
  "language_info": {
   "codemirror_mode": {
    "name": "ipython",
    "version": 3
   },
   "file_extension": ".py",
   "mimetype": "text/x-python",
   "name": "python",
   "nbconvert_exporter": "python",
   "pygments_lexer": "ipython3",
   "version": "3.12.10"
  }
 },
 "nbformat": 4,
 "nbformat_minor": 4
}
