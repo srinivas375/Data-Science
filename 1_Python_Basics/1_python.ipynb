{
 "cells": [
  {
   "cell_type": "markdown",
   "id": "49fab427-eb0d-455b-8cb3-edddc4cb4db8",
   "metadata": {
    "id": "49fab427-eb0d-455b-8cb3-edddc4cb4db8"
   },
   "source": [
    "# **Python**"
   ]
  },
  {
   "cell_type": "markdown",
   "id": "9ce3ad8e",
   "metadata": {},
   "source": [
    "**Python** is a high-level, interpreted programming language known for its simplicity and readability.  \n",
    "It supports multiple paradigms, including **object-oriented**, **procedural**, and **functional** programming.\n",
    "\n",
    "**Key Features**\n",
    "- Easy to learn and use  \n",
    "- Extensive standard library  \n",
    "- Cross-platform compatibility  \n",
    "- Vast ecosystem of third-party packages (via `pip`/ via `uv`)"
   ]
  },
  {
   "cell_type": "markdown",
   "id": "44a358c9-60e0-4441-ab27-67fc2554f17a",
   "metadata": {
    "id": "44a358c9-60e0-4441-ab27-67fc2554f17a"
   },
   "source": [
    "This notebook contains the most important topics and fuctions and utilities of python from basics"
   ]
  },
  {
   "cell_type": "markdown",
   "id": "15fb9f68",
   "metadata": {},
   "source": [
    "Installing the necessay libraries\n",
    "\n",
    "* using **pip**:\n",
    "    - `pip install `"
   ]
  },
  {
   "cell_type": "markdown",
   "id": "-poPZ5vgx6wN",
   "metadata": {
    "id": "-poPZ5vgx6wN"
   },
   "source": [
    "## **Comments in python**"
   ]
  },
  {
   "cell_type": "markdown",
   "id": "msxhm4Rqx_-0",
   "metadata": {
    "id": "msxhm4Rqx_-0"
   },
   "source": [
    "### **Single line comments**"
   ]
  },
  {
   "cell_type": "code",
   "execution_count": 1,
   "id": "4sX0Fme-yCvN",
   "metadata": {
    "colab": {
     "base_uri": "https://localhost:8080/"
    },
    "executionInfo": {
     "elapsed": 9,
     "status": "ok",
     "timestamp": 1753685374351,
     "user": {
      "displayName": "Srinivas Appana",
      "userId": "17871761728706768737"
     },
     "user_tz": -330
    },
    "id": "4sX0Fme-yCvN",
    "outputId": "7289141f-8bee-4b4f-bda3-a50d9e72470a"
   },
   "outputs": [
    {
     "name": "stdout",
     "output_type": "stream",
     "text": [
      "hello world\n"
     ]
    }
   ],
   "source": [
    "# this is a single line comment\n",
    "print(\"hello world\")"
   ]
  },
  {
   "cell_type": "markdown",
   "id": "OsSa4JCryI7-",
   "metadata": {
    "id": "OsSa4JCryI7-"
   },
   "source": [
    "### **Multiple line comments**"
   ]
  },
  {
   "cell_type": "code",
   "execution_count": 2,
   "id": "bPYGvGtfyN0G",
   "metadata": {
    "colab": {
     "base_uri": "https://localhost:8080/"
    },
    "executionInfo": {
     "elapsed": 5,
     "status": "ok",
     "timestamp": 1753685362206,
     "user": {
      "displayName": "Srinivas Appana",
      "userId": "17871761728706768737"
     },
     "user_tz": -330
    },
    "id": "bPYGvGtfyN0G",
    "outputId": "9e37309e-4954-40b2-ca57-45aa48a2c2c0"
   },
   "outputs": [
    {
     "name": "stdout",
     "output_type": "stream",
     "text": [
      "hello world\n"
     ]
    }
   ],
   "source": [
    "\"\"\"\n",
    "this is a multiple line comments\n",
    "Python was invented by Guido van Rossum in 1991\n",
    "Currently he is working in google\n",
    "Python was named by inspiring from a Monty Python comedy group\n",
    "\"\"\"\n",
    "print(\"hello world\")"
   ]
  },
  {
   "cell_type": "markdown",
   "id": "b265dd39-1906-46ed-bc0f-8b33a96c936c",
   "metadata": {
    "id": "b265dd39-1906-46ed-bc0f-8b33a96c936c"
   },
   "source": [
    "## **Variables in python**"
   ]
  },
  {
   "cell_type": "markdown",
   "id": "9805f916-1a9d-4537-86c9-66b7a6272cb6",
   "metadata": {
    "id": "9805f916-1a9d-4537-86c9-66b7a6272cb6"
   },
   "source": [
    "Python varaibles are storage containers, used to store values of any kind<br>\n",
    "\n",
    "\n",
    "1.   Python variables are case-sensitive\n",
    "2.   Python varialbes contains only alphabets, digits and underscore by starting with alphabet or underscore\n",
    "3.   Python data types are dynamically typed, so no need to mention the data type of a variable at start\n",
    "\n",
    "\n"
   ]
  },
  {
   "cell_type": "markdown",
   "id": "V31uYcFdvVMD",
   "metadata": {
    "id": "V31uYcFdvVMD"
   },
   "source": [
    "**`type()`** is used to check the data type of a variable"
   ]
  },
  {
   "cell_type": "markdown",
   "id": "5WsnhVzZwNPi",
   "metadata": {
    "id": "5WsnhVzZwNPi"
   },
   "source": [
    "### **Different Data types**"
   ]
  },
  {
   "cell_type": "code",
   "execution_count": 3,
   "id": "455e9471-2f2c-4258-a049-19d0efac130e",
   "metadata": {
    "colab": {
     "base_uri": "https://localhost:8080/"
    },
    "executionInfo": {
     "elapsed": 17,
     "status": "ok",
     "timestamp": 1753684457322,
     "user": {
      "displayName": "Srinivas Appana",
      "userId": "17871761728706768737"
     },
     "user_tz": -330
    },
    "id": "455e9471-2f2c-4258-a049-19d0efac130e",
    "outputId": "969c7fd9-5311-401a-82f0-69ac5d75f289"
   },
   "outputs": [
    {
     "name": "stdout",
     "output_type": "stream",
     "text": [
      "99\n",
      "<class 'int'>\n"
     ]
    }
   ],
   "source": [
    "#int\n",
    "int_value = 99\n",
    "print(int_value)\n",
    "print(type(int_value))"
   ]
  },
  {
   "cell_type": "code",
   "execution_count": 4,
   "id": "94d71447-ee40-40ca-b768-d2caa1237ee8",
   "metadata": {
    "colab": {
     "base_uri": "https://localhost:8080/"
    },
    "executionInfo": {
     "elapsed": 54,
     "status": "ok",
     "timestamp": 1753684510100,
     "user": {
      "displayName": "Srinivas Appana",
      "userId": "17871761728706768737"
     },
     "user_tz": -330
    },
    "id": "94d71447-ee40-40ca-b768-d2caa1237ee8",
    "outputId": "f6951bd3-5fe6-4608-d43a-964b7a912c1d"
   },
   "outputs": [
    {
     "name": "stdout",
     "output_type": "stream",
     "text": [
      "99.99\n",
      "<class 'float'>\n"
     ]
    }
   ],
   "source": [
    "#float\n",
    "float_value = 99.99\n",
    "print(float_value)\n",
    "print(type(float_value))"
   ]
  },
  {
   "cell_type": "code",
   "execution_count": 5,
   "id": "wyKAlb1juy8T",
   "metadata": {
    "colab": {
     "base_uri": "https://localhost:8080/"
    },
    "executionInfo": {
     "elapsed": 5,
     "status": "ok",
     "timestamp": 1753684520041,
     "user": {
      "displayName": "Srinivas Appana",
      "userId": "17871761728706768737"
     },
     "user_tz": -330
    },
    "id": "wyKAlb1juy8T",
    "outputId": "f9deeda8-dc3f-4adb-ef31-4e3720e897a7"
   },
   "outputs": [
    {
     "name": "stdout",
     "output_type": "stream",
     "text": [
      "Hello World\n",
      "<class 'str'>\n"
     ]
    }
   ],
   "source": [
    "#string\n",
    "string_value = \"Hello World\"\n",
    "print(string_value)\n",
    "print(type(string_value))"
   ]
  },
  {
   "cell_type": "code",
   "execution_count": 6,
   "id": "nfKuMkNZu1ZJ",
   "metadata": {
    "colab": {
     "base_uri": "https://localhost:8080/"
    },
    "executionInfo": {
     "elapsed": 15,
     "status": "ok",
     "timestamp": 1753684530446,
     "user": {
      "displayName": "Srinivas Appana",
      "userId": "17871761728706768737"
     },
     "user_tz": -330
    },
    "id": "nfKuMkNZu1ZJ",
    "outputId": "eb8899b7-7c13-4002-bc4b-4e07181a6693"
   },
   "outputs": [
    {
     "name": "stdout",
     "output_type": "stream",
     "text": [
      "True\n",
      "<class 'bool'>\n"
     ]
    }
   ],
   "source": [
    "#bool\n",
    "bool_value = True\n",
    "print(bool_value)\n",
    "print(type(bool_value))"
   ]
  },
  {
   "cell_type": "code",
   "execution_count": 7,
   "id": "MIzQD8WHvGXy",
   "metadata": {
    "colab": {
     "base_uri": "https://localhost:8080/"
    },
    "executionInfo": {
     "elapsed": 22,
     "status": "ok",
     "timestamp": 1753684585719,
     "user": {
      "displayName": "Srinivas Appana",
      "userId": "17871761728706768737"
     },
     "user_tz": -330
    },
    "id": "MIzQD8WHvGXy",
    "outputId": "f36393d7-9598-49b4-b932-37e8483091e2"
   },
   "outputs": [
    {
     "name": "stdout",
     "output_type": "stream",
     "text": [
      "['apple', 'banana', 'mango', 'goa']\n",
      "<class 'list'>\n"
     ]
    }
   ],
   "source": [
    "#list\n",
    "li = [\"apple\", \"banana\", \"mango\", \"goa\"]\n",
    "print(li)\n",
    "print(type(li))"
   ]
  },
  {
   "cell_type": "code",
   "execution_count": 8,
   "id": "nFeo7zsqvytS",
   "metadata": {
    "colab": {
     "base_uri": "https://localhost:8080/"
    },
    "executionInfo": {
     "elapsed": 22,
     "status": "ok",
     "timestamp": 1753684595381,
     "user": {
      "displayName": "Srinivas Appana",
      "userId": "17871761728706768737"
     },
     "user_tz": -330
    },
    "id": "nFeo7zsqvytS",
    "outputId": "8934e01f-98af-4e13-f5a2-21c8806c4603"
   },
   "outputs": [
    {
     "name": "stdout",
     "output_type": "stream",
     "text": [
      "('apple', 'banana', 'mango', 'goa')\n",
      "<class 'tuple'>\n"
     ]
    }
   ],
   "source": [
    "#tuple\n",
    "tup = (\"apple\", \"banana\", \"mango\", \"goa\")\n",
    "print(tup)\n",
    "print(type(tup))"
   ]
  },
  {
   "cell_type": "code",
   "execution_count": 9,
   "id": "SyEAz_KKv1Ej",
   "metadata": {
    "colab": {
     "base_uri": "https://localhost:8080/"
    },
    "executionInfo": {
     "elapsed": 22,
     "status": "ok",
     "timestamp": 1753684613444,
     "user": {
      "displayName": "Srinivas Appana",
      "userId": "17871761728706768737"
     },
     "user_tz": -330
    },
    "id": "SyEAz_KKv1Ej",
    "outputId": "fbc237db-bf46-4fd3-cfe3-948b5a65d4f9"
   },
   "outputs": [
    {
     "name": "stdout",
     "output_type": "stream",
     "text": [
      "{'apple', 'banana', 'goa', 'mango'}\n",
      "<class 'set'>\n"
     ]
    }
   ],
   "source": [
    "#set\n",
    "st = {\"apple\", \"banana\", \"mango\", \"goa\"}\n",
    "print(st)\n",
    "print(type(st))"
   ]
  },
  {
   "cell_type": "code",
   "execution_count": 10,
   "id": "MbCo7EMVv5ey",
   "metadata": {
    "colab": {
     "base_uri": "https://localhost:8080/"
    },
    "executionInfo": {
     "elapsed": 20,
     "status": "ok",
     "timestamp": 1753684668489,
     "user": {
      "displayName": "Srinivas Appana",
      "userId": "17871761728706768737"
     },
     "user_tz": -330
    },
    "id": "MbCo7EMVv5ey",
    "outputId": "aa3c7027-75c7-4703-fbea-05460aa55294"
   },
   "outputs": [
    {
     "name": "stdout",
     "output_type": "stream",
     "text": [
      "{'name': 'suresh', 'age': 90, 'pention': True}\n",
      "<class 'dict'>\n"
     ]
    }
   ],
   "source": [
    "#dictionary\n",
    "di = {\"name\":\"suresh\", \"age\":90, \"pention\":True}\n",
    "print(di)\n",
    "print(type(di))"
   ]
  },
  {
   "cell_type": "markdown",
   "id": "Io9EQCPPwRS6",
   "metadata": {
    "id": "Io9EQCPPwRS6"
   },
   "source": [
    "### **Variables type change**"
   ]
  },
  {
   "cell_type": "markdown",
   "id": "gmk4SQ9WwpAa",
   "metadata": {
    "id": "gmk4SQ9WwpAa"
   },
   "source": [
    "The types of the varaibles also can be changed easily"
   ]
  },
  {
   "cell_type": "code",
   "execution_count": 11,
   "id": "jx-CpNO0woIy",
   "metadata": {
    "colab": {
     "base_uri": "https://localhost:8080/"
    },
    "executionInfo": {
     "elapsed": 15,
     "status": "ok",
     "timestamp": 1753684889578,
     "user": {
      "displayName": "Srinivas Appana",
      "userId": "17871761728706768737"
     },
     "user_tz": -330
    },
    "id": "jx-CpNO0woIy",
    "outputId": "35272da3-133d-4076-8105-641c57511a0c"
   },
   "outputs": [
    {
     "name": "stdout",
     "output_type": "stream",
     "text": [
      "99\n",
      "<class 'int'>\n",
      "99.99\n",
      "<class 'float'>\n",
      "Hello World\n",
      "<class 'str'>\n"
     ]
    }
   ],
   "source": [
    "#int\n",
    "a = 99\n",
    "print(a)\n",
    "print(type(a))\n",
    "\n",
    "#converting a to float\n",
    "a = 99.99\n",
    "print(a)\n",
    "print(type(a))\n",
    "\n",
    "#assigning a string to 'a'\n",
    "a = \"Hello World\"\n",
    "print(a)\n",
    "print(type(a))"
   ]
  },
  {
   "cell_type": "markdown",
   "id": "ED5S7HEN1OEL",
   "metadata": {
    "id": "ED5S7HEN1OEL"
   },
   "source": [
    "### Assign multiple values"
   ]
  },
  {
   "cell_type": "code",
   "execution_count": 12,
   "id": "Tfg4od4Z1Tdz",
   "metadata": {
    "colab": {
     "base_uri": "https://localhost:8080/"
    },
    "executionInfo": {
     "elapsed": 20,
     "status": "ok",
     "timestamp": 1753686047501,
     "user": {
      "displayName": "Srinivas Appana",
      "userId": "17871761728706768737"
     },
     "user_tz": -330
    },
    "id": "Tfg4od4Z1Tdz",
    "outputId": "2134116e-5f7e-4bc1-df36-ce4322fbe55e"
   },
   "outputs": [
    {
     "name": "stdout",
     "output_type": "stream",
     "text": [
      "89 23 12\n"
     ]
    }
   ],
   "source": [
    "x, y, z = 89, 23, 12\n",
    "print(x, y, z)"
   ]
  },
  {
   "cell_type": "code",
   "execution_count": 13,
   "id": "6ost2tzv1YOC",
   "metadata": {
    "colab": {
     "base_uri": "https://localhost:8080/"
    },
    "executionInfo": {
     "elapsed": 6,
     "status": "ok",
     "timestamp": 1753686062891,
     "user": {
      "displayName": "Srinivas Appana",
      "userId": "17871761728706768737"
     },
     "user_tz": -330
    },
    "id": "6ost2tzv1YOC",
    "outputId": "ff305e47-efdf-40c2-e979-28994a099637"
   },
   "outputs": [
    {
     "name": "stdout",
     "output_type": "stream",
     "text": [
      "90 90 90\n"
     ]
    }
   ],
   "source": [
    "x = y = z = 90\n",
    "print(x, y, z)"
   ]
  },
  {
   "cell_type": "markdown",
   "id": "LyDTCXpV2kY4",
   "metadata": {
    "id": "LyDTCXpV2kY4"
   },
   "source": [
    "### **Global variables**"
   ]
  },
  {
   "cell_type": "markdown",
   "id": "ZRSAxUV82wba",
   "metadata": {
    "id": "ZRSAxUV82wba"
   },
   "source": [
    "Variables created outside a function have **`Global scope`<br>**\n",
    "Variables created within a function have **`block/local score`**"
   ]
  },
  {
   "cell_type": "code",
   "execution_count": 14,
   "id": "0RaDVYg52pdo",
   "metadata": {
    "colab": {
     "base_uri": "https://localhost:8080/"
    },
    "executionInfo": {
     "elapsed": 20,
     "status": "ok",
     "timestamp": 1753686531881,
     "user": {
      "displayName": "Srinivas Appana",
      "userId": "17871761728706768737"
     },
     "user_tz": -330
    },
    "id": "0RaDVYg52pdo",
    "outputId": "3d3919c4-9a57-48ae-8449-7e6c2f00a8d5"
   },
   "outputs": [
    {
     "name": "stdout",
     "output_type": "stream",
     "text": [
      "hello suresh\n"
     ]
    }
   ],
   "source": [
    "name_1 = \"suresh\"\n",
    "\n",
    "def greet():\n",
    "  print(f\"hello {name_1}\")\n",
    "\n",
    "greet()"
   ]
  },
  {
   "cell_type": "code",
   "execution_count": null,
   "id": "O3pFEyRR3XSK",
   "metadata": {
    "colab": {
     "base_uri": "https://localhost:8080/",
     "height": 280
    },
    "collapsed": true,
    "executionInfo": {
     "elapsed": 63,
     "status": "error",
     "timestamp": 1753686623085,
     "user": {
      "displayName": "Srinivas Appana",
      "userId": "17871761728706768737"
     },
     "user_tz": -330
    },
    "id": "O3pFEyRR3XSK",
    "jupyter": {
     "outputs_hidden": true
    },
    "outputId": "a0cfe1fe-5b45-4a3e-e35b-170b6ccd017b"
   },
   "outputs": [
    {
     "ename": "NameError",
     "evalue": "name 'name_2' is not defined",
     "output_type": "error",
     "traceback": [
      "\u001b[31m---------------------------------------------------------------------------\u001b[39m",
      "\u001b[31mNameError\u001b[39m                                 Traceback (most recent call last)",
      "\u001b[36mCell\u001b[39m\u001b[36m \u001b[39m\u001b[32mIn[15]\u001b[39m\u001b[32m, line 6\u001b[39m\n\u001b[32m      3\u001b[39m \u001b[38;5;28;01mdef\u001b[39;00m\u001b[38;5;250m \u001b[39m\u001b[34mgreet_2\u001b[39m():\n\u001b[32m      4\u001b[39m   \u001b[38;5;28mprint\u001b[39m(\u001b[33mf\u001b[39m\u001b[33m\"\u001b[39m\u001b[33mhello \u001b[39m\u001b[38;5;132;01m{\u001b[39;00mname_2\u001b[38;5;132;01m}\u001b[39;00m\u001b[33m\"\u001b[39m)\n\u001b[32m----> \u001b[39m\u001b[32m6\u001b[39m \u001b[43mgreet_2\u001b[49m\u001b[43m(\u001b[49m\u001b[43m)\u001b[49m\n",
      "\u001b[36mCell\u001b[39m\u001b[36m \u001b[39m\u001b[32mIn[15]\u001b[39m\u001b[32m, line 4\u001b[39m, in \u001b[36mgreet_2\u001b[39m\u001b[34m()\u001b[39m\n\u001b[32m      3\u001b[39m \u001b[38;5;28;01mdef\u001b[39;00m\u001b[38;5;250m \u001b[39m\u001b[34mgreet_2\u001b[39m():\n\u001b[32m----> \u001b[39m\u001b[32m4\u001b[39m   \u001b[38;5;28mprint\u001b[39m(\u001b[33mf\u001b[39m\u001b[33m\"\u001b[39m\u001b[33mhello \u001b[39m\u001b[38;5;132;01m{\u001b[39;00m\u001b[43mname_2\u001b[49m\u001b[38;5;132;01m}\u001b[39;00m\u001b[33m\"\u001b[39m)\n",
      "\u001b[31mNameError\u001b[39m: name 'name_2' is not defined"
     ]
    }
   ],
   "source": [
    "#accessing a undefined variable raises NameError\n",
    "\n",
    "def greet_2():\n",
    "  print(f\"hello {name_2}\")\n",
    "\n",
    "greet_2()"
   ]
  },
  {
   "cell_type": "code",
   "execution_count": 16,
   "id": "YqUnzpGp3nI6",
   "metadata": {
    "colab": {
     "base_uri": "https://localhost:8080/",
     "height": 193
    },
    "collapsed": true,
    "executionInfo": {
     "elapsed": 50,
     "status": "error",
     "timestamp": 1753686670987,
     "user": {
      "displayName": "Srinivas Appana",
      "userId": "17871761728706768737"
     },
     "user_tz": -330
    },
    "id": "YqUnzpGp3nI6",
    "jupyter": {
     "outputs_hidden": true
    },
    "outputId": "ff2283d8-99af-4347-96ac-e281a26bd895"
   },
   "outputs": [
    {
     "name": "stdout",
     "output_type": "stream",
     "text": [
      "hello ramesh\n"
     ]
    },
    {
     "ename": "NameError",
     "evalue": "name 'name_3' is not defined",
     "output_type": "error",
     "traceback": [
      "\u001b[31m---------------------------------------------------------------------------\u001b[39m",
      "\u001b[31mNameError\u001b[39m                                 Traceback (most recent call last)",
      "\u001b[36mCell\u001b[39m\u001b[36m \u001b[39m\u001b[32mIn[16]\u001b[39m\u001b[32m, line 8\u001b[39m\n\u001b[32m      5\u001b[39m   \u001b[38;5;28mprint\u001b[39m(\u001b[33mf\u001b[39m\u001b[33m\"\u001b[39m\u001b[33mhello \u001b[39m\u001b[38;5;132;01m{\u001b[39;00mname_3\u001b[38;5;132;01m}\u001b[39;00m\u001b[33m\"\u001b[39m)\n\u001b[32m      7\u001b[39m greet_3()\n\u001b[32m----> \u001b[39m\u001b[32m8\u001b[39m \u001b[38;5;28mprint\u001b[39m(\u001b[43mname_3\u001b[49m)\n",
      "\u001b[31mNameError\u001b[39m: name 'name_3' is not defined"
     ]
    }
   ],
   "source": [
    "# accessing a local variable outside local scope, raises NameError\n",
    "\n",
    "def greet_3():\n",
    "  name_3 = \"ramesh\"\n",
    "  print(f\"hello {name_3}\")\n",
    "\n",
    "greet_3()\n",
    "print(name_3)"
   ]
  },
  {
   "cell_type": "markdown",
   "id": "_PZJMUXZ3Pqi",
   "metadata": {
    "id": "_PZJMUXZ3Pqi"
   },
   "source": [
    "`global` keyword is used to access the global value in a function"
   ]
  },
  {
   "cell_type": "code",
   "execution_count": 17,
   "id": "nkNTiioi37qS",
   "metadata": {
    "colab": {
     "base_uri": "https://localhost:8080/"
    },
    "executionInfo": {
     "elapsed": 15,
     "status": "ok",
     "timestamp": 1753686782391,
     "user": {
      "displayName": "Srinivas Appana",
      "userId": "17871761728706768737"
     },
     "user_tz": -330
    },
    "id": "nkNTiioi37qS",
    "outputId": "9b2ead3a-ddcc-48c1-d1e2-9405a9e7ffda"
   },
   "outputs": [
    {
     "name": "stdout",
     "output_type": "stream",
     "text": [
      "hello ramesh\n",
      "ramesh\n"
     ]
    }
   ],
   "source": [
    "# accessing global keyword inside a funciton and changing its value\n",
    "\n",
    "name_4 = \"mikhel\"\n",
    "\n",
    "def greet_4():\n",
    "  global name_4\n",
    "  name_4 = \"ramesh\"\n",
    "  print(f\"hello {name_4}\")\n",
    "\n",
    "greet_4()\n",
    "print(name_4)"
   ]
  },
  {
   "cell_type": "markdown",
   "id": "KsWC1NQexDAx",
   "metadata": {
    "id": "KsWC1NQexDAx"
   },
   "source": [
    "### **type casting**"
   ]
  },
  {
   "cell_type": "markdown",
   "id": "SGQIkw-JxSWS",
   "metadata": {
    "id": "SGQIkw-JxSWS"
   },
   "source": [
    "Type casting is possible by using the data type names `int`, `float`, `str`,..."
   ]
  },
  {
   "cell_type": "code",
   "execution_count": 20,
   "id": "jQ71mFw_w4JT",
   "metadata": {
    "colab": {
     "base_uri": "https://localhost:8080/"
    },
    "executionInfo": {
     "elapsed": 16,
     "status": "ok",
     "timestamp": 1753685081376,
     "user": {
      "displayName": "Srinivas Appana",
      "userId": "17871761728706768737"
     },
     "user_tz": -330
    },
    "id": "jQ71mFw_w4JT",
    "outputId": "9551045a-27cb-41bc-f461-4ee7942c5c2f"
   },
   "outputs": [
    {
     "name": "stdout",
     "output_type": "stream",
     "text": [
      "999\n",
      "<class 'int'>\n",
      "999.0\n",
      "<class 'float'>\n",
      "999.0\n",
      "<class 'str'>\n"
     ]
    }
   ],
   "source": [
    "#int\n",
    "a = 999\n",
    "print(a)\n",
    "print(type(a))\n",
    "\n",
    "#casting to float\n",
    "a = float(a)\n",
    "print(a)\n",
    "print(type(a))\n",
    "\n",
    "#casting to string\n",
    "a = str(a)\n",
    "print(a)\n",
    "print(type(a))"
   ]
  },
  {
   "cell_type": "markdown",
   "id": "7ksLFXNezdlT",
   "metadata": {
    "id": "7ksLFXNezdlT"
   },
   "source": [
    "## **Storage in python**"
   ]
  },
  {
   "cell_type": "markdown",
   "id": "qwWJVVEHzj6L",
   "metadata": {
    "id": "qwWJVVEHzj6L"
   },
   "source": [
    "**`id()`** Used to check the storage location of a variable"
   ]
  },
  {
   "cell_type": "markdown",
   "id": "5NPG1s78ztGr",
   "metadata": {
    "id": "5NPG1s78ztGr"
   },
   "source": [
    "**python variables** are references to the objects (i.e. it stores the address of the object instead of value itself)"
   ]
  },
  {
   "cell_type": "code",
   "execution_count": 21,
   "id": "h5R0qnX8zpb7",
   "metadata": {
    "colab": {
     "base_uri": "https://localhost:8080/"
    },
    "executionInfo": {
     "elapsed": 21,
     "status": "ok",
     "timestamp": 1753685685601,
     "user": {
      "displayName": "Srinivas Appana",
      "userId": "17871761728706768737"
     },
     "user_tz": -330
    },
    "id": "h5R0qnX8zpb7",
    "outputId": "59a457ef-7d57-4aa6-801d-fa39bb929b3e"
   },
   "outputs": [
    {
     "name": "stdout",
     "output_type": "stream",
     "text": [
      "140708004386296\n"
     ]
    }
   ],
   "source": [
    "a = 99\n",
    "print(id(a))"
   ]
  },
  {
   "cell_type": "code",
   "execution_count": 22,
   "id": "DX-cqvcFz_Mb",
   "metadata": {
    "colab": {
     "base_uri": "https://localhost:8080/"
    },
    "executionInfo": {
     "elapsed": 20,
     "status": "ok",
     "timestamp": 1753685694236,
     "user": {
      "displayName": "Srinivas Appana",
      "userId": "17871761728706768737"
     },
     "user_tz": -330
    },
    "id": "DX-cqvcFz_Mb",
    "outputId": "fc852764-ced3-4374-f36e-049fbea22bd1"
   },
   "outputs": [
    {
     "name": "stdout",
     "output_type": "stream",
     "text": [
      "140708004385976\n"
     ]
    }
   ],
   "source": [
    "b = 89\n",
    "print(id(b))"
   ]
  },
  {
   "cell_type": "markdown",
   "id": "EYukrb5G0CLz",
   "metadata": {
    "id": "EYukrb5G0CLz"
   },
   "source": [
    "We can observe that ids are different"
   ]
  },
  {
   "cell_type": "markdown",
   "id": "eFHIiLAi0HjL",
   "metadata": {
    "id": "eFHIiLAi0HjL"
   },
   "source": [
    "*Python follows assignment concept for storage saving*"
   ]
  },
  {
   "cell_type": "code",
   "execution_count": 23,
   "id": "Bkv2wZFS0BVj",
   "metadata": {
    "colab": {
     "base_uri": "https://localhost:8080/"
    },
    "executionInfo": {
     "elapsed": 8,
     "status": "ok",
     "timestamp": 1753685850628,
     "user": {
      "displayName": "Srinivas Appana",
      "userId": "17871761728706768737"
     },
     "user_tz": -330
    },
    "id": "Bkv2wZFS0BVj",
    "outputId": "01ff91af-7bd7-4be1-80e6-94e5447d96dc"
   },
   "outputs": [
    {
     "name": "stdout",
     "output_type": "stream",
     "text": [
      "140708004385624\n",
      "140708004385624\n",
      "Both a, b maps to same location : True\n",
      "both a, b maps to same location : True\n"
     ]
    }
   ],
   "source": [
    "a = 78\n",
    "b = a\n",
    "print(id(a))\n",
    "print(id(b))\n",
    "\n",
    "print(f\"Both a, b maps to same location : {a is b}\")\n",
    "print(f\"both a, b maps to same location : {id(a) == id(b)}\")"
   ]
  },
  {
   "cell_type": "markdown",
   "id": "egb4Jwji0paz",
   "metadata": {
    "id": "egb4Jwji0paz"
   },
   "source": [
    "so if `b` maps to another location, also the mapping of `a` won't change"
   ]
  },
  {
   "cell_type": "code",
   "execution_count": 25,
   "id": "ZGUMIaKU0dvc",
   "metadata": {
    "colab": {
     "base_uri": "https://localhost:8080/"
    },
    "executionInfo": {
     "elapsed": 20,
     "status": "ok",
     "timestamp": 1753685964018,
     "user": {
      "displayName": "Srinivas Appana",
      "userId": "17871761728706768737"
     },
     "user_tz": -330
    },
    "id": "ZGUMIaKU0dvc",
    "outputId": "97249ff6-bab0-4ecb-b412-30938f0d28a2"
   },
   "outputs": [
    {
     "name": "stdout",
     "output_type": "stream",
     "text": [
      "140708004385976\n",
      "140708004385976\n",
      "True\n"
     ]
    }
   ],
   "source": [
    "a = 89\n",
    "b = a\n",
    "\n",
    "print(id(a))\n",
    "print(id(b))\n",
    "print(id(a) == id(b))"
   ]
  },
  {
   "cell_type": "code",
   "execution_count": 26,
   "id": "5e16a5a8",
   "metadata": {},
   "outputs": [
    {
     "name": "stdout",
     "output_type": "stream",
     "text": [
      "140708004385976\n",
      "140708004384152\n",
      "False\n"
     ]
    }
   ],
   "source": [
    "b = 32\n",
    "print(id(a))\n",
    "print(id(b))\n",
    "\n",
    "print(id(a) == id(b))"
   ]
  },
  {
   "cell_type": "code",
   "execution_count": 27,
   "id": "lOpi1qq31DLs",
   "metadata": {
    "colab": {
     "base_uri": "https://localhost:8080/"
    },
    "executionInfo": {
     "elapsed": 17,
     "status": "ok",
     "timestamp": 1753686130194,
     "user": {
      "displayName": "Srinivas Appana",
      "userId": "17871761728706768737"
     },
     "user_tz": -330
    },
    "id": "lOpi1qq31DLs",
    "outputId": "cfd15fc3-f8de-4fc0-a37f-3e747ed75c67"
   },
   "outputs": [
    {
     "name": "stdout",
     "output_type": "stream",
     "text": [
      "140708004385624\n",
      "140708004385624\n",
      "True\n"
     ]
    }
   ],
   "source": [
    "a = 78\n",
    "b = [78, 67, 34, \"hai\"]\n",
    "\n",
    "print(id(a))\n",
    "print(id(b[0]))\n",
    "print(id(a) == id(b[0]))"
   ]
  },
  {
   "cell_type": "markdown",
   "id": "v1Boc7qe1yBU",
   "metadata": {
    "id": "v1Boc7qe1yBU"
   },
   "source": [
    "## **Printing in python**"
   ]
  },
  {
   "cell_type": "markdown",
   "id": "hFarHKrW18C1",
   "metadata": {
    "id": "hFarHKrW18C1"
   },
   "source": [
    "`print()` used to print values to terminal or screen"
   ]
  },
  {
   "cell_type": "code",
   "execution_count": 28,
   "id": "nplG5dGB11uN",
   "metadata": {
    "colab": {
     "base_uri": "https://localhost:8080/"
    },
    "executionInfo": {
     "elapsed": 14,
     "status": "ok",
     "timestamp": 1753686236109,
     "user": {
      "displayName": "Srinivas Appana",
      "userId": "17871761728706768737"
     },
     "user_tz": -330
    },
    "id": "nplG5dGB11uN",
    "outputId": "f39ef4de-c4f0-44f7-fe0b-81c7087a66a9"
   },
   "outputs": [
    {
     "name": "stdout",
     "output_type": "stream",
     "text": [
      "hello world\n"
     ]
    }
   ],
   "source": [
    "print(\"hello world\")"
   ]
  },
  {
   "cell_type": "code",
   "execution_count": 29,
   "id": "KXm7WCDc2Fo2",
   "metadata": {
    "colab": {
     "base_uri": "https://localhost:8080/"
    },
    "executionInfo": {
     "elapsed": 18,
     "status": "ok",
     "timestamp": 1753686255247,
     "user": {
      "displayName": "Srinivas Appana",
      "userId": "17871761728706768737"
     },
     "user_tz": -330
    },
    "id": "KXm7WCDc2Fo2",
    "outputId": "833ff5f8-173d-4528-a4ef-f03bb62ed1b0"
   },
   "outputs": [
    {
     "name": "stdout",
     "output_type": "stream",
     "text": [
      "hello world\n"
     ]
    }
   ],
   "source": [
    "val = \"hello world\"\n",
    "print(val)"
   ]
  },
  {
   "cell_type": "code",
   "execution_count": 30,
   "id": "QSMI52kR2KTt",
   "metadata": {
    "colab": {
     "base_uri": "https://localhost:8080/"
    },
    "executionInfo": {
     "elapsed": 17,
     "status": "ok",
     "timestamp": 1753686296688,
     "user": {
      "displayName": "Srinivas Appana",
      "userId": "17871761728706768737"
     },
     "user_tz": -330
    },
    "id": "QSMI52kR2KTt",
    "outputId": "af4a3208-76c8-4521-88fb-5e965305b362"
   },
   "outputs": [
    {
     "name": "stdout",
     "output_type": "stream",
     "text": [
      "apple-banana-goa\n"
     ]
    }
   ],
   "source": [
    "x, y, z = [\"apple\", \"banana\" , \"goa\"]\n",
    "print(x, y, z, sep = '-')"
   ]
  },
  {
   "cell_type": "code",
   "execution_count": 31,
   "id": "YeDXvajL2UbP",
   "metadata": {
    "colab": {
     "base_uri": "https://localhost:8080/"
    },
    "executionInfo": {
     "elapsed": 44,
     "status": "ok",
     "timestamp": 1753686314191,
     "user": {
      "displayName": "Srinivas Appana",
      "userId": "17871761728706768737"
     },
     "user_tz": -330
    },
    "id": "YeDXvajL2UbP",
    "outputId": "d7945a48-ac70-4bd0-f6f1-ca330d2ddfc2"
   },
   "outputs": [
    {
     "name": "stdout",
     "output_type": "stream",
     "text": [
      "apple##banana##goa\n"
     ]
    }
   ],
   "source": [
    "print(x, y, z, sep = '##')"
   ]
  },
  {
   "cell_type": "code",
   "execution_count": 32,
   "id": "A4qhCyBG2YsX",
   "metadata": {
    "colab": {
     "base_uri": "https://localhost:8080/"
    },
    "executionInfo": {
     "elapsed": 12,
     "status": "ok",
     "timestamp": 1753686335614,
     "user": {
      "displayName": "Srinivas Appana",
      "userId": "17871761728706768737"
     },
     "user_tz": -330
    },
    "id": "A4qhCyBG2YsX",
    "outputId": "adef6d06-0bae-4ae0-ec96-2a6bf80fb2e6"
   },
   "outputs": [
    {
     "name": "stdout",
     "output_type": "stream",
     "text": [
      "apple banana goa\n"
     ]
    }
   ],
   "source": [
    "print(x,y, end = \" \")\n",
    "print(z)"
   ]
  },
  {
   "cell_type": "markdown",
   "id": "PL4m5bJO4jAL",
   "metadata": {
    "id": "PL4m5bJO4jAL"
   },
   "source": [
    "## **Input in python**"
   ]
  },
  {
   "cell_type": "markdown",
   "id": "ZisUkfX74mV7",
   "metadata": {
    "id": "ZisUkfX74mV7"
   },
   "source": [
    "`input()` is used to take input from user (input is taken in form of string)"
   ]
  },
  {
   "cell_type": "code",
   "execution_count": 33,
   "id": "4qcq6xY84lvs",
   "metadata": {
    "colab": {
     "base_uri": "https://localhost:8080/"
    },
    "executionInfo": {
     "elapsed": 2052,
     "status": "ok",
     "timestamp": 1753686976073,
     "user": {
      "displayName": "Srinivas Appana",
      "userId": "17871761728706768737"
     },
     "user_tz": -330
    },
    "id": "4qcq6xY84lvs",
    "outputId": "b82e64be-2544-4ee9-9add-43caacb87842"
   },
   "outputs": [
    {
     "name": "stdout",
     "output_type": "stream",
     "text": [
      "<class 'str'>\n",
      "5555\n"
     ]
    }
   ],
   "source": [
    "a = input(\"Enter a integer value : \")\n",
    "print(type(a))\n",
    "print(a*2)"
   ]
  },
  {
   "cell_type": "code",
   "execution_count": 34,
   "id": "03TvP_bH45y0",
   "metadata": {
    "colab": {
     "base_uri": "https://localhost:8080/"
    },
    "executionInfo": {
     "elapsed": 2565,
     "status": "ok",
     "timestamp": 1753687018126,
     "user": {
      "displayName": "Srinivas Appana",
      "userId": "17871761728706768737"
     },
     "user_tz": -330
    },
    "id": "03TvP_bH45y0",
    "outputId": "23bbf147-6bfe-4fd2-f800-4eb0155c2666"
   },
   "outputs": [
    {
     "name": "stdout",
     "output_type": "stream",
     "text": [
      "<class 'int'>\n",
      "110\n"
     ]
    }
   ],
   "source": [
    "a = int(input(\"Enter a integer value : \"))\n",
    "print(type(a))\n",
    "print(a*2)"
   ]
  },
  {
   "cell_type": "code",
   "execution_count": 35,
   "id": "QNrWzm_G5D70",
   "metadata": {
    "colab": {
     "base_uri": "https://localhost:8080/"
    },
    "executionInfo": {
     "elapsed": 2858,
     "status": "ok",
     "timestamp": 1753687037216,
     "user": {
      "displayName": "Srinivas Appana",
      "userId": "17871761728706768737"
     },
     "user_tz": -330
    },
    "id": "QNrWzm_G5D70",
    "outputId": "03d7e4ab-4c68-48f5-ea7d-e33a4880a621"
   },
   "outputs": [
    {
     "name": "stdout",
     "output_type": "stream",
     "text": [
      "hello ram\n"
     ]
    }
   ],
   "source": [
    "name = input(\"Enter your name : \")\n",
    "print(f\"hello {name}\")"
   ]
  },
  {
   "cell_type": "markdown",
   "id": "Tbhclzw_5TnN",
   "metadata": {
    "id": "Tbhclzw_5TnN"
   },
   "source": [
    "## **Basic arithmatic operations in python**"
   ]
  },
  {
   "cell_type": "code",
   "execution_count": 36,
   "id": "9Cj83JTI5Ihk",
   "metadata": {
    "colab": {
     "base_uri": "https://localhost:8080/"
    },
    "executionInfo": {
     "elapsed": 12,
     "status": "ok",
     "timestamp": 1753687233272,
     "user": {
      "displayName": "Srinivas Appana",
      "userId": "17871761728706768737"
     },
     "user_tz": -330
    },
    "id": "9Cj83JTI5Ihk",
    "outputId": "926d553e-3bc7-4eec-df81-eac16342e424"
   },
   "outputs": [
    {
     "name": "stdout",
     "output_type": "stream",
     "text": [
      "66\n"
     ]
    }
   ],
   "source": [
    "# addition\n",
    "\n",
    "print(10 + 56)"
   ]
  },
  {
   "cell_type": "code",
   "execution_count": 37,
   "id": "jv6iTMwR51p2",
   "metadata": {
    "colab": {
     "base_uri": "https://localhost:8080/"
    },
    "executionInfo": {
     "elapsed": 14,
     "status": "ok",
     "timestamp": 1753687246435,
     "user": {
      "displayName": "Srinivas Appana",
      "userId": "17871761728706768737"
     },
     "user_tz": -330
    },
    "id": "jv6iTMwR51p2",
    "outputId": "4cd17524-ca10-4062-aed9-780867abad3a"
   },
   "outputs": [
    {
     "name": "stdout",
     "output_type": "stream",
     "text": [
      "13\n"
     ]
    }
   ],
   "source": [
    "# subraction\n",
    "print(89 - 76)"
   ]
  },
  {
   "cell_type": "code",
   "execution_count": 38,
   "id": "YDvkZNJk58TH",
   "metadata": {
    "colab": {
     "base_uri": "https://localhost:8080/"
    },
    "executionInfo": {
     "elapsed": 19,
     "status": "ok",
     "timestamp": 1753687259346,
     "user": {
      "displayName": "Srinivas Appana",
      "userId": "17871761728706768737"
     },
     "user_tz": -330
    },
    "id": "YDvkZNJk58TH",
    "outputId": "6556e23d-12bd-4a8b-92d0-5b2711726e42"
   },
   "outputs": [
    {
     "name": "stdout",
     "output_type": "stream",
     "text": [
      "3752\n"
     ]
    }
   ],
   "source": [
    "# Multiplication\n",
    "print(67 * 56)"
   ]
  },
  {
   "cell_type": "code",
   "execution_count": 39,
   "id": "QuXzogB85_cu",
   "metadata": {
    "colab": {
     "base_uri": "https://localhost:8080/"
    },
    "executionInfo": {
     "elapsed": 16,
     "status": "ok",
     "timestamp": 1753687278654,
     "user": {
      "displayName": "Srinivas Appana",
      "userId": "17871761728706768737"
     },
     "user_tz": -330
    },
    "id": "QuXzogB85_cu",
    "outputId": "7e571b44-fe1e-4243-b4f5-9818e55491fa"
   },
   "outputs": [
    {
     "name": "stdout",
     "output_type": "stream",
     "text": [
      "11.333333333333334\n"
     ]
    }
   ],
   "source": [
    "# division\n",
    "print(34/3)"
   ]
  },
  {
   "cell_type": "code",
   "execution_count": 40,
   "id": "3quF_drd6EJ3",
   "metadata": {
    "colab": {
     "base_uri": "https://localhost:8080/"
    },
    "executionInfo": {
     "elapsed": 19,
     "status": "ok",
     "timestamp": 1753687295097,
     "user": {
      "displayName": "Srinivas Appana",
      "userId": "17871761728706768737"
     },
     "user_tz": -330
    },
    "id": "3quF_drd6EJ3",
    "outputId": "2120f62c-14a8-461b-dd31-690105f9e1a3"
   },
   "outputs": [
    {
     "name": "stdout",
     "output_type": "stream",
     "text": [
      "11\n"
     ]
    }
   ],
   "source": [
    "# floor division\n",
    "print(34//3)"
   ]
  },
  {
   "cell_type": "code",
   "execution_count": 41,
   "id": "Snflupfg6ILW",
   "metadata": {
    "colab": {
     "base_uri": "https://localhost:8080/"
    },
    "executionInfo": {
     "elapsed": 21,
     "status": "ok",
     "timestamp": 1753687327896,
     "user": {
      "displayName": "Srinivas Appana",
      "userId": "17871761728706768737"
     },
     "user_tz": -330
    },
    "id": "Snflupfg6ILW",
    "outputId": "85e8137d-507a-4ea4-a783-8b6b3f61fa1e"
   },
   "outputs": [
    {
     "name": "stdout",
     "output_type": "stream",
     "text": [
      "2\n"
     ]
    }
   ],
   "source": [
    "# modulus\n",
    "print(11%3)"
   ]
  },
  {
   "cell_type": "code",
   "execution_count": 42,
   "id": "IEC2fYlc6OUY",
   "metadata": {
    "colab": {
     "base_uri": "https://localhost:8080/"
    },
    "executionInfo": {
     "elapsed": 10,
     "status": "ok",
     "timestamp": 1753687341020,
     "user": {
      "displayName": "Srinivas Appana",
      "userId": "17871761728706768737"
     },
     "user_tz": -330
    },
    "id": "IEC2fYlc6OUY",
    "outputId": "86241917-0e3e-4331-9a35-a8339acfff58"
   },
   "outputs": [
    {
     "name": "stdout",
     "output_type": "stream",
     "text": [
      "81\n"
     ]
    }
   ],
   "source": [
    "# power\n",
    "print(3**4)"
   ]
  },
  {
   "cell_type": "markdown",
   "id": "EUM_M8wy6VRI",
   "metadata": {
    "id": "EUM_M8wy6VRI"
   },
   "source": [
    "### s**ome extra operations using **`math`** module**"
   ]
  },
  {
   "cell_type": "code",
   "execution_count": 43,
   "id": "ppFKuzzQ6TW_",
   "metadata": {
    "colab": {
     "base_uri": "https://localhost:8080/"
    },
    "executionInfo": {
     "elapsed": 14,
     "status": "ok",
     "timestamp": 1753687543967,
     "user": {
      "displayName": "Srinivas Appana",
      "userId": "17871761728706768737"
     },
     "user_tz": -330
    },
    "id": "ppFKuzzQ6TW_",
    "outputId": "7fea9f1a-a290-46d3-9287-e70724746569"
   },
   "outputs": [
    {
     "name": "stdout",
     "output_type": "stream",
     "text": [
      "Ceil of 4.3: 5\n",
      "Floor of 4.7: 4\n",
      "Factorial of 5: 120\n",
      "Square root of 16: 4.0\n",
      "Power (2^3): 8.0\n",
      "Greatest common divisor of 48 and 18: 6\n",
      "Absolute value of -10: 10.0\n"
     ]
    }
   ],
   "source": [
    "import math\n",
    "\n",
    "# Basic operations\n",
    "print(\"Ceil of 4.3:\", math.ceil(4.3))\n",
    "print(\"Floor of 4.7:\", math.floor(4.7))\n",
    "print(\"Factorial of 5:\", math.factorial(5))\n",
    "print(\"Square root of 16:\", math.sqrt(16))\n",
    "print(\"Power (2^3):\", math.pow(2, 3))\n",
    "print(\"Greatest common divisor of 48 and 18:\", math.gcd(48, 18))\n",
    "print(\"Absolute value of -10:\", math.fabs(-10))"
   ]
  },
  {
   "cell_type": "code",
   "execution_count": 44,
   "id": "3_ARgps_69bK",
   "metadata": {
    "colab": {
     "base_uri": "https://localhost:8080/"
    },
    "executionInfo": {
     "elapsed": 16,
     "status": "ok",
     "timestamp": 1753687558487,
     "user": {
      "displayName": "Srinivas Appana",
      "userId": "17871761728706768737"
     },
     "user_tz": -330
    },
    "id": "3_ARgps_69bK",
    "outputId": "44f0ae25-94c0-4591-e617-f095e0580829"
   },
   "outputs": [
    {
     "name": "stdout",
     "output_type": "stream",
     "text": [
      "Value of pi: 3.141592653589793\n",
      "Value of e: 2.718281828459045\n"
     ]
    }
   ],
   "source": [
    "# Constants\n",
    "print(\"Value of pi:\", math.pi)\n",
    "print(\"Value of e:\", math.e)"
   ]
  },
  {
   "cell_type": "code",
   "execution_count": 45,
   "id": "Y09bHrZX7Iey",
   "metadata": {
    "colab": {
     "base_uri": "https://localhost:8080/"
    },
    "executionInfo": {
     "elapsed": 57,
     "status": "ok",
     "timestamp": 1753687581505,
     "user": {
      "displayName": "Srinivas Appana",
      "userId": "17871761728706768737"
     },
     "user_tz": -330
    },
    "id": "Y09bHrZX7Iey",
    "outputId": "485029cd-632a-48e1-e083-14327d23291e"
   },
   "outputs": [
    {
     "name": "stdout",
     "output_type": "stream",
     "text": [
      "cos(pi): -1.0\n",
      "sin(pi/2): 1.0\n",
      "tan(pi/4): 0.9999999999999999\n"
     ]
    }
   ],
   "source": [
    "# Trigonometry\n",
    "print(\"cos(pi):\", math.cos(math.pi))\n",
    "print(\"sin(pi/2):\", math.sin(math.pi / 2))\n",
    "print(\"tan(pi/4):\", math.tan(math.pi / 4))\n"
   ]
  },
  {
   "cell_type": "code",
   "execution_count": 46,
   "id": "j7whFhQW7OFy",
   "metadata": {
    "colab": {
     "base_uri": "https://localhost:8080/"
    },
    "executionInfo": {
     "elapsed": 18,
     "status": "ok",
     "timestamp": 1753687607708,
     "user": {
      "displayName": "Srinivas Appana",
      "userId": "17871761728706768737"
     },
     "user_tz": -330
    },
    "id": "j7whFhQW7OFy",
    "outputId": "4f86710c-264b-4b77-eeed-a238db7b99b5"
   },
   "outputs": [
    {
     "name": "stdout",
     "output_type": "stream",
     "text": [
      "Natural log of 10: 2.302585092994046\n",
      "Log base 10 of 1000: 3.0\n",
      "Log base 2 of 8: 3.0\n"
     ]
    }
   ],
   "source": [
    "# Logarithms\n",
    "print(\"Natural log of 10:\", math.log(10))\n",
    "print(\"Log base 10 of 1000:\", math.log10(1000))\n",
    "print(\"Log base 2 of 8:\", math.log2(8))"
   ]
  },
  {
   "cell_type": "code",
   "execution_count": 47,
   "id": "BVBgUFrs7Ufz",
   "metadata": {
    "colab": {
     "base_uri": "https://localhost:8080/"
    },
    "executionInfo": {
     "elapsed": 26,
     "status": "ok",
     "timestamp": 1753687625003,
     "user": {
      "displayName": "Srinivas Appana",
      "userId": "17871761728706768737"
     },
     "user_tz": -330
    },
    "id": "BVBgUFrs7Ufz",
    "outputId": "7e1373b5-f992-48ec-9429-e1fc9662bbd8"
   },
   "outputs": [
    {
     "name": "stdout",
     "output_type": "stream",
     "text": [
      "Convert 180 degrees to radians: 3.141592653589793\n",
      "Convert pi radians to degrees: 180.0\n"
     ]
    }
   ],
   "source": [
    "# Degrees and radians conversion\n",
    "print(\"Convert 180 degrees to radians:\", math.radians(180))\n",
    "print(\"Convert pi radians to degrees:\", math.degrees(math.pi))"
   ]
  },
  {
   "cell_type": "markdown",
   "id": "ZegQk7EW7n40",
   "metadata": {
    "id": "ZegQk7EW7n40"
   },
   "source": [
    "## **Conditional statements in python**"
   ]
  },
  {
   "cell_type": "code",
   "execution_count": 48,
   "id": "vTId4Axk8VuM",
   "metadata": {
    "executionInfo": {
     "elapsed": 41,
     "status": "ok",
     "timestamp": 1753687877786,
     "user": {
      "displayName": "Srinivas Appana",
      "userId": "17871761728706768737"
     },
     "user_tz": -330
    },
    "id": "vTId4Axk8VuM"
   },
   "outputs": [],
   "source": [
    "x = 10\n",
    "y = 5\n",
    "z = -3"
   ]
  },
  {
   "cell_type": "markdown",
   "id": "37gysygw8DgE",
   "metadata": {
    "id": "37gysygw8DgE"
   },
   "source": [
    "**`if`**"
   ]
  },
  {
   "cell_type": "code",
   "execution_count": 49,
   "id": "Ff2cWJ4F7q93",
   "metadata": {
    "colab": {
     "base_uri": "https://localhost:8080/"
    },
    "executionInfo": {
     "elapsed": 17,
     "status": "ok",
     "timestamp": 1753687884934,
     "user": {
      "displayName": "Srinivas Appana",
      "userId": "17871761728706768737"
     },
     "user_tz": -330
    },
    "id": "Ff2cWJ4F7q93",
    "outputId": "70266120-c61d-49d4-9e23-6607b0a8b82e"
   },
   "outputs": [
    {
     "name": "stdout",
     "output_type": "stream",
     "text": [
      "10 is greater than 5\n"
     ]
    }
   ],
   "source": [
    "if x > y:\n",
    "    print(f\"{x} is greater than {y}\")"
   ]
  },
  {
   "cell_type": "markdown",
   "id": "kATvv4UM8Y_F",
   "metadata": {
    "id": "kATvv4UM8Y_F"
   },
   "source": [
    "**`if - else`**"
   ]
  },
  {
   "cell_type": "code",
   "execution_count": 50,
   "id": "ivzHYKFK8TN0",
   "metadata": {
    "colab": {
     "base_uri": "https://localhost:8080/"
    },
    "executionInfo": {
     "elapsed": 20,
     "status": "ok",
     "timestamp": 1753687932954,
     "user": {
      "displayName": "Srinivas Appana",
      "userId": "17871761728706768737"
     },
     "user_tz": -330
    },
    "id": "ivzHYKFK8TN0",
    "outputId": "bfad8c6e-090f-41b7-bf3b-7da5d33d56af"
   },
   "outputs": [
    {
     "name": "stdout",
     "output_type": "stream",
     "text": [
      "-3 is not positive\n"
     ]
    }
   ],
   "source": [
    "if z > 0:\n",
    "    print(f\"{z} is positive\")\n",
    "else:\n",
    "    print(f\"{z} is not positive\")"
   ]
  },
  {
   "cell_type": "markdown",
   "id": "NrbyvAsM8lZt",
   "metadata": {
    "id": "NrbyvAsM8lZt"
   },
   "source": [
    "**`if - elif - else`**"
   ]
  },
  {
   "cell_type": "code",
   "execution_count": 51,
   "id": "tAD3gvlz8j5t",
   "metadata": {
    "colab": {
     "base_uri": "https://localhost:8080/"
    },
    "executionInfo": {
     "elapsed": 16,
     "status": "ok",
     "timestamp": 1753688006539,
     "user": {
      "displayName": "Srinivas Appana",
      "userId": "17871761728706768737"
     },
     "user_tz": -330
    },
    "id": "tAD3gvlz8j5t",
    "outputId": "9b169e25-9c22-4b88-f0d7-062e04623e64"
   },
   "outputs": [
    {
     "name": "stdout",
     "output_type": "stream",
     "text": [
      "10 is greater than 5\n"
     ]
    }
   ],
   "source": [
    "if x < y:\n",
    "    print(f\"{x} is less than {y}\")\n",
    "elif x == y:\n",
    "    print(f\"{x} is equal to {y}\")\n",
    "else:\n",
    "    print(f\"{x} is greater than {y}\")"
   ]
  },
  {
   "cell_type": "markdown",
   "id": "-S3KuqHG84G9",
   "metadata": {
    "id": "-S3KuqHG84G9"
   },
   "source": [
    "**`if - multiple elif - else`**"
   ]
  },
  {
   "cell_type": "code",
   "execution_count": 52,
   "id": "6cwaWMU1813k",
   "metadata": {
    "colab": {
     "base_uri": "https://localhost:8080/"
    },
    "executionInfo": {
     "elapsed": 15,
     "status": "ok",
     "timestamp": 1753688058422,
     "user": {
      "displayName": "Srinivas Appana",
      "userId": "17871761728706768737"
     },
     "user_tz": -330
    },
    "id": "6cwaWMU1813k",
    "outputId": "ae9436fc-dba4-456e-e45e-f6d7279669f7"
   },
   "outputs": [
    {
     "name": "stdout",
     "output_type": "stream",
     "text": [
      "Grade: B\n"
     ]
    }
   ],
   "source": [
    "grade = 85\n",
    "if grade >= 90:\n",
    "    print(\"Grade: A\")\n",
    "elif grade >= 80:\n",
    "    print(\"Grade: B\")\n",
    "elif grade >= 70:\n",
    "    print(\"Grade: C\")\n",
    "else:\n",
    "    print(\"Grade: F\")"
   ]
  },
  {
   "cell_type": "markdown",
   "id": "o9lq6O4f9Gn1",
   "metadata": {
    "id": "o9lq6O4f9Gn1"
   },
   "source": [
    "**`ternary operator`** for if else"
   ]
  },
  {
   "cell_type": "code",
   "execution_count": 53,
   "id": "rdz2-ziN9CiN",
   "metadata": {
    "colab": {
     "base_uri": "https://localhost:8080/"
    },
    "executionInfo": {
     "elapsed": 19,
     "status": "ok",
     "timestamp": 1753688167437,
     "user": {
      "displayName": "Srinivas Appana",
      "userId": "17871761728706768737"
     },
     "user_tz": -330
    },
    "id": "rdz2-ziN9CiN",
    "outputId": "187af764-f791-4c1b-fbc1-c4bfc9dd6520"
   },
   "outputs": [
    {
     "name": "stdout",
     "output_type": "stream",
     "text": [
      "10 is: Even\n"
     ]
    }
   ],
   "source": [
    "is_even = \"Even\" if x % 2 == 0 else \"Odd\"\n",
    "print(f\"{x} is:\", is_even)"
   ]
  },
  {
   "cell_type": "markdown",
   "id": "I9EJn9oq9tJn",
   "metadata": {
    "id": "I9EJn9oq9tJn"
   },
   "source": [
    "**`match - case`**"
   ]
  },
  {
   "cell_type": "markdown",
   "id": "9nEVwjbP95_A",
   "metadata": {
    "id": "9nEVwjbP95_A"
   },
   "source": [
    "It is similar to **`if - multiple elif`**"
   ]
  },
  {
   "cell_type": "code",
   "execution_count": 54,
   "id": "72p689sw9a4-",
   "metadata": {
    "colab": {
     "base_uri": "https://localhost:8080/"
    },
    "executionInfo": {
     "elapsed": 17,
     "status": "ok",
     "timestamp": 1753688271292,
     "user": {
      "displayName": "Srinivas Appana",
      "userId": "17871761728706768737"
     },
     "user_tz": -330
    },
    "id": "72p689sw9a4-",
    "outputId": "8c13999b-8888-45cf-dc8a-15e6a15db12c"
   },
   "outputs": [
    {
     "name": "stdout",
     "output_type": "stream",
     "text": [
      "Starting the system...\n"
     ]
    }
   ],
   "source": [
    "command = \"start\"\n",
    "\n",
    "match command:\n",
    "    case \"start\":\n",
    "        print(\"Starting the system...\")\n",
    "    case \"stop\":\n",
    "        print(\"Stopping the system...\")\n",
    "    case \"pause\":\n",
    "        print(\"Pausing the system...\")\n",
    "    case \"restart\":\n",
    "        print(\"Restarting the system...\")\n",
    "    case _:\n",
    "        print(\"5. Unknown command\")"
   ]
  },
  {
   "cell_type": "markdown",
   "id": "u3iMKRvl-J3R",
   "metadata": {
    "id": "u3iMKRvl-J3R"
   },
   "source": [
    "## **Short circuit in python**"
   ]
  },
  {
   "cell_type": "markdown",
   "id": "hADPwMky_cel",
   "metadata": {
    "id": "hADPwMky_cel"
   },
   "source": [
    "**Short circuiting** is when python stops evaluating a logical expression as soon as the result is known - without checking the remaining part"
   ]
  },
  {
   "cell_type": "markdown",
   "id": "XIOmj7uO_qRN",
   "metadata": {
    "id": "XIOmj7uO_qRN"
   },
   "source": [
    "Logical **`and`** short circuit"
   ]
  },
  {
   "cell_type": "code",
   "execution_count": 55,
   "id": "EHIhxzrw92gQ",
   "metadata": {
    "colab": {
     "base_uri": "https://localhost:8080/"
    },
    "executionInfo": {
     "elapsed": 17,
     "status": "ok",
     "timestamp": 1753688820504,
     "user": {
      "displayName": "Srinivas Appana",
      "userId": "17871761728706768737"
     },
     "user_tz": -330
    },
    "id": "EHIhxzrw92gQ",
    "outputId": "c23e6816-0806-4493-e373-c57b49fa353f"
   },
   "outputs": [
    {
     "name": "stdout",
     "output_type": "stream",
     "text": [
      "if block exicuted\n"
     ]
    }
   ],
   "source": [
    "a = 9\n",
    "b = 2\n",
    "\n",
    "if (a>b) or (1/0):\n",
    "  print(\"if block exicuted\")"
   ]
  },
  {
   "cell_type": "code",
   "execution_count": 56,
   "id": "C6XdLpThDG92",
   "metadata": {
    "colab": {
     "base_uri": "https://localhost:8080/",
     "height": 159
    },
    "collapsed": true,
    "executionInfo": {
     "elapsed": 61,
     "status": "error",
     "timestamp": 1753689670113,
     "user": {
      "displayName": "Srinivas Appana",
      "userId": "17871761728706768737"
     },
     "user_tz": -330
    },
    "id": "C6XdLpThDG92",
    "jupyter": {
     "outputs_hidden": true
    },
    "outputId": "d67992b6-99da-4bd0-eead-ffcdce750929"
   },
   "outputs": [
    {
     "ename": "ZeroDivisionError",
     "evalue": "division by zero",
     "output_type": "error",
     "traceback": [
      "\u001b[31m---------------------------------------------------------------------------\u001b[39m",
      "\u001b[31mZeroDivisionError\u001b[39m                         Traceback (most recent call last)",
      "\u001b[36mCell\u001b[39m\u001b[36m \u001b[39m\u001b[32mIn[56]\u001b[39m\u001b[32m, line 1\u001b[39m\n\u001b[32m----> \u001b[39m\u001b[32m1\u001b[39m \u001b[38;5;28;01mif\u001b[39;00m (\u001b[32;43m1\u001b[39;49m\u001b[43m/\u001b[49m\u001b[32;43m0\u001b[39;49m) \u001b[38;5;129;01mor\u001b[39;00m (a>b):\n\u001b[32m      2\u001b[39m   \u001b[38;5;28mprint\u001b[39m(\u001b[33m\"\u001b[39m\u001b[33mif block exicuted\u001b[39m\u001b[33m\"\u001b[39m)\n",
      "\u001b[31mZeroDivisionError\u001b[39m: division by zero"
     ]
    }
   ],
   "source": [
    "if (1/0) or (a>b):\n",
    "  print(\"if block exicuted\")"
   ]
  },
  {
   "cell_type": "code",
   "execution_count": 57,
   "id": "IdGRufaF_8lu",
   "metadata": {
    "colab": {
     "base_uri": "https://localhost:8080/"
    },
    "executionInfo": {
     "elapsed": 22,
     "status": "ok",
     "timestamp": 1753688840702,
     "user": {
      "displayName": "Srinivas Appana",
      "userId": "17871761728706768737"
     },
     "user_tz": -330
    },
    "id": "IdGRufaF_8lu",
    "outputId": "076b6fca-958d-47db-ed79-e7aeb26c45d8"
   },
   "outputs": [
    {
     "name": "stdout",
     "output_type": "stream",
     "text": [
      "ZeroDivisionError\n"
     ]
    }
   ],
   "source": [
    "try:\n",
    "  if (a>b) and (1/0):\n",
    "    print(\"if block exicuted\")\n",
    "except ZeroDivisionError:\n",
    "  print(\"ZeroDivisionError\")"
   ]
  },
  {
   "cell_type": "code",
   "execution_count": 58,
   "id": "FJGoRnqPABg1",
   "metadata": {
    "colab": {
     "base_uri": "https://localhost:8080/"
    },
    "executionInfo": {
     "elapsed": 18,
     "status": "ok",
     "timestamp": 1753689708024,
     "user": {
      "displayName": "Srinivas Appana",
      "userId": "17871761728706768737"
     },
     "user_tz": -330
    },
    "id": "FJGoRnqPABg1",
    "outputId": "02d192b8-850a-4873-db51-081cab00ff29"
   },
   "outputs": [
    {
     "name": "stdout",
     "output_type": "stream",
     "text": [
      "program continues\n"
     ]
    }
   ],
   "source": [
    "try:\n",
    "  if (a<b) and (1/0):\n",
    "    print(\"if block exicuted\")\n",
    "except ZeroDivisionError:\n",
    "  print(\"ZeroDivisionError\")\n",
    "\n",
    "print(\"program continues\")"
   ]
  },
  {
   "cell_type": "markdown",
   "id": "wijtrVVmVx3O",
   "metadata": {
    "id": "wijtrVVmVx3O"
   },
   "source": [
    "## **Looping in python**"
   ]
  },
  {
   "cell_type": "markdown",
   "id": "f4LLMTY6WC2W",
   "metadata": {
    "id": "f4LLMTY6WC2W"
   },
   "source": [
    "### **`for loop`**"
   ]
  },
  {
   "cell_type": "markdown",
   "id": "KjJ3wY9lWIAm",
   "metadata": {
    "id": "KjJ3wY9lWIAm"
   },
   "source": [
    "`Indexing based`"
   ]
  },
  {
   "cell_type": "code",
   "execution_count": 59,
   "id": "Jttj9-pFWBz2",
   "metadata": {
    "colab": {
     "base_uri": "https://localhost:8080/"
    },
    "executionInfo": {
     "elapsed": 13,
     "status": "ok",
     "timestamp": 1753694692481,
     "user": {
      "displayName": "Srinivas Appana",
      "userId": "17871761728706768737"
     },
     "user_tz": -330
    },
    "id": "Jttj9-pFWBz2",
    "outputId": "4ca3fef5-8371-4b9a-8cb3-e4288a488c9b"
   },
   "outputs": [
    {
     "name": "stdout",
     "output_type": "stream",
     "text": [
      "0 1 2 3 4 5 6 7 8 9 "
     ]
    }
   ],
   "source": [
    "for i in range(10):\n",
    "  print(f\"{i}\", end = \" \")"
   ]
  },
  {
   "cell_type": "code",
   "execution_count": 60,
   "id": "wyg1u-ofWWNO",
   "metadata": {
    "colab": {
     "base_uri": "https://localhost:8080/"
    },
    "executionInfo": {
     "elapsed": 8,
     "status": "ok",
     "timestamp": 1753694718050,
     "user": {
      "displayName": "Srinivas Appana",
      "userId": "17871761728706768737"
     },
     "user_tz": -330
    },
    "id": "wyg1u-ofWWNO",
    "outputId": "0c63179d-f109-40f6-f3b0-7b56d8471341"
   },
   "outputs": [
    {
     "name": "stdout",
     "output_type": "stream",
     "text": [
      "4 5 6 7 8 9 "
     ]
    }
   ],
   "source": [
    "for i in range(4, 10):\n",
    "  print(i, end = \" \")"
   ]
  },
  {
   "cell_type": "code",
   "execution_count": 61,
   "id": "0SoVQWi0Wcc1",
   "metadata": {
    "colab": {
     "base_uri": "https://localhost:8080/"
    },
    "executionInfo": {
     "elapsed": 14,
     "status": "ok",
     "timestamp": 1753694728696,
     "user": {
      "displayName": "Srinivas Appana",
      "userId": "17871761728706768737"
     },
     "user_tz": -330
    },
    "id": "0SoVQWi0Wcc1",
    "outputId": "127da7be-d0a1-4a4e-9db1-1d57c5a696d1"
   },
   "outputs": [
    {
     "name": "stdout",
     "output_type": "stream",
     "text": [
      "4 6 8 "
     ]
    }
   ],
   "source": [
    "for i in range(4, 10, 2):\n",
    "  print(i, end = \" \")"
   ]
  },
  {
   "cell_type": "code",
   "execution_count": 62,
   "id": "HVmaaJi9WfDG",
   "metadata": {
    "colab": {
     "base_uri": "https://localhost:8080/"
    },
    "executionInfo": {
     "elapsed": 17,
     "status": "ok",
     "timestamp": 1753694747527,
     "user": {
      "displayName": "Srinivas Appana",
      "userId": "17871761728706768737"
     },
     "user_tz": -330
    },
    "id": "HVmaaJi9WfDG",
    "outputId": "21ebda31-25ad-432e-b0e4-53f0967a46cf"
   },
   "outputs": [
    {
     "name": "stdout",
     "output_type": "stream",
     "text": [
      "10 9 8 7 6 5 4 3 2 1 "
     ]
    }
   ],
   "source": [
    "for i in range(10, 0, -1):\n",
    "  print(i, end = \" \")"
   ]
  },
  {
   "cell_type": "markdown",
   "id": "fBUG1qJ1Wlh3",
   "metadata": {
    "id": "fBUG1qJ1Wlh3"
   },
   "source": [
    "`element based`"
   ]
  },
  {
   "cell_type": "code",
   "execution_count": 63,
   "id": "fexriWShWjpW",
   "metadata": {
    "executionInfo": {
     "elapsed": 41,
     "status": "ok",
     "timestamp": 1753694804889,
     "user": {
      "displayName": "Srinivas Appana",
      "userId": "17871761728706768737"
     },
     "user_tz": -330
    },
    "id": "fexriWShWjpW"
   },
   "outputs": [],
   "source": [
    "fruits = [\"apple\", \"banana\", \"mango\", \"goa\"]"
   ]
  },
  {
   "cell_type": "code",
   "execution_count": 64,
   "id": "N663FZ_HWxpO",
   "metadata": {
    "colab": {
     "base_uri": "https://localhost:8080/"
    },
    "executionInfo": {
     "elapsed": 13,
     "status": "ok",
     "timestamp": 1753694818531,
     "user": {
      "displayName": "Srinivas Appana",
      "userId": "17871761728706768737"
     },
     "user_tz": -330
    },
    "id": "N663FZ_HWxpO",
    "outputId": "2b444e72-fe1e-46a7-afb4-feed768d281e"
   },
   "outputs": [
    {
     "name": "stdout",
     "output_type": "stream",
     "text": [
      "apple\n",
      "banana\n",
      "mango\n",
      "goa\n"
     ]
    }
   ],
   "source": [
    "for fruit in fruits:\n",
    "  print(fruit)"
   ]
  },
  {
   "cell_type": "code",
   "execution_count": 65,
   "id": "S35LE3nkW0-v",
   "metadata": {
    "colab": {
     "base_uri": "https://localhost:8080/"
    },
    "executionInfo": {
     "elapsed": 14,
     "status": "ok",
     "timestamp": 1753694860936,
     "user": {
      "displayName": "Srinivas Appana",
      "userId": "17871761728706768737"
     },
     "user_tz": -330
    },
    "id": "S35LE3nkW0-v",
    "outputId": "0eae2912-1c15-4191-b525-28d0dbd195e5"
   },
   "outputs": [
    {
     "name": "stdout",
     "output_type": "stream",
     "text": [
      "apple\n",
      "banana\n",
      "mango\n",
      "goa\n"
     ]
    }
   ],
   "source": [
    "#indexing based\n",
    "for i in range(len(fruits)):\n",
    "  print(fruits[i])"
   ]
  },
  {
   "cell_type": "markdown",
   "id": "rDRWbKgpXIAN",
   "metadata": {
    "id": "rDRWbKgpXIAN"
   },
   "source": [
    "### **`while loop`**"
   ]
  },
  {
   "cell_type": "code",
   "execution_count": 66,
   "id": "hUG-k-fhXLeM",
   "metadata": {
    "colab": {
     "base_uri": "https://localhost:8080/"
    },
    "executionInfo": {
     "elapsed": 8,
     "status": "ok",
     "timestamp": 1753695034799,
     "user": {
      "displayName": "Srinivas Appana",
      "userId": "17871761728706768737"
     },
     "user_tz": -330
    },
    "id": "hUG-k-fhXLeM",
    "outputId": "774c95dc-6921-4ab7-9f52-d8638dc23b16"
   },
   "outputs": [
    {
     "name": "stdout",
     "output_type": "stream",
     "text": [
      "0 1 2 3 4 5 6 7 8 9 "
     ]
    }
   ],
   "source": [
    "i = 0\n",
    "while i<10:\n",
    "  print(i, end = \" \")\n",
    "  i += 1"
   ]
  },
  {
   "cell_type": "code",
   "execution_count": 67,
   "id": "STZHQP12XnMm",
   "metadata": {
    "colab": {
     "base_uri": "https://localhost:8080/"
    },
    "executionInfo": {
     "elapsed": 9,
     "status": "ok",
     "timestamp": 1753695297544,
     "user": {
      "displayName": "Srinivas Appana",
      "userId": "17871761728706768737"
     },
     "user_tz": -330
    },
    "id": "STZHQP12XnMm",
    "outputId": "1d6e048a-7817-4220-aac4-b712857019d7"
   },
   "outputs": [
    {
     "name": "stdout",
     "output_type": "stream",
     "text": [
      "10 8 6 4 2 0 "
     ]
    }
   ],
   "source": [
    "i = 10\n",
    "while i>=0:\n",
    "  if i%2 == 0:\n",
    "    print(i, end = \" \")\n",
    "  i -= 1\n"
   ]
  },
  {
   "cell_type": "code",
   "execution_count": 68,
   "id": "_-l90WHnYlOi",
   "metadata": {
    "colab": {
     "base_uri": "https://localhost:8080/"
    },
    "executionInfo": {
     "elapsed": 11,
     "status": "ok",
     "timestamp": 1753695693847,
     "user": {
      "displayName": "Srinivas Appana",
      "userId": "17871761728706768737"
     },
     "user_tz": -330
    },
    "id": "_-l90WHnYlOi",
    "outputId": "1f7291ef-ddd5-46c3-821f-f6b292aa04f3"
   },
   "outputs": [
    {
     "name": "stdout",
     "output_type": "stream",
     "text": [
      "10: even\n",
      "9: odd\n",
      "8: even\n",
      "7: odd\n",
      "6: even\n",
      "5: odd\n",
      "4: even\n",
      "3: odd\n",
      "2: even\n",
      "1: odd\n",
      "0: even\n"
     ]
    }
   ],
   "source": [
    "i = 10\n",
    "while i>=0:\n",
    "  if i%2 == 0:\n",
    "    print(f\"{i}: even\")\n",
    "  else:\n",
    "    print(f\"{i}: odd\")\n",
    "  i -= 1"
   ]
  },
  {
   "cell_type": "markdown",
   "id": "dkBTMtzaak_K",
   "metadata": {
    "id": "dkBTMtzaak_K"
   },
   "source": [
    "### **`do-while`**"
   ]
  },
  {
   "cell_type": "markdown",
   "id": "5acpXEpibaIc",
   "metadata": {
    "id": "5acpXEpibaIc"
   },
   "source": [
    "There is no direct do while loop in python<br>\n",
    "But it's implementation can be done by using python"
   ]
  },
  {
   "cell_type": "code",
   "execution_count": 69,
   "id": "GX0pn34waH6m",
   "metadata": {
    "colab": {
     "base_uri": "https://localhost:8080/"
    },
    "executionInfo": {
     "elapsed": 46,
     "status": "ok",
     "timestamp": 1753696507513,
     "user": {
      "displayName": "Srinivas Appana",
      "userId": "17871761728706768737"
     },
     "user_tz": -330
    },
    "id": "GX0pn34waH6m",
    "outputId": "ed98cb8c-3268-4efe-e984-5d5639002bf3"
   },
   "outputs": [
    {
     "name": "stdout",
     "output_type": "stream",
     "text": [
      "10\n"
     ]
    }
   ],
   "source": [
    "i = 10\n",
    "while True:\n",
    "  print(i)\n",
    "  if i>10:\n",
    "    i+=1\n",
    "    continue\n",
    "  else:\n",
    "    break"
   ]
  },
  {
   "cell_type": "markdown",
   "id": "UknBEwmndexM",
   "metadata": {
    "id": "UknBEwmndexM"
   },
   "source": [
    "## **jump Statements in python**"
   ]
  },
  {
   "cell_type": "markdown",
   "id": "5EFHV7kQdj4O",
   "metadata": {
    "id": "5EFHV7kQdj4O"
   },
   "source": [
    "Python has multiple jump statements like<br>\n",
    "`break`, `continue`, `pass`"
   ]
  },
  {
   "cell_type": "markdown",
   "id": "Hp2vZ7clecA8",
   "metadata": {
    "id": "Hp2vZ7clecA8"
   },
   "source": [
    "**`break`**"
   ]
  },
  {
   "cell_type": "code",
   "execution_count": 70,
   "id": "vaITSKfNdidd",
   "metadata": {
    "colab": {
     "base_uri": "https://localhost:8080/"
    },
    "executionInfo": {
     "elapsed": 12,
     "status": "ok",
     "timestamp": 1753696875164,
     "user": {
      "displayName": "Srinivas Appana",
      "userId": "17871761728706768737"
     },
     "user_tz": -330
    },
    "id": "vaITSKfNdidd",
    "outputId": "7b1ed6fa-c473-4055-abfe-abb0140502a0"
   },
   "outputs": [
    {
     "name": "stdout",
     "output_type": "stream",
     "text": [
      "Number: 1\n",
      "Number: 2\n",
      "breaking at: 3\n"
     ]
    }
   ],
   "source": [
    "for i in range(1, 6):\n",
    "  if i == 3:\n",
    "    print(f\"breaking at: {i}\")\n",
    "    break\n",
    "  print(f\"Number: {i}\")"
   ]
  },
  {
   "cell_type": "markdown",
   "id": "JcU-TtQTetPm",
   "metadata": {
    "id": "JcU-TtQTetPm"
   },
   "source": [
    "**`continue`**"
   ]
  },
  {
   "cell_type": "code",
   "execution_count": 71,
   "id": "-h-lEh8xerFX",
   "metadata": {
    "colab": {
     "base_uri": "https://localhost:8080/"
    },
    "executionInfo": {
     "elapsed": 10,
     "status": "ok",
     "timestamp": 1753696925791,
     "user": {
      "displayName": "Srinivas Appana",
      "userId": "17871761728706768737"
     },
     "user_tz": -330
    },
    "id": "-h-lEh8xerFX",
    "outputId": "0fe86c6e-9e09-48ca-9b8c-2e753f8d15b3"
   },
   "outputs": [
    {
     "name": "stdout",
     "output_type": "stream",
     "text": [
      "Number: 1\n",
      "Number: 2\n",
      "skipping at: 3\n",
      "Number: 4\n",
      "Number: 5\n"
     ]
    }
   ],
   "source": [
    "for i in range(1, 6):\n",
    "  if i == 3:\n",
    "    print(f\"skipping at: {i}\")\n",
    "    continue\n",
    "  print(f\"Number: {i}\")"
   ]
  },
  {
   "cell_type": "markdown",
   "id": "bR9pRVc8e7jA",
   "metadata": {
    "id": "bR9pRVc8e7jA"
   },
   "source": [
    "**`pass`**"
   ]
  },
  {
   "cell_type": "code",
   "execution_count": 72,
   "id": "YVk_gmYoe3cn",
   "metadata": {
    "executionInfo": {
     "elapsed": 5,
     "status": "ok",
     "timestamp": 1753696977529,
     "user": {
      "displayName": "Srinivas Appana",
      "userId": "17871761728706768737"
     },
     "user_tz": -330
    },
    "id": "YVk_gmYoe3cn"
   },
   "outputs": [],
   "source": [
    "for _ in range(10):\n",
    "  pass"
   ]
  },
  {
   "cell_type": "markdown",
   "id": "rRpv6bQCfZsX",
   "metadata": {
    "id": "rRpv6bQCfZsX"
   },
   "source": [
    "**`for with else`**"
   ]
  },
  {
   "cell_type": "markdown",
   "id": "PqJqFL1Wfhdm",
   "metadata": {
    "id": "PqJqFL1Wfhdm"
   },
   "source": [
    "else statement will be executed only when for loop completed without executing break statement."
   ]
  },
  {
   "cell_type": "code",
   "execution_count": 73,
   "id": "uLl0p_QqfCcG",
   "metadata": {
    "colab": {
     "base_uri": "https://localhost:8080/"
    },
    "executionInfo": {
     "elapsed": 10,
     "status": "ok",
     "timestamp": 1753697345474,
     "user": {
      "displayName": "Srinivas Appana",
      "userId": "17871761728706768737"
     },
     "user_tz": -330
    },
    "id": "uLl0p_QqfCcG",
    "outputId": "438f2c0e-2c6b-4cd9-84b4-52ba9d28f73e"
   },
   "outputs": [
    {
     "name": "stdout",
     "output_type": "stream",
     "text": [
      "12 not found\n"
     ]
    }
   ],
   "source": [
    "# an example for searching a number\n",
    "\n",
    "vals = [2, 3, 5, 7, 8, 9]\n",
    "target = 12\n",
    "\n",
    "for val in vals:\n",
    "  if val == target:\n",
    "    print(f\"found {target}\")\n",
    "    break\n",
    "else:\n",
    "  print(f\"{target} not found\")"
   ]
  },
  {
   "cell_type": "markdown",
   "id": "2maVJNU2hJCG",
   "metadata": {
    "id": "2maVJNU2hJCG"
   },
   "source": [
    "## **`Strings` in python**"
   ]
  },
  {
   "cell_type": "markdown",
   "id": "85496cbf",
   "metadata": {},
   "source": [
    "| Function | Description |\n",
    "|-----------|--------------|\n",
    "| `len()` | Returns the length of the string |\n",
    "| `lower()` | Converts all characters to lowercase |\n",
    "| `upper()` | Converts all characters to uppercase |\n",
    "| `title()` | Capitalizes the first letter of each word |\n",
    "| `strip()` | Removes whitespace from both ends |\n",
    "| `replace()` | Replaces a substring with another substring |\n",
    "| `split()` | Splits the string into a list |\n",
    "| `join()` | Joins iterable elements into a single string |\n",
    "| `find()` | Finds the first occurrence of a substring |\n",
    "| `count()` | Counts how many times a substring appears |\n",
    "| `startswith()` | Checks if the string starts with a given substring |\n",
    "| `endswith()` | Checks if the string ends with a given substring |\n",
    "| `isdigit()` | Returns True if all characters are digits |\n",
    "| `isalpha()` | Returns True if all characters are letters |\n",
    "| `isalnum()` | Returns True if all characters are letters or digits |\n",
    "| `capitalize()` | Capitalizes the first character |\n",
    "| `swapcase()` | Swaps uppercase to lowercase and vice versa |\n",
    "| `center()` | Centers the string with padding |\n"
   ]
  },
  {
   "cell_type": "code",
   "execution_count": 74,
   "id": "iJ748qMjgaf2",
   "metadata": {
    "colab": {
     "base_uri": "https://localhost:8080/"
    },
    "executionInfo": {
     "elapsed": 24,
     "status": "ok",
     "timestamp": 1753699120794,
     "user": {
      "displayName": "Srinivas Appana",
      "userId": "17871761728706768737"
     },
     "user_tz": -330
    },
    "id": "iJ748qMjgaf2",
    "outputId": "9056616e-d619-4387-a380-653642511715"
   },
   "outputs": [
    {
     "name": "stdout",
     "output_type": "stream",
     "text": [
      "strip: Hello, World!\n",
      "lstrip: Hello, World!  \n",
      "rstrip:   Hello, World!\n"
     ]
    }
   ],
   "source": [
    "# strip(), lstrip(), rstrip()\n",
    "\n",
    "text = \"  Hello, World!  \"\n",
    "\n",
    "print(\"strip:\", text.strip())\n",
    "print(\"lstrip:\", text.lstrip())\n",
    "print(\"rstrip:\", text.rstrip())"
   ]
  },
  {
   "cell_type": "code",
   "execution_count": 75,
   "id": "7qjTqg3iicBn",
   "metadata": {
    "colab": {
     "base_uri": "https://localhost:8080/"
    },
    "executionInfo": {
     "elapsed": 29,
     "status": "ok",
     "timestamp": 1753699121010,
     "user": {
      "displayName": "Srinivas Appana",
      "userId": "17871761728706768737"
     },
     "user_tz": -330
    },
    "id": "7qjTqg3iicBn",
    "outputId": "d66408a1-e042-4cb5-fcbc-9caeb59db7db"
   },
   "outputs": [
    {
     "name": "stdout",
     "output_type": "stream",
     "text": [
      "lower: python programming\n",
      "upper: PYTHON PROGRAMMING\n",
      "title: Python Programming\n",
      "capitalize: Python programming\n",
      "swapcase: pYtHoN pRoGrAmMiNg\n"
     ]
    }
   ],
   "source": [
    "# lower(), upper(), \"title()\", capitalize(), swapcase()\n",
    "\n",
    "mixed_case = \"PyThOn PrOgRaMmInG\"\n",
    "\n",
    "print(\"lower:\", mixed_case.lower())\n",
    "print(\"upper:\", mixed_case.upper())\n",
    "print(\"title:\", mixed_case.title())\n",
    "print(\"capitalize:\", mixed_case.capitalize())\n",
    "print(\"swapcase:\", mixed_case.swapcase())"
   ]
  },
  {
   "cell_type": "code",
   "execution_count": 76,
   "id": "uLmANSeqix0v",
   "metadata": {
    "colab": {
     "base_uri": "https://localhost:8080/"
    },
    "executionInfo": {
     "elapsed": 5,
     "status": "ok",
     "timestamp": 1753699121181,
     "user": {
      "displayName": "Srinivas Appana",
      "userId": "17871761728706768737"
     },
     "user_tz": -330
    },
    "id": "uLmANSeqix0v",
    "outputId": "3d0ed291-acd8-44c1-ce48-f138f83e93b6"
   },
   "outputs": [
    {
     "name": "stdout",
     "output_type": "stream",
     "text": [
      "isdigit: True\n",
      "isalpha: False\n",
      "isalnum: True\n",
      "isspace: True\n"
     ]
    }
   ],
   "source": [
    "# isdigit(), isalpha(), isalnum(), isspace()\n",
    "\n",
    "numeric = \"12345\"\n",
    "alphanumeric = \"abc123\"\n",
    "whitespace = \"   \\t\\n\"\n",
    "\n",
    "print(\"isdigit:\", numeric.isdigit())\n",
    "print(\"isalpha:\", alphanumeric.isalpha())\n",
    "print(\"isalnum:\", alphanumeric.isalnum())\n",
    "print(\"isspace:\", whitespace.isspace())"
   ]
  },
  {
   "cell_type": "code",
   "execution_count": 77,
   "id": "mSBC0zDyjdbC",
   "metadata": {
    "colab": {
     "base_uri": "https://localhost:8080/"
    },
    "executionInfo": {
     "elapsed": 6,
     "status": "ok",
     "timestamp": 1753699121335,
     "user": {
      "displayName": "Srinivas Appana",
      "userId": "17871761728706768737"
     },
     "user_tz": -330
    },
    "id": "mSBC0zDyjdbC",
    "outputId": "84d15726-3c82-4359-ccbc-3f200bf8f2b4"
   },
   "outputs": [
    {
     "name": "stdout",
     "output_type": "stream",
     "text": [
      "startswith 'Hello': True\n",
      "endswith '!': True\n"
     ]
    }
   ],
   "source": [
    "# strip(), startswith(), enswith()\n",
    "\n",
    "print(\"startswith 'Hello':\", text.strip().startswith(\"Hello\"))\n",
    "print(\"endswith '!':\", text.strip().endswith(\"!\"))"
   ]
  },
  {
   "cell_type": "code",
   "execution_count": 78,
   "id": "FX_-EUIajjgp",
   "metadata": {
    "colab": {
     "base_uri": "https://localhost:8080/"
    },
    "executionInfo": {
     "elapsed": 155,
     "status": "ok",
     "timestamp": 1753699121638,
     "user": {
      "displayName": "Srinivas Appana",
      "userId": "17871761728706768737"
     },
     "user_tz": -330
    },
    "id": "FX_-EUIajjgp",
    "outputId": "cb3de71e-9633-4d77-a0f1-4889a9c68700"
   },
   "outputs": [
    {
     "name": "stdout",
     "output_type": "stream",
     "text": [
      "  Hello, World!  \n",
      "find 'o': 6\n",
      "rfind 'o': 10\n",
      "index 'World': 9\n",
      "rindex 'l': 12\n"
     ]
    }
   ],
   "source": [
    "# find(), rfind(), index(), rindex()\n",
    "\n",
    "print(text)\n",
    "print(\"find 'o':\", text.find(\"o\"))\n",
    "print(\"rfind 'o':\", text.rfind(\"o\"))\n",
    "print(\"index 'World':\", text.index(\"World\"))\n",
    "print(\"rindex 'l':\", text.rindex(\"l\"))"
   ]
  },
  {
   "cell_type": "code",
   "execution_count": 79,
   "id": "8NmmJpMUjwk3",
   "metadata": {
    "colab": {
     "base_uri": "https://localhost:8080/"
    },
    "executionInfo": {
     "elapsed": 35,
     "status": "ok",
     "timestamp": 1753699121683,
     "user": {
      "displayName": "Srinivas Appana",
      "userId": "17871761728706768737"
     },
     "user_tz": -330
    },
    "id": "8NmmJpMUjwk3",
    "outputId": "f1ecc505-1de1-4082-bc93-ec2fbf9c4ee5"
   },
   "outputs": [
    {
     "name": "stdout",
     "output_type": "stream",
     "text": [
      "replace 'World' with 'Python':   Hello, Python!  \n"
     ]
    }
   ],
   "source": [
    "# replace()\n",
    "\n",
    "print(\"replace 'World' with 'Python':\", text.replace(\"World\", \"Python\"))"
   ]
  },
  {
   "cell_type": "code",
   "execution_count": 80,
   "id": "391YkH6kj253",
   "metadata": {
    "colab": {
     "base_uri": "https://localhost:8080/"
    },
    "executionInfo": {
     "elapsed": 22,
     "status": "ok",
     "timestamp": 1753699121837,
     "user": {
      "displayName": "Srinivas Appana",
      "userId": "17871761728706768737"
     },
     "user_tz": -330
    },
    "id": "391YkH6kj253",
    "outputId": "4677ee3f-cfcc-43ee-cc6d-0b0181388507"
   },
   "outputs": [
    {
     "name": "stdout",
     "output_type": "stream",
     "text": [
      "split: ['Python', 'is', 'easy', 'to', 'learn']\n",
      "rsplit: ['Python is easy', 'to', 'learn']\n"
     ]
    }
   ],
   "source": [
    "# split(), rsplit()\n",
    "\n",
    "sentence = \"Python is easy to learn\"\n",
    "\n",
    "print(\"split:\", sentence.split())\n",
    "print(\"rsplit:\", sentence.rsplit(\" \", 2))"
   ]
  },
  {
   "cell_type": "code",
   "execution_count": 81,
   "id": "swMdNtp7j_2h",
   "metadata": {
    "colab": {
     "base_uri": "https://localhost:8080/"
    },
    "executionInfo": {
     "elapsed": 44,
     "status": "ok",
     "timestamp": 1753699122032,
     "user": {
      "displayName": "Srinivas Appana",
      "userId": "17871761728706768737"
     },
     "user_tz": -330
    },
    "id": "swMdNtp7j_2h",
    "outputId": "6ac1a45c-0f4e-4a41-e5e4-aebe3d5589b0"
   },
   "outputs": [
    {
     "name": "stdout",
     "output_type": "stream",
     "text": [
      "splitlines: ['Line1', 'Line2', 'Line3']\n",
      "splitlines: ['Line1', 'Line2', 'Line3']\n"
     ]
    }
   ],
   "source": [
    "# splitlines()\n",
    "\n",
    "multi_line = \"Line1\\nLine2\\nLine3\"\n",
    "print(\"splitlines:\", multi_line.splitlines())\n",
    "print(\"splitlines:\", multi_line.split('\\n'))"
   ]
  },
  {
   "cell_type": "code",
   "execution_count": 82,
   "id": "6BWGiw_VkHsf",
   "metadata": {
    "colab": {
     "base_uri": "https://localhost:8080/"
    },
    "executionInfo": {
     "elapsed": 13,
     "status": "ok",
     "timestamp": 1753699122170,
     "user": {
      "displayName": "Srinivas Appana",
      "userId": "17871761728706768737"
     },
     "user_tz": -330
    },
    "id": "6BWGiw_VkHsf",
    "outputId": "42bb5114-a8bc-427e-91fc-93e500e3d7b4"
   },
   "outputs": [
    {
     "name": "stdout",
     "output_type": "stream",
     "text": [
      "join: Join these words\n"
     ]
    }
   ],
   "source": [
    "# join()\n",
    "\n",
    "words = [\"Join\", \"these\", \"words\"]\n",
    "print(\"join:\", \" \".join(words))"
   ]
  },
  {
   "cell_type": "code",
   "execution_count": 83,
   "id": "-a56w6DKkR-5",
   "metadata": {
    "colab": {
     "base_uri": "https://localhost:8080/"
    },
    "executionInfo": {
     "elapsed": 48,
     "status": "ok",
     "timestamp": 1753699122382,
     "user": {
      "displayName": "Srinivas Appana",
      "userId": "17871761728706768737"
     },
     "user_tz": -330
    },
    "id": "-a56w6DKkR-5",
    "outputId": "c2e2ffd9-0f80-4919-de5c-355e128dab96"
   },
   "outputs": [
    {
     "name": "stdout",
     "output_type": "stream",
     "text": [
      "count 'a' in banana: 3\n"
     ]
    }
   ],
   "source": [
    "# count()\n",
    "repeated = \"banana\"\n",
    "\n",
    "print(\"count 'a' in banana:\", repeated.count(\"a\"))"
   ]
  },
  {
   "cell_type": "code",
   "execution_count": 84,
   "id": "s7Q418f7kaE4",
   "metadata": {
    "colab": {
     "base_uri": "https://localhost:8080/"
    },
    "executionInfo": {
     "elapsed": 8,
     "status": "ok",
     "timestamp": 1753699122520,
     "user": {
      "displayName": "Srinivas Appana",
      "userId": "17871761728706768737"
     },
     "user_tz": -330
    },
    "id": "s7Q418f7kaE4",
    "outputId": "693656df-abfd-446c-8236-d3ef3336a365"
   },
   "outputs": [
    {
     "name": "stdout",
     "output_type": "stream",
     "text": [
      "zfill 5: 00042\n",
      "rjust 10: --------Hi\n",
      "ljust 10: Hi........\n"
     ]
    }
   ],
   "source": [
    "#zfill(), rjust(), ljust()\n",
    "\n",
    "print(\"zfill 5:\", \"42\".zfill(5))\n",
    "print(\"rjust 10:\", \"Hi\".rjust(10, '-'))\n",
    "print(\"ljust 10:\", \"Hi\".ljust(10, '.'))"
   ]
  },
  {
   "cell_type": "code",
   "execution_count": 85,
   "id": "AXrayI07ku-J",
   "metadata": {
    "colab": {
     "base_uri": "https://localhost:8080/"
    },
    "executionInfo": {
     "elapsed": 59,
     "status": "ok",
     "timestamp": 1753699122765,
     "user": {
      "displayName": "Srinivas Appana",
      "userId": "17871761728706768737"
     },
     "user_tz": -330
    },
    "id": "AXrayI07ku-J",
    "outputId": "52cbbd38-8304-417d-e411-98897c9bef8e"
   },
   "outputs": [
    {
     "name": "stdout",
     "output_type": "stream",
     "text": [
      "format: Name: Alice, Age: 30\n"
     ]
    }
   ],
   "source": [
    "# format()\n",
    "\n",
    "name = \"Alice\"\n",
    "age = 30\n",
    "print(\"format:\", \"Name: {}, Age: {}\".format(name, age))"
   ]
  },
  {
   "cell_type": "code",
   "execution_count": 86,
   "id": "LGSkdLs0k514",
   "metadata": {
    "colab": {
     "base_uri": "https://localhost:8080/"
    },
    "executionInfo": {
     "elapsed": 6,
     "status": "ok",
     "timestamp": 1753699122900,
     "user": {
      "displayName": "Srinivas Appana",
      "userId": "17871761728706768737"
     },
     "user_tz": -330
    },
    "id": "LGSkdLs0k514",
    "outputId": "b1f25d4d-6de4-4b16-cece-c3892b81bcc0"
   },
   "outputs": [
    {
     "name": "stdout",
     "output_type": "stream",
     "text": [
      "encode: b'Hello, World!'\n",
      "decode: Hello, World!\n"
     ]
    }
   ],
   "source": [
    "# encode(), decode()\n",
    "\n",
    "encoded = text.strip().encode('utf-8')\n",
    "print(\"encode:\", encoded)\n",
    "print(\"decode:\", encoded.decode('utf-8'))"
   ]
  },
  {
   "cell_type": "code",
   "execution_count": 87,
   "id": "FtNOs345lEkv",
   "metadata": {
    "colab": {
     "base_uri": "https://localhost:8080/"
    },
    "executionInfo": {
     "elapsed": 29,
     "status": "ok",
     "timestamp": 1753699123124,
     "user": {
      "displayName": "Srinivas Appana",
      "userId": "17871761728706768737"
     },
     "user_tz": -330
    },
    "id": "FtNOs345lEkv",
    "outputId": "067b37f6-9f5d-463d-f600-4423f06bda3e"
   },
   "outputs": [
    {
     "name": "stdout",
     "output_type": "stream",
     "text": [
      "casefold: python programming\n"
     ]
    }
   ],
   "source": [
    "# casefold()\n",
    "print(\"casefold:\", mixed_case.casefold())"
   ]
  },
  {
   "cell_type": "code",
   "execution_count": 88,
   "id": "9CweQuD4lY2w",
   "metadata": {
    "colab": {
     "base_uri": "https://localhost:8080/"
    },
    "executionInfo": {
     "elapsed": 21,
     "status": "ok",
     "timestamp": 1753699123312,
     "user": {
      "displayName": "Srinivas Appana",
      "userId": "17871761728706768737"
     },
     "user_tz": -330
    },
    "id": "9CweQuD4lY2w",
    "outputId": "2628fd20-ada8-43ff-c1ad-2eb6f3f7f1c7"
   },
   "outputs": [
    {
     "name": "stdout",
     "output_type": "stream",
     "text": [
      "partition 'o': ('  Hell', 'o', ', World!  ')\n",
      "rpartition 'o': ('  Hello, W', 'o', 'rld!  ')\n"
     ]
    }
   ],
   "source": [
    "# partition(), rpartition()\n",
    "\n",
    "print(\"partition 'o':\", text.partition(\"o\"))\n",
    "print(\"rpartition 'o':\", text.rpartition(\"o\"))"
   ]
  },
  {
   "cell_type": "code",
   "execution_count": 89,
   "id": "Ph13tSljliFw",
   "metadata": {
    "colab": {
     "base_uri": "https://localhost:8080/"
    },
    "executionInfo": {
     "elapsed": 5,
     "status": "ok",
     "timestamp": 1753699123497,
     "user": {
      "displayName": "Srinivas Appana",
      "userId": "17871761728706768737"
     },
     "user_tz": -330
    },
    "id": "Ph13tSljliFw",
    "outputId": "58227eee-7788-4366-fe77-0dfda36472a8"
   },
   "outputs": [
    {
     "name": "stdout",
     "output_type": "stream",
     "text": [
      "translate 'banana': b1n1n1\n"
     ]
    }
   ],
   "source": [
    "# maketrans(), translate()\n",
    "\n",
    "trans = str.maketrans(\"aeiou\", \"12345\")\n",
    "print(\"translate 'banana':\", \"banana\".translate(trans))"
   ]
  },
  {
   "cell_type": "markdown",
   "id": "Vok5JRD7nRRo",
   "metadata": {
    "id": "Vok5JRD7nRRo"
   },
   "source": [
    "## **`Lists` in python**"
   ]
  },
  {
   "cell_type": "markdown",
   "id": "e6b61c04",
   "metadata": {},
   "source": [
    "| Function | Description |\n",
    "|-----------|--------------|\n",
    "| `len()` | Returns the number of items in a list |\n",
    "| `append()` | Adds an item to the end of the list |\n",
    "| `extend()` | Adds multiple items to the end of the list |\n",
    "| `insert()` | Inserts an item at a specific position |\n",
    "| `remove()` | Removes the first occurrence of a value |\n",
    "| `pop()` | Removes and returns an item at a given index |\n",
    "| `clear()` | Removes all items from the list |\n",
    "| `index()` | Returns the index of the first occurrence of a value |\n",
    "| `count()` | Counts how many times a value appears |\n",
    "| `sort()` | Sorts the list in ascending order (by default) |\n",
    "| `reverse()` | Reverses the order of the list |\n",
    "| `copy()` | Returns a shallow copy of the list |\n",
    "| `sum()` | Returns the sum of all numeric items in the list |\n",
    "| `max()` | Returns the largest item in the list |\n",
    "| `min()` | Returns the smallest item in the list |"
   ]
  },
  {
   "cell_type": "markdown",
   "id": "cddd8e96",
   "metadata": {},
   "source": [
    "> Lists are mutable, ordered collections that can store multiple data types."
   ]
  },
  {
   "cell_type": "code",
   "execution_count": 90,
   "id": "qZyTM-VRl8B9",
   "metadata": {
    "colab": {
     "base_uri": "https://localhost:8080/"
    },
    "executionInfo": {
     "elapsed": 17,
     "status": "ok",
     "timestamp": 1753701327898,
     "user": {
      "displayName": "Srinivas Appana",
      "userId": "17871761728706768737"
     },
     "user_tz": -330
    },
    "id": "qZyTM-VRl8B9",
    "outputId": "3bd0b793-67f5-4a49-fd51-f9d09f2e6af4"
   },
   "outputs": [
    {
     "name": "stdout",
     "output_type": "stream",
     "text": [
      "['apple', 'banana', 'cherry']\n"
     ]
    }
   ],
   "source": [
    "fruits = [\"apple\", \"banana\", \"cherry\"]\n",
    "print(fruits)"
   ]
  },
  {
   "cell_type": "code",
   "execution_count": 91,
   "id": "8szfP1zGt8qD",
   "metadata": {
    "colab": {
     "base_uri": "https://localhost:8080/"
    },
    "executionInfo": {
     "elapsed": 33,
     "status": "ok",
     "timestamp": 1753701328154,
     "user": {
      "displayName": "Srinivas Appana",
      "userId": "17871761728706768737"
     },
     "user_tz": -330
    },
    "id": "8szfP1zGt8qD",
    "outputId": "32fc01e0-ca74-4584-91d0-4f054b61a501"
   },
   "outputs": [
    {
     "name": "stdout",
     "output_type": "stream",
     "text": [
      "append: ['apple', 'banana', 'cherry', 'orange']\n"
     ]
    }
   ],
   "source": [
    "# append()\n",
    "\n",
    "fruits.append(\"orange\")\n",
    "print(\"append:\", fruits)"
   ]
  },
  {
   "cell_type": "code",
   "execution_count": 92,
   "id": "ryk_0a_suAFZ",
   "metadata": {
    "colab": {
     "base_uri": "https://localhost:8080/"
    },
    "executionInfo": {
     "elapsed": 15,
     "status": "ok",
     "timestamp": 1753701328335,
     "user": {
      "displayName": "Srinivas Appana",
      "userId": "17871761728706768737"
     },
     "user_tz": -330
    },
    "id": "ryk_0a_suAFZ",
    "outputId": "a8e9642b-6b80-4388-f182-7f28724b0a15"
   },
   "outputs": [
    {
     "name": "stdout",
     "output_type": "stream",
     "text": [
      "extend: ['apple', 'banana', 'cherry', 'orange', 'grape', 'melon']\n"
     ]
    }
   ],
   "source": [
    "# extend()\n",
    "\n",
    "fruits.extend([\"grape\", \"melon\"])\n",
    "print(\"extend:\", fruits)"
   ]
  },
  {
   "cell_type": "code",
   "execution_count": 93,
   "id": "jS3IuqrRuJop",
   "metadata": {
    "colab": {
     "base_uri": "https://localhost:8080/"
    },
    "executionInfo": {
     "elapsed": 12,
     "status": "ok",
     "timestamp": 1753701328503,
     "user": {
      "displayName": "Srinivas Appana",
      "userId": "17871761728706768737"
     },
     "user_tz": -330
    },
    "id": "jS3IuqrRuJop",
    "outputId": "65553207-a66a-49dd-de5e-475c7eedd339"
   },
   "outputs": [
    {
     "name": "stdout",
     "output_type": "stream",
     "text": [
      "insert: ['apple', 'kiwi', 'banana', 'cherry', 'orange', 'grape', 'melon']\n"
     ]
    }
   ],
   "source": [
    "# insert()\n",
    "\n",
    "fruits.insert(1, \"kiwi\")\n",
    "print(\"insert:\", fruits)"
   ]
  },
  {
   "cell_type": "code",
   "execution_count": 94,
   "id": "BhjxDtMJuO3a",
   "metadata": {
    "colab": {
     "base_uri": "https://localhost:8080/"
    },
    "executionInfo": {
     "elapsed": 136,
     "status": "ok",
     "timestamp": 1753701328805,
     "user": {
      "displayName": "Srinivas Appana",
      "userId": "17871761728706768737"
     },
     "user_tz": -330
    },
    "id": "BhjxDtMJuO3a",
    "outputId": "6843ee66-75fa-45c8-f1e1-c67d2da256b9"
   },
   "outputs": [
    {
     "name": "stdout",
     "output_type": "stream",
     "text": [
      "remove: ['apple', 'kiwi', 'cherry', 'orange', 'grape', 'melon']\n"
     ]
    }
   ],
   "source": [
    "# remove()\n",
    "\n",
    "fruits.remove(\"banana\")\n",
    "print(\"remove:\", fruits)"
   ]
  },
  {
   "cell_type": "code",
   "execution_count": 95,
   "id": "MQ9aHqccuS_a",
   "metadata": {
    "colab": {
     "base_uri": "https://localhost:8080/"
    },
    "executionInfo": {
     "elapsed": 32,
     "status": "ok",
     "timestamp": 1753701328878,
     "user": {
      "displayName": "Srinivas Appana",
      "userId": "17871761728706768737"
     },
     "user_tz": -330
    },
    "id": "MQ9aHqccuS_a",
    "outputId": "b3802476-6620-45fc-92d3-d598807b5494"
   },
   "outputs": [
    {
     "name": "stdout",
     "output_type": "stream",
     "text": [
      "pop (last item): melon\n",
      "after pop: ['apple', 'kiwi', 'cherry', 'orange', 'grape']\n"
     ]
    }
   ],
   "source": [
    "# pop()\n",
    "\n",
    "last = fruits.pop()\n",
    "print(\"pop (last item):\", last)\n",
    "print(\"after pop:\", fruits)"
   ]
  },
  {
   "cell_type": "code",
   "execution_count": 96,
   "id": "5JmxhidouaOa",
   "metadata": {
    "colab": {
     "base_uri": "https://localhost:8080/"
    },
    "executionInfo": {
     "elapsed": 30,
     "status": "ok",
     "timestamp": 1753701329050,
     "user": {
      "displayName": "Srinivas Appana",
      "userId": "17871761728706768737"
     },
     "user_tz": -330
    },
    "id": "5JmxhidouaOa",
    "outputId": "21c21e43-8ee9-4171-a017-0d6895ac6195"
   },
   "outputs": [
    {
     "name": "stdout",
     "output_type": "stream",
     "text": [
      "pop(index): kiwi\n",
      "after pop: ['apple', 'cherry', 'orange', 'grape']\n"
     ]
    }
   ],
   "source": [
    "second = fruits.pop(1)\n",
    "\n",
    "print(\"pop(index):\", second)\n",
    "print(\"after pop:\", fruits)"
   ]
  },
  {
   "cell_type": "code",
   "execution_count": 97,
   "id": "paZ4IO-Augbb",
   "metadata": {
    "colab": {
     "base_uri": "https://localhost:8080/"
    },
    "executionInfo": {
     "elapsed": 28,
     "status": "ok",
     "timestamp": 1753701329228,
     "user": {
      "displayName": "Srinivas Appana",
      "userId": "17871761728706768737"
     },
     "user_tz": -330
    },
    "id": "paZ4IO-Augbb",
    "outputId": "16bac86d-fe0e-4748-ce71-952aa6e6eebf"
   },
   "outputs": [
    {
     "name": "stdout",
     "output_type": "stream",
     "text": [
      "clear: []\n"
     ]
    }
   ],
   "source": [
    "# clear()\n",
    "\n",
    "temp_list = fruits.copy()\n",
    "temp_list.clear()\n",
    "print(\"clear:\", temp_list)"
   ]
  },
  {
   "cell_type": "code",
   "execution_count": 98,
   "id": "0aIOZRadulTS",
   "metadata": {
    "colab": {
     "base_uri": "https://localhost:8080/"
    },
    "executionInfo": {
     "elapsed": 46,
     "status": "ok",
     "timestamp": 1753701329419,
     "user": {
      "displayName": "Srinivas Appana",
      "userId": "17871761728706768737"
     },
     "user_tz": -330
    },
    "id": "0aIOZRadulTS",
    "outputId": "c2267344-03f2-419e-e976-d35ba8465c3e"
   },
   "outputs": [
    {
     "name": "stdout",
     "output_type": "stream",
     "text": [
      "index of 'apple': 0\n"
     ]
    }
   ],
   "source": [
    "# index()\n",
    "\n",
    "print(\"index of 'apple':\", fruits.index(\"apple\"))"
   ]
  },
  {
   "cell_type": "code",
   "execution_count": 99,
   "id": "8gzZmR2Sut3h",
   "metadata": {
    "colab": {
     "base_uri": "https://localhost:8080/"
    },
    "executionInfo": {
     "elapsed": 6,
     "status": "ok",
     "timestamp": 1753701329572,
     "user": {
      "displayName": "Srinivas Appana",
      "userId": "17871761728706768737"
     },
     "user_tz": -330
    },
    "id": "8gzZmR2Sut3h",
    "outputId": "89e3b471-4e89-4d15-bd80-52bf7a138fdb"
   },
   "outputs": [
    {
     "name": "stdout",
     "output_type": "stream",
     "text": [
      "count of 1 in numbers: 2\n"
     ]
    }
   ],
   "source": [
    "# count()\n",
    "\n",
    "numbers = [3, 1, 4, 1, 5, 9]\n",
    "print(\"count of 1 in numbers:\", numbers.count(1))"
   ]
  },
  {
   "cell_type": "code",
   "execution_count": 100,
   "id": "cYovCaVmu35E",
   "metadata": {
    "colab": {
     "base_uri": "https://localhost:8080/"
    },
    "executionInfo": {
     "elapsed": 42,
     "status": "ok",
     "timestamp": 1753701329784,
     "user": {
      "displayName": "Srinivas Appana",
      "userId": "17871761728706768737"
     },
     "user_tz": -330
    },
    "id": "cYovCaVmu35E",
    "outputId": "c66a17ea-41fb-41e5-e411-8bca82f82edb"
   },
   "outputs": [
    {
     "name": "stdout",
     "output_type": "stream",
     "text": [
      "sort: [1, 1, 3, 4, 5, 9]\n"
     ]
    }
   ],
   "source": [
    "# sort()\n",
    "\n",
    "numbers.sort()\n",
    "print(\"sort:\", numbers)"
   ]
  },
  {
   "cell_type": "code",
   "execution_count": 101,
   "id": "K17hqb5Yu8XV",
   "metadata": {
    "colab": {
     "base_uri": "https://localhost:8080/"
    },
    "executionInfo": {
     "elapsed": 6,
     "status": "ok",
     "timestamp": 1753701329954,
     "user": {
      "displayName": "Srinivas Appana",
      "userId": "17871761728706768737"
     },
     "user_tz": -330
    },
    "id": "K17hqb5Yu8XV",
    "outputId": "5d156de5-1441-44e0-87d6-4594fa852304"
   },
   "outputs": [
    {
     "name": "stdout",
     "output_type": "stream",
     "text": [
      "reverse: [9, 5, 4, 3, 1, 1]\n"
     ]
    }
   ],
   "source": [
    "# reverse()\n",
    "\n",
    "numbers.reverse()\n",
    "print(\"reverse:\", numbers)"
   ]
  },
  {
   "cell_type": "code",
   "execution_count": 102,
   "id": "X5-mVU7PvBwP",
   "metadata": {
    "colab": {
     "base_uri": "https://localhost:8080/"
    },
    "executionInfo": {
     "elapsed": 46,
     "status": "ok",
     "timestamp": 1753701330160,
     "user": {
      "displayName": "Srinivas Appana",
      "userId": "17871761728706768737"
     },
     "user_tz": -330
    },
    "id": "X5-mVU7PvBwP",
    "outputId": "2c37ec45-e5fd-4aa5-980f-011040ec53dd"
   },
   "outputs": [
    {
     "name": "stdout",
     "output_type": "stream",
     "text": [
      "copy: ['apple', 'cherry', 'orange', 'grape']\n",
      "copy: ['apple', 'fig', 'orange', 'grape']\n",
      "original: ['apple', 'cherry', 'orange', 'grape']\n"
     ]
    }
   ],
   "source": [
    "# copy()\n",
    "copy_of_fruits = fruits.copy()\n",
    "print(\"copy:\", copy_of_fruits)\n",
    "\n",
    "copy_of_fruits[1] = \"fig\"\n",
    "print(\"copy:\", copy_of_fruits)\n",
    "print(\"original:\", fruits)"
   ]
  },
  {
   "cell_type": "code",
   "execution_count": 103,
   "id": "dp6FYp6gvQwb",
   "metadata": {
    "colab": {
     "base_uri": "https://localhost:8080/"
    },
    "executionInfo": {
     "elapsed": 15,
     "status": "ok",
     "timestamp": 1753701330327,
     "user": {
      "displayName": "Srinivas Appana",
      "userId": "17871761728706768737"
     },
     "user_tz": -330
    },
    "id": "dp6FYp6gvQwb",
    "outputId": "300b7325-4788-479c-c7ff-43883c6fd6c7"
   },
   "outputs": [
    {
     "name": "stdout",
     "output_type": "stream",
     "text": [
      "'apple' is in the list.\n"
     ]
    }
   ],
   "source": [
    "# conditional check\n",
    "\n",
    "if \"apple\" in fruits:\n",
    "    print(\"'apple' is in the list.\")"
   ]
  },
  {
   "cell_type": "code",
   "execution_count": 104,
   "id": "RZDpjbxivafD",
   "metadata": {
    "colab": {
     "base_uri": "https://localhost:8080/"
    },
    "executionInfo": {
     "elapsed": 46,
     "status": "ok",
     "timestamp": 1753701330533,
     "user": {
      "displayName": "Srinivas Appana",
      "userId": "17871761728706768737"
     },
     "user_tz": -330
    },
    "id": "RZDpjbxivafD",
    "outputId": "ed2b8323-2d71-4309-8a83-a22767e24e1a"
   },
   "outputs": [
    {
     "name": "stdout",
     "output_type": "stream",
     "text": [
      "len of fruits: 4\n"
     ]
    }
   ],
   "source": [
    "# len()\n",
    "\n",
    "print(\"len of fruits:\", len(fruits))"
   ]
  },
  {
   "cell_type": "code",
   "execution_count": 105,
   "id": "oSGd4ik9vfh_",
   "metadata": {
    "colab": {
     "base_uri": "https://localhost:8080/"
    },
    "executionInfo": {
     "elapsed": 20,
     "status": "ok",
     "timestamp": 1753701330667,
     "user": {
      "displayName": "Srinivas Appana",
      "userId": "17871761728706768737"
     },
     "user_tz": -330
    },
    "id": "oSGd4ik9vfh_",
    "outputId": "c9f667d3-570c-46ed-c73d-f96016c3a684"
   },
   "outputs": [
    {
     "name": "stdout",
     "output_type": "stream",
     "text": [
      "max: 9\n",
      "min: 1\n",
      "sum: 23\n"
     ]
    }
   ],
   "source": [
    "# max(), min(), sum()\n",
    "\n",
    "print(\"max:\", max(numbers))\n",
    "print(\"min:\", min(numbers))\n",
    "print(\"sum:\", sum(numbers))"
   ]
  },
  {
   "cell_type": "markdown",
   "id": "iBcHlggWwxnb",
   "metadata": {
    "id": "iBcHlggWwxnb"
   },
   "source": [
    "## **`Tuple` in python**"
   ]
  },
  {
   "cell_type": "markdown",
   "id": "7311cdd8",
   "metadata": {},
   "source": [
    "> Tuple is immutable"
   ]
  },
  {
   "cell_type": "code",
   "execution_count": 106,
   "id": "ZDrqPMxjw2hM",
   "metadata": {
    "executionInfo": {
     "elapsed": 6,
     "status": "ok",
     "timestamp": 1753701782310,
     "user": {
      "displayName": "Srinivas Appana",
      "userId": "17871761728706768737"
     },
     "user_tz": -330
    },
    "id": "ZDrqPMxjw2hM"
   },
   "outputs": [],
   "source": [
    "empty = ()\n",
    "single = (\"apple\",)\n",
    "multi = (\"apple\", \"banana\", \"cherry\")"
   ]
  },
  {
   "cell_type": "code",
   "execution_count": 107,
   "id": "LbUBBLjmxZHk",
   "metadata": {
    "colab": {
     "base_uri": "https://localhost:8080/"
    },
    "executionInfo": {
     "elapsed": 44,
     "status": "ok",
     "timestamp": 1753701797443,
     "user": {
      "displayName": "Srinivas Appana",
      "userId": "17871761728706768737"
     },
     "user_tz": -330
    },
    "id": "LbUBBLjmxZHk",
    "outputId": "6a17367f-eeee-4872-ea13-1e2322f22c4e"
   },
   "outputs": [
    {
     "name": "stdout",
     "output_type": "stream",
     "text": [
      "empty tuple: ()\n",
      "single-item tuple: ('apple',)\n",
      "multi-item tuple: ('apple', 'banana', 'cherry')\n"
     ]
    }
   ],
   "source": [
    "print(\"empty tuple:\", empty)\n",
    "print(\"single-item tuple:\", single)\n",
    "print(\"multi-item tuple:\", multi)"
   ]
  },
  {
   "cell_type": "code",
   "execution_count": 108,
   "id": "eNKQ_JIyxczj",
   "metadata": {
    "colab": {
     "base_uri": "https://localhost:8080/"
    },
    "executionInfo": {
     "elapsed": 18,
     "status": "ok",
     "timestamp": 1753701820696,
     "user": {
      "displayName": "Srinivas Appana",
      "userId": "17871761728706768737"
     },
     "user_tz": -330
    },
    "id": "eNKQ_JIyxczj",
    "outputId": "6484e174-f458-411c-9ab7-cccf8f9a53d7"
   },
   "outputs": [
    {
     "name": "stdout",
     "output_type": "stream",
     "text": [
      "First item: apple\n",
      "Last item: cherry\n",
      "Slice: ('apple', 'banana')\n"
     ]
    }
   ],
   "source": [
    "# indexing and slicing\n",
    "\n",
    "print(\"First item:\", multi[0])\n",
    "print(\"Last item:\", multi[-1])\n",
    "print(\"Slice:\", multi[0:2])"
   ]
  },
  {
   "cell_type": "code",
   "execution_count": 109,
   "id": "BHPvzTVCxifN",
   "metadata": {
    "colab": {
     "base_uri": "https://localhost:8080/"
    },
    "executionInfo": {
     "elapsed": 17,
     "status": "ok",
     "timestamp": 1753701881547,
     "user": {
      "displayName": "Srinivas Appana",
      "userId": "17871761728706768737"
     },
     "user_tz": -330
    },
    "id": "BHPvzTVCxifN",
    "outputId": "0a2de53f-1f0f-40df-ee03-cf905c26c17c"
   },
   "outputs": [
    {
     "name": "stdout",
     "output_type": "stream",
     "text": [
      "unpacked values: apple banana cherry\n",
      "unpacked values: apple ['banana', 'cherry']\n"
     ]
    }
   ],
   "source": [
    "# Tuple unpacking\n",
    "\n",
    "a, b, c = multi\n",
    "print(\"unpacked values:\", a, b, c)\n",
    "\n",
    "k, *g = multi\n",
    "print(\"unpacked values:\", k, g)"
   ]
  },
  {
   "cell_type": "code",
   "execution_count": 110,
   "id": "HD8x8Xqbxqy2",
   "metadata": {
    "colab": {
     "base_uri": "https://localhost:8080/"
    },
    "executionInfo": {
     "elapsed": 20,
     "status": "ok",
     "timestamp": 1753701900410,
     "user": {
      "displayName": "Srinivas Appana",
      "userId": "17871761728706768737"
     },
     "user_tz": -330
    },
    "id": "HD8x8Xqbxqy2",
    "outputId": "dfc94273-f846-4a42-f267-8c5f918f66a7"
   },
   "outputs": [
    {
     "name": "stdout",
     "output_type": "stream",
     "text": [
      "nested tuple: ('a', (1, 2, 3), 'b')\n",
      "access nested item: 2\n"
     ]
    }
   ],
   "source": [
    "# nested tuple\n",
    "\n",
    "nested = (\"a\", (1, 2, 3), \"b\")\n",
    "print(\"nested tuple:\", nested)\n",
    "print(\"access nested item:\", nested[1][1])"
   ]
  },
  {
   "cell_type": "code",
   "execution_count": 111,
   "id": "QA0-ImMkx18u",
   "metadata": {
    "colab": {
     "base_uri": "https://localhost:8080/"
    },
    "executionInfo": {
     "elapsed": 23,
     "status": "ok",
     "timestamp": 1753701919331,
     "user": {
      "displayName": "Srinivas Appana",
      "userId": "17871761728706768737"
     },
     "user_tz": -330
    },
    "id": "QA0-ImMkx18u",
    "outputId": "aafc6431-e909-4c82-ec06-a4a75edf95f9"
   },
   "outputs": [
    {
     "name": "stdout",
     "output_type": "stream",
     "text": [
      "count 'apple': 3\n",
      "index of 'cherry': 3\n"
     ]
    }
   ],
   "source": [
    "# count() and index()\n",
    "\n",
    "repeated = (\"apple\", \"banana\", \"apple\", \"cherry\", \"apple\")\n",
    "\n",
    "print(\"count 'apple':\", repeated.count(\"apple\"))\n",
    "print(\"index of 'cherry':\", repeated.index(\"cherry\"))"
   ]
  },
  {
   "cell_type": "code",
   "execution_count": 112,
   "id": "VEYbT0wHx6kX",
   "metadata": {
    "colab": {
     "base_uri": "https://localhost:8080/"
    },
    "executionInfo": {
     "elapsed": 36,
     "status": "ok",
     "timestamp": 1753701938365,
     "user": {
      "displayName": "Srinivas Appana",
      "userId": "17871761728706768737"
     },
     "user_tz": -330
    },
    "id": "VEYbT0wHx6kX",
    "outputId": "5523ad53-6fa3-467e-e447-3ff349456df0"
   },
   "outputs": [
    {
     "name": "stdout",
     "output_type": "stream",
     "text": [
      "length: 3\n"
     ]
    }
   ],
   "source": [
    "# len()\n",
    "\n",
    "print(\"length:\", len(multi))"
   ]
  },
  {
   "cell_type": "code",
   "execution_count": 113,
   "id": "-Usm8YB9x_No",
   "metadata": {
    "colab": {
     "base_uri": "https://localhost:8080/"
    },
    "executionInfo": {
     "elapsed": 19,
     "status": "ok",
     "timestamp": 1753701951282,
     "user": {
      "displayName": "Srinivas Appana",
      "userId": "17871761728706768737"
     },
     "user_tz": -330
    },
    "id": "-Usm8YB9x_No",
    "outputId": "38dd2d67-82c7-490c-bc81-992b83636197"
   },
   "outputs": [
    {
     "name": "stdout",
     "output_type": "stream",
     "text": [
      "Is 'banana' in tuple? True\n"
     ]
    }
   ],
   "source": [
    "# membership in tuple\n",
    "\n",
    "print(\"Is 'banana' in tuple?\", \"banana\" in multi)"
   ]
  },
  {
   "cell_type": "code",
   "execution_count": 114,
   "id": "6VVD209AyCXp",
   "metadata": {
    "colab": {
     "base_uri": "https://localhost:8080/"
    },
    "executionInfo": {
     "elapsed": 15,
     "status": "ok",
     "timestamp": 1753701973399,
     "user": {
      "displayName": "Srinivas Appana",
      "userId": "17871761728706768737"
     },
     "user_tz": -330
    },
    "id": "6VVD209AyCXp",
    "outputId": "fdfa9d64-82e8-4668-cb05-46a058afb22f"
   },
   "outputs": [
    {
     "name": "stdout",
     "output_type": "stream",
     "text": [
      "concatenated: (1, 2, 3, 4)\n"
     ]
    }
   ],
   "source": [
    "t1 = (1, 2)\n",
    "t2 = (3, 4)\n",
    "combined = t1 + t2\n",
    "print(\"concatenated:\", combined)"
   ]
  },
  {
   "cell_type": "code",
   "execution_count": 115,
   "id": "QA66NHjDyHxS",
   "metadata": {
    "colab": {
     "base_uri": "https://localhost:8080/"
    },
    "executionInfo": {
     "elapsed": 11,
     "status": "ok",
     "timestamp": 1753701991015,
     "user": {
      "displayName": "Srinivas Appana",
      "userId": "17871761728706768737"
     },
     "user_tz": -330
    },
    "id": "QA66NHjDyHxS",
    "outputId": "9d0408c0-f442-4096-c975-050e1ece0e6b"
   },
   "outputs": [
    {
     "name": "stdout",
     "output_type": "stream",
     "text": [
      "repeated tuple: (1, 2, 1, 2, 1, 2)\n"
     ]
    }
   ],
   "source": [
    "# repetition in tuple\n",
    "\n",
    "print(\"repeated tuple:\", t1 * 3)"
   ]
  },
  {
   "cell_type": "code",
   "execution_count": 116,
   "id": "Vg5M8ciLyMEq",
   "metadata": {
    "colab": {
     "base_uri": "https://localhost:8080/"
    },
    "executionInfo": {
     "elapsed": 13,
     "status": "ok",
     "timestamp": 1753702025019,
     "user": {
      "displayName": "Srinivas Appana",
      "userId": "17871761728706768737"
     },
     "user_tz": -330
    },
    "id": "Vg5M8ciLyMEq",
    "outputId": "5d8fc27e-1287-434b-b400-94f0bc20a5dd"
   },
   "outputs": [
    {
     "name": "stdout",
     "output_type": "stream",
     "text": [
      "mixed types tuple: (1, 'text', 3.14, True)\n"
     ]
    }
   ],
   "source": [
    "# tuple can be heterogenous\n",
    "\n",
    "mixed = (1, \"text\", 3.14, True)\n",
    "print(\"mixed types tuple:\", mixed)"
   ]
  },
  {
   "cell_type": "code",
   "execution_count": 117,
   "id": "T_7ht6zuyUX8",
   "metadata": {
    "colab": {
     "base_uri": "https://localhost:8080/"
    },
    "executionInfo": {
     "elapsed": 17,
     "status": "ok",
     "timestamp": 1753702043769,
     "user": {
      "displayName": "Srinivas Appana",
      "userId": "17871761728706768737"
     },
     "user_tz": -330
    },
    "id": "T_7ht6zuyUX8",
    "outputId": "b49a2e4d-63f2-439a-c687-3c0e632f88ae"
   },
   "outputs": [
    {
     "name": "stdout",
     "output_type": "stream",
     "text": [
      "conditional loop:\n",
      "  -> Found an apple!\n",
      "  -> Found an apple!\n",
      "  -> Found an apple!\n"
     ]
    }
   ],
   "source": [
    "# conditional looping in tuple\n",
    "\n",
    "print(\"conditional loop:\")\n",
    "for item in repeated:\n",
    "    if item == \"apple\":\n",
    "        print(\"  -> Found an apple!\")"
   ]
  },
  {
   "cell_type": "code",
   "execution_count": 118,
   "id": "RUbXE3CHyY8l",
   "metadata": {
    "colab": {
     "base_uri": "https://localhost:8080/"
    },
    "executionInfo": {
     "elapsed": 9,
     "status": "ok",
     "timestamp": 1753702069454,
     "user": {
      "displayName": "Srinivas Appana",
      "userId": "17871761728706768737"
     },
     "user_tz": -330
    },
    "id": "RUbXE3CHyY8l",
    "outputId": "d01ccd39-f4fd-4b95-ebca-33bb317b6049"
   },
   "outputs": [
    {
     "name": "stdout",
     "output_type": "stream",
     "text": [
      "TypeError: 'tuple' object does not support item assignment\n"
     ]
    }
   ],
   "source": [
    "# tuples are immutable\n",
    "\n",
    "try:\n",
    "  multi[1] = \"fig\"\n",
    "except TypeError as e:\n",
    "  print(\"TypeError:\", e)"
   ]
  },
  {
   "cell_type": "markdown",
   "id": "PN6vdXKDyib_",
   "metadata": {
    "id": "PN6vdXKDyib_"
   },
   "source": [
    "## **`set` in python**"
   ]
  },
  {
   "cell_type": "markdown",
   "id": "gf_H3Ddry3s3",
   "metadata": {
    "id": "gf_H3Ddry3s3"
   },
   "source": [
    "\n",
    "\n",
    "*   Set is unordered and can be heterogenous\n",
    "*   Set contains only unique values\n",
    "\n"
   ]
  },
  {
   "cell_type": "markdown",
   "id": "24c8b78f",
   "metadata": {},
   "source": [
    "| Function | Description |\n",
    "|-----------|--------------|\n",
    "| `len()` | Returns the number of elements in the set |\n",
    "| `add()` | Adds an element to the set |\n",
    "| `update()` | Adds multiple elements to the set |\n",
    "| `remove()` | Removes a specific element (raises error if not found) |\n",
    "| `discard()` | Removes a specific element (no error if not found) |\n",
    "| `pop()` | Removes and returns an arbitrary element |\n",
    "| `clear()` | Removes all elements from the set |\n",
    "| `union()` | Returns a set containing all unique elements from both sets |\n",
    "| `intersection()` | Returns elements common to both sets |\n",
    "| `difference()` | Returns elements present in one set but not the other |\n",
    "| `symmetric_difference()` | Returns elements in either set but not in both |\n",
    "| `issubset()` | Checks if one set is a subset of another |\n",
    "| `issuperset()` | Checks if one set is a superset of another |\n",
    "| `isdisjoint()` | Checks if two sets have no elements in common |\n",
    "| `copy()` | Returns a shallow copy of the set |"
   ]
  },
  {
   "cell_type": "markdown",
   "id": "3d819964",
   "metadata": {},
   "source": [
    "> Sets are unordered collections of unique elements — great for removing duplicates and performing mathematical operations."
   ]
  },
  {
   "cell_type": "code",
   "execution_count": 119,
   "id": "Ry3GYenkyfN9",
   "metadata": {
    "colab": {
     "base_uri": "https://localhost:8080/"
    },
    "executionInfo": {
     "elapsed": 16,
     "status": "ok",
     "timestamp": 1753702252038,
     "user": {
      "displayName": "Srinivas Appana",
      "userId": "17871761728706768737"
     },
     "user_tz": -330
    },
    "id": "Ry3GYenkyfN9",
    "outputId": "6471fce0-bc7d-4625-f081-0b756cc4eaaf"
   },
   "outputs": [
    {
     "name": "stdout",
     "output_type": "stream",
     "text": [
      "{False, True}\n"
     ]
    }
   ],
   "source": [
    "# in set 'True' and 1 considered to be same similarly for False, 0\n",
    "\n",
    "data = {True, 1, False, 0}\n",
    "print(data)"
   ]
  },
  {
   "cell_type": "code",
   "execution_count": 120,
   "id": "PLbziwDAzSQG",
   "metadata": {
    "colab": {
     "base_uri": "https://localhost:8080/"
    },
    "executionInfo": {
     "elapsed": 12,
     "status": "ok",
     "timestamp": 1753702402190,
     "user": {
      "displayName": "Srinivas Appana",
      "userId": "17871761728706768737"
     },
     "user_tz": -330
    },
    "id": "PLbziwDAzSQG",
    "outputId": "b92c8447-3a25-4cad-bec5-19715a3b6233"
   },
   "outputs": [
    {
     "name": "stdout",
     "output_type": "stream",
     "text": [
      "<class 'dict'>\n",
      "<class 'set'>\n"
     ]
    }
   ],
   "source": [
    "# empty set vs empty dictionary\n",
    "\n",
    "data_1 = {}\n",
    "print(type(data_1)) # its an empty dictionary\n",
    "\n",
    "data_2 = set()\n",
    "print(type(data_2)) # its an empty set"
   ]
  },
  {
   "cell_type": "code",
   "execution_count": 121,
   "id": "mTZ6M0cTzLyO",
   "metadata": {
    "colab": {
     "base_uri": "https://localhost:8080/"
    },
    "executionInfo": {
     "elapsed": 7,
     "status": "ok",
     "timestamp": 1753702411751,
     "user": {
      "displayName": "Srinivas Appana",
      "userId": "17871761728706768737"
     },
     "user_tz": -330
    },
    "id": "mTZ6M0cTzLyO",
    "outputId": "04d0b304-00ce-41fa-f39d-c302d7e04631"
   },
   "outputs": [
    {
     "name": "stdout",
     "output_type": "stream",
     "text": [
      "fruits set: {'cherry', 'banana', 'apple'}\n",
      "empty set: set()\n"
     ]
    }
   ],
   "source": [
    "fruits = {\"apple\", \"banana\", \"cherry\"}\n",
    "empty_set = set() # its and empty set\n",
    "\n",
    "print(\"fruits set:\", fruits)\n",
    "print(\"empty set:\", empty_set)"
   ]
  },
  {
   "cell_type": "code",
   "execution_count": 122,
   "id": "gBBqS0I2zgYO",
   "metadata": {
    "colab": {
     "base_uri": "https://localhost:8080/"
    },
    "executionInfo": {
     "elapsed": 18,
     "status": "ok",
     "timestamp": 1753702662706,
     "user": {
      "displayName": "Srinivas Appana",
      "userId": "17871761728706768737"
     },
     "user_tz": -330
    },
    "id": "gBBqS0I2zgYO",
    "outputId": "af3da5b5-c5a7-4d28-f21f-75836f897cf3"
   },
   "outputs": [
    {
     "name": "stdout",
     "output_type": "stream",
     "text": [
      "after add: {'orange', 'cherry', 'banana', 'apple'}\n"
     ]
    }
   ],
   "source": [
    "# adding elements to set add()\n",
    "fruits.add(\"orange\")\n",
    "print(\"after add:\", fruits)"
   ]
  },
  {
   "cell_type": "code",
   "execution_count": 123,
   "id": "a2lqVyyJ0wDo",
   "metadata": {
    "colab": {
     "base_uri": "https://localhost:8080/"
    },
    "executionInfo": {
     "elapsed": 19,
     "status": "ok",
     "timestamp": 1753702680898,
     "user": {
      "displayName": "Srinivas Appana",
      "userId": "17871761728706768737"
     },
     "user_tz": -330
    },
    "id": "a2lqVyyJ0wDo",
    "outputId": "004777f6-3085-458d-937d-500f59a9501b"
   },
   "outputs": [
    {
     "name": "stdout",
     "output_type": "stream",
     "text": [
      "after update: {'cherry', 'banana', 'orange', 'apple', 'grape', 'melon'}\n"
     ]
    }
   ],
   "source": [
    "# Updating with multiple elements update()\n",
    "\n",
    "fruits.update([\"grape\", \"melon\"])\n",
    "print(\"after update:\", fruits)"
   ]
  },
  {
   "cell_type": "code",
   "execution_count": 124,
   "id": "8jfCPf1200f4",
   "metadata": {
    "colab": {
     "base_uri": "https://localhost:8080/"
    },
    "executionInfo": {
     "elapsed": 24,
     "status": "ok",
     "timestamp": 1753702711036,
     "user": {
      "displayName": "Srinivas Appana",
      "userId": "17871761728706768737"
     },
     "user_tz": -330
    },
    "id": "8jfCPf1200f4",
    "outputId": "2e3fb13d-4df0-45a5-f30b-3de15d5adc94"
   },
   "outputs": [
    {
     "name": "stdout",
     "output_type": "stream",
     "text": [
      "after remove: {'cherry', 'orange', 'apple', 'grape', 'melon'}\n"
     ]
    }
   ],
   "source": [
    "# Removing elements remove()\n",
    "\n",
    "fruits.remove(\"banana\")  # Raises error if not found\n",
    "print(\"after remove:\", fruits)"
   ]
  },
  {
   "cell_type": "code",
   "execution_count": 125,
   "id": "hyb1Zf3U072W",
   "metadata": {
    "colab": {
     "base_uri": "https://localhost:8080/"
    },
    "executionInfo": {
     "elapsed": 20,
     "status": "ok",
     "timestamp": 1753702732604,
     "user": {
      "displayName": "Srinivas Appana",
      "userId": "17871761728706768737"
     },
     "user_tz": -330
    },
    "id": "hyb1Zf3U072W",
    "outputId": "97943d3d-f421-4c86-df77-0653fc93de0c"
   },
   "outputs": [
    {
     "name": "stdout",
     "output_type": "stream",
     "text": [
      "after discard: {'cherry', 'orange', 'apple', 'grape', 'melon'}\n"
     ]
    }
   ],
   "source": [
    "# removing elements discard()\n",
    "\n",
    "fruits.discard(\"kiwi\")  # No error if not found\n",
    "print(\"after discard:\", fruits)"
   ]
  },
  {
   "cell_type": "code",
   "execution_count": 126,
   "id": "IV0KW39T1BHw",
   "metadata": {
    "colab": {
     "base_uri": "https://localhost:8080/"
    },
    "executionInfo": {
     "elapsed": 55,
     "status": "ok",
     "timestamp": 1753702755208,
     "user": {
      "displayName": "Srinivas Appana",
      "userId": "17871761728706768737"
     },
     "user_tz": -330
    },
    "id": "IV0KW39T1BHw",
    "outputId": "d3014b89-31ca-46c5-9a61-483dac32bfe8"
   },
   "outputs": [
    {
     "name": "stdout",
     "output_type": "stream",
     "text": [
      "popped: cherry\n",
      "after pop: {'orange', 'apple', 'grape', 'melon'}\n"
     ]
    }
   ],
   "source": [
    "# Popping an element (removes a random item)\n",
    "\n",
    "removed = fruits.pop()\n",
    "print(\"popped:\", removed)\n",
    "print(\"after pop:\", fruits)"
   ]
  },
  {
   "cell_type": "code",
   "execution_count": 127,
   "id": "kY3IZmYm1GoW",
   "metadata": {
    "colab": {
     "base_uri": "https://localhost:8080/"
    },
    "executionInfo": {
     "elapsed": 19,
     "status": "ok",
     "timestamp": 1753702769882,
     "user": {
      "displayName": "Srinivas Appana",
      "userId": "17871761728706768737"
     },
     "user_tz": -330
    },
    "id": "kY3IZmYm1GoW",
    "outputId": "46922884-24fb-400f-b392-611aee1d985e"
   },
   "outputs": [
    {
     "name": "stdout",
     "output_type": "stream",
     "text": [
      "after clear: set()\n"
     ]
    }
   ],
   "source": [
    "# Clearing a set clear()\n",
    "\n",
    "copy_fruits = fruits.copy()\n",
    "copy_fruits.clear()\n",
    "print(\"after clear:\", copy_fruits)"
   ]
  },
  {
   "cell_type": "code",
   "execution_count": 128,
   "id": "imU9FN8Z1KOG",
   "metadata": {
    "colab": {
     "base_uri": "https://localhost:8080/"
    },
    "executionInfo": {
     "elapsed": 19,
     "status": "ok",
     "timestamp": 1753702785299,
     "user": {
      "displayName": "Srinivas Appana",
      "userId": "17871761728706768737"
     },
     "user_tz": -330
    },
    "id": "imU9FN8Z1KOG",
    "outputId": "71fc5603-71bb-4b1f-cb3a-a112e4618170"
   },
   "outputs": [
    {
     "name": "stdout",
     "output_type": "stream",
     "text": [
      "Is 'apple' in fruits? True\n"
     ]
    }
   ],
   "source": [
    "# Membership test in set\n",
    "\n",
    "print(\"Is 'apple' in fruits?\", \"apple\" in fruits)"
   ]
  },
  {
   "cell_type": "code",
   "execution_count": 129,
   "id": "CFmoNOp11N_G",
   "metadata": {
    "colab": {
     "base_uri": "https://localhost:8080/"
    },
    "executionInfo": {
     "elapsed": 12,
     "status": "ok",
     "timestamp": 1753702800207,
     "user": {
      "displayName": "Srinivas Appana",
      "userId": "17871761728706768737"
     },
     "user_tz": -330
    },
    "id": "CFmoNOp11N_G",
    "outputId": "82a35430-8704-4270-9578-4f207b1fda13"
   },
   "outputs": [
    {
     "name": "stdout",
     "output_type": "stream",
     "text": [
      "length: 4\n"
     ]
    }
   ],
   "source": [
    "# Set length len()\n",
    "\n",
    "print(\"length:\", len(fruits))"
   ]
  },
  {
   "cell_type": "code",
   "execution_count": 130,
   "id": "eyK_ZZy91RoH",
   "metadata": {
    "executionInfo": {
     "elapsed": 11,
     "status": "ok",
     "timestamp": 1753702840748,
     "user": {
      "displayName": "Srinivas Appana",
      "userId": "17871761728706768737"
     },
     "user_tz": -330
    },
    "id": "eyK_ZZy91RoH"
   },
   "outputs": [],
   "source": [
    "# set operations\n",
    "\n",
    "set1 = {1, 2, 3}\n",
    "set2 = {3, 4, 5}"
   ]
  },
  {
   "cell_type": "code",
   "execution_count": 131,
   "id": "I64Z8d1i1qB6",
   "metadata": {
    "colab": {
     "base_uri": "https://localhost:8080/"
    },
    "executionInfo": {
     "elapsed": 58,
     "status": "ok",
     "timestamp": 1753702926956,
     "user": {
      "displayName": "Srinivas Appana",
      "userId": "17871761728706768737"
     },
     "user_tz": -330
    },
    "id": "I64Z8d1i1qB6",
    "outputId": "cc74d188-106d-417d-a2fa-bf9cd2e430cb"
   },
   "outputs": [
    {
     "name": "stdout",
     "output_type": "stream",
     "text": [
      "union: {1, 2, 3, 4, 5}\n",
      "intersection: {3}\n",
      "difference: {1, 2}\n",
      "symmetric difference: {1, 2, 4, 5}\n"
     ]
    }
   ],
   "source": [
    "# using sumbols\n",
    "\n",
    "print(\"union:\", set1 | set2)\n",
    "\n",
    "print(\"intersection:\", set1 & set2)\n",
    "\n",
    "print(\"difference:\", set1 - set2)\n",
    "\n",
    "print(\"symmetric difference:\", set1 ^ set2)"
   ]
  },
  {
   "cell_type": "code",
   "execution_count": 132,
   "id": "OBoAyVOR1bhi",
   "metadata": {
    "colab": {
     "base_uri": "https://localhost:8080/"
    },
    "executionInfo": {
     "elapsed": 9,
     "status": "ok",
     "timestamp": 1753702930639,
     "user": {
      "displayName": "Srinivas Appana",
      "userId": "17871761728706768737"
     },
     "user_tz": -330
    },
    "id": "OBoAyVOR1bhi",
    "outputId": "7c80056b-0507-4ed0-9c4a-0eecb4084749"
   },
   "outputs": [
    {
     "name": "stdout",
     "output_type": "stream",
     "text": [
      "union: {1, 2, 3, 4, 5}\n",
      "intersection: {3}\n",
      "difference: {1, 2}\n",
      "symmetric difference: {1, 2, 4, 5}\n"
     ]
    }
   ],
   "source": [
    "print(\"union:\", set1.union(set2))\n",
    "\n",
    "print(\"intersection:\", set1.intersection(set2))\n",
    "\n",
    "print(\"difference:\", set1.difference(set2))\n",
    "\n",
    "print(\"symmetric difference:\", set1.symmetric_difference(set2))"
   ]
  },
  {
   "cell_type": "code",
   "execution_count": 133,
   "id": "VsjgLxdC1oQ_",
   "metadata": {
    "colab": {
     "base_uri": "https://localhost:8080/"
    },
    "executionInfo": {
     "elapsed": 23,
     "status": "ok",
     "timestamp": 1753702949555,
     "user": {
      "displayName": "Srinivas Appana",
      "userId": "17871761728706768737"
     },
     "user_tz": -330
    },
    "id": "VsjgLxdC1oQ_",
    "outputId": "38e25978-f2e5-48c9-fc77-f07faea3c11e"
   },
   "outputs": [
    {
     "name": "stdout",
     "output_type": "stream",
     "text": [
      "after intersection_update: {2, 3}\n"
     ]
    }
   ],
   "source": [
    "# In-place set operations\n",
    "\n",
    "a = {1, 2, 3}\n",
    "b = {2, 3, 4}\n",
    "a.intersection_update(b)\n",
    "print(\"after intersection_update:\", a)"
   ]
  },
  {
   "cell_type": "code",
   "execution_count": 134,
   "id": "Thw4LwjQ12FZ",
   "metadata": {
    "colab": {
     "base_uri": "https://localhost:8080/"
    },
    "executionInfo": {
     "elapsed": 38,
     "status": "ok",
     "timestamp": 1753702958938,
     "user": {
      "displayName": "Srinivas Appana",
      "userId": "17871761728706768737"
     },
     "user_tz": -330
    },
    "id": "Thw4LwjQ12FZ",
    "outputId": "c34b83cc-61d9-4180-876d-22e977edc6f9"
   },
   "outputs": [
    {
     "name": "stdout",
     "output_type": "stream",
     "text": [
      "after difference_update: {1}\n"
     ]
    }
   ],
   "source": [
    "a = {1, 2, 3}\n",
    "a.difference_update(b)\n",
    "print(\"after difference_update:\", a)"
   ]
  },
  {
   "cell_type": "code",
   "execution_count": 135,
   "id": "4yx5edyc14Xx",
   "metadata": {
    "colab": {
     "base_uri": "https://localhost:8080/"
    },
    "executionInfo": {
     "elapsed": 6,
     "status": "ok",
     "timestamp": 1753702968144,
     "user": {
      "displayName": "Srinivas Appana",
      "userId": "17871761728706768737"
     },
     "user_tz": -330
    },
    "id": "4yx5edyc14Xx",
    "outputId": "866098a5-b968-4ca0-eb53-99af6eddbb68"
   },
   "outputs": [
    {
     "name": "stdout",
     "output_type": "stream",
     "text": [
      "after symmetric_difference_update: {1, 4}\n"
     ]
    }
   ],
   "source": [
    "a = {1, 2, 3}\n",
    "a.symmetric_difference_update(b)\n",
    "print(\"after symmetric_difference_update:\", a)"
   ]
  },
  {
   "cell_type": "code",
   "execution_count": 136,
   "id": "ZAC-e9og16oF",
   "metadata": {
    "colab": {
     "base_uri": "https://localhost:8080/"
    },
    "executionInfo": {
     "elapsed": 55,
     "status": "ok",
     "timestamp": 1753703017539,
     "user": {
      "displayName": "Srinivas Appana",
      "userId": "17871761728706768737"
     },
     "user_tz": -330
    },
    "id": "ZAC-e9og16oF",
    "outputId": "f3b35571-a315-4141-bf4c-9f4bc66a80cd"
   },
   "outputs": [
    {
     "name": "stdout",
     "output_type": "stream",
     "text": [
      "x is subset of y: True\n",
      "y is superset of x: True\n",
      "x is disjoint with z: True\n"
     ]
    }
   ],
   "source": [
    "# issubset(), issuperset(), iisdisjoint()\n",
    "\n",
    "x = {1, 2}\n",
    "y = {1, 2, 3}\n",
    "z = {4, 5}\n",
    "\n",
    "print(\"x is subset of y:\", x.issubset(y))\n",
    "print(\"y is superset of x:\", y.issuperset(x))\n",
    "print(\"x is disjoint with z:\", x.isdisjoint(z))"
   ]
  },
  {
   "cell_type": "code",
   "execution_count": 137,
   "id": "GdTerNaN2GrD",
   "metadata": {
    "colab": {
     "base_uri": "https://localhost:8080/"
    },
    "executionInfo": {
     "elapsed": 23,
     "status": "ok",
     "timestamp": 1753703042896,
     "user": {
      "displayName": "Srinivas Appana",
      "userId": "17871761728706768737"
     },
     "user_tz": -330
    },
    "id": "GdTerNaN2GrD",
    "outputId": "bf203692-3f24-4d82-c3fa-f2cfc0f44034"
   },
   "outputs": [
    {
     "name": "stdout",
     "output_type": "stream",
     "text": [
      "loop through fruits:\n",
      " - orange\n",
      " - apple\n",
      " - grape\n",
      " - melon\n"
     ]
    }
   ],
   "source": [
    "# itemwise looping trough sets\n",
    "print(\"loop through fruits:\")\n",
    "for item in fruits:\n",
    "    print(\" -\", item)"
   ]
  },
  {
   "cell_type": "markdown",
   "id": "WH0DCu792Qvw",
   "metadata": {
    "id": "WH0DCu792Qvw"
   },
   "source": [
    "## **`Dictonary` in python**"
   ]
  },
  {
   "cell_type": "markdown",
   "id": "182fe160",
   "metadata": {},
   "source": [
    "| Function | Description |\n",
    "|-----------|--------------|\n",
    "| `len()` | Returns the number of key-value pairs in the dictionary |\n",
    "| `keys()` | Returns a view object with all keys |\n",
    "| `values()` | Returns a view object with all values |\n",
    "| `items()` | Returns a view object with key-value pairs as tuples |\n",
    "| `get()` | Returns the value for a key (returns `None` if not found) |\n",
    "| `update()` | Updates the dictionary with another dictionary or key-value pairs |\n",
    "| `pop()` | Removes and returns the value for a given key |\n",
    "| `popitem()` | Removes and returns the last inserted key-value pair |\n",
    "| `clear()` | Removes all items from the dictionary |\n",
    "| `copy()` | Returns a shallow copy of the dictionary |"
   ]
  },
  {
   "cell_type": "code",
   "execution_count": 138,
   "id": "sQ2SfotS2Tye",
   "metadata": {
    "colab": {
     "base_uri": "https://localhost:8080/"
    },
    "executionInfo": {
     "elapsed": 30,
     "status": "ok",
     "timestamp": 1753703261350,
     "user": {
      "displayName": "Srinivas Appana",
      "userId": "17871761728706768737"
     },
     "user_tz": -330
    },
    "id": "sQ2SfotS2Tye",
    "outputId": "898b0b4f-eaf6-46b5-f89c-ef1fc076cfe2"
   },
   "outputs": [
    {
     "name": "stdout",
     "output_type": "stream",
     "text": [
      "person: {'name': 'Alice', 'age': 30, 'city': 'New York'}\n",
      "empty_dict: {}\n"
     ]
    }
   ],
   "source": [
    "person = {\"name\": \"Alice\", \"age\": 30, \"city\": \"New York\"}\n",
    "empty_dict = dict()\n",
    "print(\"person:\", person)\n",
    "print(\"empty_dict:\", empty_dict)"
   ]
  },
  {
   "cell_type": "code",
   "execution_count": 139,
   "id": "-aMheINA3CNL",
   "metadata": {
    "colab": {
     "base_uri": "https://localhost:8080/"
    },
    "executionInfo": {
     "elapsed": 11,
     "status": "ok",
     "timestamp": 1753703284966,
     "user": {
      "displayName": "Srinivas Appana",
      "userId": "17871761728706768737"
     },
     "user_tz": -330
    },
    "id": "-aMheINA3CNL",
    "outputId": "cc4f1d86-8b45-43f0-c756-ff62db6c7f87"
   },
   "outputs": [
    {
     "name": "stdout",
     "output_type": "stream",
     "text": [
      "Name: Alice\n",
      "Age: 30\n"
     ]
    }
   ],
   "source": [
    "# accessing dict values\n",
    "\n",
    "print(\"Name:\", person[\"name\"])\n",
    "print(\"Age:\", person.get(\"age\"))"
   ]
  },
  {
   "cell_type": "code",
   "execution_count": 140,
   "id": "KGRLvPUs3G3I",
   "metadata": {
    "colab": {
     "base_uri": "https://localhost:8080/"
    },
    "executionInfo": {
     "elapsed": 56,
     "status": "ok",
     "timestamp": 1753703296709,
     "user": {
      "displayName": "Srinivas Appana",
      "userId": "17871761728706768737"
     },
     "user_tz": -330
    },
    "id": "KGRLvPUs3G3I",
    "outputId": "34a99673-de5a-4bb4-fdca-7287ba196471"
   },
   "outputs": [
    {
     "name": "stdout",
     "output_type": "stream",
     "text": [
      "updated age: {'name': 'Alice', 'age': 31, 'city': 'New York'}\n"
     ]
    }
   ],
   "source": [
    "# Modifying values\n",
    "\n",
    "person[\"age\"] = 31\n",
    "print(\"updated age:\", person)"
   ]
  },
  {
   "cell_type": "code",
   "execution_count": 141,
   "id": "fSY8nUpi3K1Q",
   "metadata": {
    "colab": {
     "base_uri": "https://localhost:8080/"
    },
    "executionInfo": {
     "elapsed": 19,
     "status": "ok",
     "timestamp": 1753703307267,
     "user": {
      "displayName": "Srinivas Appana",
      "userId": "17871761728706768737"
     },
     "user_tz": -330
    },
    "id": "fSY8nUpi3K1Q",
    "outputId": "dafacba5-d072-41e5-9c51-61ddc1634a8b"
   },
   "outputs": [
    {
     "name": "stdout",
     "output_type": "stream",
     "text": [
      "after adding job: {'name': 'Alice', 'age': 31, 'city': 'New York', 'job': 'Engineer'}\n"
     ]
    }
   ],
   "source": [
    "# Adding new key-value pairs\n",
    "\n",
    "person[\"job\"] = \"Engineer\"\n",
    "print(\"after adding job:\", person)"
   ]
  },
  {
   "cell_type": "code",
   "execution_count": 142,
   "id": "VT5lPSdi3Nay",
   "metadata": {
    "colab": {
     "base_uri": "https://localhost:8080/"
    },
    "executionInfo": {
     "elapsed": 22,
     "status": "ok",
     "timestamp": 1753703321631,
     "user": {
      "displayName": "Srinivas Appana",
      "userId": "17871761728706768737"
     },
     "user_tz": -330
    },
    "id": "VT5lPSdi3Nay",
    "outputId": "e0664739-a4b5-40b1-ca08-8dda1f88f20b"
   },
   "outputs": [
    {
     "name": "stdout",
     "output_type": "stream",
     "text": [
      "after pop city: {'name': 'Alice', 'age': 31, 'job': 'Engineer'}\n"
     ]
    }
   ],
   "source": [
    "# Removing items\n",
    "\n",
    "person.pop(\"city\")\n",
    "print(\"after pop city:\", person)"
   ]
  },
  {
   "cell_type": "code",
   "execution_count": 143,
   "id": "DMpjO3cA3Q7J",
   "metadata": {
    "colab": {
     "base_uri": "https://localhost:8080/"
    },
    "executionInfo": {
     "elapsed": 8,
     "status": "ok",
     "timestamp": 1753703341246,
     "user": {
      "displayName": "Srinivas Appana",
      "userId": "17871761728706768737"
     },
     "user_tz": -330
    },
    "id": "DMpjO3cA3Q7J",
    "outputId": "0f899f69-2346-44b9-ffcf-a9639923ed2e"
   },
   "outputs": [
    {
     "name": "stdout",
     "output_type": "stream",
     "text": [
      "popped item: ('job', 'Engineer')\n",
      "after popitem: {'name': 'Alice', 'age': 31}\n"
     ]
    }
   ],
   "source": [
    "job = person.popitem()  # removes last inserted item\n",
    "print(\"popped item:\", job)\n",
    "print(\"after popitem:\", person)"
   ]
  },
  {
   "cell_type": "code",
   "execution_count": 144,
   "id": "qKDdrZYj3Vtx",
   "metadata": {
    "colab": {
     "base_uri": "https://localhost:8080/"
    },
    "executionInfo": {
     "elapsed": 25,
     "status": "ok",
     "timestamp": 1753703367197,
     "user": {
      "displayName": "Srinivas Appana",
      "userId": "17871761728706768737"
     },
     "user_tz": -330
    },
    "id": "qKDdrZYj3Vtx",
    "outputId": "ab3df19e-07b7-4833-e8ec-e3175093c8c4"
   },
   "outputs": [
    {
     "name": "stdout",
     "output_type": "stream",
     "text": [
      "after del country: {'name': 'Alice', 'age': 31}\n"
     ]
    }
   ],
   "source": [
    "# Using del\n",
    "\n",
    "person[\"country\"] = \"USA\"\n",
    "del person[\"country\"]\n",
    "print(\"after del country:\", person)"
   ]
  },
  {
   "cell_type": "code",
   "execution_count": 145,
   "id": "Fg1o-7__3cDH",
   "metadata": {
    "colab": {
     "base_uri": "https://localhost:8080/"
    },
    "executionInfo": {
     "elapsed": 11,
     "status": "ok",
     "timestamp": 1753703382133,
     "user": {
      "displayName": "Srinivas Appana",
      "userId": "17871761728706768737"
     },
     "user_tz": -330
    },
    "id": "Fg1o-7__3cDH",
    "outputId": "a39081f1-8ec2-4597-9d45-61f9f8414679"
   },
   "outputs": [
    {
     "name": "stdout",
     "output_type": "stream",
     "text": [
      "after clear: {}\n"
     ]
    }
   ],
   "source": [
    "# Using clear clear()\n",
    "\n",
    "copy_person = person.copy()\n",
    "copy_person.clear()\n",
    "print(\"after clear:\", copy_person)"
   ]
  },
  {
   "cell_type": "code",
   "execution_count": 146,
   "id": "CeOkjgJw3fBY",
   "metadata": {
    "colab": {
     "base_uri": "https://localhost:8080/"
    },
    "executionInfo": {
     "elapsed": 11,
     "status": "ok",
     "timestamp": 1753703393849,
     "user": {
      "displayName": "Srinivas Appana",
      "userId": "17871761728706768737"
     },
     "user_tz": -330
    },
    "id": "CeOkjgJw3fBY",
    "outputId": "76459576-5376-4985-f1c8-7bcad3df858a"
   },
   "outputs": [
    {
     "name": "stdout",
     "output_type": "stream",
     "text": [
      "keys loop:\n",
      " - name\n",
      " - age\n"
     ]
    }
   ],
   "source": [
    "# Looping through keys\n",
    "\n",
    "print(\"keys loop:\")\n",
    "for key in person:\n",
    "    print(\" -\", key)"
   ]
  },
  {
   "cell_type": "code",
   "execution_count": 147,
   "id": "YIUKXPdZ3ijp",
   "metadata": {
    "colab": {
     "base_uri": "https://localhost:8080/"
    },
    "executionInfo": {
     "elapsed": 23,
     "status": "ok",
     "timestamp": 1753703405014,
     "user": {
      "displayName": "Srinivas Appana",
      "userId": "17871761728706768737"
     },
     "user_tz": -330
    },
    "id": "YIUKXPdZ3ijp",
    "outputId": "20b73a64-bb63-4e44-e7a6-574efd712e5a"
   },
   "outputs": [
    {
     "name": "stdout",
     "output_type": "stream",
     "text": [
      "values loop:\n",
      " - Alice\n",
      " - 31\n"
     ]
    }
   ],
   "source": [
    "# Looping through values\n",
    "\n",
    "print(\"values loop:\")\n",
    "for value in person.values():\n",
    "    print(\" -\", value)"
   ]
  },
  {
   "cell_type": "code",
   "execution_count": 148,
   "id": "uOzM-g3W3lSA",
   "metadata": {
    "colab": {
     "base_uri": "https://localhost:8080/"
    },
    "executionInfo": {
     "elapsed": 43,
     "status": "ok",
     "timestamp": 1753703429131,
     "user": {
      "displayName": "Srinivas Appana",
      "userId": "17871761728706768737"
     },
     "user_tz": -330
    },
    "id": "uOzM-g3W3lSA",
    "outputId": "79a89eed-74df-4300-da96-681dcd2b4eae"
   },
   "outputs": [
    {
     "name": "stdout",
     "output_type": "stream",
     "text": [
      "items loop:\n",
      " - name: Alice\n",
      " - age: 31\n"
     ]
    }
   ],
   "source": [
    "# Looping through items\n",
    "\n",
    "print(\"items loop:\")\n",
    "for key, value in person.items():\n",
    "    print(f\" - {key}: {value}\")"
   ]
  },
  {
   "cell_type": "code",
   "execution_count": 149,
   "id": "kqCHX9pH3rKY",
   "metadata": {
    "colab": {
     "base_uri": "https://localhost:8080/"
    },
    "executionInfo": {
     "elapsed": 20,
     "status": "ok",
     "timestamp": 1753703506244,
     "user": {
      "displayName": "Srinivas Appana",
      "userId": "17871761728706768737"
     },
     "user_tz": -330
    },
    "id": "kqCHX9pH3rKY",
    "outputId": "36c2d8f7-bb8c-49a8-d5cd-8dc38eb927b4"
   },
   "outputs": [
    {
     "name": "stdout",
     "output_type": "stream",
     "text": [
      "squares dict: {0: 0, 1: 1, 2: 4, 3: 9, 4: 16}\n"
     ]
    }
   ],
   "source": [
    "# Dictionary comprehension\n",
    "\n",
    "squares = {x: x**2 for x in range(5)}\n",
    "print(\"squares dict:\", squares)"
   ]
  },
  {
   "cell_type": "code",
   "execution_count": 150,
   "id": "rWD1W5hr39_w",
   "metadata": {
    "colab": {
     "base_uri": "https://localhost:8080/"
    },
    "executionInfo": {
     "elapsed": 27,
     "status": "ok",
     "timestamp": 1753703534114,
     "user": {
      "displayName": "Srinivas Appana",
      "userId": "17871761728706768737"
     },
     "user_tz": -330
    },
    "id": "rWD1W5hr39_w",
    "outputId": "d1752eab-c985-45af-f554-e2ec78cb5eb2"
   },
   "outputs": [
    {
     "name": "stdout",
     "output_type": "stream",
     "text": [
      "Is 'name' a key? True\n"
     ]
    }
   ],
   "source": [
    "# membership using in\n",
    "\n",
    "print(\"Is 'name' a key?\", \"name\" in person)"
   ]
  },
  {
   "cell_type": "code",
   "execution_count": 151,
   "id": "U6vlg1jV4EzI",
   "metadata": {
    "colab": {
     "base_uri": "https://localhost:8080/"
    },
    "executionInfo": {
     "elapsed": 21,
     "status": "ok",
     "timestamp": 1753703549162,
     "user": {
      "displayName": "Srinivas Appana",
      "userId": "17871761728706768737"
     },
     "user_tz": -330
    },
    "id": "U6vlg1jV4EzI",
    "outputId": "bc8bc26b-cc2f-4994-f072-83783e2502c5"
   },
   "outputs": [
    {
     "name": "stdout",
     "output_type": "stream",
     "text": [
      "length: 2\n"
     ]
    }
   ],
   "source": [
    "# Length len()\n",
    "\n",
    "print(\"length:\", len(person))"
   ]
  },
  {
   "cell_type": "code",
   "execution_count": 152,
   "id": "G0BWJW794H14",
   "metadata": {
    "colab": {
     "base_uri": "https://localhost:8080/"
    },
    "executionInfo": {
     "elapsed": 18,
     "status": "ok",
     "timestamp": 1753703560765,
     "user": {
      "displayName": "Srinivas Appana",
      "userId": "17871761728706768737"
     },
     "user_tz": -330
    },
    "id": "G0BWJW794H14",
    "outputId": "380c862e-d8bc-457a-d133-55985128bc2a"
   },
   "outputs": [
    {
     "name": "stdout",
     "output_type": "stream",
     "text": [
      "merged dict: {'a': 1, 'b': 3, 'c': 4}\n"
     ]
    }
   ],
   "source": [
    "# Merging dictionaries\n",
    "\n",
    "info1 = {\"a\": 1, \"b\": 2}\n",
    "info2 = {\"b\": 3, \"c\": 4}\n",
    "merged = info1.copy()\n",
    "merged.update(info2)\n",
    "print(\"merged dict:\", merged)"
   ]
  },
  {
   "cell_type": "markdown",
   "id": "-YhCc_-l4z_J",
   "metadata": {
    "id": "-YhCc_-l4z_J"
   },
   "source": [
    "## **List comprehension**"
   ]
  },
  {
   "cell_type": "markdown",
   "id": "ca39ef80",
   "metadata": {},
   "source": [
    "List comprehension is a concise and elegant way to create new lists in Python based on existing iterables (like lists, tuples, strings, or ranges).  \n",
    "It offers a more compact and often more readable alternative to traditional for loops with append operations for list creation and manipulation."
   ]
  },
  {
   "cell_type": "code",
   "execution_count": 153,
   "id": "SMJdi5t943cB",
   "metadata": {
    "colab": {
     "base_uri": "https://localhost:8080/"
    },
    "executionInfo": {
     "elapsed": 18,
     "status": "ok",
     "timestamp": 1753703765700,
     "user": {
      "displayName": "Srinivas Appana",
      "userId": "17871761728706768737"
     },
     "user_tz": -330
    },
    "id": "SMJdi5t943cB",
    "outputId": "dde021a3-395f-4e81-e54d-7ef3e4004ea4"
   },
   "outputs": [
    {
     "name": "stdout",
     "output_type": "stream",
     "text": [
      "normal LC: [0, 1, 4, 9, 16]\n"
     ]
    }
   ],
   "source": [
    "# squares of numbers\n",
    "\n",
    "squares = [x**2 for x in range(5)]\n",
    "print(\"normal LC:\", squares)"
   ]
  },
  {
   "cell_type": "code",
   "execution_count": 154,
   "id": "DVn8ol6849Vw",
   "metadata": {
    "colab": {
     "base_uri": "https://localhost:8080/"
    },
    "executionInfo": {
     "elapsed": 19,
     "status": "ok",
     "timestamp": 1753703810914,
     "user": {
      "displayName": "Srinivas Appana",
      "userId": "17871761728706768737"
     },
     "user_tz": -330
    },
    "id": "DVn8ol6849Vw",
    "outputId": "43983bb4-d52f-4bb3-b214-c8e278940019"
   },
   "outputs": [
    {
     "name": "stdout",
     "output_type": "stream",
     "text": [
      "LC with if: [0, 2, 4, 6, 8]\n"
     ]
    }
   ],
   "source": [
    "# LC with if condition: even numbers from 0 to 9\n",
    "\n",
    "evens = [x for x in range(10) if x % 2 == 0]\n",
    "print(\"LC with if:\", evens)"
   ]
  },
  {
   "cell_type": "code",
   "execution_count": 155,
   "id": "H5tmxScK5IYJ",
   "metadata": {
    "colab": {
     "base_uri": "https://localhost:8080/"
    },
    "executionInfo": {
     "elapsed": 17,
     "status": "ok",
     "timestamp": 1753703846926,
     "user": {
      "displayName": "Srinivas Appana",
      "userId": "17871761728706768737"
     },
     "user_tz": -330
    },
    "id": "H5tmxScK5IYJ",
    "outputId": "ccd05e38-0b8d-45e5-f1c1-824d138ee571"
   },
   "outputs": [
    {
     "name": "stdout",
     "output_type": "stream",
     "text": [
      "[0, 1, 2, 3, 4]\n",
      "['even', 'odd', 'even', 'odd', 'even']\n"
     ]
    }
   ],
   "source": [
    "# LC with if-else condition: label even/odd\n",
    "\n",
    "labels = [\"even\" if x % 2 == 0 else \"odd\" for x in range(5)]\n",
    "print(list(range(5)))\n",
    "print(labels)"
   ]
  },
  {
   "cell_type": "code",
   "execution_count": 156,
   "id": "A0eagOzY5O9h",
   "metadata": {
    "colab": {
     "base_uri": "https://localhost:8080/"
    },
    "executionInfo": {
     "elapsed": 11,
     "status": "ok",
     "timestamp": 1753703919737,
     "user": {
      "displayName": "Srinivas Appana",
      "userId": "17871761728706768737"
     },
     "user_tz": -330
    },
    "id": "A0eagOzY5O9h",
    "outputId": "ea25cc53-bc23-4335-a361-144ff43036c9"
   },
   "outputs": [
    {
     "name": "stdout",
     "output_type": "stream",
     "text": [
      "Nested LC\n",
      " [[(1, 5), (1, 6), (1, 7)], [(2, 5), (2, 6), (2, 7)], [(3, 5), (3, 6), (3, 7)]]\n"
     ]
    }
   ],
   "source": [
    "# Nested list comprehension\n",
    "\n",
    "table = [[(i,j) for j in range(5, 8)] for i in range(1, 4)]\n",
    "print(\"Nested LC\\n\", table)"
   ]
  },
  {
   "cell_type": "code",
   "execution_count": 157,
   "id": "h4BnC1cy5bN5",
   "metadata": {
    "colab": {
     "base_uri": "https://localhost:8080/"
    },
    "executionInfo": {
     "elapsed": 15,
     "status": "ok",
     "timestamp": 1753703972799,
     "user": {
      "displayName": "Srinivas Appana",
      "userId": "17871761728706768737"
     },
     "user_tz": -330
    },
    "id": "h4BnC1cy5bN5",
    "outputId": "8fa249a3-17e5-49f6-90f2-8d3f70e1dde4"
   },
   "outputs": [
    {
     "name": "stdout",
     "output_type": "stream",
     "text": [
      "flattened 2D list: [1, 2, 3, 4, 5, 6, 7, 8, 8, 3]\n"
     ]
    }
   ],
   "source": [
    "# Flattening a 2D list using LC\n",
    "\n",
    "table = [[1, 2, 3, 4], [5, 6, 7, 8], [8, 3]]\n",
    "flattened = [num for row in table for num in row]\n",
    "print(\"flattened 2D list:\", flattened)"
   ]
  },
  {
   "cell_type": "markdown",
   "id": "WOCKZi1y5yp2",
   "metadata": {
    "id": "WOCKZi1y5yp2"
   },
   "source": [
    "## **functions in python**"
   ]
  },
  {
   "cell_type": "markdown",
   "id": "8ddea313",
   "metadata": {},
   "source": [
    "* Fuctions are the reusable codes."
   ]
  },
  {
   "cell_type": "code",
   "execution_count": 158,
   "id": "3wYOJ9zj5v5r",
   "metadata": {
    "colab": {
     "base_uri": "https://localhost:8080/"
    },
    "executionInfo": {
     "elapsed": 13,
     "status": "ok",
     "timestamp": 1753704416805,
     "user": {
      "displayName": "Srinivas Appana",
      "userId": "17871761728706768737"
     },
     "user_tz": -330
    },
    "id": "3wYOJ9zj5v5r",
    "outputId": "a25055d1-ddb6-4059-8638-b7fe540753f1"
   },
   "outputs": [
    {
     "name": "stdout",
     "output_type": "stream",
     "text": [
      "Hello, world!\n",
      "Hello, world!\n"
     ]
    }
   ],
   "source": [
    "# function with no parameters\n",
    "\n",
    "def greet():\n",
    "    print(\"Hello, world!\")\n",
    "\n",
    "greet()\n",
    "greet()"
   ]
  },
  {
   "cell_type": "code",
   "execution_count": 159,
   "id": "udAgzc0K7cTU",
   "metadata": {
    "colab": {
     "base_uri": "https://localhost:8080/"
    },
    "executionInfo": {
     "elapsed": 23,
     "status": "ok",
     "timestamp": 1753704468684,
     "user": {
      "displayName": "Srinivas Appana",
      "userId": "17871761728706768737"
     },
     "user_tz": -330
    },
    "id": "udAgzc0K7cTU",
    "outputId": "a41969f5-2730-4507-f4a6-e27965f6c92b"
   },
   "outputs": [
    {
     "name": "stdout",
     "output_type": "stream",
     "text": [
      "add: 5\n"
     ]
    }
   ],
   "source": [
    "# parametrized function\n",
    "\n",
    "def add(a, b):\n",
    "    return a + b\n",
    "\n",
    "print(\"add:\", add(2, 3))"
   ]
  },
  {
   "cell_type": "code",
   "execution_count": 160,
   "id": "ZmFDINfc7o9z",
   "metadata": {
    "colab": {
     "base_uri": "https://localhost:8080/"
    },
    "executionInfo": {
     "elapsed": 14,
     "status": "ok",
     "timestamp": 1753704511728,
     "user": {
      "displayName": "Srinivas Appana",
      "userId": "17871761728706768737"
     },
     "user_tz": -330
    },
    "id": "ZmFDINfc7o9z",
    "outputId": "4aab0ffe-96ec-4fc0-ee6f-7408e8172101"
   },
   "outputs": [
    {
     "name": "stdout",
     "output_type": "stream",
     "text": [
      "Hello, Guest\n",
      "Hello, Alice\n"
     ]
    }
   ],
   "source": [
    "# function with default parameters\n",
    "\n",
    "def greet_person(name=\"Guest\"):\n",
    "    print(\"Hello,\", name)\n",
    "\n",
    "greet_person()\n",
    "greet_person(\"Alice\")"
   ]
  },
  {
   "cell_type": "code",
   "execution_count": 161,
   "id": "45zOPvtn7zeR",
   "metadata": {
    "colab": {
     "base_uri": "https://localhost:8080/"
    },
    "executionInfo": {
     "elapsed": 18,
     "status": "ok",
     "timestamp": 1753704561830,
     "user": {
      "displayName": "Srinivas Appana",
      "userId": "17871761728706768737"
     },
     "user_tz": -330
    },
    "id": "45zOPvtn7zeR",
    "outputId": "681850f1-a179-4d27-8b7e-67139616c51f"
   },
   "outputs": [
    {
     "name": "stdout",
     "output_type": "stream",
     "text": [
      "Charlie is a dog.\n",
      "mikky is a cat.\n"
     ]
    }
   ],
   "source": [
    "# function with keyword arguments\n",
    "\n",
    "def describe_pet(name, animal=\"dog\"):\n",
    "    print(f\"{name} is a {animal}.\")\n",
    "\n",
    "describe_pet(\"Charlie\")\n",
    "describe_pet(animal=\"cat\", name=\"mikky\")"
   ]
  },
  {
   "cell_type": "code",
   "execution_count": 162,
   "id": "WG3WE-xH7_tS",
   "metadata": {
    "colab": {
     "base_uri": "https://localhost:8080/"
    },
    "executionInfo": {
     "elapsed": 18,
     "status": "ok",
     "timestamp": 1753704619205,
     "user": {
      "displayName": "Srinivas Appana",
      "userId": "17871761728706768737"
     },
     "user_tz": -330
    },
    "id": "WG3WE-xH7_tS",
    "outputId": "e89c264d-b227-47fd-df8c-8f739ef36b93"
   },
   "outputs": [
    {
     "name": "stdout",
     "output_type": "stream",
     "text": [
      "Sum: 9\n",
      "Sum: 16\n",
      "Sum: 45\n"
     ]
    }
   ],
   "source": [
    "# function with * argument\n",
    "\n",
    "def sum_all(*numbers):\n",
    "    total = sum(numbers)\n",
    "    print(\"Sum:\", total)\n",
    "\n",
    "sum_all(9)\n",
    "sum_all(9,0,3,4)\n",
    "sum_all(1,2,3,4,5,6,7,8,9)"
   ]
  },
  {
   "cell_type": "code",
   "execution_count": 163,
   "id": "fjS62ytS8MA6",
   "metadata": {
    "colab": {
     "base_uri": "https://localhost:8080/"
    },
    "executionInfo": {
     "elapsed": 12,
     "status": "ok",
     "timestamp": 1753704662969,
     "user": {
      "displayName": "Srinivas Appana",
      "userId": "17871761728706768737"
     },
     "user_tz": -330
    },
    "id": "fjS62ytS8MA6",
    "outputId": "13357c22-a648-4024-adc4-77244c0bbf01"
   },
   "outputs": [
    {
     "name": "stdout",
     "output_type": "stream",
     "text": [
      "name: Alice\n",
      "age: 30\n",
      "job: Developer\n"
     ]
    }
   ],
   "source": [
    "# function with ** kwargs\n",
    "\n",
    "def print_info(**kwargs):\n",
    "    for key, value in kwargs.items():\n",
    "        print(f\"{key}: {value}\")\n",
    "\n",
    "print_info(name=\"Alice\", age=30, job=\"Developer\")"
   ]
  },
  {
   "cell_type": "code",
   "execution_count": 164,
   "id": "nEvZPyBo8YZa",
   "metadata": {
    "colab": {
     "base_uri": "https://localhost:8080/"
    },
    "executionInfo": {
     "elapsed": 20,
     "status": "ok",
     "timestamp": 1753704714352,
     "user": {
      "displayName": "Srinivas Appana",
      "userId": "17871761728706768737"
     },
     "user_tz": -330
    },
    "id": "nEvZPyBo8YZa",
    "outputId": "b4a26ebf-877f-406a-9db4-e7005a792333"
   },
   "outputs": [
    {
     "name": "stdout",
     "output_type": "stream",
     "text": [
      "Positional: (1, 2, 3)\n",
      "Keyword: {'name': 'Bob', 'active': True}\n"
     ]
    }
   ],
   "source": [
    "# function with both *args, **kwargs\n",
    "\n",
    "def mixed_args(*args, **kwargs):\n",
    "    print(\"Positional:\", args)\n",
    "    print(\"Keyword:\", kwargs)\n",
    "\n",
    "mixed_args(1, 2, 3, name=\"Bob\", active=True)"
   ]
  },
  {
   "cell_type": "code",
   "execution_count": 165,
   "id": "blURa3IV8k8a",
   "metadata": {
    "colab": {
     "base_uri": "https://localhost:8080/"
    },
    "executionInfo": {
     "elapsed": 12,
     "status": "ok",
     "timestamp": 1753704754204,
     "user": {
      "displayName": "Srinivas Appana",
      "userId": "17871761728706768737"
     },
     "user_tz": -330
    },
    "id": "blURa3IV8k8a",
    "outputId": "a212f648-4d1c-4d41-9b1b-8fb191ebf8af"
   },
   "outputs": [
    {
     "name": "stdout",
     "output_type": "stream",
     "text": [
      "sum: 15\n",
      "difference: 5\n",
      "product: 50\n"
     ]
    }
   ],
   "source": [
    "# Returning multiple values in a function\n",
    "\n",
    "\n",
    "def operations(a, b):\n",
    "    return a + b, a - b, a * b\n",
    "\n",
    "s, d, m = operations(10, 5)\n",
    "\n",
    "print(\"sum:\", s)\n",
    "print(\"difference:\", d)\n",
    "print(\"product:\", m)"
   ]
  },
  {
   "cell_type": "code",
   "execution_count": 166,
   "id": "GdRGSjQF8tPq",
   "metadata": {
    "colab": {
     "base_uri": "https://localhost:8080/"
    },
    "executionInfo": {
     "elapsed": 19,
     "status": "ok",
     "timestamp": 1753704778680,
     "user": {
      "displayName": "Srinivas Appana",
      "userId": "17871761728706768737"
     },
     "user_tz": -330
    },
    "id": "GdRGSjQF8tPq",
    "outputId": "9f4b0f3d-30c1-428c-f00d-bab368968772"
   },
   "outputs": [
    {
     "name": "stdout",
     "output_type": "stream",
     "text": [
      "multiply: 6\n"
     ]
    }
   ],
   "source": [
    "# Function with type hints\n",
    "\n",
    "def multiply(a: int, b: int) -> int:\n",
    "    return a * b\n",
    "\n",
    "print(\"multiply:\", multiply(2, 3))"
   ]
  },
  {
   "cell_type": "code",
   "execution_count": 167,
   "id": "OYrGkGTt80pa",
   "metadata": {
    "colab": {
     "base_uri": "https://localhost:8080/"
    },
    "executionInfo": {
     "elapsed": 54,
     "status": "ok",
     "timestamp": 1753704822334,
     "user": {
      "displayName": "Srinivas Appana",
      "userId": "17871761728706768737"
     },
     "user_tz": -330
    },
    "id": "OYrGkGTt80pa",
    "outputId": "83b76393-d525-4027-8cfd-9d7e9f81b934"
   },
   "outputs": [
    {
     "name": "stdout",
     "output_type": "stream",
     "text": [
      "Total: 10\n"
     ]
    }
   ],
   "source": [
    "# function takes list as argument\n",
    "\n",
    "def list_total(numbers):\n",
    "    print(\"Total:\", sum(numbers))\n",
    "\n",
    "list_total([1, 2, 3, 4])\n"
   ]
  },
  {
   "cell_type": "code",
   "execution_count": 168,
   "id": "JaUIez4K8_TC",
   "metadata": {
    "colab": {
     "base_uri": "https://localhost:8080/"
    },
    "executionInfo": {
     "elapsed": 18,
     "status": "ok",
     "timestamp": 1753704855370,
     "user": {
      "displayName": "Srinivas Appana",
      "userId": "17871761728706768737"
     },
     "user_tz": -330
    },
    "id": "JaUIez4K8_TC",
    "outputId": "ca2d00b2-a2cf-470c-995f-a1e4fa70b4aa"
   },
   "outputs": [
    {
     "name": "stdout",
     "output_type": "stream",
     "text": [
      "0 is even\n",
      "2 is even\n",
      "4 is even\n"
     ]
    }
   ],
   "source": [
    "# function call inside a function\n",
    "\n",
    "def is_even(n):\n",
    "    return n % 2 == 0\n",
    "\n",
    "for i in range(5):\n",
    "    if is_even(i):\n",
    "        print(i, \"is even\")"
   ]
  },
  {
   "cell_type": "markdown",
   "id": "mULePsdb9KnL",
   "metadata": {
    "id": "mULePsdb9KnL"
   },
   "source": [
    "## **Lambda function**"
   ]
  },
  {
   "cell_type": "markdown",
   "id": "d5cca064",
   "metadata": {},
   "source": [
    "A lambda function in Python is a small, anonymous function defined using the lambda keyword instead of **def**.  \n",
    "It is also known as an anonymous function because it does not require a formal name."
   ]
  },
  {
   "cell_type": "code",
   "execution_count": 169,
   "id": "w0I3BZJY9HXr",
   "metadata": {
    "colab": {
     "base_uri": "https://localhost:8080/"
    },
    "executionInfo": {
     "elapsed": 20,
     "status": "ok",
     "timestamp": 1753705618477,
     "user": {
      "displayName": "Srinivas Appana",
      "userId": "17871761728706768737"
     },
     "user_tz": -330
    },
    "id": "w0I3BZJY9HXr",
    "outputId": "2c5005df-56fd-4ba8-df63-e26468cbcfb7"
   },
   "outputs": [
    {
     "name": "stdout",
     "output_type": "stream",
     "text": [
      "square: 16\n"
     ]
    }
   ],
   "source": [
    "# basic lambda function\n",
    "\n",
    "square = lambda x: x * x\n",
    "print(\"square:\", square(4))"
   ]
  },
  {
   "cell_type": "code",
   "execution_count": 170,
   "id": "-Kremy9JABrK",
   "metadata": {
    "colab": {
     "base_uri": "https://localhost:8080/"
    },
    "executionInfo": {
     "elapsed": 11,
     "status": "ok",
     "timestamp": 1753705639400,
     "user": {
      "displayName": "Srinivas Appana",
      "userId": "17871761728706768737"
     },
     "user_tz": -330
    },
    "id": "-Kremy9JABrK",
    "outputId": "f3021026-5922-4144-87ef-dea68721fff3"
   },
   "outputs": [
    {
     "name": "stdout",
     "output_type": "stream",
     "text": [
      "sum: 8\n"
     ]
    }
   ],
   "source": [
    "# lambda with two arguments\n",
    "add = lambda a, b: a + b\n",
    "print(\"sum:\", add(3, 5))"
   ]
  },
  {
   "cell_type": "code",
   "execution_count": 171,
   "id": "4LujmnV-AGx7",
   "metadata": {
    "colab": {
     "base_uri": "https://localhost:8080/"
    },
    "executionInfo": {
     "elapsed": 29,
     "status": "ok",
     "timestamp": 1753705660560,
     "user": {
      "displayName": "Srinivas Appana",
      "userId": "17871761728706768737"
     },
     "user_tz": -330
    },
    "id": "4LujmnV-AGx7",
    "outputId": "a7305a26-fcc2-4af7-cb8a-d161beeef740"
   },
   "outputs": [
    {
     "name": "stdout",
     "output_type": "stream",
     "text": [
      "double 5: 10\n",
      "triple 5: 15\n"
     ]
    }
   ],
   "source": [
    "# lambda inside a function\n",
    "\n",
    "def make_multiplier(n):\n",
    "    return lambda x: x * n\n",
    "\n",
    "double = make_multiplier(2)\n",
    "triple = make_multiplier(3)\n",
    "print(\"double 5:\", double(5))\n",
    "print(\"triple 5:\", triple(5))"
   ]
  },
  {
   "cell_type": "code",
   "execution_count": 172,
   "id": "wT2jisHlAL8q",
   "metadata": {
    "colab": {
     "base_uri": "https://localhost:8080/"
    },
    "executionInfo": {
     "elapsed": 21,
     "status": "ok",
     "timestamp": 1753705693395,
     "user": {
      "displayName": "Srinivas Appana",
      "userId": "17871761728706768737"
     },
     "user_tz": -330
    },
    "id": "wT2jisHlAL8q",
    "outputId": "9b469285-daef-42a6-b428-b6c5d2ca26c0"
   },
   "outputs": [
    {
     "name": "stdout",
     "output_type": "stream",
     "text": [
      "sorted by length: ['Bob', 'Alice', 'David', 'Charlie']\n"
     ]
    }
   ],
   "source": [
    "# lambda with sorted()\n",
    "\n",
    "names = [\"Alice\", \"Bob\", \"Charlie\", \"David\"]\n",
    "sorted_names = sorted(names, key=lambda name: len(name))\n",
    "print(\"sorted by length:\", sorted_names)"
   ]
  },
  {
   "cell_type": "code",
   "execution_count": 173,
   "id": "U2PQNHYEAT9y",
   "metadata": {
    "colab": {
     "base_uri": "https://localhost:8080/"
    },
    "executionInfo": {
     "elapsed": 49,
     "status": "ok",
     "timestamp": 1753705718093,
     "user": {
      "displayName": "Srinivas Appana",
      "userId": "17871761728706768737"
     },
     "user_tz": -330
    },
    "id": "U2PQNHYEAT9y",
    "outputId": "3643e748-e014-4709-d3d5-a0087d5a2c8a"
   },
   "outputs": [
    {
     "name": "stdout",
     "output_type": "stream",
     "text": [
      "evens: [2, 4, 6]\n"
     ]
    }
   ],
   "source": [
    "# Lambda with filter()\n",
    "\n",
    "nums = [1, 2, 3, 4, 5, 6]\n",
    "\n",
    "evens = list(filter(lambda x: x % 2 == 0, nums))\n",
    "print(\"evens:\", evens)"
   ]
  },
  {
   "cell_type": "code",
   "execution_count": 174,
   "id": "-ZuqgbeVAZ_T",
   "metadata": {
    "colab": {
     "base_uri": "https://localhost:8080/"
    },
    "executionInfo": {
     "elapsed": 50,
     "status": "ok",
     "timestamp": 1753705771252,
     "user": {
      "displayName": "Srinivas Appana",
      "userId": "17871761728706768737"
     },
     "user_tz": -330
    },
    "id": "-ZuqgbeVAZ_T",
    "outputId": "2d5dc192-43b9-4292-b84b-8c5f0e8f2c6e"
   },
   "outputs": [
    {
     "name": "stdout",
     "output_type": "stream",
     "text": [
      "squares: [1, 4, 9, 16, 25, 36]\n"
     ]
    }
   ],
   "source": [
    "# Lambda with map()\n",
    "\n",
    "squares = list(map(lambda x: x**2, nums))\n",
    "print(\"squares:\", squares)"
   ]
  },
  {
   "cell_type": "code",
   "execution_count": 175,
   "id": "-u_UfenGAm9s",
   "metadata": {
    "colab": {
     "base_uri": "https://localhost:8080/"
    },
    "executionInfo": {
     "elapsed": 56,
     "status": "ok",
     "timestamp": 1753705868202,
     "user": {
      "displayName": "Srinivas Appana",
      "userId": "17871761728706768737"
     },
     "user_tz": -330
    },
    "id": "-u_UfenGAm9s",
    "outputId": "f350e4d5-56dd-4bc1-c2a2-f840b32732ed"
   },
   "outputs": [
    {
     "name": "stdout",
     "output_type": "stream",
     "text": [
      "product: 720\n"
     ]
    }
   ],
   "source": [
    "# lambda with reduce()\n",
    "\n",
    "from functools import reduce\n",
    "\n",
    "product = reduce(lambda x, y: x * y, nums)\n",
    "print(\"product:\", product)"
   ]
  },
  {
   "cell_type": "code",
   "execution_count": 176,
   "id": "OdwI1vZpA-ok",
   "metadata": {
    "colab": {
     "base_uri": "https://localhost:8080/"
    },
    "executionInfo": {
     "elapsed": 47,
     "status": "ok",
     "timestamp": 1753706018267,
     "user": {
      "displayName": "Srinivas Appana",
      "userId": "17871761728706768737"
     },
     "user_tz": -330
    },
    "id": "OdwI1vZpA-ok",
    "outputId": "b6a4716c-df2d-4c97-8cf3-e969b19be841"
   },
   "outputs": [
    {
     "name": "stdout",
     "output_type": "stream",
     "text": [
      "Age 20: adult\n",
      "Age 12: minor\n"
     ]
    }
   ],
   "source": [
    "# Lambda with if-else (inline conditional)\n",
    "\n",
    "status = lambda age: \"adult\" if age >= 18 else \"minor\"\n",
    "print(\"Age 20:\", status(20))\n",
    "print(\"Age 12:\", status(12))"
   ]
  },
  {
   "cell_type": "markdown",
   "id": "9DiQtoGoBk5n",
   "metadata": {
    "id": "9DiQtoGoBk5n"
   },
   "source": [
    "## **zip function**"
   ]
  },
  {
   "cell_type": "markdown",
   "id": "42c283ec",
   "metadata": {},
   "source": [
    "The zip() function in Python is a built-in function that takes multiple iterables (like lists, tuples, or strings) as arguments and aggregates them into a single iterable of tuples.  \n",
    "Each tuple in the resulting iterable contains elements from the corresponding positions of the input iterables."
   ]
  },
  {
   "cell_type": "code",
   "execution_count": 178,
   "id": "YIhn7U45BjRe",
   "metadata": {
    "colab": {
     "base_uri": "https://localhost:8080/"
    },
    "executionInfo": {
     "elapsed": 20,
     "status": "ok",
     "timestamp": 1753706194298,
     "user": {
      "displayName": "Srinivas Appana",
      "userId": "17871761728706768737"
     },
     "user_tz": -330
    },
    "id": "YIhn7U45BjRe",
    "outputId": "83b63916-4759-4404-aeb3-f2e1937b7a26"
   },
   "outputs": [
    {
     "name": "stdout",
     "output_type": "stream",
     "text": [
      "zipped list: [('Alice', 85), ('Bob', 90), ('Charlie', 95)]\n"
     ]
    }
   ],
   "source": [
    "# Basic zip of two lists\n",
    "\n",
    "names = [\"Alice\", \"Bob\", \"Charlie\"]\n",
    "scores = [85, 90, 95]\n",
    "paired = list(zip(names, scores))\n",
    "print(\"zipped list:\", paired)"
   ]
  },
  {
   "cell_type": "code",
   "execution_count": 179,
   "id": "WWHz2DaiCOQR",
   "metadata": {
    "colab": {
     "base_uri": "https://localhost:8080/"
    },
    "executionInfo": {
     "elapsed": 41,
     "status": "ok",
     "timestamp": 1753706212372,
     "user": {
      "displayName": "Srinivas Appana",
      "userId": "17871761728706768737"
     },
     "user_tz": -330
    },
    "id": "WWHz2DaiCOQR",
    "outputId": "ea8b784e-d52f-499f-845d-f07aabe1b12d"
   },
   "outputs": [
    {
     "name": "stdout",
     "output_type": "stream",
     "text": [
      "Alice scored 85\n",
      "Bob scored 90\n",
      "Charlie scored 95\n"
     ]
    }
   ],
   "source": [
    "# zip in a loop\n",
    "\n",
    "for name, score in zip(names, scores):\n",
    "    print(f\"{name} scored {score}\")"
   ]
  },
  {
   "cell_type": "code",
   "execution_count": 180,
   "id": "Z9kzro5VCSqa",
   "metadata": {
    "colab": {
     "base_uri": "https://localhost:8080/"
    },
    "executionInfo": {
     "elapsed": 52,
     "status": "ok",
     "timestamp": 1753706232355,
     "user": {
      "displayName": "Srinivas Appana",
      "userId": "17871761728706768737"
     },
     "user_tz": -330
    },
    "id": "Z9kzro5VCSqa",
    "outputId": "c312fece-4363-4d3e-f0e5-6225a6855fc4"
   },
   "outputs": [
    {
     "name": "stdout",
     "output_type": "stream",
     "text": [
      "zipped 3 lists: [('Alice', 85, 'Math'), ('Bob', 90, 'Science'), ('Charlie', 95, 'English')]\n"
     ]
    }
   ],
   "source": [
    "# Zipping three lists\n",
    "\n",
    "subjects = [\"Math\", \"Science\", \"English\"]\n",
    "full_info = list(zip(names, scores, subjects))\n",
    "print(\"zipped 3 lists:\", full_info)"
   ]
  },
  {
   "cell_type": "code",
   "execution_count": 181,
   "id": "S47xEEKwCXii",
   "metadata": {
    "colab": {
     "base_uri": "https://localhost:8080/"
    },
    "executionInfo": {
     "elapsed": 58,
     "status": "ok",
     "timestamp": 1753706267212,
     "user": {
      "displayName": "Srinivas Appana",
      "userId": "17871761728706768737"
     },
     "user_tz": -330
    },
    "id": "S47xEEKwCXii",
    "outputId": "be1f8b8d-fb3f-4ac8-d807-a8dde7d4e02a"
   },
   "outputs": [
    {
     "name": "stdout",
     "output_type": "stream",
     "text": [
      "unzipped names: ('Alice', 'Bob', 'Charlie')\n",
      "unzipped scores: (85, 90, 95)\n"
     ]
    }
   ],
   "source": [
    "# Unzipping using zip(*) and unpacking\n",
    "\n",
    "zipped = zip(names, scores)\n",
    "names_unzipped, scores_unzipped = zip(*zipped)\n",
    "print(\"unzipped names:\", names_unzipped)\n",
    "print(\"unzipped scores:\", scores_unzipped)"
   ]
  },
  {
   "cell_type": "code",
   "execution_count": 182,
   "id": "qqn-g-6eCgDD",
   "metadata": {
    "colab": {
     "base_uri": "https://localhost:8080/"
    },
    "executionInfo": {
     "elapsed": 52,
     "status": "ok",
     "timestamp": 1753706331516,
     "user": {
      "displayName": "Srinivas Appana",
      "userId": "17871761728706768737"
     },
     "user_tz": -330
    },
    "id": "qqn-g-6eCgDD",
    "outputId": "fb5537f4-1f0e-4e61-8728-7cb31910662b"
   },
   "outputs": [
    {
     "name": "stdout",
     "output_type": "stream",
     "text": [
      "zip with unequal lengths: [(1, 'a'), (2, 'b')]\n"
     ]
    }
   ],
   "source": [
    "# zip with different lengths (stops at shortest)\n",
    "\n",
    "short_list = [1, 2]\n",
    "long_list = [\"a\", \"b\", \"c\"]\n",
    "combined = list(zip(short_list, long_list))\n",
    "print(\"zip with unequal lengths:\", combined)"
   ]
  },
  {
   "cell_type": "code",
   "execution_count": 183,
   "id": "CbUahJtHCvvz",
   "metadata": {
    "colab": {
     "base_uri": "https://localhost:8080/"
    },
    "executionInfo": {
     "elapsed": 21,
     "status": "ok",
     "timestamp": 1753706421401,
     "user": {
      "displayName": "Srinivas Appana",
      "userId": "17871761728706768737"
     },
     "user_tz": -330
    },
    "id": "CbUahJtHCvvz",
    "outputId": "bc17207e-3205-4353-8087-12f028fb815d"
   },
   "outputs": [
    {
     "name": "stdout",
     "output_type": "stream",
     "text": [
      "dictionary from zip: {'id': 101, 'name': 'Alice', 'age': 30}\n"
     ]
    }
   ],
   "source": [
    "keys = [\"id\", \"name\", \"age\"]\n",
    "values = [101, \"Alice\", 30]\n",
    "\n",
    "person_dict = dict(zip(keys, values))\n",
    "print(\"dictionary from zip:\", person_dict)"
   ]
  },
  {
   "cell_type": "markdown",
   "id": "VV5VLOrYDjac",
   "metadata": {
    "id": "VV5VLOrYDjac"
   },
   "source": [
    "## **Exception handling** in python"
   ]
  },
  {
   "cell_type": "code",
   "execution_count": 184,
   "id": "jTVru6CNDFsz",
   "metadata": {
    "colab": {
     "base_uri": "https://localhost:8080/"
    },
    "executionInfo": {
     "elapsed": 23,
     "status": "ok",
     "timestamp": 1753706779986,
     "user": {
      "displayName": "Srinivas Appana",
      "userId": "17871761728706768737"
     },
     "user_tz": -330
    },
    "id": "jTVru6CNDFsz",
    "outputId": "dbd13711-161a-4ce9-ea3a-7904892ef726"
   },
   "outputs": [
    {
     "name": "stdout",
     "output_type": "stream",
     "text": [
      "Cannot divide by zero!\n"
     ]
    }
   ],
   "source": [
    "# Basic try-except\n",
    "\n",
    "try:\n",
    "    x = 10 / 0\n",
    "except ZeroDivisionError:\n",
    "    print(\"Cannot divide by zero!\")"
   ]
  },
  {
   "cell_type": "code",
   "execution_count": 185,
   "id": "hPNkcP5oEdPm",
   "metadata": {
    "colab": {
     "base_uri": "https://localhost:8080/"
    },
    "executionInfo": {
     "elapsed": 22,
     "status": "ok",
     "timestamp": 1753706856164,
     "user": {
      "displayName": "Srinivas Appana",
      "userId": "17871761728706768737"
     },
     "user_tz": -330
    },
    "id": "hPNkcP5oEdPm",
    "outputId": "1780b422-cac1-4a43-b445-720610adf51a"
   },
   "outputs": [
    {
     "name": "stdout",
     "output_type": "stream",
     "text": [
      "Conversion successful: 42\n"
     ]
    }
   ],
   "source": [
    "# try-except with else\n",
    "\n",
    "try:\n",
    "    num = int(\"42\")\n",
    "except ValueError:\n",
    "    print(\"Invalid input!\")\n",
    "else:\n",
    "    print(\"Conversion successful:\", num)"
   ]
  },
  {
   "cell_type": "code",
   "execution_count": 186,
   "id": "v17CyMRdEv1-",
   "metadata": {
    "colab": {
     "base_uri": "https://localhost:8080/"
    },
    "executionInfo": {
     "elapsed": 22,
     "status": "ok",
     "timestamp": 1753706884405,
     "user": {
      "displayName": "Srinivas Appana",
      "userId": "17871761728706768737"
     },
     "user_tz": -330
    },
    "id": "v17CyMRdEv1-",
    "outputId": "24dfbcc3-55e8-4594-b3ee-d4e88505089d"
   },
   "outputs": [
    {
     "name": "stdout",
     "output_type": "stream",
     "text": [
      "File not found.\n",
      "This runs no matter what.\n"
     ]
    }
   ],
   "source": [
    "# try-except finally\n",
    "\n",
    "try:\n",
    "    file = open(\"sample.txt\", \"r\")\n",
    "    content = file.read()\n",
    "    print(\"File content:\", content)\n",
    "except FileNotFoundError:\n",
    "    print(\"File not found.\")\n",
    "finally:\n",
    "    print(\"This runs no matter what.\")"
   ]
  },
  {
   "cell_type": "code",
   "execution_count": 187,
   "id": "XW1zbmZiE2vN",
   "metadata": {
    "colab": {
     "base_uri": "https://localhost:8080/"
    },
    "executionInfo": {
     "elapsed": 54,
     "status": "ok",
     "timestamp": 1753706923566,
     "user": {
      "displayName": "Srinivas Appana",
      "userId": "17871761728706768737"
     },
     "user_tz": -330
    },
    "id": "XW1zbmZiE2vN",
    "outputId": "d92044dd-cd42-496e-a2ce-ed49ada1b661"
   },
   "outputs": [
    {
     "name": "stdout",
     "output_type": "stream",
     "text": [
      "Caught exception: invalid literal for int() with base 10: 'abc'\n"
     ]
    }
   ],
   "source": [
    "# Catching multiple exceptions\n",
    "\n",
    "try:\n",
    "    a = int(\"abc\")\n",
    "    b = 10 / 0\n",
    "except (ValueError, ZeroDivisionError) as e:\n",
    "    print(\"Caught exception:\", e)"
   ]
  },
  {
   "cell_type": "code",
   "execution_count": 188,
   "id": "OpEcG6JRFASd",
   "metadata": {
    "colab": {
     "base_uri": "https://localhost:8080/"
    },
    "executionInfo": {
     "elapsed": 24,
     "status": "ok",
     "timestamp": 1753706970062,
     "user": {
      "displayName": "Srinivas Appana",
      "userId": "17871761728706768737"
     },
     "user_tz": -330
    },
    "id": "OpEcG6JRFASd",
    "outputId": "9399aec6-dce7-4ac9-8003-3a6931e69516"
   },
   "outputs": [
    {
     "name": "stdout",
     "output_type": "stream",
     "text": [
      "Caught ValueError: invalid literal for int() with base 10: 'abc'\n"
     ]
    }
   ],
   "source": [
    "# specific exceptions\n",
    "\n",
    "try:\n",
    "    a = int(\"abc\")\n",
    "except ValueError as e:\n",
    "    print(\"Caught ValueError:\", e)\n",
    "except ZeroDivisionError as e:\n",
    "    print(\"Caught ZeroDivisionError:\", e)"
   ]
  },
  {
   "cell_type": "code",
   "execution_count": 189,
   "id": "l7MDL9BRFLpn",
   "metadata": {
    "colab": {
     "base_uri": "https://localhost:8080/"
    },
    "executionInfo": {
     "elapsed": 83,
     "status": "ok",
     "timestamp": 1753706977090,
     "user": {
      "displayName": "Srinivas Appana",
      "userId": "17871761728706768737"
     },
     "user_tz": -330
    },
    "id": "l7MDL9BRFLpn",
    "outputId": "d213b85e-4939-4f15-d30c-9c669d5479ae"
   },
   "outputs": [
    {
     "name": "stdout",
     "output_type": "stream",
     "text": [
      "Module not found!\n"
     ]
    }
   ],
   "source": [
    "try:\n",
    "    import non_existing_module\n",
    "except ModuleNotFoundError:\n",
    "    print(\"Module not found!\")"
   ]
  },
  {
   "cell_type": "code",
   "execution_count": 190,
   "id": "rTdWDi4CFNWW",
   "metadata": {
    "colab": {
     "base_uri": "https://localhost:8080/"
    },
    "executionInfo": {
     "elapsed": 58,
     "status": "ok",
     "timestamp": 1753707007668,
     "user": {
      "displayName": "Srinivas Appana",
      "userId": "17871761728706768737"
     },
     "user_tz": -330
    },
    "id": "rTdWDi4CFNWW",
    "outputId": "58d47dcb-88db-4237-8936-a7327a03beba"
   },
   "outputs": [
    {
     "name": "stdout",
     "output_type": "stream",
     "text": [
      "Custom error: Denominator cannot be zero.\n"
     ]
    }
   ],
   "source": [
    "# raising exceptions manually\n",
    "\n",
    "def divide(a, b):\n",
    "    if b == 0:\n",
    "        raise ValueError(\"Denominator cannot be zero.\")\n",
    "    return a / b\n",
    "\n",
    "try:\n",
    "    result = divide(5, 0)\n",
    "except ValueError as e:\n",
    "    print(\"Custom error:\", e)"
   ]
  },
  {
   "cell_type": "code",
   "execution_count": 191,
   "id": "PgI5V3jJFU0P",
   "metadata": {
    "colab": {
     "base_uri": "https://localhost:8080/"
    },
    "executionInfo": {
     "elapsed": 20,
     "status": "ok",
     "timestamp": 1753707056509,
     "user": {
      "displayName": "Srinivas Appana",
      "userId": "17871761728706768737"
     },
     "user_tz": -330
    },
    "id": "PgI5V3jJFU0P",
    "outputId": "5ca90beb-3722-46e7-ba11-f8eb3d84bc09"
   },
   "outputs": [
    {
     "name": "stdout",
     "output_type": "stream",
     "text": [
      "Caught custom error: Negative value not allowed.\n"
     ]
    }
   ],
   "source": [
    "# custome exception\n",
    "\n",
    "class MyError(Exception):\n",
    "    pass\n",
    "\n",
    "def check_value(x):\n",
    "    if x < 0:\n",
    "        raise MyError(\"Negative value not allowed.\")\n",
    "\n",
    "try:\n",
    "    check_value(-1)\n",
    "except MyError as e:\n",
    "    print(\"Caught custom error:\", e)\n"
   ]
  },
  {
   "cell_type": "markdown",
   "id": "XlsX3ugCFpt6",
   "metadata": {
    "id": "XlsX3ugCFpt6"
   },
   "source": [
    "## **File handling in python**"
   ]
  },
  {
   "cell_type": "code",
   "execution_count": 192,
   "id": "wgO6t7sRFs8I",
   "metadata": {
    "colab": {
     "base_uri": "https://localhost:8080/"
    },
    "executionInfo": {
     "elapsed": 20,
     "status": "ok",
     "timestamp": 1753707394927,
     "user": {
      "displayName": "Srinivas Appana",
      "userId": "17871761728706768737"
     },
     "user_tz": -330
    },
    "id": "wgO6t7sRFs8I",
    "outputId": "85f18a18-e96c-49ee-ee14-c6a11990243d"
   },
   "outputs": [
    {
     "name": "stdout",
     "output_type": "stream",
     "text": [
      "example.txt not found\n"
     ]
    }
   ],
   "source": [
    "# Trying to read a file that not exists\n",
    "\n",
    "filename = \"example.txt\"\n",
    "\n",
    "try:\n",
    "    with open(filename, \"r\") as file:\n",
    "        content = file.read()\n",
    "        print(\"File content:\", content)\n",
    "except FileNotFoundError:\n",
    "    print(f\"{filename} not found\")"
   ]
  },
  {
   "cell_type": "code",
   "execution_count": 193,
   "id": "SBpYLGXwGunc",
   "metadata": {
    "colab": {
     "base_uri": "https://localhost:8080/"
    },
    "executionInfo": {
     "elapsed": 21,
     "status": "ok",
     "timestamp": 1753707440794,
     "user": {
      "displayName": "Srinivas Appana",
      "userId": "17871761728706768737"
     },
     "user_tz": -330
    },
    "id": "SBpYLGXwGunc",
    "outputId": "c7d69515-5b39-41a6-ef0d-e6f0aeb403a7"
   },
   "outputs": [
    {
     "name": "stdout",
     "output_type": "stream",
     "text": [
      "example.txt not found\n"
     ]
    }
   ],
   "source": [
    "# Using os module for secure file reading\n",
    "\n",
    "import os\n",
    "\n",
    "filename = \"example.txt\"\n",
    "\n",
    "if os.path.exists(filename):\n",
    "    with open(filename, \"r\") as file:\n",
    "        content = file.read()\n",
    "        print(\"File content:\", content)\n",
    "else:\n",
    "  print(f\"{filename} not found\")"
   ]
  },
  {
   "cell_type": "code",
   "execution_count": 194,
   "id": "3OGcVzCVG-k0",
   "metadata": {
    "executionInfo": {
     "elapsed": 17,
     "status": "ok",
     "timestamp": 1753707467312,
     "user": {
      "displayName": "Srinivas Appana",
      "userId": "17871761728706768737"
     },
     "user_tz": -330
    },
    "id": "3OGcVzCVG-k0"
   },
   "outputs": [],
   "source": [
    "# creating and writing the file\n",
    "\n",
    "with open(filename, \"w\") as file:\n",
    "    file.write(\"Hello, this is a new file.\\n\")\n",
    "    file.write(\"This is the second line.\\n\")"
   ]
  },
  {
   "cell_type": "code",
   "execution_count": 195,
   "id": "EMLA0-vAHFDO",
   "metadata": {
    "colab": {
     "base_uri": "https://localhost:8080/"
    },
    "executionInfo": {
     "elapsed": 22,
     "status": "ok",
     "timestamp": 1753707505090,
     "user": {
      "displayName": "Srinivas Appana",
      "userId": "17871761728706768737"
     },
     "user_tz": -330
    },
    "id": "EMLA0-vAHFDO",
    "outputId": "14a58860-c0c2-4535-c1b0-08a3f0ae2b1d"
   },
   "outputs": [
    {
     "name": "stdout",
     "output_type": "stream",
     "text": [
      "File content:\n",
      " Hello, this is a new file.\n",
      "This is the second line.\n",
      "\n"
     ]
    }
   ],
   "source": [
    "# reading the created file content\n",
    "\n",
    "if os.path.exists(filename):\n",
    "    with open(filename, \"r\") as file:\n",
    "        content = file.read()\n",
    "        print(\"File content:\\n\", content)\n",
    "else:\n",
    "    print(f\"{filename} not found\")"
   ]
  },
  {
   "cell_type": "code",
   "execution_count": 196,
   "id": "UEdj4_PmHMgu",
   "metadata": {
    "executionInfo": {
     "elapsed": 13,
     "status": "ok",
     "timestamp": 1753707633028,
     "user": {
      "displayName": "Srinivas Appana",
      "userId": "17871761728706768737"
     },
     "user_tz": -330
    },
    "id": "UEdj4_PmHMgu"
   },
   "outputs": [],
   "source": [
    "# appending more content to file\n",
    "\n",
    "with open(filename, \"a\") as file:\n",
    "    file.write(\"Appended line 1.\\n\")\n",
    "    file.write(\"Appended line 2.\\n\")"
   ]
  },
  {
   "cell_type": "code",
   "execution_count": 197,
   "id": "Y7sAyWolHtgl",
   "metadata": {
    "colab": {
     "base_uri": "https://localhost:8080/"
    },
    "executionInfo": {
     "elapsed": 14,
     "status": "ok",
     "timestamp": 1753707651320,
     "user": {
      "displayName": "Srinivas Appana",
      "userId": "17871761728706768737"
     },
     "user_tz": -330
    },
    "id": "Y7sAyWolHtgl",
    "outputId": "529e3fda-450a-4708-d918-87b7e4ec0052"
   },
   "outputs": [
    {
     "name": "stdout",
     "output_type": "stream",
     "text": [
      "Final file content:\n",
      "Hello, this is a new file.\n",
      "This is the second line.\n",
      "Appended line 1.\n",
      "Appended line 2.\n",
      "\n"
     ]
    }
   ],
   "source": [
    "# reading again\n",
    "\n",
    "with open(filename, \"r\") as file:\n",
    "    print(\"Final file content:\")\n",
    "    print(file.read())"
   ]
  },
  {
   "cell_type": "code",
   "execution_count": 198,
   "id": "G-AI1CWtHx-F",
   "metadata": {
    "colab": {
     "base_uri": "https://localhost:8080/"
    },
    "executionInfo": {
     "elapsed": 23,
     "status": "ok",
     "timestamp": 1753707676914,
     "user": {
      "displayName": "Srinivas Appana",
      "userId": "17871761728706768737"
     },
     "user_tz": -330
    },
    "id": "G-AI1CWtHx-F",
    "outputId": "79965282-4a8e-4e4d-a648-9674977793b1"
   },
   "outputs": [
    {
     "name": "stdout",
     "output_type": "stream",
     "text": [
      "Lines as list: ['Hello, this is a new file.\\n', 'This is the second line.\\n', 'Appended line 1.\\n', 'Appended line 2.\\n']\n"
     ]
    }
   ],
   "source": [
    "# reading file as list of lines\n",
    "\n",
    "with open(filename, \"r\") as file:\n",
    "    lines = file.readlines()\n",
    "    print(\"Lines as list:\", lines)"
   ]
  },
  {
   "cell_type": "markdown",
   "id": "qoUXN-ErIBHw",
   "metadata": {
    "id": "qoUXN-ErIBHw"
   },
   "source": [
    "## **OOP's** in python"
   ]
  },
  {
   "cell_type": "markdown",
   "id": "bc60d8b1",
   "metadata": {},
   "source": [
    "**Object-Oriented Programming (OOP)** in Python is a programming paradigm that uses \"objects\" and \"classes\" to structure and organize code.  \n",
    "It models real-world entities by combining data (attributes) and functions (methods) that operate on that data into self-contained units called objects. "
   ]
  },
  {
   "cell_type": "code",
   "execution_count": 199,
   "id": "OEVemK1vH4OF",
   "metadata": {
    "colab": {
     "base_uri": "https://localhost:8080/"
    },
    "executionInfo": {
     "elapsed": 20,
     "status": "ok",
     "timestamp": 1753707861911,
     "user": {
      "displayName": "Srinivas Appana",
      "userId": "17871761728706768737"
     },
     "user_tz": -330
    },
    "id": "OEVemK1vH4OF",
    "outputId": "ea9fb91f-785e-4a8d-f2b5-4aa9b5a5bafd"
   },
   "outputs": [
    {
     "name": "stdout",
     "output_type": "stream",
     "text": [
      "Hello from Person!\n",
      "Hello from Person!\n"
     ]
    }
   ],
   "source": [
    "# class and objects\n",
    "\n",
    "class Person:\n",
    "    def greet(self):\n",
    "        print(\"Hello from Person!\")\n",
    "\n",
    "p1 = Person()\n",
    "p1.greet()\n",
    "\n",
    "p2 = Person()\n",
    "p2.greet()"
   ]
  },
  {
   "cell_type": "code",
   "execution_count": 200,
   "id": "ZPuz6FxEIlYw",
   "metadata": {
    "colab": {
     "base_uri": "https://localhost:8080/"
    },
    "executionInfo": {
     "elapsed": 22,
     "status": "ok",
     "timestamp": 1753707927379,
     "user": {
      "displayName": "Srinivas Appana",
      "userId": "17871761728706768737"
     },
     "user_tz": -330
    },
    "id": "ZPuz6FxEIlYw",
    "outputId": "0bbff1a8-44c4-4cb1-a8f8-85dd6fc7b294"
   },
   "outputs": [
    {
     "name": "stdout",
     "output_type": "stream",
     "text": [
      "Name: Alice, Grade: A\n",
      "Name: Bob, Grade: B\n"
     ]
    }
   ],
   "source": [
    "# constructor and instance variables\n",
    "\n",
    "class Student:\n",
    "    def __init__(self, name, grade):\n",
    "        self.name = name\n",
    "        self.grade = grade\n",
    "\n",
    "    def display(self):\n",
    "        print(f\"Name: {self.name}, Grade: {self.grade}\")\n",
    "\n",
    "s1 = Student(\"Alice\", \"A\")\n",
    "s1.display()\n",
    "\n",
    "s2 = Student(\"Bob\", \"B\")\n",
    "s2.display()"
   ]
  },
  {
   "cell_type": "code",
   "execution_count": 201,
   "id": "r3LkqzKZI1Xm",
   "metadata": {
    "colab": {
     "base_uri": "https://localhost:8080/"
    },
    "executionInfo": {
     "elapsed": 20,
     "status": "ok",
     "timestamp": 1753707955785,
     "user": {
      "displayName": "Srinivas Appana",
      "userId": "17871761728706768737"
     },
     "user_tz": -330
    },
    "id": "r3LkqzKZI1Xm",
    "outputId": "b916e22e-571f-4a78-82ac-e211d3ee4cf7"
   },
   "outputs": [
    {
     "name": "stdout",
     "output_type": "stream",
     "text": [
      "Animal speaks\n",
      "Dog barks\n"
     ]
    }
   ],
   "source": [
    "# inheritance\n",
    "\n",
    "class Animal:\n",
    "    def speak(self):\n",
    "        print(\"Animal speaks\")\n",
    "\n",
    "class Dog(Animal):\n",
    "    def bark(self):\n",
    "        print(\"Dog barks\")\n",
    "\n",
    "d = Dog()\n",
    "d.speak()\n",
    "d.bark()"
   ]
  },
  {
   "cell_type": "code",
   "execution_count": 202,
   "id": "9BhECuOjI8Te",
   "metadata": {
    "colab": {
     "base_uri": "https://localhost:8080/"
    },
    "executionInfo": {
     "elapsed": 24,
     "status": "ok",
     "timestamp": 1753707987623,
     "user": {
      "displayName": "Srinivas Appana",
      "userId": "17871761728706768737"
     },
     "user_tz": -330
    },
    "id": "9BhECuOjI8Te",
    "outputId": "15b2dda0-fec3-47c6-d059-50885cb48b09"
   },
   "outputs": [
    {
     "name": "stdout",
     "output_type": "stream",
     "text": [
      "Bird chirps\n",
      "Parrot talks\n"
     ]
    }
   ],
   "source": [
    "# method overriding\n",
    "\n",
    "class Bird:\n",
    "    def sound(self):\n",
    "        print(\"Bird chirps\")\n",
    "\n",
    "class Parrot(Bird):\n",
    "    def sound(self):\n",
    "        print(\"Parrot talks\")\n",
    "\n",
    "b = Bird()\n",
    "p = Parrot()\n",
    "b.sound()\n",
    "p.sound()"
   ]
  },
  {
   "cell_type": "code",
   "execution_count": 203,
   "id": "-VcLk2tMJEE5",
   "metadata": {
    "colab": {
     "base_uri": "https://localhost:8080/"
    },
    "executionInfo": {
     "elapsed": 55,
     "status": "ok",
     "timestamp": 1753708031080,
     "user": {
      "displayName": "Srinivas Appana",
      "userId": "17871761728706768737"
     },
     "user_tz": -330
    },
    "id": "-VcLk2tMJEE5",
    "outputId": "f7af8e19-bd00-4f39-d342-19890ae3c773"
   },
   "outputs": [
    {
     "name": "stdout",
     "output_type": "stream",
     "text": [
      "Balance: 1500\n"
     ]
    }
   ],
   "source": [
    "# encapsulation\n",
    "\n",
    "class BankAccount:\n",
    "    def __init__(self, balance):\n",
    "        self.__balance = balance  # private variable\n",
    "\n",
    "    def deposit(self, amount):\n",
    "        self.__balance += amount\n",
    "\n",
    "    def show_balance(self):\n",
    "        print(\"Balance:\", self.__balance)\n",
    "\n",
    "acc = BankAccount(1000)\n",
    "acc.deposit(500)\n",
    "acc.show_balance()"
   ]
  },
  {
   "cell_type": "code",
   "execution_count": 204,
   "id": "83UMiXsDJOrX",
   "metadata": {
    "colab": {
     "base_uri": "https://localhost:8080/",
     "height": 176
    },
    "collapsed": true,
    "executionInfo": {
     "elapsed": 45,
     "status": "error",
     "timestamp": 1753708050147,
     "user": {
      "displayName": "Srinivas Appana",
      "userId": "17871761728706768737"
     },
     "user_tz": -330
    },
    "id": "83UMiXsDJOrX",
    "jupyter": {
     "outputs_hidden": true
    },
    "outputId": "5f569b68-4fd9-486d-c93d-322ec1735497"
   },
   "outputs": [
    {
     "ename": "AttributeError",
     "evalue": "'BankAccount' object has no attribute '__balance'",
     "output_type": "error",
     "traceback": [
      "\u001b[31m---------------------------------------------------------------------------\u001b[39m",
      "\u001b[31mAttributeError\u001b[39m                            Traceback (most recent call last)",
      "\u001b[36mCell\u001b[39m\u001b[36m \u001b[39m\u001b[32mIn[204]\u001b[39m\u001b[32m, line 3\u001b[39m\n\u001b[32m      1\u001b[39m \u001b[38;5;66;03m# accessing directly throws error\u001b[39;00m\n\u001b[32m----> \u001b[39m\u001b[32m3\u001b[39m \u001b[38;5;28mprint\u001b[39m(\u001b[43macc\u001b[49m\u001b[43m.\u001b[49m\u001b[43m__balance\u001b[49m)\n",
      "\u001b[31mAttributeError\u001b[39m: 'BankAccount' object has no attribute '__balance'"
     ]
    }
   ],
   "source": [
    "# accessing directly throws error\n",
    "\n",
    "print(acc.__balance)"
   ]
  },
  {
   "cell_type": "code",
   "execution_count": 205,
   "id": "p93jdG0kJTVS",
   "metadata": {
    "colab": {
     "base_uri": "https://localhost:8080/"
    },
    "executionInfo": {
     "elapsed": 57,
     "status": "ok",
     "timestamp": 1753708148372,
     "user": {
      "displayName": "Srinivas Appana",
      "userId": "17871761728706768737"
     },
     "user_tz": -330
    },
    "id": "p93jdG0kJTVS",
    "outputId": "1c2a6af7-180d-49bd-e186-7663b77fdc6a"
   },
   "outputs": [
    {
     "name": "stdout",
     "output_type": "stream",
     "text": [
      "Total objects: 2\n"
     ]
    }
   ],
   "source": [
    "# class variables and methods\n",
    "\n",
    "class Counter:\n",
    "    count = 0\n",
    "\n",
    "    def __init__(self):\n",
    "        Counter.count += 1\n",
    "\n",
    "    @classmethod\n",
    "    def show_count(cls):\n",
    "        print(\"Total objects:\", cls.count)\n",
    "\n",
    "a = Counter()\n",
    "b = Counter()\n",
    "Counter.show_count()"
   ]
  },
  {
   "cell_type": "code",
   "execution_count": 206,
   "id": "aYDpEfVKJrT8",
   "metadata": {
    "colab": {
     "base_uri": "https://localhost:8080/"
    },
    "executionInfo": {
     "elapsed": 20,
     "status": "ok",
     "timestamp": 1753708186806,
     "user": {
      "displayName": "Srinivas Appana",
      "userId": "17871761728706768737"
     },
     "user_tz": -330
    },
    "id": "aYDpEfVKJrT8",
    "outputId": "ba8102c0-ca9b-4d96-f4ec-0d6842fa7d05"
   },
   "outputs": [
    {
     "name": "stdout",
     "output_type": "stream",
     "text": [
      "Static add: 7\n"
     ]
    }
   ],
   "source": [
    "# static method\n",
    "\n",
    "class Math:\n",
    "    @staticmethod\n",
    "    def add(a, b):\n",
    "        return a + b\n",
    "\n",
    "print(\"Static add:\", Math.add(3, 4))"
   ]
  },
  {
   "cell_type": "markdown",
   "id": "lK8YMIidKcJw",
   "metadata": {
    "id": "lK8YMIidKcJw"
   },
   "source": [
    "## **Collections** in python"
   ]
  },
  {
   "cell_type": "markdown",
   "id": "97f66f02",
   "metadata": {},
   "source": [
    "**\"collections\"** refers to container data types used for storing and organizing data.  \n",
    "This term encompasses both Python's built-in container types and the specialized container types provided by the collections module in the standard library."
   ]
  },
  {
   "cell_type": "code",
   "execution_count": 207,
   "id": "SQRBS-aJJ0tE",
   "metadata": {
    "executionInfo": {
     "elapsed": 41,
     "status": "ok",
     "timestamp": 1753708389108,
     "user": {
      "displayName": "Srinivas Appana",
      "userId": "17871761728706768737"
     },
     "user_tz": -330
    },
    "id": "SQRBS-aJJ0tE"
   },
   "outputs": [],
   "source": [
    "from collections import deque, Counter, defaultdict, OrderedDict, ChainMap"
   ]
  },
  {
   "cell_type": "code",
   "execution_count": 208,
   "id": "RaJCr2iOKmFv",
   "metadata": {
    "colab": {
     "base_uri": "https://localhost:8080/"
    },
    "executionInfo": {
     "elapsed": 15,
     "status": "ok",
     "timestamp": 1753708461569,
     "user": {
      "displayName": "Srinivas Appana",
      "userId": "17871761728706768737"
     },
     "user_tz": -330
    },
    "id": "RaJCr2iOKmFv",
    "outputId": "657e1948-d336-49e5-d914-51644c78f423"
   },
   "outputs": [
    {
     "name": "stdout",
     "output_type": "stream",
     "text": [
      "deque: deque([1, 2, 3])\n",
      "deque: deque([1, 2, 3, 4])\n",
      "deque: deque([0, 1, 2, 3, 4])\n",
      "deque: deque([0, 1, 2, 3])\n",
      "deque: deque([1, 2, 3])\n"
     ]
    }
   ],
   "source": [
    "# 2. deque – double-ended queue (faster appends and pops from both ends)\n",
    "\n",
    "dq = deque([1, 2, 3])\n",
    "print(\"deque:\", dq)\n",
    "\n",
    "dq.append(4)\n",
    "print(\"deque:\", dq)\n",
    "\n",
    "dq.appendleft(0)\n",
    "print(\"deque:\", dq)\n",
    "\n",
    "dq.pop()\n",
    "print(\"deque:\", dq)\n",
    "\n",
    "dq.popleft()\n",
    "print(\"deque:\", dq)"
   ]
  },
  {
   "cell_type": "code",
   "execution_count": 209,
   "id": "BqLxS42MK3yW",
   "metadata": {
    "colab": {
     "base_uri": "https://localhost:8080/"
    },
    "executionInfo": {
     "elapsed": 26,
     "status": "ok",
     "timestamp": 1753708479002,
     "user": {
      "displayName": "Srinivas Appana",
      "userId": "17871761728706768737"
     },
     "user_tz": -330
    },
    "id": "BqLxS42MK3yW",
    "outputId": "9cc45724-7bb4-4c46-9b87-2d69db8983db"
   },
   "outputs": [
    {
     "name": "stdout",
     "output_type": "stream",
     "text": [
      "Counter: Counter({'apple': 3, 'banana': 2, 'orange': 1})\n",
      "Most common: [('apple', 3), ('banana', 2)]\n"
     ]
    }
   ],
   "source": [
    "# Counter – frequency counter\n",
    "fruits = [\"apple\", \"banana\", \"apple\", \"orange\", \"banana\", \"apple\"]\n",
    "count = Counter(fruits)\n",
    "print(\"Counter:\", count)\n",
    "print(\"Most common:\", count.most_common(2))"
   ]
  },
  {
   "cell_type": "code",
   "execution_count": 210,
   "id": "GDvFQmk5K8Cn",
   "metadata": {
    "colab": {
     "base_uri": "https://localhost:8080/"
    },
    "executionInfo": {
     "elapsed": 24,
     "status": "ok",
     "timestamp": 1753708531027,
     "user": {
      "displayName": "Srinivas Appana",
      "userId": "17871761728706768737"
     },
     "user_tz": -330
    },
    "id": "GDvFQmk5K8Cn",
    "outputId": "802979ab-5842-43cd-f720-4f06565fdbf6"
   },
   "outputs": [
    {
     "name": "stdout",
     "output_type": "stream",
     "text": [
      "defaultdict: {'a': 1, 'b': 3}\n"
     ]
    }
   ],
   "source": [
    "# defaultdict - dict with default values\n",
    "\n",
    "dd = defaultdict(int)  # default value is 0\n",
    "dd['a'] += 1\n",
    "dd['b'] += 3\n",
    "print(\"defaultdict:\", dict(dd))"
   ]
  },
  {
   "cell_type": "code",
   "execution_count": 211,
   "id": "ElefuwnLLIvX",
   "metadata": {
    "colab": {
     "base_uri": "https://localhost:8080/"
    },
    "executionInfo": {
     "elapsed": 36,
     "status": "ok",
     "timestamp": 1753708582740,
     "user": {
      "displayName": "Srinivas Appana",
      "userId": "17871761728706768737"
     },
     "user_tz": -330
    },
    "id": "ElefuwnLLIvX",
    "outputId": "4f3f496d-03e9-4430-bace-fa694580f432"
   },
   "outputs": [
    {
     "name": "stdout",
     "output_type": "stream",
     "text": [
      "OrderedDict: OrderedDict({'a': 1, 'b': 2, 'c': 3})\n",
      "<class 'collections.OrderedDict'>\n"
     ]
    }
   ],
   "source": [
    "# OrderedDict – remembers insertion order\n",
    "\n",
    "od = OrderedDict()\n",
    "od['a'] = 1\n",
    "od['b'] = 2\n",
    "od['c'] = 3\n",
    "print(\"OrderedDict:\", od)\n",
    "print(type(od))"
   ]
  },
  {
   "cell_type": "code",
   "execution_count": 212,
   "id": "B_snDcfTLN8I",
   "metadata": {
    "colab": {
     "base_uri": "https://localhost:8080/"
    },
    "executionInfo": {
     "elapsed": 15,
     "status": "ok",
     "timestamp": 1753708742187,
     "user": {
      "displayName": "Srinivas Appana",
      "userId": "17871761728706768737"
     },
     "user_tz": -330
    },
    "id": "B_snDcfTLN8I",
    "outputId": "1467ad20-bd02-49e1-a664-25763c45351c"
   },
   "outputs": [
    {
     "name": "stdout",
     "output_type": "stream",
     "text": [
      "ChainMap: ChainMap({'a': 1, 'b': 2}, {'b': 30, 'c': 40})\n",
      "ChainMap: 2 40\n"
     ]
    }
   ],
   "source": [
    "# ChainMap – combine multiple dicts\n",
    "\n",
    "dict1 = {'a': 1, 'b': 2}\n",
    "dict2 = {'b': 30, 'c': 40}\n",
    "cm = ChainMap(dict1, dict2)\n",
    "print(\"ChainMap:\", cm)\n",
    "print(\"ChainMap:\", cm['b'], cm['c'])  # considers first found when keys are same"
   ]
  },
  {
   "cell_type": "code",
   "execution_count": 213,
   "id": "pNMzU_kOLet-",
   "metadata": {
    "colab": {
     "base_uri": "https://localhost:8080/"
    },
    "executionInfo": {
     "elapsed": 22,
     "status": "ok",
     "timestamp": 1753708677478,
     "user": {
      "displayName": "Srinivas Appana",
      "userId": "17871761728706768737"
     },
     "user_tz": -330
    },
    "id": "pNMzU_kOLet-",
    "outputId": "936b3946-d1a6-46d8-aba7-ebee3113a78a"
   },
   "outputs": [
    {
     "name": "stdout",
     "output_type": "stream",
     "text": [
      "Updated ChainMap: {'b': 100, 'c': 40, 'a': 1}\n"
     ]
    }
   ],
   "source": [
    "# Updating and modifying ChainMap\n",
    "\n",
    "cm.maps[0]['b'] = 100\n",
    "print(\"Updated ChainMap:\", dict(cm))"
   ]
  }
 ],
 "metadata": {
  "colab": {
   "provenance": [],
   "toc_visible": true
  },
  "kernelspec": {
   "display_name": "Data Science (3.12.10)",
   "language": "python",
   "name": "python3"
  },
  "language_info": {
   "codemirror_mode": {
    "name": "ipython",
    "version": 3
   },
   "file_extension": ".py",
   "mimetype": "text/x-python",
   "name": "python",
   "nbconvert_exporter": "python",
   "pygments_lexer": "ipython3",
   "version": "3.12.10"
  }
 },
 "nbformat": 4,
 "nbformat_minor": 5
}
