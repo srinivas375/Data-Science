{
 "cells": [
  {
   "cell_type": "markdown",
   "metadata": {
    "id": "NEP-BzIs4Fhh"
   },
   "source": [
    "# **Pandas**"
   ]
  },
  {
   "cell_type": "markdown",
   "metadata": {
    "id": "4Ma3ft4o4IGn"
   },
   "source": [
    "Pandas is a powerful python library used for data manipulation, analysis, and cleaning. It provides two main data structures:\n",
    "*   Series – 1D labeled array (like a column)\n",
    "*   DataFrame – 2D labeled data table (like a spreadsheet or SQL table)"
   ]
  },
  {
   "cell_type": "markdown",
   "metadata": {
    "id": "nNFoyP7g7nr0"
   },
   "source": [
    "Pandas is widely used in:\n",
    "*   Data preprocessing\n",
    "*   Handling missing values\n",
    "* Reading/writing CSV, Excel, JSON files\n",
    "* Grouping, filtering, and aggregating data\n",
    "* Time series analysis"
   ]
  },
  {
   "cell_type": "markdown",
   "metadata": {},
   "source": [
    "Installing pandas:\n",
    "* Using pip:\n",
    "    - `pip install pandas openpyxl`\n",
    "* Using uv:\n",
    "    - `uv add pandas openpyxl`"
   ]
  },
  {
   "cell_type": "markdown",
   "metadata": {
    "id": "PEPh97bq8DoF"
   },
   "source": [
    "## **Creating Series and DataFrames**"
   ]
  },
  {
   "cell_type": "code",
   "execution_count": 78,
   "metadata": {
    "executionInfo": {
     "elapsed": 404,
     "status": "ok",
     "timestamp": 1753755142126,
     "user": {
      "displayName": "Srinivas Appana",
      "userId": "17871761728706768737"
     },
     "user_tz": -330
    },
    "id": "UTjBtmVyADxt"
   },
   "outputs": [],
   "source": [
    "import pandas as pd\n",
    "\n",
    "import warnings\n",
    "warnings.filterwarnings('ignore')"
   ]
  },
  {
   "cell_type": "markdown",
   "metadata": {
    "id": "ILUd8WglAxA9"
   },
   "source": [
    "**`pandas Series`**"
   ]
  },
  {
   "cell_type": "code",
   "execution_count": 2,
   "metadata": {
    "colab": {
     "base_uri": "https://localhost:8080/"
    },
    "executionInfo": {
     "elapsed": 255,
     "status": "ok",
     "timestamp": 1753755142382,
     "user": {
      "displayName": "Srinivas Appana",
      "userId": "17871761728706768737"
     },
     "user_tz": -330
    },
    "id": "KS5t4E3U4Byr",
    "outputId": "aac67427-3c91-423a-9443-2a41a5b63e23"
   },
   "outputs": [
    {
     "name": "stdout",
     "output_type": "stream",
     "text": [
      "Series:\n",
      " 0    10\n",
      "1    20\n",
      "2    30\n",
      "3    40\n",
      "Name: Marks, dtype: int64\n"
     ]
    }
   ],
   "source": [
    "# creating a series (1D data)\n",
    "\n",
    "s = pd.Series([10, 20, 30, 40], name='Marks')\n",
    "print(\"Series:\\n\", s)"
   ]
  },
  {
   "cell_type": "code",
   "execution_count": 3,
   "metadata": {
    "colab": {
     "base_uri": "https://localhost:8080/"
    },
    "executionInfo": {
     "elapsed": 13,
     "status": "ok",
     "timestamp": 1753755142397,
     "user": {
      "displayName": "Srinivas Appana",
      "userId": "17871761728706768737"
     },
     "user_tz": -330
    },
    "id": "3LEuU03S_6gM",
    "outputId": "d5b2ed94-0e53-4ce1-85c8-305ff59a6ff3"
   },
   "outputs": [
    {
     "name": "stdout",
     "output_type": "stream",
     "text": [
      "Series with custom index:\n",
      " a    100\n",
      "b    200\n",
      "c    300\n",
      "dtype: int64\n"
     ]
    }
   ],
   "source": [
    "# series with custom index\n",
    "\n",
    "s2 = pd.Series([100, 200, 300], index=['a', 'b', 'c'])\n",
    "print(\"Series with custom index:\\n\", s2)"
   ]
  },
  {
   "cell_type": "code",
   "execution_count": 4,
   "metadata": {
    "colab": {
     "base_uri": "https://localhost:8080/"
    },
    "executionInfo": {
     "elapsed": 3,
     "status": "ok",
     "timestamp": 1753755142401,
     "user": {
      "displayName": "Srinivas Appana",
      "userId": "17871761728706768737"
     },
     "user_tz": -330
    },
    "id": "thy6jQ29AUoh",
    "outputId": "5746d247-8d9c-40b6-8a7b-727a7208f940"
   },
   "outputs": [
    {
     "name": "stdout",
     "output_type": "stream",
     "text": [
      "Series from dictionary:\n",
      " day1    100\n",
      "day2    200\n",
      "day3    300\n",
      "Name: income, dtype: int64\n"
     ]
    }
   ],
   "source": [
    "# series from dictionary\n",
    "s3 = pd.Series({'day1': 100, 'day2': 200, 'day3': 300}, name = \"income\")\n",
    "print(\"Series from dictionary:\\n\", s3)"
   ]
  },
  {
   "cell_type": "markdown",
   "metadata": {
    "id": "HIGN6PA9A1ux"
   },
   "source": [
    "**`pandas DataFrames`**"
   ]
  },
  {
   "cell_type": "code",
   "execution_count": 5,
   "metadata": {
    "colab": {
     "base_uri": "https://localhost:8080/"
    },
    "executionInfo": {
     "elapsed": 69,
     "status": "ok",
     "timestamp": 1753755142471,
     "user": {
      "displayName": "Srinivas Appana",
      "userId": "17871761728706768737"
     },
     "user_tz": -330
    },
    "id": "FILbYi0YAp12",
    "outputId": "19b50798-b4f3-4c28-dfde-5a94d9aa7748"
   },
   "outputs": [
    {
     "name": "stdout",
     "output_type": "stream",
     "text": [
      "DataFrame from dict:\n",
      "       Name  Age     City\n",
      "0    Alice   25    Delhi\n",
      "1      Bob   30   Mumbai\n",
      "2  Charlie   22  Chennai\n"
     ]
    }
   ],
   "source": [
    "# Create a DataFrame from a dictionary\n",
    "\n",
    "data = {\n",
    "    'Name': ['Alice', 'Bob', 'Charlie'],\n",
    "    'Age': [25, 30, 22],\n",
    "    'City': ['Delhi', 'Mumbai', 'Chennai']\n",
    "}\n",
    "df = pd.DataFrame(data)\n",
    "\n",
    "print(\"DataFrame from dict:\\n\", df)"
   ]
  },
  {
   "cell_type": "code",
   "execution_count": 6,
   "metadata": {
    "colab": {
     "base_uri": "https://localhost:8080/"
    },
    "executionInfo": {
     "elapsed": 5,
     "status": "ok",
     "timestamp": 1753755142476,
     "user": {
      "displayName": "Srinivas Appana",
      "userId": "17871761728706768737"
     },
     "user_tz": -330
    },
    "id": "GQRKPXB4A64Q",
    "outputId": "e17dfcd0-d1f7-498b-efee-33e6d53af794"
   },
   "outputs": [
    {
     "name": "stdout",
     "output_type": "stream",
     "text": [
      "DataFrame from list of lists:\n",
      "    ID  Subject\n",
      "0   1     Math\n",
      "1   2  Science\n",
      "2   3  English\n"
     ]
    }
   ],
   "source": [
    "# Create DataFrame from list of lists with column names\n",
    "\n",
    "data2 = [[1, 'Math'], [2, 'Science'], [3, 'English']]\n",
    "df2 = pd.DataFrame(data2, columns=['ID', 'Subject'])\n",
    "print(\"DataFrame from list of lists:\\n\", df2)"
   ]
  },
  {
   "cell_type": "code",
   "execution_count": 7,
   "metadata": {
    "colab": {
     "base_uri": "https://localhost:8080/"
    },
    "executionInfo": {
     "elapsed": 25,
     "status": "ok",
     "timestamp": 1753755142502,
     "user": {
      "displayName": "Srinivas Appana",
      "userId": "17871761728706768737"
     },
     "user_tz": -330
    },
    "id": "i8AHq43SBIQ6",
    "outputId": "cefcced9-a64e-4539-8e35-fcd27335de0a"
   },
   "outputs": [
    {
     "name": "stdout",
     "output_type": "stream",
     "text": [
      "Empty DataFrame\n",
      "Columns: []\n",
      "Index: []\n"
     ]
    }
   ],
   "source": [
    "# empty dataframe\n",
    "\n",
    "df3 = pd.DataFrame()\n",
    "print(df3)"
   ]
  },
  {
   "cell_type": "markdown",
   "metadata": {
    "id": "Rzh6x6SeCK_A"
   },
   "source": [
    "## **Reading CSV files and writing in pandas**"
   ]
  },
  {
   "cell_type": "markdown",
   "metadata": {
    "id": "ETDOztpJGCru"
   },
   "source": [
    "**CSV file**"
   ]
  },
  {
   "cell_type": "markdown",
   "metadata": {},
   "source": [
    "Dataset link: [data.csv](https://www.w3schools.com/python/pandas/data.csv)"
   ]
  },
  {
   "cell_type": "code",
   "execution_count": 9,
   "metadata": {
    "colab": {
     "base_uri": "https://localhost:8080/"
    },
    "executionInfo": {
     "elapsed": 3,
     "status": "ok",
     "timestamp": 1753755142506,
     "user": {
      "displayName": "Srinivas Appana",
      "userId": "17871761728706768737"
     },
     "user_tz": -330
    },
    "id": "Fs6NlLjiBPPZ",
    "outputId": "7ade3f6f-6b28-4cde-d087-fa4e159584a2"
   },
   "outputs": [
    {
     "name": "stdout",
     "output_type": "stream",
     "text": [
      "     Duration  Pulse  Maxpulse  Calories\n",
      "0          60    110       130     409.1\n",
      "1          60    117       145     479.0\n",
      "2          60    103       135     340.0\n",
      "3          45    109       175     282.4\n",
      "4          45    117       148     406.0\n",
      "..        ...    ...       ...       ...\n",
      "164        60    105       140     290.8\n",
      "165        60    110       145     300.0\n",
      "166        60    115       145     310.2\n",
      "167        75    120       150     320.4\n",
      "168        75    125       150     330.4\n",
      "\n",
      "[169 rows x 4 columns]\n"
     ]
    }
   ],
   "source": [
    "# Reading CSV file\n",
    "\n",
    "df_csv = pd.read_csv('./datasets/data.csv')\n",
    "print(df_csv)"
   ]
  },
  {
   "cell_type": "code",
   "execution_count": 10,
   "metadata": {
    "colab": {
     "base_uri": "https://localhost:8080/"
    },
    "executionInfo": {
     "elapsed": 1,
     "status": "ok",
     "timestamp": 1753755142508,
     "user": {
      "displayName": "Srinivas Appana",
      "userId": "17871761728706768737"
     },
     "user_tz": -330
    },
    "id": "qtgKgHbpChEq",
    "outputId": "64d2fc3e-33be-4f0c-beed-71a6e2fe4dfa"
   },
   "outputs": [
    {
     "name": "stdout",
     "output_type": "stream",
     "text": [
      "File written succesfully\n"
     ]
    }
   ],
   "source": [
    "# writing dataframe to csv file\n",
    "\n",
    "import os\n",
    "\n",
    "if os.path.exists(\"output.csv\"):\n",
    "  os.remove(\"output.csv\")\n",
    "df_csv.to_csv('output.csv', index=False)\n",
    "print(\"File written succesfully\")"
   ]
  },
  {
   "cell_type": "markdown",
   "metadata": {
    "id": "bmH-bW60GFGI"
   },
   "source": [
    "**XLSX file**"
   ]
  },
  {
   "cell_type": "markdown",
   "metadata": {},
   "source": [
    "dataset link: [data.xlsx](https://docs.google.com/spreadsheets/d/1LTJMUDhrN-32tyd15sKdp79sJQbFkLtf/edit?usp=drive_link&ouid=116832746501987041317&rtpof=true&sd=true)"
   ]
  },
  {
   "cell_type": "code",
   "execution_count": 12,
   "metadata": {
    "colab": {
     "base_uri": "https://localhost:8080/"
    },
    "executionInfo": {
     "elapsed": 288,
     "status": "ok",
     "timestamp": 1753755142797,
     "user": {
      "displayName": "Srinivas Appana",
      "userId": "17871761728706768737"
     },
     "user_tz": -330
    },
    "id": "5ysPZtkSDT_6",
    "outputId": "8005bb93-e2f5-4b20-ab00-7cbb57b4783e"
   },
   "outputs": [
    {
     "name": "stdout",
     "output_type": "stream",
     "text": [
      "\n",
      "Excel Data:\n",
      "      Duration  Pulse  Maxpulse  Calories\n",
      "0          60    110       130     409.1\n",
      "1          60    117       145     479.0\n",
      "2          60    103       135     340.0\n",
      "3          45    109       175     282.4\n",
      "4          45    117       148     406.0\n",
      "..        ...    ...       ...       ...\n",
      "164        60    105       140     290.8\n",
      "165        60    110       145     300.0\n",
      "166        60    115       145     310.2\n",
      "167        75    120       150     320.4\n",
      "168        75    125       150     330.4\n",
      "\n",
      "[169 rows x 4 columns]\n"
     ]
    }
   ],
   "source": [
    "# Reading Excel file\n",
    "\n",
    "df_excel = pd.read_excel('./datasets/data.xlsx')\n",
    "print(\"\\nExcel Data:\\n\", df_excel)"
   ]
  },
  {
   "cell_type": "code",
   "execution_count": 13,
   "metadata": {
    "executionInfo": {
     "elapsed": 131,
     "status": "ok",
     "timestamp": 1753755142927,
     "user": {
      "displayName": "Srinivas Appana",
      "userId": "17871761728706768737"
     },
     "user_tz": -330
    },
    "id": "JkIvi6WhGXiW"
   },
   "outputs": [],
   "source": [
    "# Writing to Excel file\n",
    "\n",
    "df_excel.to_excel('output.xlsx', index=False)"
   ]
  },
  {
   "cell_type": "markdown",
   "metadata": {
    "id": "nPZBpCkhGgZh"
   },
   "source": [
    "**JSON file**"
   ]
  },
  {
   "cell_type": "markdown",
   "metadata": {},
   "source": [
    "Dataset link: [data.json](https://drive.google.com/file/d/1HPxizBcAuek-5s6o_Sdh7FeI4uk14v2S/view?usp=drive_link)"
   ]
  },
  {
   "cell_type": "code",
   "execution_count": 14,
   "metadata": {
    "colab": {
     "base_uri": "https://localhost:8080/"
    },
    "executionInfo": {
     "elapsed": 8,
     "status": "ok",
     "timestamp": 1753755142936,
     "user": {
      "displayName": "Srinivas Appana",
      "userId": "17871761728706768737"
     },
     "user_tz": -330
    },
    "id": "g63hsfnOGekp",
    "outputId": "b2f2921c-f5ac-4a7c-a4b8-a9aaf2f0e2a5"
   },
   "outputs": [
    {
     "name": "stdout",
     "output_type": "stream",
     "text": [
      "\n",
      "JSON Data:\n",
      "      Duration  Pulse  Maxpulse Calories\n",
      "0          60    110       130    409.1\n",
      "1          60    117       145      479\n",
      "2          60    103       135      340\n",
      "3          45    109       175    282.4\n",
      "4          45    117       148      406\n",
      "..        ...    ...       ...      ...\n",
      "164        60    105       140    290.8\n",
      "165        60    110       145      300\n",
      "166        60    115       145    310.2\n",
      "167        75    120       150    320.4\n",
      "168        75    125       150    330.4\n",
      "\n",
      "[169 rows x 4 columns]\n"
     ]
    }
   ],
   "source": [
    "# Reading JSON file\n",
    "\n",
    "df_json = pd.read_json('./datasets/data.json')\n",
    "print(\"\\nJSON Data:\\n\", df_json)"
   ]
  },
  {
   "cell_type": "code",
   "execution_count": 15,
   "metadata": {
    "executionInfo": {
     "elapsed": 1,
     "status": "ok",
     "timestamp": 1753755142944,
     "user": {
      "displayName": "Srinivas Appana",
      "userId": "17871761728706768737"
     },
     "user_tz": -330
    },
    "id": "ZRt1EEIHGoRK"
   },
   "outputs": [],
   "source": [
    "# Writing to JSON file\n",
    "\n",
    "df_json.to_json('output.json', orient='records', indent=2)"
   ]
  },
  {
   "cell_type": "markdown",
   "metadata": {
    "id": "3d7czES0Gv7y"
   },
   "source": [
    "## **Exploring the data**"
   ]
  },
  {
   "cell_type": "code",
   "execution_count": 17,
   "metadata": {
    "executionInfo": {
     "elapsed": 0,
     "status": "ok",
     "timestamp": 1753755142945,
     "user": {
      "displayName": "Srinivas Appana",
      "userId": "17871761728706768737"
     },
     "user_tz": -330
    },
    "id": "0hIMwHABGrwN"
   },
   "outputs": [],
   "source": [
    "data = {\n",
    "    'Name': ['Alice', 'Bob', 'Charlie', 'David', 'Eva'],\n",
    "    'Age': [25, 30, 22, 35, 28],\n",
    "    'City': ['Delhi', 'Mumbai', 'Chennai', 'Bangalore', 'Hyderabad']\n",
    "}\n",
    "\n",
    "df1 = pd.DataFrame(data)\n",
    "df2 = pd.read_csv('./datasets/data.csv')"
   ]
  },
  {
   "cell_type": "code",
   "execution_count": 18,
   "metadata": {
    "colab": {
     "base_uri": "https://localhost:8080/"
    },
    "executionInfo": {
     "elapsed": 2,
     "status": "ok",
     "timestamp": 1753755142948,
     "user": {
      "displayName": "Srinivas Appana",
      "userId": "17871761728706768737"
     },
     "user_tz": -330
    },
    "id": "kgH7NQ8QG_89",
    "outputId": "95d2d29c-1470-434f-e286-2dfab6c68db9"
   },
   "outputs": [
    {
     "name": "stdout",
     "output_type": "stream",
     "text": [
      "      Name  Age     City\n",
      "0    Alice   25    Delhi\n",
      "1      Bob   30   Mumbai\n",
      "2  Charlie   22  Chennai\n"
     ]
    }
   ],
   "source": [
    "# view first few rows\n",
    "\n",
    "print(df1.head(3))"
   ]
  },
  {
   "cell_type": "code",
   "execution_count": 19,
   "metadata": {
    "colab": {
     "base_uri": "https://localhost:8080/"
    },
    "executionInfo": {
     "elapsed": 12,
     "status": "ok",
     "timestamp": 1753755142960,
     "user": {
      "displayName": "Srinivas Appana",
      "userId": "17871761728706768737"
     },
     "user_tz": -330
    },
    "id": "y1lqEXeiHGqH",
    "outputId": "290a29d9-1717-4403-dde0-86d39f4356fe"
   },
   "outputs": [
    {
     "name": "stdout",
     "output_type": "stream",
     "text": [
      "    Name  Age    City\n",
      "0  Alice   25   Delhi\n",
      "1    Bob   30  Mumbai\n"
     ]
    }
   ],
   "source": [
    "print(df1.head(2))"
   ]
  },
  {
   "cell_type": "code",
   "execution_count": 20,
   "metadata": {
    "colab": {
     "base_uri": "https://localhost:8080/"
    },
    "executionInfo": {
     "elapsed": 35,
     "status": "ok",
     "timestamp": 1753755142996,
     "user": {
      "displayName": "Srinivas Appana",
      "userId": "17871761728706768737"
     },
     "user_tz": -330
    },
    "id": "IQavecEfHMoq",
    "outputId": "4d906812-2c3b-4eaf-df9a-4ef37f3f2043"
   },
   "outputs": [
    {
     "name": "stdout",
     "output_type": "stream",
     "text": [
      "      Name  Age       City\n",
      "0    Alice   25      Delhi\n",
      "1      Bob   30     Mumbai\n",
      "2  Charlie   22    Chennai\n",
      "3    David   35  Bangalore\n",
      "4      Eva   28  Hyderabad\n"
     ]
    }
   ],
   "source": [
    "print(df1.head())"
   ]
  },
  {
   "cell_type": "code",
   "execution_count": 21,
   "metadata": {
    "colab": {
     "base_uri": "https://localhost:8080/"
    },
    "executionInfo": {
     "elapsed": 4,
     "status": "ok",
     "timestamp": 1753755143001,
     "user": {
      "displayName": "Srinivas Appana",
      "userId": "17871761728706768737"
     },
     "user_tz": -330
    },
    "id": "FIPsqRUVHOu5",
    "outputId": "35bdcb87-b3bb-49b0-8691-0e860b083c00"
   },
   "outputs": [
    {
     "name": "stdout",
     "output_type": "stream",
     "text": [
      "\n",
      "df1 Shape: (5, 3)\n",
      "\n",
      "df2 Shape: (169, 4)\n"
     ]
    }
   ],
   "source": [
    "# Shape of DataFrame (rows, columns)\n",
    "\n",
    "print(\"\\ndf1 Shape:\", df1.shape)\n",
    "print(\"\\ndf2 Shape:\", df2.shape)"
   ]
  },
  {
   "cell_type": "code",
   "execution_count": 22,
   "metadata": {
    "colab": {
     "base_uri": "https://localhost:8080/"
    },
    "executionInfo": {
     "elapsed": 27,
     "status": "ok",
     "timestamp": 1753755143028,
     "user": {
      "displayName": "Srinivas Appana",
      "userId": "17871761728706768737"
     },
     "user_tz": -330
    },
    "id": "lLHWc0-THXvk",
    "outputId": "33c176d6-fd3f-433b-f4f9-9c7a3651870b"
   },
   "outputs": [
    {
     "name": "stdout",
     "output_type": "stream",
     "text": [
      "Columns of df1: ['Name', 'Age', 'City']\n",
      "Columns of df2: ['Duration', 'Pulse', 'Maxpulse', 'Calories']\n"
     ]
    }
   ],
   "source": [
    "# Get column names\n",
    "\n",
    "print(\"Columns of df1:\", df1.columns.tolist())\n",
    "print(\"Columns of df2:\", df2.columns.tolist())\n"
   ]
  },
  {
   "cell_type": "code",
   "execution_count": 23,
   "metadata": {
    "colab": {
     "base_uri": "https://localhost:8080/"
    },
    "executionInfo": {
     "elapsed": 2,
     "status": "ok",
     "timestamp": 1753755143030,
     "user": {
      "displayName": "Srinivas Appana",
      "userId": "17871761728706768737"
     },
     "user_tz": -330
    },
    "id": "5wJu67ynHchg",
    "outputId": "f7421122-7d05-42dc-e929-9f96794b356b"
   },
   "outputs": [
    {
     "name": "stdout",
     "output_type": "stream",
     "text": [
      "df1 Index: RangeIndex(start=0, stop=5, step=1)\n",
      "df2 Index: RangeIndex(start=0, stop=169, step=1)\n"
     ]
    }
   ],
   "source": [
    "# Get index info\n",
    "\n",
    "print(\"df1 Index:\", df1.index)\n",
    "print(\"df2 Index:\", df2.index)"
   ]
  },
  {
   "cell_type": "code",
   "execution_count": 24,
   "metadata": {
    "colab": {
     "base_uri": "https://localhost:8080/"
    },
    "executionInfo": {
     "elapsed": 14,
     "status": "ok",
     "timestamp": 1753755143045,
     "user": {
      "displayName": "Srinivas Appana",
      "userId": "17871761728706768737"
     },
     "user_tz": -330
    },
    "id": "i_JJexpmH245",
    "outputId": "4530c33a-e771-4e0c-c87c-c1f404ddd1c0"
   },
   "outputs": [
    {
     "name": "stdout",
     "output_type": "stream",
     "text": [
      "Info of df1:\n",
      "\n",
      "<class 'pandas.core.frame.DataFrame'>\n",
      "RangeIndex: 5 entries, 0 to 4\n",
      "Data columns (total 3 columns):\n",
      " #   Column  Non-Null Count  Dtype \n",
      "---  ------  --------------  ----- \n",
      " 0   Name    5 non-null      object\n",
      " 1   Age     5 non-null      int64 \n",
      " 2   City    5 non-null      object\n",
      "dtypes: int64(1), object(2)\n",
      "memory usage: 252.0+ bytes\n",
      "None\n",
      "------------------------------------------------------------\n",
      "------------------------------------------------------------\n",
      "Info of df2:\n",
      "\n",
      "<class 'pandas.core.frame.DataFrame'>\n",
      "RangeIndex: 169 entries, 0 to 168\n",
      "Data columns (total 4 columns):\n",
      " #   Column    Non-Null Count  Dtype  \n",
      "---  ------    --------------  -----  \n",
      " 0   Duration  169 non-null    int64  \n",
      " 1   Pulse     169 non-null    int64  \n",
      " 2   Maxpulse  169 non-null    int64  \n",
      " 3   Calories  164 non-null    float64\n",
      "dtypes: float64(1), int64(3)\n",
      "memory usage: 5.4 KB\n",
      "None\n"
     ]
    }
   ],
   "source": [
    "# Summary of DataFrame\n",
    "print(\"Info of df1:\\n\")\n",
    "print(df1.info())\n",
    "print(\"--\"*30)\n",
    "print(\"--\"*30)\n",
    "print(\"Info of df2:\\n\")\n",
    "print(df2.info())"
   ]
  },
  {
   "cell_type": "code",
   "execution_count": 25,
   "metadata": {
    "colab": {
     "base_uri": "https://localhost:8080/"
    },
    "executionInfo": {
     "elapsed": 56,
     "status": "ok",
     "timestamp": 1753755143101,
     "user": {
      "displayName": "Srinivas Appana",
      "userId": "17871761728706768737"
     },
     "user_tz": -330
    },
    "id": "eMpJKHT4IGVX",
    "outputId": "c59a04a3-e454-4442-feeb-8a079f6896c0"
   },
   "outputs": [
    {
     "name": "stdout",
     "output_type": "stream",
     "text": [
      "\n",
      "Describe df1:\n",
      "              Age\n",
      "count   5.000000\n",
      "mean   28.000000\n",
      "std     4.949747\n",
      "min    22.000000\n",
      "25%    25.000000\n",
      "50%    28.000000\n",
      "75%    30.000000\n",
      "max    35.000000\n"
     ]
    }
   ],
   "source": [
    "# Statistical summary of numeric columns\n",
    "\n",
    "print(\"\\nDescribe df1:\\n\", df1.describe())"
   ]
  },
  {
   "cell_type": "code",
   "execution_count": 26,
   "metadata": {
    "colab": {
     "base_uri": "https://localhost:8080/"
    },
    "executionInfo": {
     "elapsed": 4,
     "status": "ok",
     "timestamp": 1753755143105,
     "user": {
      "displayName": "Srinivas Appana",
      "userId": "17871761728706768737"
     },
     "user_tz": -330
    },
    "id": "e_CAnbNpIZZc",
    "outputId": "aa274b51-4010-42f4-9674-9a4db0801bbf"
   },
   "outputs": [
    {
     "name": "stdout",
     "output_type": "stream",
     "text": [
      "\n",
      "Describe df2:\n",
      "          Duration       Pulse    Maxpulse     Calories\n",
      "count  169.000000  169.000000  169.000000   164.000000\n",
      "mean    63.846154  107.461538  134.047337   375.790244\n",
      "std     42.299949   14.510259   16.450434   266.379919\n",
      "min     15.000000   80.000000  100.000000    50.300000\n",
      "25%     45.000000  100.000000  124.000000   250.925000\n",
      "50%     60.000000  105.000000  131.000000   318.600000\n",
      "75%     60.000000  111.000000  141.000000   387.600000\n",
      "max    300.000000  159.000000  184.000000  1860.400000\n"
     ]
    }
   ],
   "source": [
    "print(\"\\nDescribe df2:\\n\", df2.describe())"
   ]
  },
  {
   "cell_type": "code",
   "execution_count": 27,
   "metadata": {
    "colab": {
     "base_uri": "https://localhost:8080/"
    },
    "executionInfo": {
     "elapsed": 42,
     "status": "ok",
     "timestamp": 1753755143147,
     "user": {
      "displayName": "Srinivas Appana",
      "userId": "17871761728706768737"
     },
     "user_tz": -330
    },
    "id": "tFQLPnMyIb2g",
    "outputId": "8f28d548-231f-4712-ca28-34a0d8068c5f"
   },
   "outputs": [
    {
     "name": "stdout",
     "output_type": "stream",
     "text": [
      "Data types of df1:\n",
      " Name    object\n",
      "Age      int64\n",
      "City    object\n",
      "dtype: object\n"
     ]
    }
   ],
   "source": [
    "# data types\n",
    "print(\"Data types of df1:\\n\", df1.dtypes)"
   ]
  },
  {
   "cell_type": "code",
   "execution_count": 28,
   "metadata": {
    "colab": {
     "base_uri": "https://localhost:8080/"
    },
    "executionInfo": {
     "elapsed": 25,
     "status": "ok",
     "timestamp": 1753755143172,
     "user": {
      "displayName": "Srinivas Appana",
      "userId": "17871761728706768737"
     },
     "user_tz": -330
    },
    "id": "2BWg3sU5LzS5",
    "outputId": "e6e21fe0-ccd8-4e82-c6ef-a7eb0fc68fc0"
   },
   "outputs": [
    {
     "name": "stdout",
     "output_type": "stream",
     "text": [
      "Data types of df2:\n",
      " Name    object\n",
      "Age      int64\n",
      "City    object\n",
      "dtype: object\n"
     ]
    }
   ],
   "source": [
    "print(\"Data types of df2:\\n\",df.dtypes)"
   ]
  },
  {
   "cell_type": "code",
   "execution_count": 29,
   "metadata": {
    "executionInfo": {
     "elapsed": 74,
     "status": "ok",
     "timestamp": 1753755143247,
     "user": {
      "displayName": "Srinivas Appana",
      "userId": "17871761728706768737"
     },
     "user_tz": -330
    },
    "id": "Upy9oYi37S5D"
   },
   "outputs": [],
   "source": [
    "# to display interested number of columns\n",
    "\n",
    "pd.set_option('display.max_columns', 100)"
   ]
  },
  {
   "cell_type": "code",
   "execution_count": 30,
   "metadata": {
    "colab": {
     "base_uri": "https://localhost:8080/"
    },
    "executionInfo": {
     "elapsed": 5,
     "status": "ok",
     "timestamp": 1753755143247,
     "user": {
      "displayName": "Srinivas Appana",
      "userId": "17871761728706768737"
     },
     "user_tz": -330
    },
    "id": "OirAF3tv7lCM",
    "outputId": "fe5e7910-77d6-4fc7-8e8f-d712840c42ef"
   },
   "outputs": [
    {
     "name": "stdout",
     "output_type": "stream",
     "text": [
      "City column:\n",
      " City\n",
      "Delhi        1\n",
      "Mumbai       1\n",
      "Chennai      1\n",
      "Bangalore    1\n",
      "Hyderabad    1\n",
      "Name: count, dtype: int64\n"
     ]
    }
   ],
   "source": [
    "# to know the unique values of a column and their counts\n",
    "\n",
    "print(\"City column:\\n\", df1['City'].value_counts())"
   ]
  },
  {
   "cell_type": "markdown",
   "metadata": {
    "id": "ERkl9x-_MDq-"
   },
   "source": [
    "## **Indexing, selecting and filtering data**"
   ]
  },
  {
   "cell_type": "code",
   "execution_count": 31,
   "metadata": {
    "colab": {
     "base_uri": "https://localhost:8080/"
    },
    "executionInfo": {
     "elapsed": 2,
     "status": "ok",
     "timestamp": 1753755143247,
     "user": {
      "displayName": "Srinivas Appana",
      "userId": "17871761728706768737"
     },
     "user_tz": -330
    },
    "id": "fNGnpEGyL3bv",
    "outputId": "5f783be5-f027-4f65-c7d2-18d1b1dc47b0"
   },
   "outputs": [
    {
     "name": "stdout",
     "output_type": "stream",
     "text": [
      "Name column:\n",
      " 0      Alice\n",
      "1        Bob\n",
      "2    Charlie\n",
      "3      David\n",
      "4        Eva\n",
      "Name: Name, dtype: object\n"
     ]
    }
   ],
   "source": [
    "# Select a single column (as Series)\n",
    "\n",
    "print(\"Name column:\\n\", df1['Name'])"
   ]
  },
  {
   "cell_type": "code",
   "execution_count": 32,
   "metadata": {
    "colab": {
     "base_uri": "https://localhost:8080/"
    },
    "executionInfo": {
     "elapsed": 25,
     "status": "ok",
     "timestamp": 1753755143272,
     "user": {
      "displayName": "Srinivas Appana",
      "userId": "17871761728706768737"
     },
     "user_tz": -330
    },
    "id": "9V_MF6XKMO18",
    "outputId": "7b798f78-d3bf-454e-b148-a0b9dc582e2c"
   },
   "outputs": [
    {
     "name": "stdout",
     "output_type": "stream",
     "text": [
      "\n",
      "Name and City:\n",
      "       Name       City\n",
      "0    Alice      Delhi\n",
      "1      Bob     Mumbai\n",
      "2  Charlie    Chennai\n",
      "3    David  Bangalore\n",
      "4      Eva  Hyderabad\n"
     ]
    }
   ],
   "source": [
    "# Select multiple columns\n",
    "\n",
    "print(\"\\nName and City:\\n\", df1[['Name', 'City']])"
   ]
  },
  {
   "cell_type": "code",
   "execution_count": 33,
   "metadata": {
    "colab": {
     "base_uri": "https://localhost:8080/"
    },
    "executionInfo": {
     "elapsed": 2,
     "status": "ok",
     "timestamp": 1753755143274,
     "user": {
      "displayName": "Srinivas Appana",
      "userId": "17871761728706768737"
     },
     "user_tz": -330
    },
    "id": "OXXXzplEMUdf",
    "outputId": "5d0415a2-7c53-46f3-f1e6-76438314a4c1"
   },
   "outputs": [
    {
     "name": "stdout",
     "output_type": "stream",
     "text": [
      "\n",
      "Row at index 2:\n",
      " Name    Charlie\n",
      "Age          22\n",
      "City    Chennai\n",
      "Name: 2, dtype: object\n"
     ]
    }
   ],
   "source": [
    "# Select rows by index position (iloc)\n",
    "\n",
    "print(\"\\nRow at index 2:\\n\", df1.iloc[2])"
   ]
  },
  {
   "cell_type": "code",
   "execution_count": 34,
   "metadata": {
    "colab": {
     "base_uri": "https://localhost:8080/"
    },
    "executionInfo": {
     "elapsed": 2,
     "status": "ok",
     "timestamp": 1753755143276,
     "user": {
      "displayName": "Srinivas Appana",
      "userId": "17871761728706768737"
     },
     "user_tz": -330
    },
    "id": "gWooAbtAMYF5",
    "outputId": "6358e792-dfad-45f5-e00a-74965656ca98"
   },
   "outputs": [
    {
     "name": "stdout",
     "output_type": "stream",
     "text": [
      "\n",
      "Row at label 0:\n",
      " Name    Alice\n",
      "Age        25\n",
      "City    Delhi\n",
      "Name: 0, dtype: object\n"
     ]
    }
   ],
   "source": [
    "# Select rows by label (loc)\n",
    "\n",
    "print(\"\\nRow at label 0:\\n\", df1.loc[0])"
   ]
  },
  {
   "cell_type": "code",
   "execution_count": 35,
   "metadata": {
    "colab": {
     "base_uri": "https://localhost:8080/"
    },
    "executionInfo": {
     "elapsed": 88,
     "status": "ok",
     "timestamp": 1753755143364,
     "user": {
      "displayName": "Srinivas Appana",
      "userId": "17871761728706768737"
     },
     "user_tz": -330
    },
    "id": "RtqNkHHaMhp1",
    "outputId": "34567b40-195a-41dc-e116-b377996ecb57"
   },
   "outputs": [
    {
     "name": "stdout",
     "output_type": "stream",
     "text": [
      "\n",
      "Rows 1 to 3:\n",
      "       Name  Age       City\n",
      "1      Bob   30     Mumbai\n",
      "2  Charlie   22    Chennai\n",
      "3    David   35  Bangalore\n"
     ]
    }
   ],
   "source": [
    "# slicing data\n",
    "\n",
    "print(\"\\nRows 1 to 3:\\n\", df1.iloc[1:4, :])"
   ]
  },
  {
   "cell_type": "code",
   "execution_count": 36,
   "metadata": {
    "colab": {
     "base_uri": "https://localhost:8080/"
    },
    "executionInfo": {
     "elapsed": 6,
     "status": "ok",
     "timestamp": 1753755143370,
     "user": {
      "displayName": "Srinivas Appana",
      "userId": "17871761728706768737"
     },
     "user_tz": -330
    },
    "id": "z_L-cpP2MrJH",
    "outputId": "cb25cc46-bd9e-4f7f-c4c2-fd71210fa663"
   },
   "outputs": [
    {
     "name": "stdout",
     "output_type": "stream",
     "text": [
      "Rows:\n",
      "       Name       City\n",
      "0    Alice      Delhi\n",
      "2  Charlie    Chennai\n",
      "4      Eva  Hyderabad\n"
     ]
    }
   ],
   "source": [
    "print(\"Rows:\\n\", df1.iloc[::2, [0,2]])"
   ]
  },
  {
   "cell_type": "code",
   "execution_count": 37,
   "metadata": {
    "colab": {
     "base_uri": "https://localhost:8080/"
    },
    "executionInfo": {
     "elapsed": 5,
     "status": "ok",
     "timestamp": 1753755143371,
     "user": {
      "displayName": "Srinivas Appana",
      "userId": "17871761728706768737"
     },
     "user_tz": -330
    },
    "id": "1W8WRUMoMxzJ",
    "outputId": "8aafae43-2a39-4d2c-922e-c300cede3859"
   },
   "outputs": [
    {
     "name": "stdout",
     "output_type": "stream",
     "text": [
      "People older than 25:\n",
      "     Name  Age       City\n",
      "1    Bob   30     Mumbai\n",
      "3  David   35  Bangalore\n",
      "4    Eva   28  Hyderabad\n"
     ]
    }
   ],
   "source": [
    "# Conditional filtering\n",
    "print(\"People older than 25:\\n\", df1[df1['Age'] > 25])"
   ]
  },
  {
   "cell_type": "code",
   "execution_count": 38,
   "metadata": {
    "colab": {
     "base_uri": "https://localhost:8080/"
    },
    "executionInfo": {
     "elapsed": 2,
     "status": "ok",
     "timestamp": 1753755143371,
     "user": {
      "displayName": "Srinivas Appana",
      "userId": "17871761728706768737"
     },
     "user_tz": -330
    },
    "id": "7HM3tyt5NA09",
    "outputId": "9f443cf5-6020-459b-9935-7a15a21371e7"
   },
   "outputs": [
    {
     "name": "stdout",
     "output_type": "stream",
     "text": [
      "Age > 25 and City is Mumbai:\n",
      "   Name  Age    City\n",
      "1  Bob   30  Mumbai\n"
     ]
    }
   ],
   "source": [
    "# Filter rows by multiple conditions\n",
    "\n",
    "print(\"Age > 25 and City is Mumbai:\\n\", df[(df['Age'] > 25) & (df['City'] == 'Mumbai')])"
   ]
  },
  {
   "cell_type": "code",
   "execution_count": 40,
   "metadata": {
    "colab": {
     "base_uri": "https://localhost:8080/"
    },
    "executionInfo": {
     "elapsed": 27,
     "status": "ok",
     "timestamp": 1753755143397,
     "user": {
      "displayName": "Srinivas Appana",
      "userId": "17871761728706768737"
     },
     "user_tz": -330
    },
    "id": "L6U-cRIUNKE_",
    "outputId": "f01c8d08-bd13-4b42-84fa-2a7679d2258d"
   },
   "outputs": [
    {
     "name": "stdout",
     "output_type": "stream",
     "text": [
      "DataFrame with Name as index:\n",
      "          Age     City\n",
      "Name                 \n",
      "Alice     25    Delhi\n",
      "Bob       30   Mumbai\n",
      "Charlie   22  Chennai\n"
     ]
    }
   ],
   "source": [
    "# Setting a new index\n",
    "\n",
    "df_indexed = df.set_index('Name')\n",
    "print(\"DataFrame with Name as index:\\n\", df_indexed)"
   ]
  },
  {
   "cell_type": "markdown",
   "metadata": {
    "id": "OKSFjspXNUAE"
   },
   "source": [
    "## **Analysing and Modifying data**"
   ]
  },
  {
   "cell_type": "code",
   "execution_count": 41,
   "metadata": {
    "colab": {
     "base_uri": "https://localhost:8080/",
     "height": 206
    },
    "executionInfo": {
     "elapsed": 21,
     "status": "ok",
     "timestamp": 1753755143399,
     "user": {
      "displayName": "Srinivas Appana",
      "userId": "17871761728706768737"
     },
     "user_tz": -330
    },
    "id": "yVjFL6m3NPu9",
    "outputId": "34197ed3-cced-4760-8c94-6511faf9752f"
   },
   "outputs": [
    {
     "data": {
      "text/html": [
       "<div>\n",
       "<style scoped>\n",
       "    .dataframe tbody tr th:only-of-type {\n",
       "        vertical-align: middle;\n",
       "    }\n",
       "\n",
       "    .dataframe tbody tr th {\n",
       "        vertical-align: top;\n",
       "    }\n",
       "\n",
       "    .dataframe thead th {\n",
       "        text-align: right;\n",
       "    }\n",
       "</style>\n",
       "<table border=\"1\" class=\"dataframe\">\n",
       "  <thead>\n",
       "    <tr style=\"text-align: right;\">\n",
       "      <th></th>\n",
       "      <th>Duration</th>\n",
       "      <th>Pulse</th>\n",
       "      <th>Maxpulse</th>\n",
       "      <th>Calories</th>\n",
       "    </tr>\n",
       "  </thead>\n",
       "  <tbody>\n",
       "    <tr>\n",
       "      <th>0</th>\n",
       "      <td>60</td>\n",
       "      <td>110</td>\n",
       "      <td>130</td>\n",
       "      <td>409.1</td>\n",
       "    </tr>\n",
       "    <tr>\n",
       "      <th>1</th>\n",
       "      <td>60</td>\n",
       "      <td>117</td>\n",
       "      <td>145</td>\n",
       "      <td>479.0</td>\n",
       "    </tr>\n",
       "    <tr>\n",
       "      <th>2</th>\n",
       "      <td>60</td>\n",
       "      <td>103</td>\n",
       "      <td>135</td>\n",
       "      <td>340.0</td>\n",
       "    </tr>\n",
       "    <tr>\n",
       "      <th>3</th>\n",
       "      <td>45</td>\n",
       "      <td>109</td>\n",
       "      <td>175</td>\n",
       "      <td>282.4</td>\n",
       "    </tr>\n",
       "    <tr>\n",
       "      <th>4</th>\n",
       "      <td>45</td>\n",
       "      <td>117</td>\n",
       "      <td>148</td>\n",
       "      <td>406.0</td>\n",
       "    </tr>\n",
       "  </tbody>\n",
       "</table>\n",
       "</div>"
      ],
      "text/plain": [
       "   Duration  Pulse  Maxpulse  Calories\n",
       "0        60    110       130     409.1\n",
       "1        60    117       145     479.0\n",
       "2        60    103       135     340.0\n",
       "3        45    109       175     282.4\n",
       "4        45    117       148     406.0"
      ]
     },
     "execution_count": 41,
     "metadata": {},
     "output_type": "execute_result"
    }
   ],
   "source": [
    "df2.head(5)"
   ]
  },
  {
   "cell_type": "code",
   "execution_count": 42,
   "metadata": {
    "colab": {
     "base_uri": "https://localhost:8080/",
     "height": 210
    },
    "executionInfo": {
     "elapsed": 58,
     "status": "ok",
     "timestamp": 1753755143457,
     "user": {
      "displayName": "Srinivas Appana",
      "userId": "17871761728706768737"
     },
     "user_tz": -330
    },
    "id": "SAk9m2yGNZ6X",
    "outputId": "9c427475-8507-425c-ca46-3f9af627627c"
   },
   "outputs": [
    {
     "data": {
      "text/plain": [
       "Duration    0\n",
       "Pulse       0\n",
       "Maxpulse    0\n",
       "Calories    5\n",
       "dtype: int64"
      ]
     },
     "execution_count": 42,
     "metadata": {},
     "output_type": "execute_result"
    }
   ],
   "source": [
    "# finding the null count in each column\n",
    "\n",
    "df2.isna().sum()"
   ]
  },
  {
   "cell_type": "markdown",
   "metadata": {
    "id": "hd35OAARNtvI"
   },
   "source": [
    "5 null values exists in 'calories' column"
   ]
  },
  {
   "cell_type": "markdown",
   "metadata": {
    "id": "sKE4j0CgOB11"
   },
   "source": [
    "## **Modifying data in pandas**"
   ]
  },
  {
   "cell_type": "code",
   "execution_count": 43,
   "metadata": {
    "colab": {
     "base_uri": "https://localhost:8080/"
    },
    "executionInfo": {
     "elapsed": 3,
     "status": "ok",
     "timestamp": 1753755143459,
     "user": {
      "displayName": "Srinivas Appana",
      "userId": "17871761728706768737"
     },
     "user_tz": -330
    },
    "id": "O-PRcmnaNfKS",
    "outputId": "d7ca28ac-04fc-4e71-a3c8-63578d4f4fcb"
   },
   "outputs": [
    {
     "name": "stdout",
     "output_type": "stream",
     "text": [
      "Original DataFrame:\n",
      "       Name  Age\n",
      "0    Alice   25\n",
      "1      Bob   30\n",
      "2  Charlie   22\n"
     ]
    }
   ],
   "source": [
    "data = {\n",
    "    'Name': ['Alice', 'Bob', 'Charlie'],\n",
    "    'Age': [25, 30, 22],\n",
    "}\n",
    "df = pd.DataFrame(data)\n",
    "\n",
    "print(\"Original DataFrame:\\n\", df)"
   ]
  },
  {
   "cell_type": "code",
   "execution_count": 44,
   "metadata": {
    "colab": {
     "base_uri": "https://localhost:8080/"
    },
    "executionInfo": {
     "elapsed": 2,
     "status": "ok",
     "timestamp": 1753755143461,
     "user": {
      "displayName": "Srinivas Appana",
      "userId": "17871761728706768737"
     },
     "user_tz": -330
    },
    "id": "sMXfUP49OH5g",
    "outputId": "865b76a0-e689-431d-bc94-efd3fec26a59"
   },
   "outputs": [
    {
     "name": "stdout",
     "output_type": "stream",
     "text": [
      "After adding 'City' column:\n",
      "       Name  Age     City\n",
      "0    Alice   25    Delhi\n",
      "1      Bob   30   Mumbai\n",
      "2  Charlie   22  Chennai\n"
     ]
    }
   ],
   "source": [
    "# Add a new column\n",
    "\n",
    "df['City'] = ['Delhi', 'Mumbai', 'Chennai']\n",
    "print(\"After adding 'City' column:\\n\", df)"
   ]
  },
  {
   "cell_type": "code",
   "execution_count": 45,
   "metadata": {
    "colab": {
     "base_uri": "https://localhost:8080/"
    },
    "executionInfo": {
     "elapsed": 1,
     "status": "ok",
     "timestamp": 1753755143462,
     "user": {
      "displayName": "Srinivas Appana",
      "userId": "17871761728706768737"
     },
     "user_tz": -330
    },
    "id": "VTnUf_G2OSRA",
    "outputId": "6412f414-13a6-46cb-83a0-bef98ff81acc"
   },
   "outputs": [
    {
     "name": "stdout",
     "output_type": "stream",
     "text": [
      "\n",
      "After updating Bob's age:\n",
      "       Name  Age     City\n",
      "0    Alice   25    Delhi\n",
      "1      Bob   35   Mumbai\n",
      "2  Charlie   22  Chennai\n"
     ]
    }
   ],
   "source": [
    "# Update a column value\n",
    "\n",
    "df.loc[1, 'Age'] = 35\n",
    "print(\"\\nAfter updating Bob's age:\\n\", df)\n"
   ]
  },
  {
   "cell_type": "code",
   "execution_count": 46,
   "metadata": {
    "colab": {
     "base_uri": "https://localhost:8080/"
    },
    "executionInfo": {
     "elapsed": 1,
     "status": "ok",
     "timestamp": 1753755143463,
     "user": {
      "displayName": "Srinivas Appana",
      "userId": "17871761728706768737"
     },
     "user_tz": -330
    },
    "id": "5Zw-cUlNOZIj",
    "outputId": "d1c71adb-5713-46ed-a77b-fb37bd062f61"
   },
   "outputs": [
    {
     "name": "stdout",
     "output_type": "stream",
     "text": [
      "\n",
      "After adding a new row:\n",
      "       Name  Age       City\n",
      "0    Alice   25      Delhi\n",
      "1      Bob   35     Mumbai\n",
      "2  Charlie   22    Chennai\n",
      "3    David   28  Bangalore\n"
     ]
    }
   ],
   "source": [
    "# Add a new row using loc\n",
    "\n",
    "df.loc[3] = ['David', 28, 'Bangalore']\n",
    "print(\"\\nAfter adding a new row:\\n\", df)"
   ]
  },
  {
   "cell_type": "code",
   "execution_count": 47,
   "metadata": {
    "colab": {
     "base_uri": "https://localhost:8080/"
    },
    "executionInfo": {
     "elapsed": 30,
     "status": "ok",
     "timestamp": 1753755143493,
     "user": {
      "displayName": "Srinivas Appana",
      "userId": "17871761728706768737"
     },
     "user_tz": -330
    },
    "id": "v4snvZjiOeCH",
    "outputId": "a0429672-bc1a-4788-b3e7-48a861785051"
   },
   "outputs": [
    {
     "name": "stdout",
     "output_type": "stream",
     "text": [
      "\n",
      "After dropping 'City' column:\n",
      "       Name  Age\n",
      "0    Alice   25\n",
      "1      Bob   35\n",
      "2  Charlie   22\n",
      "3    David   28\n"
     ]
    }
   ],
   "source": [
    "# Drop a column\n",
    "\n",
    "df = df.drop('City', axis=1)\n",
    "print(\"\\nAfter dropping 'City' column:\\n\", df)"
   ]
  },
  {
   "cell_type": "code",
   "execution_count": 48,
   "metadata": {
    "colab": {
     "base_uri": "https://localhost:8080/"
    },
    "executionInfo": {
     "elapsed": 4,
     "status": "ok",
     "timestamp": 1753755143493,
     "user": {
      "displayName": "Srinivas Appana",
      "userId": "17871761728706768737"
     },
     "user_tz": -330
    },
    "id": "xHS9uHvzOigW",
    "outputId": "508c59c3-3cba-499d-c5e0-4821d290a2a5"
   },
   "outputs": [
    {
     "name": "stdout",
     "output_type": "stream",
     "text": [
      "\n",
      "After dropping index 2:\n",
      "     Name  Age\n",
      "0  Alice   25\n",
      "1    Bob   35\n",
      "3  David   28\n"
     ]
    }
   ],
   "source": [
    "# Drop a row\n",
    "\n",
    "df = df.drop(2)\n",
    "print(\"\\nAfter dropping index 2:\\n\", df)"
   ]
  },
  {
   "cell_type": "code",
   "execution_count": 49,
   "metadata": {
    "colab": {
     "base_uri": "https://localhost:8080/"
    },
    "executionInfo": {
     "elapsed": 4,
     "status": "ok",
     "timestamp": 1753755143494,
     "user": {
      "displayName": "Srinivas Appana",
      "userId": "17871761728706768737"
     },
     "user_tz": -330
    },
    "id": "lzTtonSnOmXW",
    "outputId": "02985eba-84bb-40d2-92ae-3a5bce1f53c5"
   },
   "outputs": [
    {
     "name": "stdout",
     "output_type": "stream",
     "text": [
      "\n",
      "After renaming columns:\n",
      "   Full Name  Years\n",
      "0     Alice     25\n",
      "1       Bob     35\n",
      "3     David     28\n"
     ]
    }
   ],
   "source": [
    "# Rename columns\n",
    "\n",
    "df = df.rename(columns={'Name': 'Full Name', 'Age': 'Years'})\n",
    "print(\"\\nAfter renaming columns:\\n\", df)"
   ]
  },
  {
   "cell_type": "markdown",
   "metadata": {
    "id": "g7Cl6EaZOxZT"
   },
   "source": [
    "## **Handling missing data in pandas**"
   ]
  },
  {
   "cell_type": "code",
   "execution_count": 50,
   "metadata": {
    "executionInfo": {
     "elapsed": 3,
     "status": "ok",
     "timestamp": 1753755143494,
     "user": {
      "displayName": "Srinivas Appana",
      "userId": "17871761728706768737"
     },
     "user_tz": -330
    },
    "id": "HzjG3g_EOrnx"
   },
   "outputs": [],
   "source": [
    "# importing numpy\n",
    "\n",
    "import numpy as np"
   ]
  },
  {
   "cell_type": "code",
   "execution_count": 51,
   "metadata": {
    "colab": {
     "base_uri": "https://localhost:8080/"
    },
    "executionInfo": {
     "elapsed": 3,
     "status": "ok",
     "timestamp": 1753755143495,
     "user": {
      "displayName": "Srinivas Appana",
      "userId": "17871761728706768737"
     },
     "user_tz": -330
    },
    "id": "jdcBhsCyO3wv",
    "outputId": "57e42525-cad6-480c-b0e7-3065557e136e"
   },
   "outputs": [
    {
     "name": "stdout",
     "output_type": "stream",
     "text": [
      "   Duration  Pulse  Maxpulse  Calories\n",
      "0        60    110       130     409.1\n",
      "1        60    117       145     479.0\n",
      "2        60    103       135     340.0\n",
      "3        45    109       175     282.4\n",
      "4        45    117       148     406.0\n"
     ]
    }
   ],
   "source": [
    "print(df2.head())"
   ]
  },
  {
   "cell_type": "code",
   "execution_count": 52,
   "metadata": {
    "colab": {
     "base_uri": "https://localhost:8080/",
     "height": 210
    },
    "executionInfo": {
     "elapsed": 12,
     "status": "ok",
     "timestamp": 1753755143511,
     "user": {
      "displayName": "Srinivas Appana",
      "userId": "17871761728706768737"
     },
     "user_tz": -330
    },
    "id": "qCCtL7s5O5qB",
    "outputId": "3321baea-8855-4535-ef4d-5ca92c36a851"
   },
   "outputs": [
    {
     "data": {
      "text/plain": [
       "Duration    0\n",
       "Pulse       0\n",
       "Maxpulse    0\n",
       "Calories    5\n",
       "dtype: int64"
      ]
     },
     "execution_count": 52,
     "metadata": {},
     "output_type": "execute_result"
    }
   ],
   "source": [
    "df2.isna().sum()"
   ]
  },
  {
   "cell_type": "code",
   "execution_count": 53,
   "metadata": {
    "colab": {
     "base_uri": "https://localhost:8080/"
    },
    "executionInfo": {
     "elapsed": 14,
     "status": "ok",
     "timestamp": 1753755143525,
     "user": {
      "displayName": "Srinivas Appana",
      "userId": "17871761728706768737"
     },
     "user_tz": -330
    },
    "id": "wDL1iEouPENi",
    "outputId": "e4c315ad-aa03-40d3-da88-805b1e82bd48"
   },
   "outputs": [
    {
     "name": "stdout",
     "output_type": "stream",
     "text": [
      "\n",
      "After dropping rows with missing values:\n",
      " Duration    0\n",
      "Pulse       0\n",
      "Maxpulse    0\n",
      "Calories    0\n",
      "dtype: int64\n",
      "shape of resultent data: (164, 4)\n"
     ]
    }
   ],
   "source": [
    "# Drop rows with any missing values\n",
    "\n",
    "df_drop = df2.dropna()\n",
    "print(\"\\nAfter dropping rows with missing values:\\n\", df_drop.isna().sum())\n",
    "print(\"shape of resultent data:\",df_drop.shape)"
   ]
  },
  {
   "cell_type": "code",
   "execution_count": 54,
   "metadata": {
    "colab": {
     "base_uri": "https://localhost:8080/"
    },
    "executionInfo": {
     "elapsed": 10,
     "status": "ok",
     "timestamp": 1753755143535,
     "user": {
      "displayName": "Srinivas Appana",
      "userId": "17871761728706768737"
     },
     "user_tz": -330
    },
    "id": "jDxeL9r4PR_2",
    "outputId": "15b9f515-417a-4644-e813-b44db3f04e01"
   },
   "outputs": [
    {
     "name": "stdout",
     "output_type": "stream",
     "text": [
      "\n",
      "After filling missing values:\n",
      " Duration    0\n",
      "Pulse       0\n",
      "Maxpulse    0\n",
      "Calories    0\n",
      "dtype: int64\n",
      "shape of resultent data: (169, 4)\n"
     ]
    }
   ],
   "source": [
    "# Fill missing values with a specific value\n",
    "\n",
    "df_fill = df2.fillna({'Calories': 0})\n",
    "print(\"\\nAfter filling missing values:\\n\", df_fill.isna().sum())\n",
    "print(\"shape of resultent data:\",df_fill.shape)"
   ]
  },
  {
   "cell_type": "markdown",
   "metadata": {
    "id": "g2xeb0J9P4HD"
   },
   "source": [
    "## **Data Aggrigation and Grouping in pandas**"
   ]
  },
  {
   "cell_type": "code",
   "execution_count": 55,
   "metadata": {
    "colab": {
     "base_uri": "https://localhost:8080/"
    },
    "executionInfo": {
     "elapsed": 23,
     "status": "ok",
     "timestamp": 1753755143555,
     "user": {
      "displayName": "Srinivas Appana",
      "userId": "17871761728706768737"
     },
     "user_tz": -330
    },
    "id": "9r-2bmY6Phpg",
    "outputId": "18ba2755-5b35-4444-be18-1cf5e5a4d275"
   },
   "outputs": [
    {
     "name": "stdout",
     "output_type": "stream",
     "text": [
      "Original DataFrame:\n",
      "   Department Employee  Salary\n",
      "0         IT    Alice   70000\n",
      "1         HR      Bob   50000\n",
      "2         IT  Charlie   75000\n",
      "3         HR    David   52000\n",
      "4    Finance      Eva   65000\n",
      "5         IT    Frank   80000\n"
     ]
    }
   ],
   "source": [
    "data = {\n",
    "    'Department': ['IT', 'HR', 'IT', 'HR', 'Finance', 'IT'],\n",
    "    'Employee': ['Alice', 'Bob', 'Charlie', 'David', 'Eva', 'Frank'],\n",
    "    'Salary': [70000, 50000, 75000, 52000, 65000, 80000]\n",
    "}\n",
    "df = pd.DataFrame(data)\n",
    "\n",
    "print(\"Original DataFrame:\\n\", df)"
   ]
  },
  {
   "cell_type": "code",
   "execution_count": 56,
   "metadata": {
    "colab": {
     "base_uri": "https://localhost:8080/"
    },
    "executionInfo": {
     "elapsed": 3,
     "status": "ok",
     "timestamp": 1753755143555,
     "user": {
      "displayName": "Srinivas Appana",
      "userId": "17871761728706768737"
     },
     "user_tz": -330
    },
    "id": "gdS3YLE2P_VN",
    "outputId": "5edb91e0-3ae6-411e-ce42-ce8e5f3f3c5b"
   },
   "outputs": [
    {
     "name": "stdout",
     "output_type": "stream",
     "text": [
      "\n",
      "Total salary by department:\n",
      " Department\n",
      "Finance     65000\n",
      "HR         102000\n",
      "IT         225000\n",
      "Name: Salary, dtype: int64\n"
     ]
    }
   ],
   "source": [
    "# Group by a single column and get sum\n",
    "\n",
    "grouped_salary = df.groupby('Department')['Salary'].sum()\n",
    "print(\"\\nTotal salary by department:\\n\", grouped_salary)"
   ]
  },
  {
   "cell_type": "code",
   "execution_count": 57,
   "metadata": {
    "colab": {
     "base_uri": "https://localhost:8080/"
    },
    "executionInfo": {
     "elapsed": 2,
     "status": "ok",
     "timestamp": 1753755143555,
     "user": {
      "displayName": "Srinivas Appana",
      "userId": "17871761728706768737"
     },
     "user_tz": -330
    },
    "id": "mAtAeM_-QHKY",
    "outputId": "35039a66-d710-4704-8d8d-c7e4317c702a"
   },
   "outputs": [
    {
     "name": "stdout",
     "output_type": "stream",
     "text": [
      "\n",
      "Aggregated salary by department:\n",
      "                mean    max    min\n",
      "Department                       \n",
      "Finance     65000.0  65000  65000\n",
      "HR          51000.0  52000  50000\n",
      "IT          75000.0  80000  70000\n"
     ]
    }
   ],
   "source": [
    "# Group by and get multiple aggregations\n",
    "\n",
    "agg_salary = df.groupby('Department')['Salary'].agg(['mean', 'max', 'min'])\n",
    "print(\"\\nAggregated salary by department:\\n\", agg_salary)"
   ]
  },
  {
   "cell_type": "code",
   "execution_count": 58,
   "metadata": {
    "colab": {
     "base_uri": "https://localhost:8080/"
    },
    "executionInfo": {
     "elapsed": 43,
     "status": "ok",
     "timestamp": 1753755143597,
     "user": {
      "displayName": "Srinivas Appana",
      "userId": "17871761728706768737"
     },
     "user_tz": -330
    },
    "id": "-Vv7-Or3QPT5",
    "outputId": "f89d4527-2faa-4064-a6db-cb7c8d72ec19"
   },
   "outputs": [
    {
     "name": "stdout",
     "output_type": "stream",
     "text": [
      "\n",
      "Grouped by Department and Employee:\n",
      "                      Salary  Bonus\n",
      "Department Employee               \n",
      "Finance    Eva        65000   3500\n",
      "HR         Bob        50000   3000\n",
      "           David      52000   2000\n",
      "IT         Alice      70000   5000\n",
      "           Charlie    75000   4000\n",
      "           Frank      80000   4500\n"
     ]
    }
   ],
   "source": [
    "# Group by multiple columns\n",
    "\n",
    "df['Bonus'] = [5000, 3000, 4000, 2000, 3500, 4500]\n",
    "group_multi = df.groupby(['Department', 'Employee'])[['Salary', 'Bonus']].sum()\n",
    "print(\"\\nGrouped by Department and Employee:\\n\", group_multi)"
   ]
  },
  {
   "cell_type": "code",
   "execution_count": 59,
   "metadata": {
    "colab": {
     "base_uri": "https://localhost:8080/"
    },
    "executionInfo": {
     "elapsed": 3,
     "status": "ok",
     "timestamp": 1753755143597,
     "user": {
      "displayName": "Srinivas Appana",
      "userId": "17871761728706768737"
     },
     "user_tz": -330
    },
    "id": "JlN2H0g_QiW9",
    "outputId": "7634f9d9-bd47-46e5-b966-192f3670894e"
   },
   "outputs": [
    {
     "name": "stdout",
     "output_type": "stream",
     "text": [
      "\n",
      "Employee count per department:\n",
      " Department\n",
      "Finance    1\n",
      "HR         2\n",
      "IT         3\n",
      "Name: Employee, dtype: int64\n"
     ]
    }
   ],
   "source": [
    "# Count employees per department\n",
    "\n",
    "emp_count = df.groupby('Department')['Employee'].count()\n",
    "print(\"\\nEmployee count per department:\\n\", emp_count)"
   ]
  },
  {
   "cell_type": "markdown",
   "metadata": {
    "id": "hefQI7EPQuoF"
   },
   "source": [
    "## **Sorting in pandas**"
   ]
  },
  {
   "cell_type": "code",
   "execution_count": 60,
   "metadata": {
    "colab": {
     "base_uri": "https://localhost:8080/"
    },
    "executionInfo": {
     "elapsed": 2,
     "status": "ok",
     "timestamp": 1753755143597,
     "user": {
      "displayName": "Srinivas Appana",
      "userId": "17871761728706768737"
     },
     "user_tz": -330
    },
    "id": "G6MN8WYfQp2t",
    "outputId": "794942c0-6c9e-4b4b-aaaa-5acc14eec3cc"
   },
   "outputs": [
    {
     "name": "stdout",
     "output_type": "stream",
     "text": [
      "Original DataFrame:\n",
      "       Name  Age  Salary\n",
      "0    Alice   25   50000\n",
      "1      Bob   30   70000\n",
      "2  Charlie   22   45000\n",
      "3    David   22   80000\n"
     ]
    }
   ],
   "source": [
    "data = {\n",
    "    'Name': ['Alice', 'Bob', 'Charlie', 'David'],\n",
    "    'Age': [25, 30, 22, 22],\n",
    "    'Salary': [50000, 70000, 45000, 80000]\n",
    "}\n",
    "df = pd.DataFrame(data)\n",
    "\n",
    "print(\"Original DataFrame:\\n\", df)"
   ]
  },
  {
   "cell_type": "code",
   "execution_count": 61,
   "metadata": {
    "colab": {
     "base_uri": "https://localhost:8080/"
    },
    "executionInfo": {
     "elapsed": 1,
     "status": "ok",
     "timestamp": 1753755143598,
     "user": {
      "displayName": "Srinivas Appana",
      "userId": "17871761728706768737"
     },
     "user_tz": -330
    },
    "id": "YVixqrf9RJWo",
    "outputId": "8654a33a-0ec6-4ad0-c641-bca042490f9d"
   },
   "outputs": [
    {
     "name": "stdout",
     "output_type": "stream",
     "text": [
      "Sorted by Age (ascending):\n",
      "       Name  Age  Salary\n",
      "3    David   22   80000\n",
      "2  Charlie   22   45000\n",
      "0    Alice   25   50000\n",
      "1      Bob   30   70000\n"
     ]
    }
   ],
   "source": [
    "# Sort by a single column (ascending)\n",
    "\n",
    "sorted_by_age = df.sort_values(by='Age')\n",
    "print(\"Sorted by Age (ascending):\\n\", sorted_by_age)"
   ]
  },
  {
   "cell_type": "code",
   "execution_count": 62,
   "metadata": {
    "colab": {
     "base_uri": "https://localhost:8080/"
    },
    "executionInfo": {
     "elapsed": 1,
     "status": "ok",
     "timestamp": 1753755143599,
     "user": {
      "displayName": "Srinivas Appana",
      "userId": "17871761728706768737"
     },
     "user_tz": -330
    },
    "id": "Z_rOwzSYRO7F",
    "outputId": "06b2c600-2435-476b-a631-020df103fb7e"
   },
   "outputs": [
    {
     "name": "stdout",
     "output_type": "stream",
     "text": [
      "Sorted by Salary (descending):\n",
      "       Name  Age  Salary\n",
      "3    David   22   80000\n",
      "1      Bob   30   70000\n",
      "0    Alice   25   50000\n",
      "2  Charlie   22   45000\n"
     ]
    }
   ],
   "source": [
    "# Sort by salary (descending)\n",
    "\n",
    "sorted_by_salary = df.sort_values(by='Salary', ascending=False)\n",
    "print(\"Sorted by Salary (descending):\\n\", sorted_by_salary)"
   ]
  },
  {
   "cell_type": "code",
   "execution_count": 63,
   "metadata": {
    "colab": {
     "base_uri": "https://localhost:8080/"
    },
    "executionInfo": {
     "elapsed": 4,
     "status": "ok",
     "timestamp": 1753755143617,
     "user": {
      "displayName": "Srinivas Appana",
      "userId": "17871761728706768737"
     },
     "user_tz": -330
    },
    "id": "FVx5RuG8RTMs",
    "outputId": "092d77c6-e57e-443f-fde1-fa07a8415e7f"
   },
   "outputs": [
    {
     "name": "stdout",
     "output_type": "stream",
     "text": [
      "Sorted by Age and then Salary:\n",
      "       Name  Age  Salary\n",
      "3    David   22   80000\n",
      "2  Charlie   22   45000\n",
      "0    Alice   25   50000\n",
      "1      Bob   30   70000\n"
     ]
    }
   ],
   "source": [
    "# Sort by multiple columns\n",
    "\n",
    "sorted_multi = df.sort_values(by=['Age', 'Salary'], ascending=[True, False])\n",
    "print(\"Sorted by Age and then Salary:\\n\", sorted_multi)"
   ]
  },
  {
   "cell_type": "markdown",
   "metadata": {
    "id": "GWRVG7sMRoxp"
   },
   "source": [
    "## **Merging, Joining, Concatenating in pandas**"
   ]
  },
  {
   "cell_type": "code",
   "execution_count": 64,
   "metadata": {
    "colab": {
     "base_uri": "https://localhost:8080/"
    },
    "executionInfo": {
     "elapsed": 2,
     "status": "ok",
     "timestamp": 1753755143617,
     "user": {
      "displayName": "Srinivas Appana",
      "userId": "17871761728706768737"
     },
     "user_tz": -330
    },
    "id": "ctWWyvJ6RXCE",
    "outputId": "c19dfb5b-4880-4000-dfe9-78bce7899ef0"
   },
   "outputs": [
    {
     "name": "stdout",
     "output_type": "stream",
     "text": [
      "   EmpID     Name\n",
      "0      1    Alice\n",
      "1      2      Bob\n",
      "2      3  Charlie\n",
      "------------------------------\n",
      "   EmpID Department\n",
      "0      2         HR\n",
      "1      3         IT\n",
      "2      4    Finance\n"
     ]
    }
   ],
   "source": [
    "df1 = pd.DataFrame({\n",
    "    'EmpID': [1, 2, 3],\n",
    "    'Name': ['Alice', 'Bob', 'Charlie']\n",
    "})\n",
    "\n",
    "df2 = pd.DataFrame({\n",
    "    'EmpID': [2, 3, 4],\n",
    "    'Department': ['HR', 'IT', 'Finance']\n",
    "})\n",
    "\n",
    "print(df1)\n",
    "print(\"--\"*15)\n",
    "print(df2)"
   ]
  },
  {
   "cell_type": "code",
   "execution_count": 65,
   "metadata": {
    "colab": {
     "base_uri": "https://localhost:8080/"
    },
    "executionInfo": {
     "elapsed": 11,
     "status": "ok",
     "timestamp": 1753755143627,
     "user": {
      "displayName": "Srinivas Appana",
      "userId": "17871761728706768737"
     },
     "user_tz": -330
    },
    "id": "q6bVOsNWR2gN",
    "outputId": "dc41f85b-9686-484e-cb15-b7d543c69d9c"
   },
   "outputs": [
    {
     "name": "stdout",
     "output_type": "stream",
     "text": [
      "Inner Merge:\n",
      "    EmpID     Name Department\n",
      "0      2      Bob         HR\n",
      "1      3  Charlie         IT\n"
     ]
    }
   ],
   "source": [
    "# Merge on EmpID (inner join by default)\n",
    "\n",
    "merged_inner = pd.merge(df1, df2, on='EmpID')\n",
    "print(\"Inner Merge:\\n\", merged_inner)"
   ]
  },
  {
   "cell_type": "code",
   "execution_count": 66,
   "metadata": {
    "colab": {
     "base_uri": "https://localhost:8080/"
    },
    "executionInfo": {
     "elapsed": 42,
     "status": "ok",
     "timestamp": 1753755143670,
     "user": {
      "displayName": "Srinivas Appana",
      "userId": "17871761728706768737"
     },
     "user_tz": -330
    },
    "id": "btIo_b0ASB_L",
    "outputId": "f3fa78a5-2182-4d2a-f4ff-bed777f9ec00"
   },
   "outputs": [
    {
     "name": "stdout",
     "output_type": "stream",
     "text": [
      "\n",
      "Outer Merge:\n",
      "    EmpID     Name Department\n",
      "0      1    Alice        NaN\n",
      "1      2      Bob         HR\n",
      "2      3  Charlie         IT\n",
      "3      4      NaN    Finance\n"
     ]
    }
   ],
   "source": [
    "# Merge with outer join\n",
    "\n",
    "merged_outer = pd.merge(df1, df2, on='EmpID', how='outer')\n",
    "print(\"\\nOuter Merge:\\n\", merged_outer)"
   ]
  },
  {
   "cell_type": "code",
   "execution_count": 67,
   "metadata": {
    "colab": {
     "base_uri": "https://localhost:8080/"
    },
    "executionInfo": {
     "elapsed": 4,
     "status": "ok",
     "timestamp": 1753755143674,
     "user": {
      "displayName": "Srinivas Appana",
      "userId": "17871761728706768737"
     },
     "user_tz": -330
    },
    "id": "N0M11lMdSJAZ",
    "outputId": "a97e709c-d5be-4356-9f12-a1fd1fd7101b"
   },
   "outputs": [
    {
     "name": "stdout",
     "output_type": "stream",
     "text": [
      "\n",
      "Left Join:\n",
      "    EmpID     Name Department\n",
      "0      1    Alice        NaN\n",
      "1      2      Bob         HR\n",
      "2      3  Charlie         IT\n"
     ]
    }
   ],
   "source": [
    "# Merge with left join\n",
    "\n",
    "merged_left = pd.merge(df1, df2, on='EmpID', how='left')\n",
    "print(\"\\nLeft Join:\\n\", merged_left)"
   ]
  },
  {
   "cell_type": "code",
   "execution_count": 68,
   "metadata": {
    "colab": {
     "base_uri": "https://localhost:8080/"
    },
    "executionInfo": {
     "elapsed": 2,
     "status": "ok",
     "timestamp": 1753755143675,
     "user": {
      "displayName": "Srinivas Appana",
      "userId": "17871761728706768737"
     },
     "user_tz": -330
    },
    "id": "VSllBpRdSNu6",
    "outputId": "8701022b-e4c3-46ee-ec31-cd951fd43b48"
   },
   "outputs": [
    {
     "name": "stdout",
     "output_type": "stream",
     "text": [
      "\n",
      "Right Join:\n",
      "    EmpID     Name Department\n",
      "0      2      Bob         HR\n",
      "1      3  Charlie         IT\n",
      "2      4      NaN    Finance\n"
     ]
    }
   ],
   "source": [
    "# Merge with right join\n",
    "\n",
    "merged_right = pd.merge(df1, df2, on='EmpID', how='right')\n",
    "print(\"\\nRight Join:\\n\", merged_right)"
   ]
  },
  {
   "cell_type": "code",
   "execution_count": 69,
   "metadata": {
    "colab": {
     "base_uri": "https://localhost:8080/"
    },
    "executionInfo": {
     "elapsed": 1,
     "status": "ok",
     "timestamp": 1753755143676,
     "user": {
      "displayName": "Srinivas Appana",
      "userId": "17871761728706768737"
     },
     "user_tz": -330
    },
    "id": "wKjUP7rcSRwV",
    "outputId": "e000fb06-6f71-44f7-813b-709448ce4082"
   },
   "outputs": [
    {
     "name": "stdout",
     "output_type": "stream",
     "text": [
      "\n",
      "Concatenated (rows):\n",
      "    EmpID     Name\n",
      "0      1    Alice\n",
      "1      2      Bob\n",
      "2      3  Charlie\n",
      "3      4    David\n",
      "4      5      Eva\n"
     ]
    }
   ],
   "source": [
    "# Concatenate DataFrames vertically\n",
    "\n",
    "df3 = pd.DataFrame({\n",
    "    'EmpID': [4, 5],\n",
    "    'Name': ['David', 'Eva']\n",
    "})\n",
    "\n",
    "concat_rows = pd.concat([df1, df3], ignore_index=True)\n",
    "print(\"\\nConcatenated (rows):\\n\", concat_rows)"
   ]
  },
  {
   "cell_type": "code",
   "execution_count": 70,
   "metadata": {
    "colab": {
     "base_uri": "https://localhost:8080/"
    },
    "executionInfo": {
     "elapsed": 1,
     "status": "ok",
     "timestamp": 1753755143677,
     "user": {
      "displayName": "Srinivas Appana",
      "userId": "17871761728706768737"
     },
     "user_tz": -330
    },
    "id": "UAtWc56zShK3",
    "outputId": "58f00fd2-84a9-4cc4-94a6-ecb178af473f"
   },
   "outputs": [
    {
     "name": "stdout",
     "output_type": "stream",
     "text": [
      "\n",
      "Concatenated (columns):\n",
      "    EmpID     Name  Salary\n",
      "0      1    Alice   50000\n",
      "1      2      Bob   60000\n",
      "2      3  Charlie   70000\n"
     ]
    }
   ],
   "source": [
    "# Concatenate DataFrames horizontally\n",
    "\n",
    "df4 = pd.DataFrame({\n",
    "    'Salary': [50000, 60000, 70000]\n",
    "})\n",
    "\n",
    "concat_cols = pd.concat([df1, df4], axis=1)\n",
    "print(\"\\nConcatenated (columns):\\n\", concat_cols)"
   ]
  },
  {
   "cell_type": "markdown",
   "metadata": {
    "id": "om2EXvmzSvWn"
   },
   "source": [
    "## **Applying functions (apply(), map(), lambda)**"
   ]
  },
  {
   "cell_type": "code",
   "execution_count": 71,
   "metadata": {
    "colab": {
     "base_uri": "https://localhost:8080/"
    },
    "executionInfo": {
     "elapsed": 20,
     "status": "ok",
     "timestamp": 1753755143697,
     "user": {
      "displayName": "Srinivas Appana",
      "userId": "17871761728706768737"
     },
     "user_tz": -330
    },
    "id": "PhpgsIADSq2i",
    "outputId": "faf81722-5812-4c6a-dc83-a53b319aea3a"
   },
   "outputs": [
    {
     "name": "stdout",
     "output_type": "stream",
     "text": [
      "      Name  Age  Salary\n",
      "0    Alice   25   50000\n",
      "1      Bob   30   70000\n",
      "2  Charlie   22   45000\n"
     ]
    }
   ],
   "source": [
    "data = {\n",
    "    'Name': ['Alice', 'Bob', 'Charlie'],\n",
    "    'Age': [25, 30, 22],\n",
    "    'Salary': [50000, 70000, 45000]\n",
    "}\n",
    "\n",
    "df = pd.DataFrame(data)\n",
    "\n",
    "print(df)"
   ]
  },
  {
   "cell_type": "code",
   "execution_count": 72,
   "metadata": {
    "colab": {
     "base_uri": "https://localhost:8080/"
    },
    "executionInfo": {
     "elapsed": 2,
     "status": "ok",
     "timestamp": 1753755143700,
     "user": {
      "displayName": "Srinivas Appana",
      "userId": "17871761728706768737"
     },
     "user_tz": -330
    },
    "id": "NM1N4wa7S7pX",
    "outputId": "b8892bb9-914a-4862-9a89-8e69d58b8ec7"
   },
   "outputs": [
    {
     "name": "stdout",
     "output_type": "stream",
     "text": [
      "Double Salary using apply:\n",
      "       Name  Age  Salary  Double Salary\n",
      "0    Alice   25   50000         100000\n",
      "1      Bob   30   70000         140000\n",
      "2  Charlie   22   45000          90000\n"
     ]
    }
   ],
   "source": [
    "# Apply a function to a column using `apply`\n",
    "\n",
    "df['Double Salary'] = df['Salary'].apply(lambda x: x * 2)\n",
    "print(\"Double Salary using apply:\\n\", df)"
   ]
  },
  {
   "cell_type": "code",
   "execution_count": 73,
   "metadata": {
    "colab": {
     "base_uri": "https://localhost:8080/"
    },
    "executionInfo": {
     "elapsed": 6,
     "status": "ok",
     "timestamp": 1753755143707,
     "user": {
      "displayName": "Srinivas Appana",
      "userId": "17871761728706768737"
     },
     "user_tz": -330
    },
    "id": "0GE1iKmDTEGj",
    "outputId": "b7a3da9f-d86f-442a-fb19-ded125e61aa7"
   },
   "outputs": [
    {
     "name": "stdout",
     "output_type": "stream",
     "text": [
      "\n",
      "Age category using custom function:\n",
      "       Name  Age  Salary  Double Salary Age Group\n",
      "0    Alice   25   50000         100000   Mid-age\n",
      "1      Bob   30   70000         140000   Mid-age\n",
      "2  Charlie   22   45000          90000     Young\n"
     ]
    }
   ],
   "source": [
    "# Define a custom function\n",
    "def age_category(age):\n",
    "    if age < 25:\n",
    "        return 'Young'\n",
    "    elif age <= 30:\n",
    "        return 'Mid-age'\n",
    "    else:\n",
    "        return 'Senior'\n",
    "\n",
    "\n",
    "# Apply custom function to Age column\n",
    "df['Age Group'] = df['Age'].apply(age_category)\n",
    "print(\"\\nAge category using custom function:\\n\", df)"
   ]
  },
  {
   "cell_type": "code",
   "execution_count": 74,
   "metadata": {
    "colab": {
     "base_uri": "https://localhost:8080/"
    },
    "executionInfo": {
     "elapsed": 9,
     "status": "ok",
     "timestamp": 1753755143711,
     "user": {
      "displayName": "Srinivas Appana",
      "userId": "17871761728706768737"
     },
     "user_tz": -330
    },
    "id": "eHP5EabITM44",
    "outputId": "e89ecc9f-7e67-45cc-b883-c8e93a51059d"
   },
   "outputs": [
    {
     "name": "stdout",
     "output_type": "stream",
     "text": [
      "\n",
      "Mapped cities using map():\n",
      "       Name  Age  Salary  Double Salary Age Group     City\n",
      "0    Alice   25   50000         100000   Mid-age    Delhi\n",
      "1      Bob   30   70000         140000   Mid-age   Mumbai\n",
      "2  Charlie   22   45000          90000     Young  Chennai\n"
     ]
    }
   ],
   "source": [
    "# Using map() to modify values in a column\n",
    "\n",
    "city_map = {'Alice': 'Delhi', 'Bob': 'Mumbai', 'Charlie': 'Chennai'}\n",
    "df['City'] = df['Name'].map(city_map)\n",
    "print(\"\\nMapped cities using map():\\n\", df)"
   ]
  },
  {
   "cell_type": "code",
   "execution_count": 75,
   "metadata": {
    "colab": {
     "base_uri": "https://localhost:8080/"
    },
    "executionInfo": {
     "elapsed": 4,
     "status": "ok",
     "timestamp": 1753755143711,
     "user": {
      "displayName": "Srinivas Appana",
      "userId": "17871761728706768737"
     },
     "user_tz": -330
    },
    "id": "9vkD320rTfe_",
    "outputId": "7037b72e-e3b8-4784-d20a-d42ff8a30b05"
   },
   "outputs": [
    {
     "name": "stdout",
     "output_type": "stream",
     "text": [
      "\n",
      "Row-wise summary using apply():\n",
      "       Name  Age  Salary  Double Salary Age Group     City              Summary\n",
      "0    Alice   25   50000         100000   Mid-age    Delhi    Alice earns 50000\n",
      "1      Bob   30   70000         140000   Mid-age   Mumbai      Bob earns 70000\n",
      "2  Charlie   22   45000          90000     Young  Chennai  Charlie earns 45000\n"
     ]
    }
   ],
   "source": [
    "# Apply row-wise using axis=1\n",
    "\n",
    "df['Summary'] = df.apply(lambda row: f\"{row['Name']} earns {row['Salary']}\", axis=1)\n",
    "print(\"\\nRow-wise summary using apply():\\n\", df)"
   ]
  },
  {
   "cell_type": "code",
   "execution_count": 79,
   "metadata": {
    "colab": {
     "base_uri": "https://localhost:8080/"
    },
    "executionInfo": {
     "elapsed": 2,
     "status": "ok",
     "timestamp": 1753755143712,
     "user": {
      "displayName": "Srinivas Appana",
      "userId": "17871761728706768737"
     },
     "user_tz": -330
    },
    "id": "L6WXQlbXTyp2",
    "outputId": "cfa14a53-21fd-4006-9b72-9fb17f5976b3"
   },
   "outputs": [
    {
     "name": "stdout",
     "output_type": "stream",
     "text": [
      "\n",
      "Uppercase using applymap():\n",
      "       Name  Age  Salary  Double Salary Age Group     City              Summary\n",
      "0    ALICE   25   50000         100000   MID-AGE    DELHI    ALICE EARNS 50000\n",
      "1      BOB   30   70000         140000   MID-AGE   MUMBAI      BOB EARNS 70000\n",
      "2  CHARLIE   22   45000          90000     YOUNG  CHENNAI  CHARLIE EARNS 45000\n"
     ]
    }
   ],
   "source": [
    "# applymap -- used to apply a specific thing to every value in a dataframe\n",
    "\n",
    "df_upper = df.applymap(lambda x: x.upper() if isinstance(x, str) else x)\n",
    "print(\"\\nUppercase using applymap():\\n\", df_upper)"
   ]
  }
 ],
 "metadata": {
  "colab": {
   "authorship_tag": "ABX9TyP6GhYid4zgZYmOtLZBuz0Q",
   "provenance": []
  },
  "kernelspec": {
   "display_name": "Data Science (3.12.10)",
   "language": "python",
   "name": "python3"
  },
  "language_info": {
   "codemirror_mode": {
    "name": "ipython",
    "version": 3
   },
   "file_extension": ".py",
   "mimetype": "text/x-python",
   "name": "python",
   "nbconvert_exporter": "python",
   "pygments_lexer": "ipython3",
   "version": "3.12.10"
  }
 },
 "nbformat": 4,
 "nbformat_minor": 4
}
