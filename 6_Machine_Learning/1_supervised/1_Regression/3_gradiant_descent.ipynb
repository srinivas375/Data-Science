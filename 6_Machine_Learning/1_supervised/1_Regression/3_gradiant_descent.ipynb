{
 "cells": [
  {
   "cell_type": "markdown",
   "id": "67e568a1",
   "metadata": {},
   "source": [
    "## Gradiant Descent"
   ]
  },
  {
   "cell_type": "code",
   "execution_count": 31,
   "id": "08ff4694",
   "metadata": {},
   "outputs": [],
   "source": [
    "import numpy as np\n",
    "from sklearn.metrics import mean_squared_error"
   ]
  },
  {
   "cell_type": "code",
   "execution_count": 2,
   "id": "34888c6e",
   "metadata": {},
   "outputs": [],
   "source": [
    "x = np.array([1, 2, 3, 4, 5])\n",
    "y = np.array([5, 7, 9, 11, 13])"
   ]
  },
  {
   "cell_type": "code",
   "execution_count": 41,
   "id": "a5c97968",
   "metadata": {},
   "outputs": [],
   "source": [
    "def gradient_descent(x,y, m_curr = np.random.randn(1), b_curr = np.random.randn(1)):\n",
    "    iterations = 10000\n",
    "    n = len(y)\n",
    "    lr = 0.001    # to be adjustable (hyperparameter)\n",
    "    for i in range(iterations):\n",
    "        y_predicted = m_curr*x + b_curr\n",
    "        cost = mean_squared_error(y, y_predicted)\n",
    "        md = -(2/n)*sum(x*(y - y_predicted))\n",
    "        bd = -(2/n)*sum(y - y_predicted)\n",
    "\n",
    "        m_curr = m_curr - lr*md\n",
    "        b_curr = b_curr - lr*bd\n",
    "\n",
    "        if i%1000 == 0:\n",
    "            print(f\"iteration: {i+1}, m = {m_curr}, b = {b_curr}, loss = {cost}\")\n",
    "    return m_curr, b_curr\n",
    "    "
   ]
  },
  {
   "cell_type": "code",
   "execution_count": 42,
   "id": "2fb03474",
   "metadata": {},
   "outputs": [
    {
     "name": "stdout",
     "output_type": "stream",
     "text": [
      "iteration: 1, m = [0.99662488], b = [2.47765693], loss = 15.202345264945492\n",
      "iteration: 1001, m = [2.04483714], b = [2.83812368], loss = 0.004772802598508414\n",
      "iteration: 2001, m = [2.03197274], b = [2.88456828], loss = 0.0024269296108298906\n",
      "iteration: 3001, m = [2.02279931], b = [2.91768727], loss = 0.0012340731078553796\n",
      "iteration: 4001, m = [2.01625786], b = [2.94130395], loss = 0.0006275157008000632\n",
      "iteration: 5001, m = [2.01159325], b = [2.95814467], loss = 0.00031908640763993635\n",
      "iteration: 6001, m = [2.00826699], b = [2.97015356], loss = 0.0001622527299486516\n",
      "iteration: 7001, m = [2.00589507], b = [2.97871692], loss = 8.250413601297289e-05\n",
      "iteration: 8001, m = [2.00420369], b = [2.98482334], loss = 4.195265288539964e-05\n",
      "iteration: 9001, m = [2.00299759], b = [2.98917774], loss = 2.1332567907229464e-05\n"
     ]
    },
    {
     "data": {
      "text/plain": [
       "(array([2.00213826]), array([2.99228019]))"
      ]
     },
     "execution_count": 42,
     "metadata": {},
     "output_type": "execute_result"
    }
   ],
   "source": [
    "gradient_descent(x, y)"
   ]
  },
  {
   "cell_type": "code",
   "execution_count": 43,
   "id": "0c88b3d4",
   "metadata": {},
   "outputs": [
    {
     "name": "stdout",
     "output_type": "stream",
     "text": [
      "iteration: 1, m = 9.854, b = -2.038, loss = 489.0\n",
      "iteration: 1001, m = 3.323230797812008, b = -1.777283038031088, loss = 4.1568925218400485\n",
      "iteration: 2001, m = 2.943577234807894, b = -0.4066132130918154, loss = 2.1137445645548563\n",
      "iteration: 3001, m = 2.672851629270319, b = 0.570792123668295, loss = 1.0748211700714057\n",
      "iteration: 4001, m = 2.4798010150212, b = 1.2677660957358146, loss = 0.5465374421326807\n",
      "iteration: 5001, m = 2.342139342465479, b = 1.7647684134741326, loss = 0.277909650433373\n",
      "iteration: 6001, m = 2.243974743691484, b = 2.1191737625067764, loss = 0.14131469840862387\n",
      "iteration: 7001, m = 2.173974951639273, b = 2.3718952226289973, loss = 0.07185732469231945\n",
      "iteration: 8001, m = 2.124059086362488, b = 2.5521073344964766, loss = 0.03653883969668071\n",
      "iteration: 9001, m = 2.088464786246969, b = 2.6806140519237682, loss = 0.018579689852027004\n"
     ]
    },
    {
     "data": {
      "text/plain": [
       "(np.float64(2.063104327762817), np.float64(2.7721733538814615))"
      ]
     },
     "execution_count": 43,
     "metadata": {},
     "output_type": "execute_result"
    }
   ],
   "source": [
    "gradient_descent(x, y, m_curr=10, b_curr=-2)"
   ]
  },
  {
   "cell_type": "code",
   "execution_count": 44,
   "id": "5b470db9",
   "metadata": {},
   "outputs": [
    {
     "name": "stdout",
     "output_type": "stream",
     "text": [
      "iteration: 1, m = 977.462, b = 93.818, loss = 11546289.0\n",
      "iteration: 1001, m = 34.903481042489545, b = -115.79200663749013, loss = 2570.2850358872274\n",
      "iteration: 2001, m = 25.463008629817786, b = -81.70890592596552, loss = 1306.968124727557\n",
      "iteration: 3001, m = 18.73114081368292, b = -57.40472709962755, loss = 664.5821981624033\n",
      "iteration: 4001, m = 13.930740739341477, b = -40.07375967255953, loss = 337.93440693623876\n",
      "iteration: 5001, m = 10.507643093468726, b = -27.71529102795753, loss = 171.83677761323406\n",
      "iteration: 6001, m = 8.066680400419227, b = -18.902641192780496, loss = 87.37754290308604\n",
      "iteration: 7001, m = 6.326064302002214, b = -12.618464782997833, loss = 44.43073892461426\n",
      "iteration: 8001, m = 5.08485549094768, b = -8.137307141667899, loss = 22.592653624705157\n",
      "iteration: 9001, m = 4.199766978873994, b = -4.941856776017805, loss = 11.488172606625957\n"
     ]
    },
    {
     "data": {
      "text/plain": [
       "(np.float64(3.5691533583674055), np.float64(-2.6651415133707754))"
      ]
     },
     "execution_count": 44,
     "metadata": {},
     "output_type": "execute_result"
    }
   ],
   "source": [
    "gradient_descent(x,y, m_curr=1000, b_curr=100)"
   ]
  },
  {
   "cell_type": "markdown",
   "id": "453e5ac5",
   "metadata": {},
   "source": [
    "#### drawing the graph for better visual"
   ]
  },
  {
   "cell_type": "code",
   "execution_count": 47,
   "id": "f34bf45e",
   "metadata": {},
   "outputs": [
    {
     "name": "stdout",
     "output_type": "stream",
     "text": [
      "iteration: 1, m = [0.99662488], b = [2.47765693], loss = 15.202345264945492\n",
      "iteration: 1001, m = [2.04483714], b = [2.83812368], loss = 0.004772802598508414\n",
      "iteration: 2001, m = [2.03197274], b = [2.88456828], loss = 0.0024269296108298906\n",
      "iteration: 3001, m = [2.02279931], b = [2.91768727], loss = 0.0012340731078553796\n",
      "iteration: 4001, m = [2.01625786], b = [2.94130395], loss = 0.0006275157008000632\n",
      "iteration: 5001, m = [2.01159325], b = [2.95814467], loss = 0.00031908640763993635\n",
      "iteration: 6001, m = [2.00826699], b = [2.97015356], loss = 0.0001622527299486516\n",
      "iteration: 7001, m = [2.00589507], b = [2.97871692], loss = 8.250413601297289e-05\n",
      "iteration: 8001, m = [2.00420369], b = [2.98482334], loss = 4.195265288539964e-05\n",
      "iteration: 9001, m = [2.00299759], b = [2.98917774], loss = 2.1332567907229464e-05\n"
     ]
    }
   ],
   "source": [
    "m, b = gradient_descent(x,y)"
   ]
  },
  {
   "cell_type": "code",
   "execution_count": 49,
   "id": "0ae14f3f",
   "metadata": {},
   "outputs": [
    {
     "data": {
      "image/png": "[encoded data removed]",
      "text/plain": [
       "<Figure size 400x400 with 1 Axes>"
      ]
     },
     "metadata": {},
     "output_type": "display_data"
    }
   ],
   "source": [
    "import matplotlib.pyplot as plt\n",
    "\n",
    "plt.figure(figsize=(4,4))\n",
    "plt.scatter(x,y, marker='*')\n",
    "plt.plot(x, m*x+b, color = 'r')\n",
    "plt.xlabel('x')\n",
    "plt.ylabel('y')\n",
    "plt.title(\"Visualization\")\n",
    "plt.show()"
   ]
  },
  {
   "cell_type": "markdown",
   "id": "3cb8fb69",
   "metadata": {},
   "source": [
    "Got this Best fit line"
   ]
  }
 ],
 "metadata": {
  "kernelspec": {
   "display_name": "training_venv (3.12.10)",
   "language": "python",
   "name": "python3"
  },
  "language_info": {
   "codemirror_mode": {
    "name": "ipython",
    "version": 3
   },
   "file_extension": ".py",
   "mimetype": "text/x-python",
   "name": "python",
   "nbconvert_exporter": "python",
   "pygments_lexer": "ipython3",
   "version": "3.12.10"
  }
 },
 "nbformat": 4,
 "nbformat_minor": 5
}
