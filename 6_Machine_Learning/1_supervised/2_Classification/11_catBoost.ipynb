{
  "cells": [
    {
      "cell_type": "markdown",
      "metadata": {
        "id": "REbrqzO1Kk_v"
      },
      "source": [
        "## **Catboost**"
      ]
    },
    {
      "cell_type": "markdown",
      "metadata": {},
      "source": [
        "`!pip install catboost`"
      ]
    },
    {
      "cell_type": "code",
      "execution_count": 1,
      "metadata": {
        "id": "m7dTXP7SKJwy"
      },
      "outputs": [],
      "source": [
        "# the main difference b/w catboost and other is (catboost can handle categorical data natively labelencoding)\n",
        "\n",
        "from catboost import CatBoostClassifier, Pool\n",
        "from sklearn.datasets import make_classification\n",
        "from sklearn.model_selection import train_test_split\n",
        "from sklearn.metrics import accuracy_score, classification_report"
      ]
    },
    {
      "cell_type": "code",
      "execution_count": 4,
      "metadata": {
        "id": "yS_GcYlfLbiA"
      },
      "outputs": [],
      "source": [
        "# loading the data\n",
        "X, y = make_classification(\n",
        "    n_samples=10000,\n",
        "    n_features=20,\n",
        "    n_informative=10,\n",
        "    n_redundant=5,\n",
        "    n_classes=2,\n",
        "    random_state=42\n",
        ")"
      ]
    },
    {
      "cell_type": "code",
      "execution_count": 5,
      "metadata": {
        "id": "0bVESAg9LsHv"
      },
      "outputs": [],
      "source": [
        "# train test splitting\n",
        "x_train, x_test, y_train, y_test = train_test_split(X, y, test_size=0.2, random_state=42)"
      ]
    },
    {
      "cell_type": "code",
      "execution_count": 6,
      "metadata": {
        "id": "iIEHS11iLt94"
      },
      "outputs": [],
      "source": [
        "# model defining\n",
        "model = CatBoostClassifier(\n",
        "    iterations=200,  # no of boosting rounds\n",
        "    learning_rate=0.1,\n",
        "    depth=6,  # depth of each tree\n",
        "    loss_function='Logloss',\n",
        "    eval_metric='Accuracy',\n",
        "    verbose=20, # print at each 20 rounds\n",
        "    random_state=42\n",
        ")"
      ]
    },
    {
      "cell_type": "code",
      "execution_count": 7,
      "metadata": {
        "colab": {
          "base_uri": "https://localhost:8080/"
        },
        "id": "639G6mtFL_7t",
        "outputId": "5829fa45-e367-4cb9-f567-58763277e307"
      },
      "outputs": [
        {
          "name": "stdout",
          "output_type": "stream",
          "text": [
            "0:\tlearn: 0.7987500\ttest: 0.7835000\tbest: 0.7835000 (0)\ttotal: 153ms\tremaining: 30.4s\n",
            "20:\tlearn: 0.9096250\ttest: 0.9085000\tbest: 0.9085000 (20)\ttotal: 389ms\tremaining: 3.32s\n",
            "40:\tlearn: 0.9332500\ttest: 0.9245000\tbest: 0.9245000 (40)\ttotal: 527ms\tremaining: 2.04s\n",
            "60:\tlearn: 0.9447500\ttest: 0.9285000\tbest: 0.9285000 (60)\ttotal: 673ms\tremaining: 1.53s\n",
            "80:\tlearn: 0.9530000\ttest: 0.9315000\tbest: 0.9325000 (77)\ttotal: 813ms\tremaining: 1.19s\n",
            "100:\tlearn: 0.9587500\ttest: 0.9385000\tbest: 0.9395000 (98)\ttotal: 958ms\tremaining: 939ms\n",
            "120:\tlearn: 0.9661250\ttest: 0.9425000\tbest: 0.9430000 (117)\ttotal: 1.1s\tremaining: 722ms\n",
            "140:\tlearn: 0.9700000\ttest: 0.9420000\tbest: 0.9435000 (124)\ttotal: 1.25s\tremaining: 524ms\n",
            "160:\tlearn: 0.9742500\ttest: 0.9430000\tbest: 0.9435000 (124)\ttotal: 1.4s\tremaining: 338ms\n",
            "180:\tlearn: 0.9777500\ttest: 0.9450000\tbest: 0.9450000 (178)\ttotal: 1.55s\tremaining: 163ms\n",
            "199:\tlearn: 0.9798750\ttest: 0.9455000\tbest: 0.9460000 (195)\ttotal: 1.68s\tremaining: 0us\n",
            "\n",
            "bestTest = 0.946\n",
            "bestIteration = 195\n",
            "\n",
            "Shrink model to first 196 iterations.\n"
          ]
        },
        {
          "data": {
            "text/plain": [
              "<catboost.core.CatBoostClassifier at 0x258b9a6fc20>"
            ]
          },
          "execution_count": 7,
          "metadata": {},
          "output_type": "execute_result"
        }
      ],
      "source": [
        "model.fit(x_train, y_train, eval_set=(x_test, y_test))"
      ]
    },
    {
      "cell_type": "code",
      "execution_count": 8,
      "metadata": {
        "id": "ZSd2LJB6ML4Q"
      },
      "outputs": [],
      "source": [
        "y_pred = model.predict(x_test)"
      ]
    },
    {
      "cell_type": "code",
      "execution_count": 9,
      "metadata": {
        "colab": {
          "base_uri": "https://localhost:8080/"
        },
        "id": "sMmtl6I3MgkZ",
        "outputId": "7f9d47ed-b4ed-4460-cfb1-f2b1cd266ff0"
      },
      "outputs": [
        {
          "name": "stdout",
          "output_type": "stream",
          "text": [
            "Accuracy score: 0.946\n",
            "Classification report:\n",
            "              precision    recall  f1-score   support\n",
            "\n",
            "           0       0.95      0.95      0.95      1030\n",
            "           1       0.94      0.94      0.94       970\n",
            "\n",
            "    accuracy                           0.95      2000\n",
            "   macro avg       0.95      0.95      0.95      2000\n",
            "weighted avg       0.95      0.95      0.95      2000\n",
            "\n"
          ]
        }
      ],
      "source": [
        "print(f\"Accuracy score: {accuracy_score(y_test, y_pred)}\")\n",
        "print(f\"Classification report:\\n{classification_report(y_test, y_pred)}\")"
      ]
    },
    {
      "cell_type": "code",
      "execution_count": 10,
      "metadata": {
        "id": "wEhr2bBxMmDd"
      },
      "outputs": [
        {
          "data": {
            "text/plain": [
              "'\\ncat_features = [0, 3, 5]  # indices of categorical columns\\ntrain_pool = Pool(X_train, y_train, cat_features=cat_features)\\ntest_pool = Pool(X_test, y_test, cat_features=cat_features)\\n\\nmodel.fit(train_pool, eval_set=test_pool)\\n'"
            ]
          },
          "execution_count": 10,
          "metadata": {},
          "output_type": "execute_result"
        }
      ],
      "source": [
        "\"\"\"\n",
        "cat_features = [0, 3, 5]  # indices of categorical columns\n",
        "train_pool = Pool(X_train, y_train, cat_features=cat_features)\n",
        "test_pool = Pool(X_test, y_test, cat_features=cat_features)\n",
        "\n",
        "model.fit(train_pool, eval_set=test_pool)\n",
        "\"\"\"\n",
        "\n",
        "# it performs ordered target encoding"
      ]
    },
    {
      "cell_type": "code",
      "execution_count": null,
      "metadata": {},
      "outputs": [],
      "source": []
    }
  ],
  "metadata": {
    "colab": {
      "provenance": []
    },
    "kernelspec": {
      "display_name": "training_venv (3.12.10)",
      "language": "python",
      "name": "python3"
    },
    "language_info": {
      "codemirror_mode": {
        "name": "ipython",
        "version": 3
      },
      "file_extension": ".py",
      "mimetype": "text/x-python",
      "name": "python",
      "nbconvert_exporter": "python",
      "pygments_lexer": "ipython3",
      "version": "3.12.10"
    }
  },
  "nbformat": 4,
  "nbformat_minor": 0
}
