{
 "cells": [
  {
   "cell_type": "markdown",
   "id": "e120c7e0",
   "metadata": {},
   "source": [
    "# K - Nearest Neighbours"
   ]
  },
  {
   "cell_type": "markdown",
   "id": "2d06af7c",
   "metadata": {},
   "source": [
    "K-Nearest Neighbor (KNN) is a supervised, non-parametric machine learning algorithm used for both classification and regression tasks. It works by finding the 'k' closest data points (neighbors) to a new, unclassified point using a distance metric (like Euclidean distance) and then assigning the new point to the most common class among those neighbors (for classification) or the average value of those neighbors (for regression)."
   ]
  },
  {
   "cell_type": "markdown",
   "id": "eafa0725",
   "metadata": {},
   "source": [
    "## For classification"
   ]
  },
  {
   "cell_type": "code",
   "execution_count": 1,
   "id": "ba90480b",
   "metadata": {},
   "outputs": [],
   "source": [
    "import numpy as np\n",
    "from sklearn.datasets import load_breast_cancer\n",
    "from sklearn.model_selection import GridSearchCV, train_test_split, cross_val_score\n",
    "from sklearn.neighbors import KNeighborsClassifier\n",
    "from sklearn.metrics import accuracy_score, precision_score, recall_score, f1_score"
   ]
  },
  {
   "cell_type": "code",
   "execution_count": null,
   "id": "c965e764",
   "metadata": {},
   "outputs": [
    {
     "name": "stdout",
     "output_type": "stream",
     "text": [
      "Feature names: ['mean radius' 'mean texture' 'mean perimeter' 'mean area'\n",
      " 'mean smoothness' 'mean compactness' 'mean concavity'\n",
      " 'mean concave points' 'mean symmetry' 'mean fractal dimension'\n",
      " 'radius error' 'texture error' 'perimeter error' 'area error'\n",
      " 'smoothness error' 'compactness error' 'concavity error'\n",
      " 'concave points error' 'symmetry error' 'fractal dimension error'\n",
      " 'worst radius' 'worst texture' 'worst perimeter' 'worst area'\n",
      " 'worst smoothness' 'worst compactness' 'worst concavity'\n",
      " 'worst concave points' 'worst symmetry' 'worst fractal dimension']\n",
      "Target name: ['malignant' 'benign']\n"
     ]
    }
   ],
   "source": [
    "# loading the breast cancer data from the sklearn datasets\n",
    "\n",
    "data = load_breast_cancer()\n",
    "\n",
    "print(f\"Feature names: {data.feature_names}\")\n",
    "print(f\"Target name: {data.target_names}\")\n",
    "\n",
    "X, y = data.data, data.target"
   ]
  },
  {
   "cell_type": "code",
   "execution_count": 6,
   "id": "313ad51e",
   "metadata": {},
   "outputs": [
    {
     "name": "stdout",
     "output_type": "stream",
     "text": [
      "(569, 30)\n",
      "(569,)\n",
      "<class 'numpy.ndarray'>\n",
      "<class 'numpy.ndarray'>\n"
     ]
    }
   ],
   "source": [
    "print(X.shape)\n",
    "print(y.shape)\n",
    "\n",
    "print(type(X))\n",
    "print(type(y))"
   ]
  },
  {
   "cell_type": "code",
   "execution_count": 19,
   "id": "2950bfae",
   "metadata": {},
   "outputs": [],
   "source": [
    "# train test splitting\n",
    "\n",
    "x_train, x_test, y_train, y_test = train_test_split(X, y, test_size=0.2, random_state=42, stratify=y) # stratified sampling"
   ]
  },
  {
   "cell_type": "code",
   "execution_count": 44,
   "id": "3a445454",
   "metadata": {},
   "outputs": [
    {
     "name": "stdout",
     "output_type": "stream",
     "text": [
      "Train size: 455\n",
      "Test size: 114\n"
     ]
    }
   ],
   "source": [
    "print(f\"Train size: {x_train.shape[0]}\")\n",
    "print(f\"Test size: {x_test.shape[0]}\")"
   ]
  },
  {
   "cell_type": "code",
   "execution_count": 45,
   "id": "94ddf532",
   "metadata": {},
   "outputs": [],
   "source": [
    "k_values = [1, 3, 5, 7, 9, 11, 15, 23, 59, 103, 205, 301, 427, 455]\n",
    "\n",
    "results = []"
   ]
  },
  {
   "cell_type": "code",
   "execution_count": 46,
   "id": "e7fe79dc",
   "metadata": {},
   "outputs": [],
   "source": [
    "for k in k_values:\n",
    "    knn = KNeighborsClassifier(n_neighbors=k)\n",
    "    knn.fit(x_train, y_train)  # training the model\n",
    "    y_pred = knn.predict(x_test)\n",
    "\n",
    "    acc = accuracy_score(y_test, y_pred)\n",
    "    prec = precision_score(y_test, y_pred)\n",
    "    rec = precision_score(y_test, y_pred)\n",
    "    f1 = f1_score(y_test, y_pred)\n",
    "\n",
    "    results.append((k, acc, prec, rec, f1))"
   ]
  },
  {
   "cell_type": "code",
   "execution_count": 47,
   "id": "c2af2dd1",
   "metadata": {},
   "outputs": [
    {
     "name": "stdout",
     "output_type": "stream",
     "text": [
      "K  |  Accuracy | Precision | Recall | F1-score\n",
      "1  |   0.921   | 0.957     | 0.957  | 0.936\n",
      "3  |   0.930   | 0.944     | 0.944  | 0.944\n",
      "5  |   0.912   | 0.943     | 0.943  | 0.930\n",
      "7  |   0.930   | 0.944     | 0.944  | 0.944\n",
      "9  |   0.939   | 0.945     | 0.945  | 0.952\n",
      "11 |   0.939   | 0.945     | 0.945  | 0.952\n",
      "15 |   0.930   | 0.932     | 0.932  | 0.945\n",
      "23 |   0.939   | 0.933     | 0.933  | 0.952\n",
      "59 |   0.930   | 0.921     | 0.921  | 0.946\n",
      "103|   0.921   | 0.909     | 0.909  | 0.940\n",
      "205|   0.886   | 0.855     | 0.855  | 0.916\n",
      "301|   0.860   | 0.818     | 0.818  | 0.900\n",
      "427|   0.632   | 0.632     | 0.632  | 0.774\n",
      "455|   0.632   | 0.632     | 0.632  | 0.774\n"
     ]
    }
   ],
   "source": [
    "print(\"K  |  Accuracy | Precision | Recall | F1-score\")\n",
    "for r in results:\n",
    "    print(f\"{r[0]:<3}|   {r[1]:.3f}   | {r[2]:.3f}     | {r[3]:.3f}  | {r[4]:.3f}\")"
   ]
  },
  {
   "cell_type": "code",
   "execution_count": 52,
   "id": "1f519dad",
   "metadata": {},
   "outputs": [
    {
     "data": {
      "image/png": "[encoded data removed]",
      "text/plain": [
       "<Figure size 600x300 with 1 Axes>"
      ]
     },
     "metadata": {},
     "output_type": "display_data"
    }
   ],
   "source": [
    "# visualization\n",
    "\n",
    "from matplotlib import pyplot as plt\n",
    "\n",
    "\n",
    "f1_scores = [i[4] for i in results]\n",
    "plt.figure(figsize=(6, 3))\n",
    "plt.plot(k_values, f1_scores, marker = '*')\n",
    "plt.show()"
   ]
  },
  {
   "cell_type": "markdown",
   "id": "a096b610",
   "metadata": {},
   "source": [
    "We can observe that,\n",
    "* As k value increases, the f1-score decreases\n",
    "* Lower k, leads to overfitting\n",
    "* Higher k, leads to underfitting "
   ]
  },
  {
   "cell_type": "code",
   "execution_count": 53,
   "id": "3645910b",
   "metadata": {},
   "outputs": [
    {
     "name": "stdout",
     "output_type": "stream",
     "text": [
      "F1 socre for k = 1 on train data: 1.0\n"
     ]
    }
   ],
   "source": [
    "# k = 1 gives 0 train error\n",
    "\n",
    "knn = KNeighborsClassifier(n_neighbors=1)\n",
    "knn.fit(x_train, y_train)\n",
    "\n",
    "y_pred_train = knn.predict(x_train)\n",
    "\n",
    "f1 = f1_score(y_train, y_pred_train) # will get f1socre 1\n",
    "\n",
    "print(f\"F1 socre for k = 1 on train data: {f1}\")"
   ]
  },
  {
   "cell_type": "code",
   "execution_count": 57,
   "id": "708ba15a",
   "metadata": {},
   "outputs": [
    {
     "name": "stdout",
     "output_type": "stream",
     "text": [
      "Best k value: {'n_neighbors': 6}\n",
      "Best score: 0.952785555135953\n"
     ]
    }
   ],
   "source": [
    "# gridsearch cv for best k value\n",
    "\n",
    "\n",
    "param_grid = {\"n_neighbors\": range(1, 21)}\n",
    "grid = GridSearchCV(KNeighborsClassifier(), param_grid, cv=5, scoring=\"f1\")\n",
    "grid.fit(x_train, y_train)\n",
    "\n",
    "print(\"Best k value:\", grid.best_params_)\n",
    "print(\"Best score:\", grid.best_score_)"
   ]
  }
 ],
 "metadata": {
  "kernelspec": {
   "display_name": "training_venv (3.12.10)",
   "language": "python",
   "name": "python3"
  },
  "language_info": {
   "codemirror_mode": {
    "name": "ipython",
    "version": 3
   },
   "file_extension": ".py",
   "mimetype": "text/x-python",
   "name": "python",
   "nbconvert_exporter": "python",
   "pygments_lexer": "ipython3",
   "version": "3.12.10"
  }
 },
 "nbformat": 4,
 "nbformat_minor": 5
}
