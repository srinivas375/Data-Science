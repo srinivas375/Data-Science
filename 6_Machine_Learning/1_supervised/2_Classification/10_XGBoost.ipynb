{
  "cells": [
    {
      "cell_type": "markdown",
      "metadata": {
        "id": "hUmP4duHEq9H"
      },
      "source": [
        "## **XG Boost**"
      ]
    },
    {
      "cell_type": "code",
      "execution_count": 2,
      "metadata": {
        "id": "pVJuJHzmiAIG"
      },
      "outputs": [],
      "source": [
        "# importing necessary libraries\n",
        "import xgboost as xgb\n",
        "from sklearn.datasets import make_classification\n",
        "from sklearn.model_selection import train_test_split\n",
        "from sklearn.metrics import accuracy_score, classification_report"
      ]
    },
    {
      "cell_type": "code",
      "execution_count": 3,
      "metadata": {
        "id": "HOaVqsVoFCBp"
      },
      "outputs": [],
      "source": [
        "# making the data\n",
        "X, y = make_classification(\n",
        "    n_samples=10000,\n",
        "    n_features=20,\n",
        "    n_informative=10,\n",
        "    n_redundant=5,\n",
        "    n_classes=2,\n",
        "    random_state=42\n",
        ")"
      ]
    },
    {
      "cell_type": "code",
      "execution_count": 4,
      "metadata": {
        "id": "1kQbkt9eHY2y"
      },
      "outputs": [],
      "source": [
        "# train test splitting\n",
        "x_train, x_test, y_train, y_test = train_test_split(X, y, test_size=0.2, random_state=42)"
      ]
    },
    {
      "cell_type": "code",
      "execution_count": 5,
      "metadata": {
        "id": "dRpV10tUHdVP"
      },
      "outputs": [],
      "source": [
        "# preparing the data compatability with xgboost\n",
        "dtrain = xgb.DMatrix(x_train, label=y_train)\n",
        "dtest = xgb.DMatrix(x_test, label=y_test)"
      ]
    },
    {
      "cell_type": "code",
      "execution_count": 6,
      "metadata": {
        "id": "vxJZsEkYHjd-"
      },
      "outputs": [],
      "source": [
        "# parameters for model training\n",
        "params = {\n",
        "    'objective': 'binary:logistic',\n",
        "    'eval_metric': 'logloss',\n",
        "    'eta': 0.1,  # learning rate\n",
        "    'max_depth': 4,  # depth of each tree\n",
        "    'subsample': 0.8, # row sampling\n",
        "    'colsample_bytree': 0.8, # col sampling\n",
        "    \"seed\": 42\n",
        "}"
      ]
    },
    {
      "cell_type": "code",
      "execution_count": 7,
      "metadata": {
        "colab": {
          "base_uri": "https://localhost:8080/"
        },
        "id": "Da6dEtKbH3_W",
        "outputId": "657ee5de-a476-46da-e52f-eb46e8c17ae7"
      },
      "outputs": [
        {
          "name": "stdout",
          "output_type": "stream",
          "text": [
            "[0]\ttrain-logloss:0.65294\ttest-logloss:0.65490\n",
            "[10]\ttrain-logloss:0.43133\ttest-logloss:0.44258\n",
            "[20]\ttrain-logloss:0.33769\ttest-logloss:0.35420\n",
            "[30]\ttrain-logloss:0.27982\ttest-logloss:0.30089\n",
            "[40]\ttrain-logloss:0.24861\ttest-logloss:0.27352\n",
            "[50]\ttrain-logloss:0.22559\ttest-logloss:0.25339\n",
            "[60]\ttrain-logloss:0.20887\ttest-logloss:0.23982\n",
            "[70]\ttrain-logloss:0.19488\ttest-logloss:0.23001\n",
            "[80]\ttrain-logloss:0.18553\ttest-logloss:0.22347\n",
            "[90]\ttrain-logloss:0.17469\ttest-logloss:0.21729\n",
            "[99]\ttrain-logloss:0.16356\ttest-logloss:0.20978\n"
          ]
        }
      ],
      "source": [
        "num_rounds = 100 # num of trees\n",
        "\n",
        "# training\n",
        "bst = xgb.train(\n",
        "    params = params,\n",
        "    dtrain = dtrain,\n",
        "    num_boost_round = num_rounds,\n",
        "    evals = [(dtrain, 'train'), (dtest, 'test')],\n",
        "    early_stopping_rounds = 10, # stops at 10 rounds, if no change found\n",
        "    verbose_eval = 10\n",
        ")"
      ]
    },
    {
      "cell_type": "code",
      "execution_count": 8,
      "metadata": {
        "id": "ewI_dz8cJkSO"
      },
      "outputs": [],
      "source": [
        "# test data prediction\n",
        "y_pred_prob = bst.predict(dtest)\n",
        "y_pred = (y_pred_prob > 0.5).astype(int)"
      ]
    },
    {
      "cell_type": "code",
      "execution_count": 9,
      "metadata": {
        "colab": {
          "base_uri": "https://localhost:8080/"
        },
        "id": "mGXr6x9tJwmd",
        "outputId": "603d8c18-4b48-4d96-ef49-112e58da2900"
      },
      "outputs": [
        {
          "name": "stdout",
          "output_type": "stream",
          "text": [
            "Accuracy score: 0.9185\n",
            "Classification report:\n",
            "              precision    recall  f1-score   support\n",
            "\n",
            "           0       0.92      0.92      0.92      1030\n",
            "           1       0.91      0.92      0.92       970\n",
            "\n",
            "    accuracy                           0.92      2000\n",
            "   macro avg       0.92      0.92      0.92      2000\n",
            "weighted avg       0.92      0.92      0.92      2000\n",
            "\n"
          ]
        }
      ],
      "source": [
        "# metrics scores\n",
        "print(f\"Accuracy score: {accuracy_score(y_test, y_pred)}\")\n",
        "print(f\"Classification report:\\n{classification_report(y_test, y_pred)}\")"
      ]
    }
  ],
  "metadata": {
    "colab": {
      "provenance": []
    },
    "kernelspec": {
      "display_name": "training_venv (3.12.10)",
      "language": "python",
      "name": "python3"
    },
    "language_info": {
      "codemirror_mode": {
        "name": "ipython",
        "version": 3
      },
      "file_extension": ".py",
      "mimetype": "text/x-python",
      "name": "python",
      "nbconvert_exporter": "python",
      "pygments_lexer": "ipython3",
      "version": "3.12.10"
    }
  },
  "nbformat": 4,
  "nbformat_minor": 0
}
