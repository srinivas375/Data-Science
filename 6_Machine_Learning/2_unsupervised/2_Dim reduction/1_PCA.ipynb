{
 "cells": [
  {
   "cell_type": "markdown",
   "id": "d8090b76",
   "metadata": {},
   "source": [
    "# **PCA**"
   ]
  },
  {
   "cell_type": "markdown",
   "id": "31c5c16d",
   "metadata": {},
   "source": [
    "Principal Component Analysis (PCA) is an unsupervised machine learning technique that reduces the number of features (dimensions) in a dataset by transforming the original variables into a new set of uncorrelated variables called principal components. PCA identifies the directions (principal components) that explain the most variance (information) in the data, then uses the most significant ones to create a lower-dimensional representation, making data simpler, faster to process, easier to visualize, and helping to prevent model overfitting."
   ]
  },
  {
   "cell_type": "markdown",
   "id": "868b827f",
   "metadata": {},
   "source": [
    "* PCA is nothing but, creating new features from the linear combination of existing features\n",
    "* PCA will extract the eigen vectors and eigen values of the given data (from covariance matrix), and projects the data onto the major eigen vecotors(desired count), in the descending order of the eigen values\n",
    "* In this way, the dimention of the data points is reduced to desired dimention"
   ]
  },
  {
   "attachments": {
    "image.png": {
     "image/png": "[encoded data removed]"
    }
   },
   "cell_type": "markdown",
   "id": "1a84a820",
   "metadata": {},
   "source": [
    "![image.png](attachment:image.png)"
   ]
  },
  {
   "cell_type": "markdown",
   "id": "4bac6fa0",
   "metadata": {},
   "source": [
    "### **Implementation**"
   ]
  },
  {
   "cell_type": "code",
   "execution_count": 1,
   "id": "7383ddad",
   "metadata": {},
   "outputs": [],
   "source": [
    "# importing libraries\n",
    "\n",
    "import numpy as np\n",
    "import pandas as pd\n",
    "\n",
    "from sklearn.preprocessing import StandardScaler\n",
    "from sklearn.model_selection import train_test_split\n",
    "from sklearn.decomposition import PCA"
   ]
  },
  {
   "cell_type": "code",
   "execution_count": 2,
   "id": "aeaa16d9",
   "metadata": {},
   "outputs": [],
   "source": [
    "# creating a data\n",
    "data = pd.DataFrame(np.random.rand(100, 10), columns=[f'feature_{i}' for i in range(10)])\n",
    "X = data.values"
   ]
  },
  {
   "cell_type": "code",
   "execution_count": 3,
   "id": "69ca418a",
   "metadata": {},
   "outputs": [],
   "source": [
    "# splitting the data\n",
    "x_trian, x_test = train_test_split(X, test_size=0.2, random_state=42)"
   ]
  },
  {
   "cell_type": "code",
   "execution_count": 4,
   "id": "3a03b26e",
   "metadata": {},
   "outputs": [],
   "source": [
    "# feature scaling (maked data to '0' mean, '1' std)\n",
    "scaler = StandardScaler()\n",
    "x_train_scaled = scaler.fit_transform(x_trian)\n",
    "x_test_scaled = scaler.transform(x_test)"
   ]
  },
  {
   "cell_type": "markdown",
   "id": "79877a6c",
   "metadata": {},
   "source": [
    "### without PCA function"
   ]
  },
  {
   "cell_type": "code",
   "execution_count": null,
   "id": "bc5411d3",
   "metadata": {},
   "outputs": [],
   "source": [
    "# getting the covariance matrix\n",
    "cov_mat = np.cov(x_train_scaled.T)"
   ]
  },
  {
   "cell_type": "code",
   "execution_count": 11,
   "id": "bcbe8988",
   "metadata": {},
   "outputs": [
    {
     "name": "stdout",
     "output_type": "stream",
     "text": [
      "The covariance matrix is:\n",
      "\n",
      "[[ 1.01265823  0.0090063   0.04833661 -0.1523019  -0.19411218  0.04570375\n",
      "  -0.03429763  0.31775803 -0.01768551  0.08680047]\n",
      " [ 0.0090063   1.01265823 -0.11548024 -0.00346484 -0.06365583  0.24374569\n",
      "  -0.16951013  0.06517537 -0.10315923  0.24655043]\n",
      " [ 0.04833661 -0.11548024  1.01265823 -0.03415993 -0.08470079  0.09475127\n",
      "   0.15095473 -0.00476491  0.19819956  0.07281981]\n",
      " [-0.1523019  -0.00346484 -0.03415993  1.01265823  0.1987177  -0.12024852\n",
      "   0.01441467 -0.27045321  0.11004228 -0.21106509]\n",
      " [-0.19411218 -0.06365583 -0.08470079  0.1987177   1.01265823 -0.19698407\n",
      "  -0.15004312 -0.17894851  0.08526359 -0.09023486]\n",
      " [ 0.04570375  0.24374569  0.09475127 -0.12024852 -0.19698407  1.01265823\n",
      "   0.04758373  0.13411777  0.09801457  0.24099662]\n",
      " [-0.03429763 -0.16951013  0.15095473  0.01441467 -0.15004312  0.04758373\n",
      "   1.01265823 -0.00776983  0.05798866 -0.16777255]\n",
      " [ 0.31775803  0.06517537 -0.00476491 -0.27045321 -0.17894851  0.13411777\n",
      "  -0.00776983  1.01265823 -0.07742988  0.15434094]\n",
      " [-0.01768551 -0.10315923  0.19819956  0.11004228  0.08526359  0.09801457\n",
      "   0.05798866 -0.07742988  1.01265823  0.01753968]\n",
      " [ 0.08680047  0.24655043  0.07281981 -0.21106509 -0.09023486  0.24099662\n",
      "  -0.16777255  0.15434094  0.01753968  1.01265823]]\n",
      "\n",
      "Shape of covariance matrix is (10, 10)\n"
     ]
    }
   ],
   "source": [
    "print(\"The covariance matrix is:\\n\")\n",
    "print(cov_mat)\n",
    "print(\"\\nShape of covariance matrix is\", cov_mat.shape)"
   ]
  },
  {
   "cell_type": "code",
   "execution_count": 12,
   "id": "a0d945d0",
   "metadata": {},
   "outputs": [],
   "source": [
    "# getting the eigen vals and eigen vectors of cov matrix\n",
    "eig_vals, eig_vecs = np.linalg.eigh(cov_mat)"
   ]
  },
  {
   "cell_type": "code",
   "execution_count": 15,
   "id": "14742672",
   "metadata": {},
   "outputs": [
    {
     "name": "stdout",
     "output_type": "stream",
     "text": [
      "Eigne vals shape: (10,)\n",
      "Eigen vectors shape: (10, 10)\n",
      "\n",
      "Eigen values are:\n",
      " [0.61838693 0.62220747 0.65976499 0.72872686 0.80216302 0.9104139\n",
      " 1.06169952 1.298981   1.45076011 1.97347847]\n",
      "\n",
      "Eigen vectors:\n",
      " [[ 0.01742154  0.54093874  0.11214372 -0.04402763 -0.23781082 -0.51586597\n",
      "   0.36922239  0.30237076 -0.14482395 -0.34809225]\n",
      " [-0.63434022  0.01986467  0.03808797  0.23530846 -0.15202506 -0.26886535\n",
      "  -0.28015927 -0.30832296  0.44730049 -0.26714589]\n",
      " [-0.11209438 -0.0753324  -0.30120273  0.35913824 -0.55844001  0.22563084\n",
      "   0.20072494 -0.3148137  -0.50519218 -0.0683717 ]\n",
      " [ 0.41699517 -0.28897798  0.14162546  0.17449596 -0.28037579 -0.62482471\n",
      "  -0.085877   -0.21739961  0.06760779  0.40481524]\n",
      " [ 0.01158425  0.38030317 -0.05964664  0.57996179  0.32623436  0.08922215\n",
      "   0.42127512 -0.1258359   0.26326774  0.37190745]\n",
      " [ 0.42207636  0.27899005 -0.45206131 -0.01780972  0.30510235 -0.13812999\n",
      "  -0.28584726 -0.4553059  -0.0574899  -0.36722601]\n",
      " [-0.0967748   0.20186958  0.46745415  0.3624344   0.24151572 -0.03319381\n",
      "  -0.48551932  0.05481762 -0.54636087  0.05775283]\n",
      " [ 0.03824069 -0.57599425 -0.10065712  0.42279592  0.34565344 -0.18808878\n",
      "   0.20862674  0.28638598 -0.06416708 -0.43973501]\n",
      " [-0.32602985 -0.14613449  0.15077631 -0.36559032  0.37375644 -0.24443911\n",
      "   0.40175845 -0.48987624 -0.32587505  0.09450916]\n",
      " [ 0.3397838  -0.03828162  0.64490027  0.05308627 -0.11336776  0.31146163\n",
      "   0.19410023 -0.34496355  0.19421945 -0.40013803]]\n"
     ]
    }
   ],
   "source": [
    "print(\"Eigne vals shape:\", eig_vals.shape)\n",
    "print(\"Eigen vectors shape:\", eig_vecs.shape)\n",
    "print(\"\\nEigen values are:\\n\", eig_vals)\n",
    "print(\"\\nEigen vectors:\\n\", eig_vecs)"
   ]
  },
  {
   "cell_type": "markdown",
   "id": "af6674ce",
   "metadata": {},
   "source": [
    "* The covariance matrix is always symmetric matrix\n",
    "* so, we get 10 eigen values and 10 eigen vectors"
   ]
  },
  {
   "cell_type": "code",
   "execution_count": 16,
   "id": "96449c03",
   "metadata": {},
   "outputs": [],
   "source": [
    "# sorting eigvals, eigvecs\n",
    "sorted_idx = np.argsort(eig_vals)[::-1]\n",
    "eig_vals = eig_vals[sorted_idx]\n",
    "eig_vecs = eig_vecs[:, sorted_idx]"
   ]
  },
  {
   "cell_type": "code",
   "execution_count": 17,
   "id": "b789be67",
   "metadata": {},
   "outputs": [],
   "source": [
    "# selecting desired number of principle components\n",
    "n_components = 2\n",
    "eig_vecs_subset = eig_vecs[:, :n_components]"
   ]
  },
  {
   "cell_type": "code",
   "execution_count": 20,
   "id": "c238aa14",
   "metadata": {},
   "outputs": [
    {
     "name": "stdout",
     "output_type": "stream",
     "text": [
      "Eigen values: [1.97347847 1.45076011]\n",
      "Eigen vectors:\n",
      " [[-0.34809225 -0.14482395]\n",
      " [-0.26714589  0.44730049]\n",
      " [-0.0683717  -0.50519218]\n",
      " [ 0.40481524  0.06760779]\n",
      " [ 0.37190745  0.26326774]\n",
      " [-0.36722601 -0.0574899 ]\n",
      " [ 0.05775283 -0.54636087]\n",
      " [-0.43973501 -0.06416708]\n",
      " [ 0.09450916 -0.32587505]\n",
      " [-0.40013803  0.19421945]]\n"
     ]
    }
   ],
   "source": [
    "print(\"Eigen values:\", eig_vals[:n_components])\n",
    "print(\"Eigen vectors:\\n\", eig_vecs_subset)"
   ]
  },
  {
   "cell_type": "code",
   "execution_count": 26,
   "id": "20b3a9f9",
   "metadata": {},
   "outputs": [
    {
     "name": "stdout",
     "output_type": "stream",
     "text": [
      "Dimention reductioned train data shape: (80, 2)\n",
      "Dimention reductioned test data shape: (20, 2)\n"
     ]
    }
   ],
   "source": [
    "# project data onto scaled components\n",
    "x_train_pca = np.dot(x_train_scaled, eig_vecs_subset)\n",
    "x_test_pca = np.dot(x_test_scaled, eig_vecs_subset)\n",
    "\n",
    "\n",
    "print(\"Dimention reductioned train data shape:\", x_train_pca.shape)\n",
    "print(\"Dimention reductioned test data shape:\", x_test_pca.shape)"
   ]
  },
  {
   "cell_type": "code",
   "execution_count": 28,
   "id": "26136651",
   "metadata": {},
   "outputs": [
    {
     "name": "stdout",
     "output_type": "stream",
     "text": [
      "First 5 rows of trained pca data\n",
      " [[ 0.09473982 -1.10564816]\n",
      " [ 0.60674956 -0.33493593]\n",
      " [ 3.03650065  0.31539983]\n",
      " [-1.30090168 -0.70318887]\n",
      " [-2.14895546 -0.01713505]]\n",
      "\n",
      "\n",
      "First 5 rows of test pca:\n",
      " [[-0.47300562  0.39881441]\n",
      " [-2.00696415  0.6589945 ]\n",
      " [-0.92374781  0.680946  ]\n",
      " [-0.28966129 -0.30703879]\n",
      " [-0.18912767  0.23162748]]\n"
     ]
    }
   ],
   "source": [
    "print(\"First 5 rows of trained pca data\\n\", x_train_pca[:5, :])\n",
    "print(\"\\n\\nFirst 5 rows of test pca:\\n\", x_test_pca[:5, :])"
   ]
  },
  {
   "cell_type": "code",
   "execution_count": 29,
   "id": "8a8d3ba2",
   "metadata": {},
   "outputs": [
    {
     "name": "stdout",
     "output_type": "stream",
     "text": [
      "Original train data:\n",
      " [[0.12910908 0.43259881 0.75269978 0.29396357 0.581595   0.15604267\n",
      "  0.86004385 0.66057166 0.88540425 0.97761255]\n",
      " [0.90794867 0.14967902 0.67537135 0.76770687 0.64223577 0.04645038\n",
      "  0.13686333 0.91902738 0.49292338 0.33257976]\n",
      " [0.58097332 0.25015138 0.06926623 0.90326001 0.9142476  0.13202471\n",
      "  0.64210349 0.19764821 0.53094569 0.07196005]\n",
      " [0.98918291 0.45770535 0.53007974 0.60570912 0.01239777 0.34017657\n",
      "  0.68549874 0.85564683 0.03435588 0.48305083]\n",
      " [0.9530403  0.84832871 0.36885163 0.36032286 0.43805654 0.95072693\n",
      "  0.76990122 0.99939447 0.17397001 0.32761276]]\n",
      "\n",
      "Reconstructed data:\n",
      " [[ 0.12714613 -0.51986632  0.55208728 -0.0363983  -0.25584704  0.02877267\n",
      "   0.60955438  0.0292858   0.36925693 -0.25264738]\n",
      " [-0.16269808 -0.31190766  0.12772251  0.22297719  0.13747686 -0.20355879\n",
      "   0.21803739 -0.24531716  0.16649066 -0.30783465]\n",
      " [-1.1026598  -0.67011017 -0.36694824  1.25054524  1.2123318  -1.13321432\n",
      "   0.00304438 -1.35549393  0.18419619 -1.15376262]\n",
      " [ 0.55467238  0.03299381  0.44419038 -0.57416588 -0.66894197  0.51815119\n",
      "   0.30906413  0.61717359  0.10620458  0.38396729]\n",
      " [ 0.75051631  0.5664201   0.15558424 -0.87108839 -0.80372364  0.79013743\n",
      "  -0.11474634  0.94607046 -0.19751209  0.85655085]]\n"
     ]
    }
   ],
   "source": [
    "# Reconstructing the original data (approximation)\n",
    "# As the principle components increases, the approximation also increases\n",
    "\n",
    "x_reconstructed = np.dot(x_train_pca, eig_vecs_subset.T)\n",
    "\n",
    "print(\"Original train data:\\n\", x_trian[:5, :])\n",
    "print(\"\\nReconstructed data:\\n\", x_reconstructed[:5,:])\n"
   ]
  },
  {
   "cell_type": "markdown",
   "id": "2a304ebe",
   "metadata": {},
   "source": [
    "### **Using PCA from sklearn**"
   ]
  },
  {
   "cell_type": "code",
   "execution_count": 30,
   "id": "01fdf215",
   "metadata": {},
   "outputs": [],
   "source": [
    "from sklearn.decomposition import PCA\n",
    "\n",
    "pca_1 = PCA(n_components=2) # specifying the number of components\n",
    "pca_2 = PCA(n_components=0.9) # 90% of variance should be captured"
   ]
  },
  {
   "cell_type": "code",
   "execution_count": 31,
   "id": "0fae7328",
   "metadata": {},
   "outputs": [],
   "source": [
    "x_train_pca_1 = pca_1.fit_transform(x_train_scaled)\n",
    "x_train_pca_2 = pca_2.fit_transform(x_train_scaled)"
   ]
  },
  {
   "cell_type": "code",
   "execution_count": 32,
   "id": "71c74927",
   "metadata": {},
   "outputs": [
    {
     "name": "stdout",
     "output_type": "stream",
     "text": [
      "Shape of project data (2 components): (80, 2)\n",
      "\n",
      "Eigenvalues (explained variance): [1.97347847 1.45076011]\n",
      "\n",
      "Explained variance ratio: [0.194881   0.14326256]\n",
      "\n",
      "Principal components (eigenvectors):\n",
      " [[ 0.34809225  0.26714589  0.0683717  -0.40481524 -0.37190745  0.36722601\n",
      "  -0.05775283  0.43973501 -0.09450916  0.40013803]\n",
      " [ 0.14482395 -0.44730049  0.50519218 -0.06760779 -0.26326774  0.0574899\n",
      "   0.54636087  0.06416708  0.32587505 -0.19421945]]\n"
     ]
    }
   ],
   "source": [
    "# for 2 components\n",
    "\n",
    "print(\"Shape of project data (2 components):\", x_train_pca_1.shape)\n",
    "print(\"\\nEigenvalues (explained variance):\", pca_1.explained_variance_)\n",
    "print(\"\\nExplained variance ratio:\", pca_1.explained_variance_ratio_)\n",
    "print(\"\\nPrincipal components (eigenvectors):\\n\", pca_1.components_)"
   ]
  },
  {
   "cell_type": "code",
   "execution_count": 33,
   "id": "533484b5",
   "metadata": {},
   "outputs": [
    {
     "name": "stdout",
     "output_type": "stream",
     "text": [
      "First 5 rows of trained pca data\n",
      " [[-0.09473982  1.10564816]\n",
      " [-0.60674956  0.33493593]\n",
      " [-3.03650065 -0.31539983]\n",
      " [ 1.30090168  0.70318887]\n",
      " [ 2.14895546  0.01713505]]\n"
     ]
    }
   ],
   "source": [
    "print(\"First 5 rows of trained pca data\\n\", x_train_pca_1[:5, :])"
   ]
  },
  {
   "cell_type": "code",
   "execution_count": 34,
   "id": "558de26c",
   "metadata": {},
   "outputs": [
    {
     "name": "stdout",
     "output_type": "stream",
     "text": [
      "Original train data:\n",
      " [[0.12910908 0.43259881 0.75269978 0.29396357 0.581595   0.15604267\n",
      "  0.86004385 0.66057166 0.88540425 0.97761255]\n",
      " [0.90794867 0.14967902 0.67537135 0.76770687 0.64223577 0.04645038\n",
      "  0.13686333 0.91902738 0.49292338 0.33257976]\n",
      " [0.58097332 0.25015138 0.06926623 0.90326001 0.9142476  0.13202471\n",
      "  0.64210349 0.19764821 0.53094569 0.07196005]\n",
      " [0.98918291 0.45770535 0.53007974 0.60570912 0.01239777 0.34017657\n",
      "  0.68549874 0.85564683 0.03435588 0.48305083]\n",
      " [0.9530403  0.84832871 0.36885163 0.36032286 0.43805654 0.95072693\n",
      "  0.76990122 0.99939447 0.17397001 0.32761276]]\n",
      "\n",
      "Reconstructed data:\n",
      " [[ 0.12714613 -0.51986632  0.55208728 -0.0363983  -0.25584704  0.02877267\n",
      "   0.60955438  0.0292858   0.36925693 -0.25264738]\n",
      " [-0.16269808 -0.31190766  0.12772251  0.22297719  0.13747686 -0.20355879\n",
      "   0.21803739 -0.24531716  0.16649066 -0.30783465]\n",
      " [-1.1026598  -0.67011017 -0.36694824  1.25054524  1.2123318  -1.13321432\n",
      "   0.00304438 -1.35549393  0.18419619 -1.15376262]\n",
      " [ 0.55467238  0.03299381  0.44419038 -0.57416588 -0.66894197  0.51815119\n",
      "   0.30906413  0.61717359  0.10620458  0.38396729]\n",
      " [ 0.75051631  0.5664201   0.15558424 -0.87108839 -0.80372364  0.79013743\n",
      "  -0.11474634  0.94607046 -0.19751209  0.85655085]]\n"
     ]
    }
   ],
   "source": [
    "x_reconstructed_1 = pca_1.inverse_transform(x_train_pca_1)\n",
    "\n",
    "print(\"Original train data:\\n\", x_trian[:5, :])\n",
    "print(\"\\nReconstructed data:\\n\", x_reconstructed_1[:5,:])"
   ]
  },
  {
   "cell_type": "markdown",
   "id": "1454ca5c",
   "metadata": {},
   "source": [
    "If we observe that, the data generated is same (from manual, using pca sklearn)"
   ]
  },
  {
   "cell_type": "code",
   "execution_count": 35,
   "id": "f3e159f0",
   "metadata": {},
   "outputs": [
    {
     "name": "stdout",
     "output_type": "stream",
     "text": [
      "Shape of project data : (80, 9)\n",
      "\n",
      "Eigenvalues (explained variance): [1.97347847 1.45076011 1.298981   1.06169952 0.9104139  0.80216302\n",
      " 0.72872686 0.65976499 0.62220747]\n",
      "\n",
      "Explained variance ratio: [0.194881   0.14326256 0.12827437 0.10484283 0.08990337 0.0792136\n",
      " 0.07196178 0.06515179 0.06144299]\n",
      "\n",
      "Principal components (eigenvectors):\n",
      " [[ 0.34809225  0.26714589  0.0683717  -0.40481524 -0.37190745  0.36722601\n",
      "  -0.05775283  0.43973501 -0.09450916  0.40013803]\n",
      " [ 0.14482395 -0.44730049  0.50519218 -0.06760779 -0.26326774  0.0574899\n",
      "   0.54636087  0.06416708  0.32587505 -0.19421945]\n",
      " [-0.30237076  0.30832296  0.3148137   0.21739961  0.1258359   0.4553059\n",
      "  -0.05481762 -0.28638598  0.48987624  0.34496355]\n",
      " [-0.36922239  0.28015927 -0.20072494  0.085877   -0.42127512  0.28584726\n",
      "   0.48551932 -0.20862674 -0.40175845 -0.19410023]\n",
      " [ 0.51586597  0.26886535 -0.22563084  0.62482471 -0.08922215  0.13812999\n",
      "   0.03319381  0.18808878  0.24443911 -0.31146163]\n",
      " [ 0.23781082  0.15202506  0.55844001  0.28037579 -0.32623436 -0.30510235\n",
      "  -0.24151572 -0.34565344 -0.37375644  0.11336776]\n",
      " [-0.04402763  0.23530846  0.35913824  0.17449596  0.57996179 -0.01780972\n",
      "   0.3624344   0.42279592 -0.36559032  0.05308627]\n",
      " [ 0.11214372  0.03808797 -0.30120273  0.14162546 -0.05964664 -0.45206131\n",
      "   0.46745415 -0.10065712  0.15077631  0.64490027]\n",
      " [-0.54093874 -0.01986467  0.0753324   0.28897798 -0.38030317 -0.27899005\n",
      "  -0.20186958  0.57599425  0.14613449  0.03828162]]\n"
     ]
    }
   ],
   "source": [
    "# 90% variance preservation\n",
    "\n",
    "print(\"Shape of project data :\", x_train_pca_2.shape)\n",
    "print(\"\\nEigenvalues (explained variance):\", pca_2.explained_variance_)\n",
    "print(\"\\nExplained variance ratio:\", pca_2.explained_variance_ratio_)\n",
    "print(\"\\nPrincipal components (eigenvectors):\\n\", pca_2.components_)"
   ]
  },
  {
   "cell_type": "code",
   "execution_count": 36,
   "id": "aa680685",
   "metadata": {},
   "outputs": [
    {
     "name": "stdout",
     "output_type": "stream",
     "text": [
      "First 5 rows of trained pca data\n",
      " [[-0.09473982  1.10564816  0.63397079 -0.40339529 -1.58406548 -0.48299743\n",
      "   0.45762843  1.77028701  1.03907806]\n",
      " [-0.60674956  0.33493593 -1.91014519 -2.13014602  1.04255536  0.8892883\n",
      "   0.21921542 -0.42550467  0.83520513]\n",
      " [-3.03650065 -0.31539983 -1.43249908  0.06824544  1.21952772 -0.51610861\n",
      "  -0.31611041  0.48064887 -0.80669608]\n",
      " [ 1.30090168  0.70318887 -2.31861212  0.79115196  1.07139747  1.2777731\n",
      "   0.12430909  0.41234314  0.25648685]\n",
      " [ 2.14895546  0.01713505 -1.16804283  1.26331944  1.53941271 -0.70014219\n",
      "   1.00929085 -0.76311393 -0.8743965 ]]\n"
     ]
    }
   ],
   "source": [
    "print(\"First 5 rows of trained pca data\\n\", x_train_pca_2[:5, :])"
   ]
  },
  {
   "cell_type": "markdown",
   "id": "f7ddfce2",
   "metadata": {},
   "source": [
    "#### **Explain variance plot**"
   ]
  },
  {
   "cell_type": "code",
   "execution_count": 37,
   "id": "c99b09f6",
   "metadata": {},
   "outputs": [
    {
     "data": {
      "image/png": "[encoded data removed]",
      "text/plain": [
       "<Figure size 600x400 with 1 Axes>"
      ]
     },
     "metadata": {},
     "output_type": "display_data"
    }
   ],
   "source": [
    "import matplotlib.pyplot as plt\n",
    "import seaborn as sns\n",
    "\n",
    "\n",
    "plt.figure(figsize=(6, 4))\n",
    "plt.plot(np.cumsum(pca_2.explained_variance_ratio_), marker = 'o')\n",
    "plt.xlabel(\"Number of Components\")\n",
    "plt.ylabel(\"Cummulative explained Variance\")\n",
    "plt.title(\"Explained variance by PCA Components\")\n",
    "plt.grid(True)\n",
    "plt.show()"
   ]
  },
  {
   "cell_type": "markdown",
   "id": "7d07f3a1",
   "metadata": {},
   "source": [
    "Based on the above chart, we can select the no' of pc's we want"
   ]
  },
  {
   "cell_type": "markdown",
   "id": "fd999e12",
   "metadata": {},
   "source": [
    "#### **Scatter plot of first 2 principal components**"
   ]
  },
  {
   "cell_type": "code",
   "execution_count": 39,
   "id": "bd8bc23b",
   "metadata": {},
   "outputs": [
    {
     "data": {
      "image/png": "[encoded data removed]",
      "text/plain": [
       "<Figure size 600x500 with 1 Axes>"
      ]
     },
     "metadata": {},
     "output_type": "display_data"
    }
   ],
   "source": [
    "plt.figure(figsize=(6, 5))\n",
    "sns.scatterplot(x=x_train_pca_1[:, 0], y=x_train_pca_1[:, 1], alpha=0.7, edgecolor='k')\n",
    "plt.xlabel('PC1')\n",
    "plt.ylabel(\"PC2\")\n",
    "plt.title(\"Data projected on first 2 PCs\")\n",
    "plt.grid(True)\n",
    "plt.show()"
   ]
  },
  {
   "cell_type": "markdown",
   "id": "9ef4f43f",
   "metadata": {},
   "source": [
    "We can observe that, there is no correlation between the projected components"
   ]
  },
  {
   "cell_type": "code",
   "execution_count": null,
   "id": "9ccd0247",
   "metadata": {},
   "outputs": [],
   "source": []
  }
 ],
 "metadata": {
  "kernelspec": {
   "display_name": "training_venv (3.12.10)",
   "language": "python",
   "name": "python3"
  },
  "language_info": {
   "codemirror_mode": {
    "name": "ipython",
    "version": 3
   },
   "file_extension": ".py",
   "mimetype": "text/x-python",
   "name": "python",
   "nbconvert_exporter": "python",
   "pygments_lexer": "ipython3",
   "version": "3.12.10"
  }
 },
 "nbformat": 4,
 "nbformat_minor": 5
}
