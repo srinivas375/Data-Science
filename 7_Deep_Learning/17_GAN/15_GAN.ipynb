{
  "nbformat": 4,
  "nbformat_minor": 0,
  "metadata": {
    "colab": {
      "provenance": []
    },
    "kernelspec": {
      "name": "python3",
      "display_name": "Python 3"
    },
    "language_info": {
      "name": "python"
    }
  },
  "cells": [
    {
      "cell_type": "code",
      "execution_count": null,
      "metadata": {
        "id": "PNlCpXelY_XH"
      },
      "outputs": [],
      "source": []
    },
    {
      "cell_type": "markdown",
      "source": [
        "### **GAN**"
      ],
      "metadata": {
        "id": "ADkc3DSkMsSp"
      }
    },
    {
      "cell_type": "code",
      "source": [
        "import os\n",
        "import numpy as np\n",
        "import matplotlib.pyplot as plt\n",
        "from tensorflow import keras\n",
        "from tensorflow.keras import layers"
      ],
      "metadata": {
        "id": "zgGsTvWRMvmH"
      },
      "execution_count": null,
      "outputs": []
    },
    {
      "cell_type": "code",
      "source": [
        "latent_dim = 100\n",
        "img_shape = (32, 32, 3)\n",
        "save_interval = 2000  # Save plots every N iterations\n",
        "output_dir = \"gan_training\"\n",
        "os.makedirs(output_dir, exist_ok=True)"
      ],
      "metadata": {
        "id": "3UyhZvsONc3O"
      },
      "execution_count": null,
      "outputs": []
    },
    {
      "cell_type": "code",
      "source": [
        "def build_generator():\n",
        "    inputs = keras.Input(shape=(latent_dim,))\n",
        "\n",
        "    x = layers.Dense(8*8*256, use_bias=False)(inputs)\n",
        "    x = layers.BatchNormalization()(x)\n",
        "    x = layers.LeakyReLU(negative_slope=0.2)(x)\n",
        "\n",
        "    x = layers.Reshape((8, 8, 256))(x)\n",
        "\n",
        "    x = layers.Conv2DTranspose(128, kernel_size=4, strides=2, padding=\"same\", use_bias=False)(x)\n",
        "    x = layers.BatchNormalization()(x)\n",
        "    x = layers.LeakyReLU(negative_slope=0.2)(x)\n",
        "\n",
        "    x = layers.Conv2DTranspose(64, kernel_size=4, strides=2, padding=\"same\", use_bias=False)(x)\n",
        "    x = layers.BatchNormalization()(x)\n",
        "    x = layers.LeakyReLU(negative_slope=0.2)(x)\n",
        "\n",
        "    outputs = layers.Conv2DTranspose(3, kernel_size=3, strides=1, padding=\"same\", activation=\"tanh\")(x)\n",
        "\n",
        "    return keras.Model(inputs, outputs, name=\"generator\")"
      ],
      "metadata": {
        "id": "IdPN4wQNNtkh"
      },
      "execution_count": null,
      "outputs": []
    },
    {
      "cell_type": "code",
      "source": [
        "def build_discriminator():\n",
        "    inputs = keras.Input(shape=img_shape)\n",
        "\n",
        "    x = layers.Conv2D(64, kernel_size=3, strides=2, padding=\"same\")(inputs)\n",
        "    x = layers.LeakyReLU(negative_slope=0.2)(x)\n",
        "    x = layers.Dropout(0.3)(x)\n",
        "\n",
        "    x = layers.Conv2D(128, kernel_size=3, strides=2, padding=\"same\")(x)\n",
        "    x = layers.LeakyReLU(negative_slope=0.2)(x)\n",
        "    x = layers.Dropout(0.3)(x)\n",
        "\n",
        "    x = layers.Flatten()(x)\n",
        "    outputs = layers.Dense(1, activation=\"sigmoid\")(x)\n",
        "\n",
        "    return keras.Model(inputs, outputs, name=\"discriminator\")\n"
      ],
      "metadata": {
        "id": "DRIoXnlMN0Io"
      },
      "execution_count": null,
      "outputs": []
    },
    {
      "cell_type": "code",
      "source": [
        "import tensorflow as tf\n",
        "\n",
        "(x_train, _), (_, _) = keras.datasets.cifar10.load_data()\n",
        "x_train = (x_train.astype(\"float32\") - 127.5) / 127.5  # Normalize to [-1, 1]\n",
        "\n",
        "batch_size = 128\n",
        "dataset = tf.data.Dataset.from_tensor_slices(x_train).shuffle(60000).batch(batch_size)"
      ],
      "metadata": {
        "id": "Z2PTT3cCN22Y"
      },
      "execution_count": null,
      "outputs": []
    },
    {
      "cell_type": "code",
      "source": [
        "generator = build_generator()\n",
        "discriminator = build_discriminator()\n",
        "\n",
        "cross_entropy = keras.losses.BinaryCrossentropy(from_logits=False)\n",
        "\n",
        "generator_optimizer = keras.optimizers.Adam(1e-4)\n",
        "discriminator_optimizer = keras.optimizers.Adam(1e-4)"
      ],
      "metadata": {
        "id": "f1itIUtcOJBA"
      },
      "execution_count": null,
      "outputs": []
    },
    {
      "cell_type": "code",
      "source": [
        "@tf.function\n",
        "def train_step(images):\n",
        "    noise = tf.random.normal([batch_size, latent_dim])\n",
        "\n",
        "    # Train Discriminator\n",
        "    with tf.GradientTape() as disc_tape, tf.GradientTape() as gen_tape:\n",
        "        generated_images = generator(noise, training=True)\n",
        "\n",
        "        real_output = discriminator(images, training=True)\n",
        "        fake_output = discriminator(generated_images, training=True)\n",
        "\n",
        "        disc_loss_real = cross_entropy(tf.ones_like(real_output), real_output)\n",
        "        disc_loss_fake = cross_entropy(tf.zeros_like(fake_output), fake_output)\n",
        "        disc_loss = disc_loss_real + disc_loss_fake\n",
        "\n",
        "        gen_loss = cross_entropy(tf.ones_like(fake_output), fake_output)\n",
        "\n",
        "    gradients_of_generator = gen_tape.gradient(gen_loss, generator.trainable_variables)\n",
        "    gradients_of_discriminator = disc_tape.gradient(disc_loss, discriminator.trainable_variables)\n",
        "\n",
        "    generator_optimizer.apply_gradients(zip(gradients_of_generator, generator.trainable_variables))\n",
        "    discriminator_optimizer.apply_gradients(zip(gradients_of_discriminator, discriminator.trainable_variables))\n",
        "\n",
        "    return gen_loss, disc_loss"
      ],
      "metadata": {
        "id": "Omo-COJKPXXh"
      },
      "execution_count": null,
      "outputs": []
    },
    {
      "cell_type": "code",
      "source": [
        "\n",
        "def generate_and_save_images(model, epoch, test_input):\n",
        "    predictions = model(test_input, training=False)\n",
        "    predictions = (predictions + 1) / 2.0  # Rescale to [0,1]\n",
        "\n",
        "    fig = plt.figure(figsize=(4,4))\n",
        "    for i in range(16):\n",
        "        plt.subplot(4, 4, i+1)\n",
        "        plt.imshow(predictions[i])\n",
        "        plt.axis(\"off\")\n",
        "    plt.savefig(os.path.join(output_dir, f\"image_at_epoch_{epoch}.png\"))\n",
        "    plt.close()"
      ],
      "metadata": {
        "id": "lxx8j6-HPcJX"
      },
      "execution_count": null,
      "outputs": []
    },
    {
      "cell_type": "code",
      "source": [
        "def train(dataset, epochs):\n",
        "    seed = tf.random.normal([16, latent_dim])  # Fixed seed for progress images\n",
        "\n",
        "    for epoch in range(1, epochs+1):\n",
        "        for image_batch in dataset:\n",
        "            g_loss, d_loss = train_step(image_batch)\n",
        "\n",
        "        if epoch % (save_interval // (len(x_train)//batch_size)) == 0:\n",
        "            print(f\"Epoch {epoch}, Gen Loss: {g_loss.numpy()}, Disc Loss: {d_loss.numpy()}\")\n",
        "            generate_and_save_images(generator, epoch, seed)"
      ],
      "metadata": {
        "id": "Lfi9nHb6PgSF"
      },
      "execution_count": null,
      "outputs": []
    },
    {
      "cell_type": "code",
      "source": [
        "train(dataset, epochs=50000 // (len(x_train)//batch_size))"
      ],
      "metadata": {
        "colab": {
          "base_uri": "https://localhost:8080/"
        },
        "id": "sK7S6AatPkcr",
        "outputId": "206e3124-495f-4a46-f993-abf8656516ed"
      },
      "execution_count": null,
      "outputs": [
        {
          "output_type": "stream",
          "name": "stdout",
          "text": [
            "Epoch 5, Gen Loss: 1.1570985317230225, Disc Loss: 0.9384942054748535\n",
            "Epoch 10, Gen Loss: 0.8465421795845032, Disc Loss: 1.0192627906799316\n",
            "Epoch 15, Gen Loss: 0.7267230749130249, Disc Loss: 1.447047472000122\n",
            "Epoch 20, Gen Loss: 0.7438039779663086, Disc Loss: 1.334213376045227\n",
            "Epoch 25, Gen Loss: 0.6656217575073242, Disc Loss: 1.5301166772842407\n",
            "Epoch 30, Gen Loss: 0.6746082901954651, Disc Loss: 1.4111839532852173\n",
            "Epoch 35, Gen Loss: 0.7226025462150574, Disc Loss: 1.3679320812225342\n",
            "Epoch 40, Gen Loss: 1.234715223312378, Disc Loss: 1.1158130168914795\n",
            "Epoch 45, Gen Loss: 0.848253607749939, Disc Loss: 1.2295618057250977\n",
            "Epoch 50, Gen Loss: 0.7357770800590515, Disc Loss: 1.512691617012024\n",
            "Epoch 55, Gen Loss: 0.7489485740661621, Disc Loss: 1.429765224456787\n",
            "Epoch 60, Gen Loss: 0.8489645719528198, Disc Loss: 1.1015965938568115\n",
            "Epoch 65, Gen Loss: 1.0640161037445068, Disc Loss: 0.9500246047973633\n",
            "Epoch 70, Gen Loss: 0.7002219557762146, Disc Loss: 1.8414229154586792\n",
            "Epoch 75, Gen Loss: 0.7594372034072876, Disc Loss: 1.3101482391357422\n",
            "Epoch 80, Gen Loss: 0.8053847551345825, Disc Loss: 1.3194358348846436\n",
            "Epoch 85, Gen Loss: 0.836164653301239, Disc Loss: 1.3296644687652588\n",
            "Epoch 90, Gen Loss: 0.9438251256942749, Disc Loss: 1.1146008968353271\n",
            "Epoch 95, Gen Loss: 1.2847270965576172, Disc Loss: 0.8108214139938354\n",
            "Epoch 100, Gen Loss: 1.110182523727417, Disc Loss: 1.0265185832977295\n",
            "Epoch 105, Gen Loss: 1.1656863689422607, Disc Loss: 1.0514980554580688\n",
            "Epoch 110, Gen Loss: 0.8278489112854004, Disc Loss: 1.5841808319091797\n",
            "Epoch 115, Gen Loss: 1.031738519668579, Disc Loss: 1.142913818359375\n",
            "Epoch 120, Gen Loss: 0.9003854990005493, Disc Loss: 1.2559750080108643\n",
            "Epoch 125, Gen Loss: 1.1114475727081299, Disc Loss: 1.18880295753479\n"
          ]
        }
      ]
    },
    {
      "cell_type": "code",
      "source": [
        "def generate_random_image():\n",
        "    noise = tf.random.normal([1, latent_dim])\n",
        "    prediction = generator(noise, training=False)\n",
        "    img = (prediction[0].numpy() + 1) / 2.0\n",
        "    plt.figure(figsize=(1, 1))\n",
        "    plt.imshow(img)\n",
        "    plt.axis(\"off\")\n",
        "    plt.show()"
      ],
      "metadata": {
        "id": "ZTJfnGboPquD"
      },
      "execution_count": null,
      "outputs": []
    },
    {
      "cell_type": "code",
      "source": [
        "# generating images\n",
        "\n",
        "generate_random_image()"
      ],
      "metadata": {
        "colab": {
          "base_uri": "https://localhost:8080/",
          "height": 114
        },
        "id": "tt3OGL8TPtdr",
        "outputId": "2c736272-b1e2-4f7a-b985-f1995ca3b054"
      },
      "execution_count": null,
      "outputs": [
        {
          "output_type": "display_data",
          "data": {
            "text/plain": [
              "<Figure size 100x100 with 1 Axes>"
            ],
            "image/png": "[encoded data removed]"
          },
          "metadata": {}
        }
      ]
    },
    {
      "cell_type": "code",
      "source": [],
      "metadata": {
        "id": "uR6AhsxVYDuB"
      },
      "execution_count": null,
      "outputs": []
    }
  ]
}