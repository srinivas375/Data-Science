{
  "nbformat": 4,
  "nbformat_minor": 0,
  "metadata": {
    "colab": {
      "provenance": []
    },
    "kernelspec": {
      "name": "python3",
      "display_name": "Python 3"
    },
    "language_info": {
      "name": "python"
    }
  },
  "cells": [
    {
      "cell_type": "markdown",
      "source": [
        "# **Question Answering task**"
      ],
      "metadata": {
        "id": "VhVboADA2jZV"
      }
    },
    {
      "cell_type": "markdown",
      "source": [
        "**Question Answering (QA)** is a Natural Language Processing (NLP) task where a system automatically answers questions posed in natural language.  \n",
        "Deep learning models learn to **understand, interpret, and extract** the correct answer from a given context or knowledge base."
      ],
      "metadata": {
        "id": "EUpfNaib2shg"
      }
    },
    {
      "cell_type": "markdown",
      "source": [
        "**Types of Question Answering Systems**\n",
        "\n",
        "1. **Extractive QA**\n",
        "   - The model selects a **span of text** directly from a given passage as the answer.\n",
        "   - Example:\n",
        "     - **Context:** \"The Eiffel Tower is located in Paris, France.\"\n",
        "     - **Question:** \"Where is the Eiffel Tower located?\"\n",
        "     - **Answer:** \"Paris, France\"\n",
        "\n",
        "2. **Abstractive QA**\n",
        "   - The model **generates a new sentence** that answers the question, possibly rephrasing or summarizing the context.\n",
        "   - Example:\n",
        "     - **Context:** \"The Eiffel Tower stands in the capital city of France.\"\n",
        "     - **Question:** \"Where is the Eiffel Tower?\"\n",
        "     - **Answer:** \"It is in Paris.\""
      ],
      "metadata": {
        "id": "6PWfv5i631hc"
      }
    },
    {
      "cell_type": "markdown",
      "source": [
        "## **Implementing Extractive QA**"
      ],
      "metadata": {
        "id": "e6b8NQZ52oPi"
      }
    },
    {
      "cell_type": "markdown",
      "source": [
        "Using a Pretrined model  \n",
        "`distilbert-base-cased-distilled-squad`"
      ],
      "metadata": {
        "id": "U_ihyc2H5vVR"
      }
    },
    {
      "cell_type": "code",
      "execution_count": null,
      "metadata": {
        "id": "uZchOJoh2Mp-"
      },
      "outputs": [],
      "source": [
        "# loading the libraries\n",
        "\n",
        "from transformers import pipeline"
      ]
    },
    {
      "cell_type": "code",
      "source": [
        "# function to implement the Extractive QA\n",
        "\n",
        "def extractive_qa_pipeline(question: str, context: str):\n",
        "    try:\n",
        "        qa_pipeline = pipeline(\n",
        "            \"question-answering\",\n",
        "            model=\"distilbert-base-cased-distilled-squad\",\n",
        "            tokenizer=\"distilbert-base-cased-distilled-squad\"\n",
        "        )\n",
        "    except Exception as e:\n",
        "        print(f\"Error loading pipeline: {e}\")\n",
        "        return {\"answer\": \"Error loading model.\", \"score\": 0.0}\n",
        "\n",
        "    # Run the QA model\n",
        "    result = qa_pipeline(\n",
        "        question=question,\n",
        "        context=context\n",
        "    )\n",
        "\n",
        "    return result"
      ],
      "metadata": {
        "id": "ATJVyU3z58Dh"
      },
      "execution_count": null,
      "outputs": []
    },
    {
      "cell_type": "code",
      "source": [
        "context_text = \"\"\"\n",
        "The Eiffel Tower is a wrought-iron lattice tower on the Champ de Mars in Paris,\n",
        "France. It is named after the engineer Gustave Eiffel, whose company designed and\n",
        "built the tower. Constructed from 1887 to 1889, it was originally built as the\n",
        "entrance to the 1889 World's Fair. It is the most-visited paid monument in the world.\n",
        "\"\"\"\n",
        "\n",
        "question_text = \"Who designed the Eiffel Tower?\""
      ],
      "metadata": {
        "id": "1M2DDSXd6bEp"
      },
      "execution_count": null,
      "outputs": []
    },
    {
      "cell_type": "code",
      "source": [
        "answer_data = extractive_qa_pipeline(question_text, context_text)"
      ],
      "metadata": {
        "colab": {
          "base_uri": "https://localhost:8080/"
        },
        "id": "TKKWGSyo6ixk",
        "outputId": "e8531b16-10da-42f8-d1ab-b3c1dea0f570"
      },
      "execution_count": null,
      "outputs": [
        {
          "output_type": "stream",
          "name": "stderr",
          "text": [
            "Device set to use cpu\n"
          ]
        }
      ]
    },
    {
      "cell_type": "code",
      "source": [
        "print(f\"Context: {context_text}\\n\")\n",
        "print(f\"Question: {question_text}\\n\")\n",
        "print(\"--- Model Output ---\")\n",
        "print(f\"Answer: {answer_data['answer']}\")\n",
        "print(f\"Confidence Score: {answer_data['score']:.4f}\")\n",
        "print(f\"Start Index: {answer_data['start']}\")\n",
        "print(f\"End Index: {answer_data['end']}\")"
      ],
      "metadata": {
        "colab": {
          "base_uri": "https://localhost:8080/"
        },
        "id": "e_VcxEzt6rhc",
        "outputId": "2ef3858c-42df-4873-fdb1-ea9c9906c05d"
      },
      "execution_count": null,
      "outputs": [
        {
          "output_type": "stream",
          "name": "stdout",
          "text": [
            "Context: \n",
            "The Eiffel Tower is a wrought-iron lattice tower on the Champ de Mars in Paris, \n",
            "France. It is named after the engineer Gustave Eiffel, whose company designed and \n",
            "built the tower. Constructed from 1887 to 1889, it was originally built as the \n",
            "entrance to the 1889 World's Fair. It is the most-visited paid monument in the world.\n",
            "\n",
            "\n",
            "Question: Who designed the Eiffel Tower and what is it made of?\n",
            "\n",
            "--- Model Output ---\n",
            "Answer: Gustave Eiffel\n",
            "Confidence Score: 0.8787\n",
            "Start Index: 121\n",
            "End Index: 135\n"
          ]
        }
      ]
    },
    {
      "cell_type": "markdown",
      "source": [
        "## **Implementing Abstractive QA**"
      ],
      "metadata": {
        "id": "LCnBhl_D7TWX"
      }
    },
    {
      "cell_type": "code",
      "source": [
        "from transformers import pipeline"
      ],
      "metadata": {
        "id": "wouWT47A65pp"
      },
      "execution_count": null,
      "outputs": []
    },
    {
      "cell_type": "code",
      "source": [
        "def abstractive_qa_pipeline(question: str, context: str):\n",
        "    try:\n",
        "        generator = pipeline(\n",
        "            \"text2text-generation\",\n",
        "            model=\"google/flan-t5-base\",\n",
        "            tokenizer=\"google/flan-t5-base\"\n",
        "        )\n",
        "    except Exception as e:\n",
        "        print(f\"Error loading pipeline: {e}\")\n",
        "        return \"Error loading model.\"\n",
        "\n",
        "    input_text = f\"question: {question} context: {context}\"\n",
        "\n",
        "    generated_text = generator(\n",
        "        input_text,\n",
        "        max_length=50,      # Max tokens for the answer\n",
        "        min_length=10,      # Min tokens for the answer\n",
        "        num_beams=4,        # Use Beam Search for quality\n",
        "        do_sample=False,    # Do not sample (for consistent, best-likelihood output)\n",
        "        temperature=1.0\n",
        "    )\n",
        "\n",
        "    return generated_text[0]['generated_text']"
      ],
      "metadata": {
        "id": "Q3LVZ6sH8rNk"
      },
      "execution_count": null,
      "outputs": []
    },
    {
      "cell_type": "code",
      "source": [
        "context_text = \"\"\"\n",
        "Before the iPhone, mobile phones primarily featured physical keypads and\n",
        "small, non-touch displays. They were mainly used for calls and SMS. The iPhone\n",
        "launched in 2007, introducing a multi-touch screen, a web browser, and a\n",
        "unified operating system, which fundamentally changed mobile computing.\n",
        "\"\"\""
      ],
      "metadata": {
        "id": "syJKmCbG9S9Q"
      },
      "execution_count": null,
      "outputs": []
    },
    {
      "cell_type": "code",
      "source": [
        "question_text = \"What was the main difference between pre-iPhone phones and the iPhone?\""
      ],
      "metadata": {
        "id": "UCi9P7uX9Xq0"
      },
      "execution_count": null,
      "outputs": []
    },
    {
      "cell_type": "code",
      "source": [
        "answer = abstractive_qa_pipeline(question_text, context_text)"
      ],
      "metadata": {
        "colab": {
          "base_uri": "https://localhost:8080/"
        },
        "id": "fzydnNm39adG",
        "outputId": "292d0bb5-cd12-4a2e-e49c-0f8b768062c6"
      },
      "execution_count": null,
      "outputs": [
        {
          "output_type": "stream",
          "name": "stderr",
          "text": [
            "Device set to use cpu\n",
            "Both `max_new_tokens` (=256) and `max_length`(=50) seem to have been set. `max_new_tokens` will take precedence. Please refer to the documentation for more information. (https://huggingface.co/docs/transformers/main/en/main_classes/text_generation)\n"
          ]
        }
      ]
    },
    {
      "cell_type": "code",
      "source": [
        "print(f\"Context: {context_text}\\n\")\n",
        "print(f\"Question: {question_text}\\n\")\n",
        "print(\"--- Abstractive Model Output ---\")\n",
        "print(f\"Answer: {answer}\")"
      ],
      "metadata": {
        "colab": {
          "base_uri": "https://localhost:8080/"
        },
        "id": "GdPDSFn-9daa",
        "outputId": "49d7dd87-b10c-45af-e0a0-4d86ce67a42c"
      },
      "execution_count": null,
      "outputs": [
        {
          "output_type": "stream",
          "name": "stdout",
          "text": [
            "Context: \n",
            "Before the iPhone, mobile phones primarily featured physical keypads and \n",
            "small, non-touch displays. They were mainly used for calls and SMS. The iPhone \n",
            "launched in 2007, introducing a multi-touch screen, a web browser, and a \n",
            "unified operating system, which fundamentally changed mobile computing.\n",
            "\n",
            "\n",
            "Question: What was the main difference between pre-iPhone phones and the iPhone?\n",
            "\n",
            "--- Abstractive Model Output ---\n",
            "Answer: primarily featured physical keypads and small, non-touch displays\n"
          ]
        }
      ]
    }
  ]
}