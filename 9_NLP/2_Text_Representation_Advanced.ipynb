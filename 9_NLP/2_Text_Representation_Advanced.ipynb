{
  "cells": [
    {
      "cell_type": "markdown",
      "metadata": {
        "id": "VROyOQmfAhi_"
      },
      "source": [
        "# **Advanced Text Representation Techniques**\n",
        "\n",
        "These methods use **neural networks** and **embedding models** to capture **semantic meaning** and **context** of words.  \n",
        "They represent words as **dense vectors** where similar words have similar vector values.\n",
        "\n",
        "#### **Key Characteristics**\n",
        "- Capture **semantic relationships** between words  \n",
        "- Lower-dimensional and dense representations  \n",
        "- Useful for deep learning and modern NLP tasks  \n",
        "- Require more computational resources  \n",
        "\n",
        "#### **Common Advanced Techniques**\n",
        "- **Word2Vec**, **GloVe**, **FastText** → Static word embeddings  \n",
        "- **BERT**, **GPT**, **ELMo**, **T5** → Contextual embeddings (understand word meaning in context)"
      ]
    },
    {
      "cell_type": "markdown",
      "metadata": {
        "id": "1ylmw0l9gUFL"
      },
      "source": [
        "## **Word2Vec**"
      ]
    },
    {
      "cell_type": "markdown",
      "metadata": {
        "id": "qeedEuqzg87U"
      },
      "source": [
        "**Word2Vec** is a neural network-based model developed by **Tomas Mikolov (Google, 2013)** that learns to represent words as **dense, continuous vectors** (embeddings).  \n",
        "Unlike Bag of Words or TF–IDF (which are sparse and count-based), Word2Vec captures **semantic relationships** between words — i.e., words with similar meanings have **similar vector representations**."
      ]
    },
    {
      "cell_type": "markdown",
      "metadata": {
        "id": "FRgkYwUfhES5"
      },
      "source": [
        "The main intuition behind Word2Vec:\n",
        "> “You shall know a word by the company it keeps.” — *J.R. Firth (1957)*\n",
        "\n",
        "This means words appearing in similar **contexts** tend to have **similar meanings**."
      ]
    },
    {
      "cell_type": "markdown",
      "metadata": {
        "id": "O2iklbfRhUI2"
      },
      "source": [
        "Word2Vec captures analogical relationships:  \n",
        "vec(\"king\") - vec(\"man\") + vec(\"woman\") ≈ vec(\"queen\")  \n",
        "\n",
        "This shows that vector differences encode **semantic meaning** (e.g., gender, tense, relationships).\n"
      ]
    },
    {
      "cell_type": "markdown",
      "metadata": {
        "id": "ZJ7S8qFYhl3m"
      },
      "source": [
        "### Architecture\n",
        "\n",
        "Word2Vec uses a **shallow, two-layer neural network** to learn embeddings from large corpora.  \n",
        "There are **two main training architectures**:\n",
        "\n",
        "1. **CBOW (Continuous Bag of Words)**\n",
        "- Predicts a **target word** from its **context words**.\n",
        "- Example:  \n",
        "  Input: “the ___ is barking” → Output: “dog”\n",
        "- **Faster** and works well for **small datasets**.\n",
        "\n",
        "2. **Skip-Gram**\n",
        "- Predicts **context words** from a **target word**.\n",
        "- Example:  \n",
        "  Input: “dog” → Output: “the”, “is”, “barking”\n",
        "- **Better for rare words** and large datasets.\n",
        "\n",
        "| Model | Predicts | Best For | Speed |\n",
        "|--------|-----------|-----------|--------|\n",
        "| **CBOW** | Target from context | Frequent words | Faster |\n",
        "| **Skip-Gram** | Context from target | Rare words | Slower but better quality |"
      ]
    },
    {
      "cell_type": "markdown",
      "metadata": {
        "id": "ottkqL1tiNgw"
      },
      "source": [
        "### Output — Word Embeddings\n",
        "\n",
        "Each word is represented as a **dense vector** (e.g., 100 or 300 dimensions) in continuous space.  \n",
        "Words with **similar meanings** or **grammatical roles** are **closer together** in this space."
      ]
    },
    {
      "cell_type": "markdown",
      "metadata": {
        "id": "tLRtvPhfiS6d"
      },
      "source": [
        " * **Advantages**\n",
        "    - Captures **semantic and syntactic relationships**  \n",
        "    - Produces **dense**, low-dimensional embeddings  \n",
        "    - Enables **vector arithmetic** with meaning (e.g., “king - man + woman = queen”)\n",
        "\n",
        "* **Limitations**\n",
        "  - Requires **large datasets** to train well  \n",
        "  - Context is **static** — one vector per word (same embedding for “bank” = river bank / money bank)\n",
        "  - Replaced in modern NLP by **contextual embeddings** (e.g., BERT, GPT)"
      ]
    },
    {
      "cell_type": "markdown",
      "metadata": {
        "id": "EAJA9n97jxv6"
      },
      "source": [
        "### **Training Word2Vec using Gensim**"
      ]
    },
    {
      "cell_type": "code",
      "execution_count": 2,
      "metadata": {
        "id": "bpxJ91cRinA6"
      },
      "outputs": [],
      "source": [
        "# importing libraries\n",
        "\n",
        "import gensim\n",
        "import pandas as pd"
      ]
    },
    {
      "cell_type": "markdown",
      "metadata": {},
      "source": [
        "Dataset Download link: [Cell Phone & Accessories](https://drive.google.com/file/d/1nQODzlRM1S1bgKgOCz9IFFXEbFtfeqKm/view?usp=drive_link)"
      ]
    },
    {
      "cell_type": "code",
      "execution_count": 3,
      "metadata": {
        "colab": {
          "base_uri": "https://localhost:8080/",
          "height": 381
        },
        "id": "gvMv75n5i6f9",
        "outputId": "9f20a666-c963-4dd3-fbeb-6c1af3b731df"
      },
      "outputs": [
        {
          "name": "stdout",
          "output_type": "stream",
          "text": [
            "Shape of the data is: (194439, 9)\n"
          ]
        },
        {
          "data": {
            "text/html": [
              "<div>\n",
              "<style scoped>\n",
              "    .dataframe tbody tr th:only-of-type {\n",
              "        vertical-align: middle;\n",
              "    }\n",
              "\n",
              "    .dataframe tbody tr th {\n",
              "        vertical-align: top;\n",
              "    }\n",
              "\n",
              "    .dataframe thead th {\n",
              "        text-align: right;\n",
              "    }\n",
              "</style>\n",
              "<table border=\"1\" class=\"dataframe\">\n",
              "  <thead>\n",
              "    <tr style=\"text-align: right;\">\n",
              "      <th></th>\n",
              "      <th>reviewerID</th>\n",
              "      <th>asin</th>\n",
              "      <th>reviewerName</th>\n",
              "      <th>helpful</th>\n",
              "      <th>reviewText</th>\n",
              "      <th>overall</th>\n",
              "      <th>summary</th>\n",
              "      <th>unixReviewTime</th>\n",
              "      <th>reviewTime</th>\n",
              "    </tr>\n",
              "  </thead>\n",
              "  <tbody>\n",
              "    <tr>\n",
              "      <th>0</th>\n",
              "      <td>A30TL5EWN6DFXT</td>\n",
              "      <td>120401325X</td>\n",
              "      <td>christina</td>\n",
              "      <td>[0, 0]</td>\n",
              "      <td>They look good and stick good! I just don't li...</td>\n",
              "      <td>4</td>\n",
              "      <td>Looks Good</td>\n",
              "      <td>1400630400</td>\n",
              "      <td>05 21, 2014</td>\n",
              "    </tr>\n",
              "    <tr>\n",
              "      <th>1</th>\n",
              "      <td>ASY55RVNIL0UD</td>\n",
              "      <td>120401325X</td>\n",
              "      <td>emily l.</td>\n",
              "      <td>[0, 0]</td>\n",
              "      <td>These stickers work like the review says they ...</td>\n",
              "      <td>5</td>\n",
              "      <td>Really great product.</td>\n",
              "      <td>1389657600</td>\n",
              "      <td>01 14, 2014</td>\n",
              "    </tr>\n",
              "    <tr>\n",
              "      <th>2</th>\n",
              "      <td>A2TMXE2AFO7ONB</td>\n",
              "      <td>120401325X</td>\n",
              "      <td>Erica</td>\n",
              "      <td>[0, 0]</td>\n",
              "      <td>These are awesome and make my phone look so st...</td>\n",
              "      <td>5</td>\n",
              "      <td>LOVE LOVE LOVE</td>\n",
              "      <td>1403740800</td>\n",
              "      <td>06 26, 2014</td>\n",
              "    </tr>\n",
              "    <tr>\n",
              "      <th>3</th>\n",
              "      <td>AWJ0WZQYMYFQ4</td>\n",
              "      <td>120401325X</td>\n",
              "      <td>JM</td>\n",
              "      <td>[4, 4]</td>\n",
              "      <td>Item arrived in great time and was in perfect ...</td>\n",
              "      <td>4</td>\n",
              "      <td>Cute!</td>\n",
              "      <td>1382313600</td>\n",
              "      <td>10 21, 2013</td>\n",
              "    </tr>\n",
              "    <tr>\n",
              "      <th>4</th>\n",
              "      <td>ATX7CZYFXI1KW</td>\n",
              "      <td>120401325X</td>\n",
              "      <td>patrice m rogoza</td>\n",
              "      <td>[2, 3]</td>\n",
              "      <td>awesome! stays on, and looks great. can be use...</td>\n",
              "      <td>5</td>\n",
              "      <td>leopard home button sticker for iphone 4s</td>\n",
              "      <td>1359849600</td>\n",
              "      <td>02 3, 2013</td>\n",
              "    </tr>\n",
              "  </tbody>\n",
              "</table>\n",
              "</div>"
            ],
            "text/plain": [
              "       reviewerID        asin      reviewerName helpful  \\\n",
              "0  A30TL5EWN6DFXT  120401325X         christina  [0, 0]   \n",
              "1   ASY55RVNIL0UD  120401325X          emily l.  [0, 0]   \n",
              "2  A2TMXE2AFO7ONB  120401325X             Erica  [0, 0]   \n",
              "3   AWJ0WZQYMYFQ4  120401325X                JM  [4, 4]   \n",
              "4   ATX7CZYFXI1KW  120401325X  patrice m rogoza  [2, 3]   \n",
              "\n",
              "                                          reviewText  overall  \\\n",
              "0  They look good and stick good! I just don't li...        4   \n",
              "1  These stickers work like the review says they ...        5   \n",
              "2  These are awesome and make my phone look so st...        5   \n",
              "3  Item arrived in great time and was in perfect ...        4   \n",
              "4  awesome! stays on, and looks great. can be use...        5   \n",
              "\n",
              "                                     summary  unixReviewTime   reviewTime  \n",
              "0                                 Looks Good      1400630400  05 21, 2014  \n",
              "1                      Really great product.      1389657600  01 14, 2014  \n",
              "2                             LOVE LOVE LOVE      1403740800  06 26, 2014  \n",
              "3                                      Cute!      1382313600  10 21, 2013  \n",
              "4  leopard home button sticker for iphone 4s      1359849600   02 3, 2013  "
            ]
          },
          "execution_count": 3,
          "metadata": {},
          "output_type": "execute_result"
        }
      ],
      "source": [
        "# reading the data\n",
        "\n",
        "df = pd.read_json('./data/Cell_Phones_and_Accessories_5.json', lines=True)\n",
        "print(f\"Shape of the data is: {df.shape}\")\n",
        "df.head()"
      ]
    },
    {
      "cell_type": "code",
      "execution_count": 4,
      "metadata": {
        "colab": {
          "base_uri": "https://localhost:8080/",
          "height": 55
        },
        "id": "Z4EfTMI1k8CT",
        "outputId": "d373eee2-270c-4f52-e21f-9fc3adb6f13c"
      },
      "outputs": [
        {
          "data": {
            "text/plain": [
              "\"They look good and stick good! I just don't like the rounded shape because I was always bumping it and Siri kept popping up and it was irritating. I just won't buy a product like this again\""
            ]
          },
          "execution_count": 4,
          "metadata": {},
          "output_type": "execute_result"
        }
      ],
      "source": [
        "# We only deal with the Review Text\n",
        "\n",
        "df['reviewText'][0] # sample text"
      ]
    },
    {
      "cell_type": "code",
      "execution_count": 5,
      "metadata": {
        "id": "2eI0OUdwkLiw"
      },
      "outputs": [],
      "source": [
        "# simple text preprocessing and tokenization\n",
        "\n",
        "review_text = df.reviewText.apply(gensim.utils.simple_preprocess)"
      ]
    },
    {
      "cell_type": "code",
      "execution_count": 6,
      "metadata": {
        "colab": {
          "base_uri": "https://localhost:8080/",
          "height": 458
        },
        "id": "47hGe6wDk0Q3",
        "outputId": "9033abe1-7be8-48c2-a107-db1afefc30a2"
      },
      "outputs": [
        {
          "data": {
            "text/plain": [
              "0         [they, look, good, and, stick, good, just, don...\n",
              "1         [these, stickers, work, like, the, review, say...\n",
              "2         [these, are, awesome, and, make, my, phone, lo...\n",
              "3         [item, arrived, in, great, time, and, was, in,...\n",
              "4         [awesome, stays, on, and, looks, great, can, b...\n",
              "                                ...                        \n",
              "194434    [works, great, just, like, my, original, one, ...\n",
              "194435    [great, product, great, packaging, high, quali...\n",
              "194436    [this, is, great, cable, just, as, good, as, t...\n",
              "194437    [really, like, it, becasue, it, works, well, w...\n",
              "194438    [product, as, described, have, wasted, lot, of...\n",
              "Name: reviewText, Length: 194439, dtype: object"
            ]
          },
          "execution_count": 6,
          "metadata": {},
          "output_type": "execute_result"
        }
      ],
      "source": [
        "review_text"
      ]
    },
    {
      "cell_type": "code",
      "execution_count": 7,
      "metadata": {
        "colab": {
          "base_uri": "https://localhost:8080/"
        },
        "id": "MpilMDH3k1F7",
        "outputId": "b5f7f894-cfaf-4c70-f685-7871db003757"
      },
      "outputs": [
        {
          "data": {
            "text/plain": [
              "['this',\n",
              " 'is',\n",
              " 'fantastic',\n",
              " 'case',\n",
              " 'very',\n",
              " 'stylish',\n",
              " 'and',\n",
              " 'protects',\n",
              " 'my',\n",
              " 'phone',\n",
              " 'easy',\n",
              " 'access',\n",
              " 'to',\n",
              " 'all',\n",
              " 'buttons',\n",
              " 'and',\n",
              " 'features',\n",
              " 'without',\n",
              " 'any',\n",
              " 'loss',\n",
              " 'of',\n",
              " 'phone',\n",
              " 'reception',\n",
              " 'but',\n",
              " 'most',\n",
              " 'importantly',\n",
              " 'it',\n",
              " 'double',\n",
              " 'power',\n",
              " 'just',\n",
              " 'as',\n",
              " 'promised',\n",
              " 'great',\n",
              " 'buy']"
            ]
          },
          "execution_count": 7,
          "metadata": {},
          "output_type": "execute_result"
        }
      ],
      "source": [
        "review_text.loc[9]"
      ]
    },
    {
      "cell_type": "markdown",
      "metadata": {
        "id": "9b1mXTGXlOYp"
      },
      "source": [
        "Training the Word2Vec model"
      ]
    },
    {
      "cell_type": "code",
      "execution_count": 8,
      "metadata": {
        "id": "9VMm09cplIo9"
      },
      "outputs": [],
      "source": [
        "# initializing the model\n",
        "\n",
        "model = gensim.models.Word2Vec(\n",
        "    window=10,\n",
        "    min_count=2,\n",
        "    workers=4\n",
        ")"
      ]
    },
    {
      "cell_type": "code",
      "execution_count": 9,
      "metadata": {
        "id": "1foIzhM-liWf"
      },
      "outputs": [],
      "source": [
        "# building the vocabulary\n",
        "\n",
        "model.build_vocab(review_text, progress_per=1000)"
      ]
    },
    {
      "cell_type": "code",
      "execution_count": 10,
      "metadata": {
        "colab": {
          "base_uri": "https://localhost:8080/"
        },
        "id": "ZJCgu6uylsX3",
        "outputId": "965d91cc-be87-40b2-f48c-10e000a53430"
      },
      "outputs": [
        {
          "data": {
            "text/plain": [
              "(61503233, 83868975)"
            ]
          },
          "execution_count": 10,
          "metadata": {},
          "output_type": "execute_result"
        }
      ],
      "source": [
        "# training the model\n",
        "\n",
        "model.train(review_text, total_examples=model.corpus_count, epochs=model.epochs)"
      ]
    },
    {
      "cell_type": "code",
      "execution_count": 11,
      "metadata": {
        "id": "S47jT6Wdluj5"
      },
      "outputs": [],
      "source": [
        "# saving the model\n",
        "\n",
        "model.save('./amz_reviews_Word2Vec.model')"
      ]
    },
    {
      "cell_type": "code",
      "execution_count": 12,
      "metadata": {
        "colab": {
          "base_uri": "https://localhost:8080/"
        },
        "id": "7fuFTe52m83h",
        "outputId": "afeb45b7-b941-4df1-ca1f-d77e1b720284"
      },
      "outputs": [
        {
          "data": {
            "text/plain": [
              "[('consumption', 0.7199212312698364),\n",
              " ('reserve', 0.7054067850112915),\n",
              " ('supplies', 0.6984509229660034),\n",
              " ('outages', 0.6658194065093994),\n",
              " ('hog', 0.6641326546669006),\n",
              " ('yubi', 0.6632001399993896),\n",
              " ('banks', 0.6599622368812561),\n",
              " ('outage', 0.6451557874679565),\n",
              " ('pak', 0.6412122249603271),\n",
              " ('hogs', 0.626966118812561)]"
            ]
          },
          "execution_count": 12,
          "metadata": {},
          "output_type": "execute_result"
        }
      ],
      "source": [
        "# finding similar words\n",
        "\n",
        "model.wv.most_similar('hungry')"
      ]
    },
    {
      "cell_type": "code",
      "execution_count": 13,
      "metadata": {
        "colab": {
          "base_uri": "https://localhost:8080/"
        },
        "id": "4veDnTBvnIKO",
        "outputId": "edb07fd8-d7c4-465b-a237-f0ab506c5d87"
      },
      "outputs": [
        {
          "data": {
            "text/plain": [
              "[('convinced', 0.5606070756912231),\n",
              " ('saying', 0.5592935681343079),\n",
              " ('betting', 0.5550550222396851),\n",
              " ('dud', 0.5534123182296753),\n",
              " ('asking', 0.5527914762496948),\n",
              " ('purchaser', 0.5508798956871033),\n",
              " ('please', 0.5421678423881531),\n",
              " ('mad', 0.5380898714065552),\n",
              " ('anyway', 0.5353903770446777),\n",
              " ('awaiting', 0.5289912819862366)]"
            ]
          },
          "execution_count": 13,
          "metadata": {},
          "output_type": "execute_result"
        }
      ],
      "source": [
        "model.wv.most_similar('sorry')"
      ]
    },
    {
      "cell_type": "code",
      "execution_count": 14,
      "metadata": {
        "colab": {
          "base_uri": "https://localhost:8080/"
        },
        "id": "iB4AmvdWnSyh",
        "outputId": "320ecab0-028b-45cc-b9d2-ced3e79c7ac3"
      },
      "outputs": [
        {
          "data": {
            "text/plain": [
              "[('pleased', 0.9425526261329651),\n",
              " ('satisfied', 0.9303296208381653),\n",
              " ('impressed', 0.8213702440261841),\n",
              " ('unhappy', 0.8177497982978821),\n",
              " ('thrilled', 0.782372772693634),\n",
              " ('delighted', 0.7802542448043823),\n",
              " ('satified', 0.7699121832847595),\n",
              " ('disappointed', 0.7676931023597717),\n",
              " ('satisified', 0.7406805157661438),\n",
              " ('dissapointed', 0.726333498954773)]"
            ]
          },
          "execution_count": 14,
          "metadata": {},
          "output_type": "execute_result"
        }
      ],
      "source": [
        "model.wv.most_similar('happy')"
      ]
    },
    {
      "cell_type": "code",
      "execution_count": 15,
      "metadata": {
        "colab": {
          "base_uri": "https://localhost:8080/"
        },
        "id": "JzaGs9yKnFgG",
        "outputId": "a8b514a4-0607-45ec-d93b-0af5c1cc6dfe"
      },
      "outputs": [
        {
          "data": {
            "text/plain": [
              "0.78979"
            ]
          },
          "execution_count": 15,
          "metadata": {},
          "output_type": "execute_result"
        }
      ],
      "source": [
        "# finding the similarity score\n",
        "\n",
        "model.wv.similarity(w1='good', w2='great')"
      ]
    },
    {
      "cell_type": "code",
      "execution_count": 16,
      "metadata": {
        "colab": {
          "base_uri": "https://localhost:8080/"
        },
        "id": "quLp250xnVSC",
        "outputId": "12f1fad3-c83d-4018-8579-c107226cad62"
      },
      "outputs": [
        {
          "data": {
            "text/plain": [
              "0.22956853"
            ]
          },
          "execution_count": 16,
          "metadata": {},
          "output_type": "execute_result"
        }
      ],
      "source": [
        "model.wv.similarity(w1='sad', w2='joy')"
      ]
    },
    {
      "cell_type": "code",
      "execution_count": 17,
      "metadata": {
        "colab": {
          "base_uri": "https://localhost:8080/"
        },
        "id": "ooOmZ_wHn1VD",
        "outputId": "98631fc5-d929-4c8a-fbb3-5c76c1d065b8"
      },
      "outputs": [
        {
          "data": {
            "text/plain": [
              "0.57057846"
            ]
          },
          "execution_count": 17,
          "metadata": {},
          "output_type": "execute_result"
        }
      ],
      "source": [
        "model.wv.similarity(w1='broken', w2='smashed')"
      ]
    },
    {
      "cell_type": "markdown",
      "metadata": {
        "id": "KldS98yWoOqH"
      },
      "source": [
        "### **Using Pretrained Google Word2Vec model**"
      ]
    },
    {
      "cell_type": "code",
      "execution_count": 16,
      "metadata": {
        "id": "fvQ77yjxoWUM"
      },
      "outputs": [],
      "source": [
        "# importing libraries\n",
        "\n",
        "import gensim.downloader as api\n",
        "from gensim.models import KeyedVectors\n",
        "import matplotlib.pyplot as plt\n",
        "import numpy as np"
      ]
    },
    {
      "cell_type": "code",
      "execution_count": 9,
      "metadata": {
        "colab": {
          "base_uri": "https://localhost:8080/"
        },
        "id": "CSnshgyqqRex",
        "outputId": "092eeaf2-2f4f-47d8-a106-2e2abf8f1e12"
      },
      "outputs": [
        {
          "name": "stdout",
          "output_type": "stream",
          "text": [
            "Downloading and loading the model...\n",
            "Model loaded successfully.\n"
          ]
        }
      ],
      "source": [
        "# downloading the model\n",
        "\n",
        "'''\n",
        "Download and load the pre-trained model (GoogleNews-vectors-negative300)\n",
        "This model is 300-dimensional and trained on about 100 billion words from the Google News dataset. It is about 3.6 GB.\n",
        "'word2vec-google-news-300' is the key for Google's Word2Vec model\n",
        "The result is a KeyedVectors instance\n",
        "'''\n",
        "\n",
        "print(\"Downloading and loading the model...\")\n",
        "try:\n",
        "  model: KeyedVectors = api.load('word2vec-google-news-300')\n",
        "  print(\"Model loaded successfully.\")\n",
        "\n",
        "except Exception as e:\n",
        "    print(f\"\\nAn error occurred.\")\n",
        "    print(f\"Error: {e}\")"
      ]
    },
    {
      "cell_type": "code",
      "execution_count": 11,
      "metadata": {
        "colab": {
          "base_uri": "https://localhost:8080/",
          "height": 203
        },
        "id": "SZZQYO56q8fp",
        "outputId": "70ab5976-ba9b-49ad-9da1-472966c9022d"
      },
      "outputs": [
        {
          "name": "stdout",
          "output_type": "stream",
          "text": [
            "Vector for 'king' has 300 dimentions\n"
          ]
        }
      ],
      "source": [
        "# finding vector of a word\n",
        "\n",
        "vector = model['king']\n",
        "print(f\"Vector for 'king' has {len(vector)} dimentions\")"
      ]
    },
    {
      "cell_type": "code",
      "execution_count": 12,
      "metadata": {
        "id": "reUX1DwOsLaw"
      },
      "outputs": [
        {
          "name": "stdout",
          "output_type": "stream",
          "text": [
            "Analogy: 'king' - 'man' + 'woman' = ?\n",
            "  queen: 0.7118\n"
          ]
        }
      ],
      "source": [
        "# solving a simple word analogy\n",
        "\n",
        "analogy_result = model.most_similar(positive=['woman', 'king'], negative=['man'], topn=1)\n",
        "print(\"Analogy: 'king' - 'man' + 'woman' = ?\")\n",
        "print(f\"  {analogy_result[0][0]}: {analogy_result[0][1]:.4f}\")"
      ]
    },
    {
      "cell_type": "code",
      "execution_count": 13,
      "metadata": {
        "id": "-4s4ET-sstdW"
      },
      "outputs": [
        {
          "name": "stdout",
          "output_type": "stream",
          "text": [
            "\n",
            "Similarity between 'cat' and 'dog': 0.7609\n"
          ]
        }
      ],
      "source": [
        "# Calculate similarity between two words\n",
        "\n",
        "similarity_score = model.similarity('cat', 'dog')\n",
        "print(f\"\\nSimilarity between 'cat' and 'dog': {similarity_score:.4f}\")"
      ]
    },
    {
      "cell_type": "code",
      "execution_count": 18,
      "metadata": {},
      "outputs": [],
      "source": [
        "# observing the vectors in 2D space\n",
        "\n",
        "import matplotlib.pyplot as plt\n",
        "import numpy as np\n",
        "\n",
        "from sklearn.decomposition import PCA"
      ]
    },
    {
      "cell_type": "code",
      "execution_count": null,
      "metadata": {},
      "outputs": [],
      "source": [
        "words = ['king', 'queen', 'man', 'woman', 'horse']\n",
        "output_filename = 'word2vec_pca_visualization.png'\n",
        "\n",
        "vectors = []\n",
        "labels = []\n",
        "\n",
        "for word in words:\n",
        "    if word in model:\n",
        "        vectors.append(model[word])\n",
        "        labels.append(word)\n",
        "    else:\n",
        "        print(f\"Warning: '{word}' not found in the vocabulary and will be skipped.\")"
      ]
    },
    {
      "cell_type": "code",
      "execution_count": 20,
      "metadata": {},
      "outputs": [
        {
          "name": "stdout",
          "output_type": "stream",
          "text": [
            "\n",
            "Visualization saved successfully as 'word2vec_pca_visualization.png'\n"
          ]
        },
        {
          "data": {
            "image/png": "[encoded data removed]",
            "text/plain": [
              "<Figure size 600x400 with 1 Axes>"
            ]
          },
          "metadata": {},
          "output_type": "display_data"
        }
      ],
      "source": [
        "if not vectors:\n",
        "    print(\"Error: No words could be found in the model vocabulary to plot.\")\n",
        "else:\n",
        "    X = np.array(vectors)\n",
        "\n",
        "    pca = PCA(n_components=2)\n",
        "\n",
        "    X_2d = pca.fit_transform(X)\n",
        "    \n",
        "    plt.figure(figsize=(6, 4))\n",
        "    plt.scatter(X_2d[:, 0], X_2d[:, 1], edgecolors='k', c='r', s=100)\n",
        "\n",
        "    # Add labels for each point\n",
        "    for i, label in enumerate(labels):\n",
        "        plt.annotate(\n",
        "            label,\n",
        "            xy=(X_2d[i, 0], X_2d[i, 1]),\n",
        "            xytext=(5, 2),\n",
        "            textcoords='offset points',\n",
        "            fontsize=12,\n",
        "            weight='bold'\n",
        "        )\n",
        "\n",
        "    plt.title('2D Visualization of Word Embeddings (Reduced by PCA)')\n",
        "    plt.xlabel('Principal Component 1')\n",
        "    plt.ylabel('Principal Component 2')\n",
        "    plt.grid(True)\n",
        "    \n",
        "    # Save the plot\n",
        "    plt.savefig(output_filename)\n",
        "    print(f\"\\nVisualization saved successfully as '{output_filename}'\")"
      ]
    },
    {
      "cell_type": "markdown",
      "metadata": {},
      "source": [
        "## **Glove**"
      ]
    },
    {
      "cell_type": "markdown",
      "metadata": {},
      "source": [
        "**GloVe (Global Vectors)** is an **unsupervised word embedding model** developed by **Stanford University**.  \n",
        "It combines the advantages of **global matrix factorization** (like LSA) and **local context window methods** (like Word2Vec).\n",
        "\n",
        "The main idea:\n",
        "> Words that appear in **similar contexts** have **similar meanings**."
      ]
    },
    {
      "cell_type": "markdown",
      "metadata": {},
      "source": [
        "- GloVe constructs a **word co-occurrence matrix**, where each entry counts how often words co-occur within a specific context window.  \n",
        "- Then, it uses **matrix factorization** to learn word vectors that capture these co-occurrence relationships."
      ]
    },
    {
      "cell_type": "markdown",
      "metadata": {},
      "source": [
        "**Advantages**\n",
        "- Captures **global statistical information**  \n",
        "- Produces **meaningful, dense embeddings**  \n",
        "- Works well for **semantic similarity** and **analogy tasks**\n",
        "\n",
        "**Limitations**\n",
        "- Requires large co-occurrence matrices  \n",
        "- Context is **static** — one embedding per word (no polysemy handling)\n"
      ]
    },
    {
      "cell_type": "code",
      "execution_count": 33,
      "metadata": {},
      "outputs": [],
      "source": [
        "# code implementation using gensim (using pretrained model)\n",
        "\n",
        "# imports\n",
        "import gensim\n",
        "from sklearn.manifold import TSNE\n",
        "import numpy as np\n",
        "import matplotlib.pyplot as plt\n",
        "\n",
        "import gensim.downloader as api"
      ]
    },
    {
      "cell_type": "code",
      "execution_count": 34,
      "metadata": {},
      "outputs": [],
      "source": [
        "# sample vocabulary\n",
        "\n",
        "vocab = ['apple','orange','shimla','banana','maruti','mumbai','china','india','husband'\n",
        "            ,'wife','brother','sister','red','yellow','computer','mobile','pear','guava']"
      ]
    },
    {
      "cell_type": "code",
      "execution_count": 35,
      "metadata": {},
      "outputs": [
        {
          "name": "stdout",
          "output_type": "stream",
          "text": [
            "Downloading the model .....\n",
            "[==================================================] 100.0% 376.1/376.1MB downloaded\n",
            "Model downloaded and ready to use\n"
          ]
        }
      ],
      "source": [
        "# loading the pretrained model\n",
        "\n",
        "try:\n",
        "    print(\"Downloading the model .....\")\n",
        "    glove_model = api.load('glove-wiki-gigaword-300')\n",
        "    print(\"Model downloaded and ready to use\")\n",
        "except Exception as e:\n",
        "    print(f\"Error: {e}\")"
      ]
    },
    {
      "cell_type": "code",
      "execution_count": 36,
      "metadata": {},
      "outputs": [
        {
          "data": {
            "text/plain": [
              "[(\"'m\", 0.7080122232437134),\n",
              " ('glad', 0.6905031800270081),\n",
              " ('pleased', 0.6712467074394226),\n",
              " ('really', 0.6575899124145508),\n",
              " ('always', 0.6494665741920471)]"
            ]
          },
          "execution_count": 36,
          "metadata": {},
          "output_type": "execute_result"
        }
      ],
      "source": [
        "# testing the model\n",
        "# extracting the similar words\n",
        "\n",
        "\n",
        "glove_model.most_similar('happy', topn=5)"
      ]
    },
    {
      "cell_type": "code",
      "execution_count": 40,
      "metadata": {},
      "outputs": [
        {
          "name": "stdout",
          "output_type": "stream",
          "text": [
            "hustand - man + woman = ?\n",
            "wife - 0.7732622027397156\n"
          ]
        }
      ],
      "source": [
        "# similarity analogy\n",
        "\n",
        "result = glove_model.most_similar(positive=['woman', 'husband'], negative=['man'], topn=1)[0]\n",
        "print('hustand - man + woman = ?')\n",
        "print(f\"{result[0]} - {result[1]}\")"
      ]
    },
    {
      "cell_type": "code",
      "execution_count": 42,
      "metadata": {},
      "outputs": [],
      "source": [
        "# visualizing the vocab words\n",
        "\n",
        "words = []\n",
        "vectors = []\n",
        "\n",
        "for word in vocab:\n",
        "    words.append(word)\n",
        "    vectors.append(glove_model[word])\n"
      ]
    },
    {
      "cell_type": "code",
      "execution_count": 44,
      "metadata": {},
      "outputs": [],
      "source": [
        "# reducing dimention to 2D for visualization\n",
        "\n",
        "dim_model = TSNE(\n",
        "    n_components=2,\n",
        "    perplexity=3,\n",
        "    init='pca',\n",
        "    random_state=42\n",
        ")\n",
        "\n",
        "fit_model = dim_model.fit_transform(np.array(vectors))"
      ]
    },
    {
      "cell_type": "code",
      "execution_count": 45,
      "metadata": {},
      "outputs": [
        {
          "data": {
            "text/plain": [
              "(18, 2)"
            ]
          },
          "execution_count": 45,
          "metadata": {},
          "output_type": "execute_result"
        }
      ],
      "source": [
        "fit_model.shape"
      ]
    },
    {
      "cell_type": "code",
      "execution_count": 50,
      "metadata": {},
      "outputs": [
        {
          "data": {
            "image/png": "[encoded data removed]",
            "text/plain": [
              "<Figure size 600x600 with 1 Axes>"
            ]
          },
          "metadata": {},
          "output_type": "display_data"
        }
      ],
      "source": [
        "x=[]\n",
        "y=[]\n",
        "\n",
        "for i in fit_model:\n",
        "    x.append(i[0])\n",
        "    y.append(i[1])\n",
        "\n",
        "plt.figure(figsize=(6, 6))\n",
        "\n",
        "for i in range(len(x)):\n",
        "    plt.scatter(x[i], y[i], edgecolors='k')\n",
        "    plt.annotate(\n",
        "        words[i],\n",
        "        xy=(x[i], y[i]),\n",
        "        xytext=(2, 2),\n",
        "        textcoords='offset points',\n",
        "        ha='left',\n",
        "        va='bottom'\n",
        "    )\n",
        "plt.title('vocabulory observation in a 2D space')\n",
        "plt.xlabel('PC-1')\n",
        "plt.ylabel('PC-2')\n",
        "plt.grid(True)\n",
        "plt.show()"
      ]
    },
    {
      "cell_type": "markdown",
      "metadata": {},
      "source": [
        "* We can observe the semantic clusters"
      ]
    }
  ],
  "metadata": {
    "colab": {
      "provenance": [],
      "toc_visible": true
    },
    "kernelspec": {
      "display_name": "training_venv (3.12.10)",
      "language": "python",
      "name": "python3"
    },
    "language_info": {
      "codemirror_mode": {
        "name": "ipython",
        "version": 3
      },
      "file_extension": ".py",
      "mimetype": "text/x-python",
      "name": "python",
      "nbconvert_exporter": "python",
      "pygments_lexer": "ipython3",
      "version": "3.12.10"
    }
  },
  "nbformat": 4,
  "nbformat_minor": 0
}
