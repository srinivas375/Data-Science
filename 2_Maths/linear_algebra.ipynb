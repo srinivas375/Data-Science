{
 "cells": [
  {
   "cell_type": "markdown",
   "id": "929272f3",
   "metadata": {},
   "source": [
    "# **Linear Algebra**"
   ]
  },
  {
   "cell_type": "markdown",
   "id": "c1dcd1be",
   "metadata": {},
   "source": [
    "* By using **numpy** we can acheive/work on many concepts of Linear Albera\n",
    "* This notebook contains the practical execution of Linear Algebra by using numpy\n",
    "* Convered many sections, and each section is a topic in Linear Algebra"
   ]
  },
  {
   "cell_type": "markdown",
   "id": "f1720776",
   "metadata": {},
   "source": [
    "The topics that were convered in this notebooks are:\n",
    "* [Vectors and Matrices](#vectors-and-matrices)\n",
    "* [Basic Operations](#basic-operations)\n",
    "* [Matrix Multiplication](#matrix-multiplication)\n",
    "* [Rank](#rank)\n",
    "* [Determinant](#determinant)\n",
    "* [Matrix Inverse](#matrix-inverse)\n",
    "* [Echolon Form](#echolon-form)\n",
    "* [System of Linear Equations](#system-of-linear-equations)\n",
    "* [Eigen Values and Eigen Vectors](#eigen-values-and-eigen-vectors)\n",
    "* [Othogonal and Orthonormal vectors](#orthogonal-and-orthonormal-vectors)\n",
    "* [Types of Matrices](#types-of-matrices)\n",
    "* [Intutive Liner regression](#intutive-linear-regression)\n",
    "* [Singular Value Decompogition](#singular-value-decompogition)\n",
    "* [Orthogonalization](#gramsmith-orthonormalization)\n",
    "\n"
   ]
  },
  {
   "cell_type": "markdown",
   "id": "d09d94fc",
   "metadata": {},
   "source": [
    "Useful libraries installation:\n",
    "* Using pip:\n",
    "    - `pip install numpy matplotlib`\n",
    "* Using uv:\n",
    "    - `uv add numpy matplotlib`"
   ]
  },
  {
   "cell_type": "code",
   "execution_count": 2,
   "id": "837bfc28",
   "metadata": {},
   "outputs": [],
   "source": [
    "# importing libraries\n",
    "\n",
    "import numpy as np\n",
    "import matplotlib.pyplot as plt"
   ]
  },
  {
   "cell_type": "markdown",
   "id": "5a0dea8f",
   "metadata": {},
   "source": [
    "## **Vectors and Matrices**"
   ]
  },
  {
   "cell_type": "markdown",
   "id": "022ce8eb",
   "metadata": {},
   "source": [
    "### **Vectors**"
   ]
  },
  {
   "cell_type": "markdown",
   "id": "84b49491",
   "metadata": {},
   "source": [
    "Vectors have certain direction and magnitude\n",
    "* A 1D tensor is a vector\n",
    "* Vector has several dimentions\n",
    "* A set of vectors spans a space (line, plane, hyperplane)"
   ]
  },
  {
   "cell_type": "code",
   "execution_count": 3,
   "id": "c42e920a",
   "metadata": {},
   "outputs": [
    {
     "name": "stdout",
     "output_type": "stream",
     "text": [
      "[1 2]\n"
     ]
    }
   ],
   "source": [
    "# creating a 2D vector\n",
    "\n",
    "vec_1 = np.array([1, 2])\n",
    "print(vec_1)"
   ]
  },
  {
   "cell_type": "markdown",
   "id": "770d458c",
   "metadata": {},
   "source": [
    "* **arr.size** - gives the number of elements of an array (its the dimention of a vector)\n",
    "* **arr.shape** - gives the shape (for a vector it shows as (d,), where d is the vector dimention)"
   ]
  },
  {
   "cell_type": "code",
   "execution_count": 4,
   "id": "3d4cd2b8",
   "metadata": {},
   "outputs": [
    {
     "name": "stdout",
     "output_type": "stream",
     "text": [
      "2D vector is : [1 2]\n",
      "dimention is : (2,)\n",
      "dimention is : 2\n",
      "\n",
      "3D vector is : [5 6 3]\n",
      "dimention is : (3,)\n",
      "\n",
      "512D dimention is : (512,)\n"
     ]
    }
   ],
   "source": [
    "# observing the dimention of vector\\\n",
    "vec_1 = np.array([1, 2])  # 2D vector\n",
    "vec_2 = np.array([5, 6, 3]) # 3D vector\n",
    "vec_3 = np.random.randn(512) # 512D vector\n",
    "\n",
    "print(f\"2D vector is : {vec_1}\")\n",
    "print(f\"dimention is : {vec_1.shape}\")\n",
    "print(f\"dimention is : {vec_1.size}\\n\")\n",
    "\n",
    "print(f\"3D vector is : {vec_2}\")\n",
    "print(f\"dimention is : {vec_2.shape}\\n\")\n",
    "\n",
    "print(f\"512D dimention is : {vec_3.shape}\")"
   ]
  },
  {
   "cell_type": "markdown",
   "id": "3d78492d",
   "metadata": {},
   "source": [
    "**matlotlib** -- used to visualize the vector"
   ]
  },
  {
   "cell_type": "code",
   "execution_count": 5,
   "id": "fe18d14f",
   "metadata": {},
   "outputs": [
    {
     "data": {
      "image/png": "[encoded data removed]",
      "text/plain": [
       "<Figure size 400x400 with 1 Axes>"
      ]
     },
     "metadata": {},
     "output_type": "display_data"
    }
   ],
   "source": [
    "# visualizing a 2D vector\n",
    "\n",
    "vec_1 = np.array([1, 2])\n",
    "vec_2 = np.array([-1, 4])\n",
    "vec_3 = np.array([2, 7])\n",
    "vec_4 = np.array([-2, -2])\n",
    "\n",
    "plt.figure(figsize=(4,4))\n",
    "plt.plot([0,vec_1[0]], [0, vec_1[1]])\n",
    "plt.plot([0,vec_2[0]], [0, vec_2[1]])\n",
    "plt.plot([0,vec_3[0]], [0, vec_3[1]])\n",
    "plt.plot([0,vec_4[0]], [0, vec_4[1]])\n",
    "\n",
    "plt.grid()\n",
    "plt.title('An example of 2D vectors')\n",
    "plt.show()"
   ]
  },
  {
   "cell_type": "markdown",
   "id": "21a037b8",
   "metadata": {},
   "source": [
    "### **Matrices**"
   ]
  },
  {
   "cell_type": "markdown",
   "id": "b4149a74",
   "metadata": {},
   "source": [
    "* A matrix is a 2D tensor\n",
    "* Matrix has shape of for (m, n)\n",
    "* m -- number of row vectors (each of column dimention)\n",
    "* n -- number of column vectors (each of row dimention)"
   ]
  },
  {
   "cell_type": "code",
   "execution_count": 6,
   "id": "41792756",
   "metadata": {},
   "outputs": [
    {
     "name": "stdout",
     "output_type": "stream",
     "text": [
      "Matrix in linear algebra is: \n",
      "\n",
      "[[1 2 3]\n",
      " [4 5 6]]\n",
      "\n",
      "Dimention if matrix is: (2, 3)\n",
      "2 rows\n",
      "3 columns\n"
     ]
    }
   ],
   "source": [
    "# matrix using numpy\n",
    "\n",
    "mat_1 = np.array([[1, 2, 3], [4, 5, 6]])\n",
    "print(\"Matrix in linear algebra is: \\n\")\n",
    "print(mat_1)\n",
    "print(f\"\\nDimention if matrix is: {mat_1.shape}\")\n",
    "print(f\"{mat_1.shape[0]} rows\")\n",
    "print(f\"{mat_1.shape[1]} columns\") "
   ]
  },
  {
   "cell_type": "code",
   "execution_count": 7,
   "id": "343cea93",
   "metadata": {},
   "outputs": [
    {
     "name": "stdout",
     "output_type": "stream",
     "text": [
      "A linear Algebra 5*9 matrix :\n",
      "\n",
      "[[7 8 1 7 3 3 1 5 7]\n",
      " [1 1 6 6 6 8 7 0 0]\n",
      " [4 1 8 0 6 8 6 5 5]\n",
      " [1 4 2 6 1 3 9 7 4]\n",
      " [7 1 7 5 3 8 4 4 2]]\n",
      "\n",
      "Dimention if matrix is: (5, 9)\n"
     ]
    }
   ],
   "source": [
    "mat_2 = np.random.randint(0, 10, (5, 9)) # shape 5*9\n",
    "\n",
    "print(\"A linear Algebra 5*9 matrix :\\n\")\n",
    "print(mat_2)\n",
    "print(f\"\\nDimention if matrix is: {mat_2.shape}\")"
   ]
  },
  {
   "cell_type": "markdown",
   "id": "d258e1d4",
   "metadata": {},
   "source": [
    "## **Basic Operations**"
   ]
  },
  {
   "cell_type": "markdown",
   "id": "d003e2aa",
   "metadata": {},
   "source": [
    "The basic operations on matrices inlcude\n",
    "* matrix addition\n",
    "* matrix subtraction\n",
    "* scalar multiplication\n",
    "* dot product"
   ]
  },
  {
   "cell_type": "markdown",
   "id": "ef7ca841",
   "metadata": {},
   "source": [
    "### Addition of matrices\n",
    "* matrices dimentions should be same"
   ]
  },
  {
   "cell_type": "code",
   "execution_count": 8,
   "id": "65bcdca2",
   "metadata": {},
   "outputs": [
    {
     "name": "stdout",
     "output_type": "stream",
     "text": [
      "matrix 1:\n",
      "[[8 4 7 9]\n",
      " [2 1 3 5]\n",
      " [0 4 3 7]]\n",
      "\n",
      "matrix 2:\n",
      "[[6 4 4 2]\n",
      " [9 6 0 9]\n",
      " [3 0 6 3]]\n"
     ]
    }
   ],
   "source": [
    "mat_1 = np.random.randint(0, 10, (3, 4)) # a matrix of shape (3, 4)\n",
    "mat_2 = np.random.randint(0, 10, (3, 4)) # a matrix of shape (3, 4)\n",
    "\n",
    "print(f\"matrix 1:\\n{mat_1}\\n\")\n",
    "print(f\"matrix 2:\\n{mat_2}\")"
   ]
  },
  {
   "cell_type": "code",
   "execution_count": 9,
   "id": "061a91f0",
   "metadata": {},
   "outputs": [
    {
     "data": {
      "text/plain": [
       "array([[14,  8, 11, 11],\n",
       "       [11,  7,  3, 14],\n",
       "       [ 3,  4,  9, 10]], dtype=int32)"
      ]
     },
     "execution_count": 9,
     "metadata": {},
     "output_type": "execute_result"
    }
   ],
   "source": [
    "# matrix addtion performs element wise addition\n",
    "\n",
    "mat_1 + mat_2"
   ]
  },
  {
   "cell_type": "code",
   "execution_count": 10,
   "id": "e6c5237c",
   "metadata": {},
   "outputs": [
    {
     "name": "stdout",
     "output_type": "stream",
     "text": [
      "matrix 1:\n",
      "[[8 4 7 9]\n",
      " [2 1 3 5]\n",
      " [0 4 3 7]]\n",
      "\n",
      "matrix 2:\n",
      "[[6 4 4 2]\n",
      " [9 6 0 9]\n",
      " [3 0 6 3]]\n",
      "\n",
      "Matrix 3: \n",
      "[[-3 -1 -1  0]\n",
      " [-3  3 -3 -4]\n",
      " [ 1  0 -4  0]]\n",
      "\n",
      "Addition of 3 matrices :\n"
     ]
    },
    {
     "data": {
      "text/plain": [
       "array([[11,  7, 10, 11],\n",
       "       [ 8, 10,  0, 10],\n",
       "       [ 4,  4,  5, 10]], dtype=int32)"
      ]
     },
     "execution_count": 10,
     "metadata": {},
     "output_type": "execute_result"
    }
   ],
   "source": [
    "# we can also add multiple matrices\n",
    "\n",
    "mat_3 = np.random.randint(-5, 5, (3,4))\n",
    "print(f\"matrix 1:\\n{mat_1}\\n\")\n",
    "print(f\"matrix 2:\\n{mat_2}\\n\")\n",
    "print(f\"Matrix 3: \\n{mat_3}\\n\")\n",
    "print(\"Addition of 3 matrices :\")\n",
    "\n",
    "mat_1 + mat_2 + mat_3"
   ]
  },
  {
   "cell_type": "markdown",
   "id": "bc103b96",
   "metadata": {},
   "source": [
    "### Subtraction of matrices\n",
    "* matrices dimentions should be same"
   ]
  },
  {
   "cell_type": "code",
   "execution_count": 11,
   "id": "452209b3",
   "metadata": {},
   "outputs": [
    {
     "name": "stdout",
     "output_type": "stream",
     "text": [
      "matrix 1:\n",
      "[[8 4 7 9]\n",
      " [2 1 3 5]\n",
      " [0 4 3 7]]\n",
      "\n",
      "matrix 2:\n",
      "[[6 4 4 2]\n",
      " [9 6 0 9]\n",
      " [3 0 6 3]]\n",
      "\n",
      "Subraction of two matrices:\n"
     ]
    },
    {
     "data": {
      "text/plain": [
       "array([[ 2,  0,  3,  7],\n",
       "       [-7, -5,  3, -4],\n",
       "       [-3,  4, -3,  4]], dtype=int32)"
      ]
     },
     "execution_count": 11,
     "metadata": {},
     "output_type": "execute_result"
    }
   ],
   "source": [
    "print(f\"matrix 1:\\n{mat_1}\\n\")\n",
    "print(f\"matrix 2:\\n{mat_2}\\n\")\n",
    "print(\"Subraction of two matrices:\")\n",
    "\n",
    "mat_1 - mat_2"
   ]
  },
  {
   "cell_type": "code",
   "execution_count": 12,
   "id": "635721e8",
   "metadata": {},
   "outputs": [
    {
     "name": "stdout",
     "output_type": "stream",
     "text": [
      "matrix 1:\n",
      "[[8 4 7 9]\n",
      " [2 1 3 5]\n",
      " [0 4 3 7]]\n",
      "\n",
      "matrix 2:\n",
      "[[6 4 4 2]\n",
      " [9 6 0 9]\n",
      " [3 0 6 3]]\n",
      "\n",
      "Matrix 3: \n",
      "[[-3 -1 -1  0]\n",
      " [-3  3 -3 -4]\n",
      " [ 1  0 -4  0]]\n",
      "\n",
      "Subtraction of 3 matrices :\n"
     ]
    },
    {
     "data": {
      "text/plain": [
       "array([[ 5,  1,  4,  7],\n",
       "       [-4, -8,  6,  0],\n",
       "       [-4,  4,  1,  4]], dtype=int32)"
      ]
     },
     "execution_count": 12,
     "metadata": {},
     "output_type": "execute_result"
    }
   ],
   "source": [
    "print(f\"matrix 1:\\n{mat_1}\\n\")\n",
    "print(f\"matrix 2:\\n{mat_2}\\n\")\n",
    "print(f\"Matrix 3: \\n{mat_3}\\n\")\n",
    "print(\"Subtraction of 3 matrices :\")\n",
    "\n",
    "mat_1 - mat_2 - mat_3"
   ]
  },
  {
   "cell_type": "markdown",
   "id": "1a510a53",
   "metadata": {},
   "source": [
    "### Scalar multiplication\n",
    "* scalar is multipled to each element in the matrix"
   ]
  },
  {
   "cell_type": "code",
   "execution_count": 13,
   "id": "36e77154",
   "metadata": {},
   "outputs": [
    {
     "name": "stdout",
     "output_type": "stream",
     "text": [
      "Matrix 1 :\n",
      "[[8 4 7 9]\n",
      " [2 1 3 5]\n",
      " [0 4 3 7]]\n",
      "\n",
      "9*matrix1:\n"
     ]
    },
    {
     "data": {
      "text/plain": [
       "array([[72, 36, 63, 81],\n",
       "       [18,  9, 27, 45],\n",
       "       [ 0, 36, 27, 63]], dtype=int32)"
      ]
     },
     "execution_count": 13,
     "metadata": {},
     "output_type": "execute_result"
    }
   ],
   "source": [
    "print(f\"Matrix 1 :\\n{mat_1}\\n\")\n",
    "print(\"9*matrix1:\")\n",
    "\n",
    "9*mat_1"
   ]
  },
  {
   "cell_type": "code",
   "execution_count": 14,
   "id": "0278a8a5",
   "metadata": {},
   "outputs": [
    {
     "name": "stdout",
     "output_type": "stream",
     "text": [
      "Vector 1 :\n",
      "[1 2]\n",
      "\n",
      "(1/10)*Vector1:\n"
     ]
    },
    {
     "data": {
      "text/plain": [
       "array([0.1, 0.2])"
      ]
     },
     "execution_count": 14,
     "metadata": {},
     "output_type": "execute_result"
    }
   ],
   "source": [
    "print(f\"Vector 1 :\\n{vec_1}\\n\")\n",
    "print(\"(1/10)*Vector1:\")\n",
    "\n",
    "(1/10)*vec_1"
   ]
  },
  {
   "cell_type": "markdown",
   "id": "a8b18010",
   "metadata": {},
   "source": [
    "### dot product\n",
    "* Each corresponding value is multiplied and result is added"
   ]
  },
  {
   "cell_type": "code",
   "execution_count": 15,
   "id": "82a6661f",
   "metadata": {},
   "outputs": [
    {
     "name": "stdout",
     "output_type": "stream",
     "text": [
      "Vector 1 :\n",
      "[-1  4]\n",
      "\n",
      "Vector 1 :\n",
      "[2 7]\n",
      "\n",
      "Dot product between vector1 & vector2\n"
     ]
    },
    {
     "data": {
      "text/plain": [
       "26"
      ]
     },
     "execution_count": 15,
     "metadata": {},
     "output_type": "execute_result"
    }
   ],
   "source": [
    "print(f\"Vector 1 :\\n{vec_2}\\n\")\n",
    "print(f\"Vector 1 :\\n{vec_3}\\n\")\n",
    "\n",
    "print(\"Dot product between vector1 & vector2\")\n",
    "vec_2.dot(vec_3).item()"
   ]
  },
  {
   "cell_type": "markdown",
   "id": "c6c343e1",
   "metadata": {},
   "source": [
    "## **Matrix Multiplication**"
   ]
  },
  {
   "cell_type": "markdown",
   "id": "119f3482",
   "metadata": {},
   "source": [
    "* The number of cols of first matrix should be compatable with the number of rows of second matrix\n",
    "* The new matrix generated with 1st matrix number of rows and 2nd matrix number of cols"
   ]
  },
  {
   "cell_type": "code",
   "execution_count": 16,
   "id": "db8b2d95",
   "metadata": {},
   "outputs": [
    {
     "name": "stdout",
     "output_type": "stream",
     "text": [
      "Matrix 1:\n",
      "[[3 2 2]\n",
      " [4 7 2]\n",
      " [2 9 4]]\n",
      "shape: (3, 3)\n",
      "\n",
      "Matrix 2:\n",
      "[[6 6 8]\n",
      " [5 3 3]\n",
      " [3 1 8]]\n",
      "shape: (3, 3)\n",
      "\n",
      "Matrix1 * matrix2\n",
      "[[34 26 46]\n",
      " [65 47 69]\n",
      " [69 43 75]]\n",
      "shape: (3, 3)\n"
     ]
    }
   ],
   "source": [
    "mat_1 = np.random.randint(1, 10, (3,3))\n",
    "mat_2 = np.random.randint(1, 10, (3,3))\n",
    "\n",
    "print(f\"Matrix 1:\\n{mat_1}\")\n",
    "print(f\"shape: {mat_1.shape}\\n\")\n",
    "print(f\"Matrix 2:\\n{mat_2}\")\n",
    "print(f\"shape: {mat_2.shape}\\n\")\n",
    "print(\"Matrix1 * matrix2\")\n",
    "result = mat_1@mat_2\n",
    "print(result)\n",
    "print(f\"shape: {result.shape}\")"
   ]
  },
  {
   "cell_type": "code",
   "execution_count": 17,
   "id": "a2a4e5cb",
   "metadata": {},
   "outputs": [
    {
     "name": "stdout",
     "output_type": "stream",
     "text": [
      "Matrix 1:\n",
      "[[2 2 4 6]\n",
      " [6 4 9 9]\n",
      " [1 6 4 6]\n",
      " [9 3 5 8]]\n",
      "shape: (4, 4)\n",
      "\n",
      "Matrix 2:\n",
      "[[4 8 6 2]\n",
      " [7 5 1 8]\n",
      " [9 8 8 3]\n",
      " [5 7 6 9]]\n",
      "shape: (4, 4)\n",
      "\n",
      "Matrix1 * matrix2\n",
      "[[ 88 100  82  86]\n",
      " [178 203 166 152]\n",
      " [112 112  80 116]\n",
      " [142 183 145 129]]\n",
      "shape: (4, 4)\n"
     ]
    }
   ],
   "source": [
    "mat_1 = np.random.randint(1, 10, (4,4))\n",
    "mat_2 = np.random.randint(1, 10, (4,4))\n",
    "\n",
    "print(f\"Matrix 1:\\n{mat_1}\")\n",
    "print(f\"shape: {mat_1.shape}\\n\")\n",
    "print(f\"Matrix 2:\\n{mat_2}\")\n",
    "print(f\"shape: {mat_2.shape}\\n\")\n",
    "print(\"Matrix1 * matrix2\")\n",
    "result = mat_1@mat_2\n",
    "print(result)\n",
    "print(f\"shape: {result.shape}\")"
   ]
  },
  {
   "cell_type": "code",
   "execution_count": 18,
   "id": "93b137bf",
   "metadata": {},
   "outputs": [
    {
     "name": "stdout",
     "output_type": "stream",
     "text": [
      "Matrix 1:\n",
      "[[2 7 4 1]\n",
      " [4 5 4 6]\n",
      " [9 4 3 5]]\n",
      "shape: (3, 4)\n",
      "\n",
      "Matrix 2:\n",
      "[[7 3 3]\n",
      " [7 5 9]\n",
      " [3 7 5]\n",
      " [4 9 9]]\n",
      "shape: (4, 3)\n",
      "\n",
      "Matrix1 * matrix2\n",
      "[[ 79  78  98]\n",
      " [ 99 119 131]\n",
      " [120 113 123]]\n",
      "shape: (3, 3)\n"
     ]
    }
   ],
   "source": [
    "mat_1 = np.random.randint(1, 10, (3,4))\n",
    "mat_2 = np.random.randint(1, 10, (4,3))\n",
    "\n",
    "print(f\"Matrix 1:\\n{mat_1}\")\n",
    "print(f\"shape: {mat_1.shape}\\n\")\n",
    "print(f\"Matrix 2:\\n{mat_2}\")\n",
    "print(f\"shape: {mat_2.shape}\\n\")\n",
    "print(\"Matrix1 * matrix2\")\n",
    "result = mat_1@mat_2\n",
    "print(result)\n",
    "print(f\"shape: {result.shape}\")"
   ]
  },
  {
   "cell_type": "code",
   "execution_count": 19,
   "id": "5f13a289",
   "metadata": {},
   "outputs": [
    {
     "name": "stdout",
     "output_type": "stream",
     "text": [
      "Matrix 1:\n",
      "[[7 8 5]\n",
      " [5 4 8]]\n",
      "shape: (2, 3)\n",
      "\n",
      "Matrix 2:\n",
      "[[3 9 9]\n",
      " [6 3 3]\n",
      " [2 7 7]]\n",
      "shape: (3, 3)\n",
      "\n",
      "Matrix1 * matrix2\n",
      "[[ 79 122 122]\n",
      " [ 55 113 113]]\n",
      "shape: (2, 3)\n"
     ]
    }
   ],
   "source": [
    "mat_1 = np.random.randint(1, 10, (2,3))\n",
    "mat_2 = np.random.randint(1, 10, (3,3))\n",
    "\n",
    "print(f\"Matrix 1:\\n{mat_1}\")\n",
    "print(f\"shape: {mat_1.shape}\\n\")\n",
    "print(f\"Matrix 2:\\n{mat_2}\")\n",
    "print(f\"shape: {mat_2.shape}\\n\")\n",
    "print(\"Matrix1 * matrix2\")\n",
    "result = mat_1@mat_2\n",
    "print(result)\n",
    "print(f\"shape: {result.shape}\")"
   ]
  },
  {
   "cell_type": "code",
   "execution_count": 20,
   "id": "e8ccaa74",
   "metadata": {},
   "outputs": [
    {
     "name": "stdout",
     "output_type": "stream",
     "text": [
      "Matrix 1:\n",
      "[[1 2 7]]\n",
      "shape: (1, 3)\n",
      "\n",
      "Matrix 2:\n",
      "[[9]\n",
      " [3]\n",
      " [3]]\n",
      "shape: (3, 1)\n",
      "\n",
      "Matrix1 * matrix2\n",
      "[[36]]\n",
      "shape: (1, 1)\n"
     ]
    }
   ],
   "source": [
    "mat_1 = np.random.randint(1, 10, (1,3))\n",
    "mat_2 = np.random.randint(1, 10, (3,1))\n",
    "\n",
    "print(f\"Matrix 1:\\n{mat_1}\")\n",
    "print(f\"shape: {mat_1.shape}\\n\")\n",
    "print(f\"Matrix 2:\\n{mat_2}\")\n",
    "print(f\"shape: {mat_2.shape}\\n\")\n",
    "print(\"Matrix1 * matrix2\")\n",
    "result = mat_1@mat_2\n",
    "print(result)\n",
    "print(f\"shape: {result.shape}\")"
   ]
  },
  {
   "cell_type": "code",
   "execution_count": 21,
   "id": "4222807f",
   "metadata": {},
   "outputs": [
    {
     "name": "stdout",
     "output_type": "stream",
     "text": [
      "Matrix 1:\n",
      "[[6]\n",
      " [3]\n",
      " [8]\n",
      " [9]]\n",
      "shape: (4, 1)\n",
      "\n",
      "Matrix 2:\n",
      "[[3 6 4 9]]\n",
      "shape: (1, 4)\n",
      "\n",
      "Matrix1 * matrix2\n",
      "[[18 36 24 54]\n",
      " [ 9 18 12 27]\n",
      " [24 48 32 72]\n",
      " [27 54 36 81]]\n",
      "shape: (4, 4)\n"
     ]
    }
   ],
   "source": [
    "mat_1 = np.random.randint(1, 10, (4, 1))\n",
    "mat_2 = np.random.randint(1, 10, (1, 4))\n",
    "\n",
    "print(f\"Matrix 1:\\n{mat_1}\")\n",
    "print(f\"shape: {mat_1.shape}\\n\")\n",
    "print(f\"Matrix 2:\\n{mat_2}\")\n",
    "print(f\"shape: {mat_2.shape}\\n\")\n",
    "print(\"Matrix1 * matrix2\")\n",
    "result = mat_1@mat_2\n",
    "print(result)\n",
    "print(f\"shape: {result.shape}\")"
   ]
  },
  {
   "cell_type": "markdown",
   "id": "8fff95c7",
   "metadata": {},
   "source": [
    "## **Rank**"
   ]
  },
  {
   "cell_type": "markdown",
   "id": "1a9eaffc",
   "metadata": {},
   "source": [
    "* Used to find if given set of vectors are LI or LD"
   ]
  },
  {
   "cell_type": "code",
   "execution_count": 22,
   "id": "a7350c48",
   "metadata": {},
   "outputs": [
    {
     "name": "stdout",
     "output_type": "stream",
     "text": [
      "set of row vectors are:\n",
      "[[ 2 -1 -1]\n",
      " [-3 -1  2]\n",
      " [-2  1  2]]\n",
      "\n",
      "Rank of Matrix: 3\n",
      "Row Vectors are Linearly Independent\n"
     ]
    }
   ],
   "source": [
    "A = np.array([[2, -1, -1], [-3, -1, 2], [-2, 1, 2]])\n",
    "\n",
    "print(f\"set of row vectors are:\\n{A}\\n\")\n",
    "rank = np.linalg.matrix_rank(A)\n",
    "print(f\"Rank of Matrix: {rank}\")\n",
    "if rank == A.shape[0]:\n",
    "    print(\"Row Vectors are Linearly Independent\")\n",
    "else:\n",
    "    print(\"Row Vectors are Linearly Dependent\")"
   ]
  },
  {
   "cell_type": "code",
   "execution_count": 23,
   "id": "4719a6b9",
   "metadata": {},
   "outputs": [
    {
     "name": "stdout",
     "output_type": "stream",
     "text": [
      "set of row vectors are:\n",
      "[[ 2 -1 -1]\n",
      " [-3 -1  2]\n",
      " [-2  1  1]]\n",
      "\n",
      "Rank of Matrix: 2\n",
      "Row Vectors are Linearly Dependent\n"
     ]
    }
   ],
   "source": [
    "A = np.array([[2, -1, -1], [-3, -1, 2], [-2, 1, 1]])\n",
    "\n",
    "print(f\"set of row vectors are:\\n{A}\\n\")\n",
    "rank = np.linalg.matrix_rank(A)\n",
    "print(f\"Rank of Matrix: {rank}\")\n",
    "if rank == A.shape[0]:\n",
    "    print(\"Row Vectors are Linearly Independent\")\n",
    "else:\n",
    "    print(\"Row Vectors are Linearly Dependent\")"
   ]
  },
  {
   "cell_type": "code",
   "execution_count": 24,
   "id": "dbe53dfa",
   "metadata": {},
   "outputs": [
    {
     "name": "stdout",
     "output_type": "stream",
     "text": [
      "set of row vectors are:\n",
      "[[ 2 -1 -1]\n",
      " [-3 -1  2]\n",
      " [-2  1  2]\n",
      " [ 0  0  0]]\n",
      "\n",
      "Rank of Matrix: 3\n",
      "Row Vectors are Linearly Dependent\n"
     ]
    }
   ],
   "source": [
    "A = np.array([[2, -1, -1], [-3, -1, 2], [-2, 1, 2], [0, 0, 0]])\n",
    "\n",
    "print(f\"set of row vectors are:\\n{A}\\n\")\n",
    "rank = np.linalg.matrix_rank(A)\n",
    "print(f\"Rank of Matrix: {rank}\")\n",
    "if rank == A.shape[0]:\n",
    "    print(\"Row Vectors are Linearly Independent\")\n",
    "else:\n",
    "    print(\"Row Vectors are Linearly Dependent\")"
   ]
  },
  {
   "cell_type": "code",
   "execution_count": 25,
   "id": "b2097b87",
   "metadata": {},
   "outputs": [
    {
     "name": "stdout",
     "output_type": "stream",
     "text": [
      "set of row vectors are:\n",
      "[[ 2 -1 -1  0]\n",
      " [-3 -1  2  1]\n",
      " [-2  1  2  4]\n",
      " [ 1  2  3  9]]\n",
      "\n",
      "Rank of Matrix: 4\n",
      "Row Vectors are Linearly Independent\n"
     ]
    }
   ],
   "source": [
    "A = np.array([[2, -1, -1, 0], [-3, -1, 2, 1], [-2, 1, 2, 4], [1, 2, 3, 9]])\n",
    "\n",
    "print(f\"set of row vectors are:\\n{A}\\n\")\n",
    "rank = np.linalg.matrix_rank(A)\n",
    "print(f\"Rank of Matrix: {rank}\")\n",
    "if rank == A.shape[0]:\n",
    "    print(\"Row Vectors are Linearly Independent\")\n",
    "else:\n",
    "    print(\"Row Vectors are Linearly Dependent\")"
   ]
  },
  {
   "cell_type": "markdown",
   "id": "72391b7f",
   "metadata": {},
   "source": [
    "## **Determinant**"
   ]
  },
  {
   "cell_type": "markdown",
   "id": "8443cbf9",
   "metadata": {},
   "source": [
    "* It is applied for square matrices\n",
    "* It gives a scalar value, which helps in finding LI, LD of matrix\\\n",
    "* 0 -- matrix vectors are LD\n",
    "* non zero -- matrix vectors are LI"
   ]
  },
  {
   "cell_type": "code",
   "execution_count": 26,
   "id": "91d20c27",
   "metadata": {},
   "outputs": [
    {
     "name": "stdout",
     "output_type": "stream",
     "text": [
      "set of row vectors are:\n",
      "[[ 2 -1 -1]\n",
      " [-3 -1  2]\n",
      " [-2  1  2]]\n",
      "\n",
      "determinant of Matrix: -5.00\n",
      "Row Vectors are Linearly Independent\n"
     ]
    }
   ],
   "source": [
    "A = np.array([[2, -1, -1], [-3, -1, 2], [-2, 1, 2]])\n",
    "\n",
    "print(f\"set of row vectors are:\\n{A}\\n\")\n",
    "det = np.linalg.det(A)\n",
    "print(f\"determinant of Matrix: {det:.2f}\")\n",
    "if det != 0:\n",
    "    print(\"Row Vectors are Linearly Independent\")\n",
    "else:\n",
    "    print(\"Row Vectors are Linearly Dependent\")"
   ]
  },
  {
   "cell_type": "code",
   "execution_count": 27,
   "id": "7dd9caa7",
   "metadata": {},
   "outputs": [
    {
     "name": "stdout",
     "output_type": "stream",
     "text": [
      "set of row vectors are:\n",
      "[[ 2 -1 -1]\n",
      " [-3 -1  2]\n",
      " [ 2 -1 -1]]\n",
      "\n",
      "determinant of Matrix: 0.00\n",
      "Row Vectors are Linearly Dependent\n"
     ]
    }
   ],
   "source": [
    "A = np.array([[2, -1, -1], [-3, -1, 2], [2, -1, -1]])\n",
    "\n",
    "print(f\"set of row vectors are:\\n{A}\\n\")\n",
    "det = np.linalg.det(A)\n",
    "print(f\"determinant of Matrix: {det:.2f}\")\n",
    "if det != 0:\n",
    "    print(\"Row Vectors are Linearly Independent\")\n",
    "else:\n",
    "    print(\"Row Vectors are Linearly Dependent\")"
   ]
  },
  {
   "cell_type": "markdown",
   "id": "2be85c50",
   "metadata": {},
   "source": [
    "## **Matrix Inverse**"
   ]
  },
  {
   "cell_type": "markdown",
   "id": "5c2d2685",
   "metadata": {},
   "source": [
    "* For a matrix, to be inverse exist\n",
    "* Matrix should be square, and the determinant should not be 0"
   ]
  },
  {
   "cell_type": "code",
   "execution_count": 28,
   "id": "5ecd9182",
   "metadata": {},
   "outputs": [
    {
     "name": "stdout",
     "output_type": "stream",
     "text": [
      "Matrix is:\n",
      "[[ 2 -1 -1]\n",
      " [-3 -1  2]\n",
      " [-2  1  2]]\n",
      "\n",
      "determinant of Matrix: -5.00\n",
      "Inverse matrix is are:\n",
      "[[ 0.8 -0.2  0.6]\n",
      " [-0.4 -0.4  0.2]\n",
      " [ 1.   0.   1. ]]\n",
      "\n"
     ]
    }
   ],
   "source": [
    "A = np.array([[2, -1, -1], [-3, -1, 2], [-2, 1, 2]])\n",
    "\n",
    "print(f\"Matrix is:\\n{A}\\n\")\n",
    "det = np.linalg.det(A)\n",
    "print(f\"determinant of Matrix: {det:.2f}\")\n",
    "if det != 0:\n",
    "    A_inv = np.linalg.inv(A)\n",
    "    print(f\"Inverse matrix is are:\\n{A_inv}\\n\")\n",
    "else:\n",
    "    print(\"Matrix is Linearly Dependent\\nSo, inverse won't exist\")"
   ]
  },
  {
   "cell_type": "code",
   "execution_count": 29,
   "id": "758e7555",
   "metadata": {},
   "outputs": [
    {
     "name": "stdout",
     "output_type": "stream",
     "text": [
      "Matrix is:\n",
      "[[ 2 -1 -1]\n",
      " [-3 -1  2]\n",
      " [ 2 -1 -1]]\n",
      "\n",
      "determinant of Matrix: 0.00\n",
      "Matrix is Linearly Dependent\n",
      "So, inverse won't exist\n"
     ]
    }
   ],
   "source": [
    "A = np.array([[2, -1, -1], [-3, -1, 2], [2, -1, -1]])\n",
    "\n",
    "print(f\"Matrix is:\\n{A}\\n\")\n",
    "det = np.linalg.det(A)\n",
    "print(f\"determinant of Matrix: {det:.2f}\")\n",
    "if det != 0:\n",
    "    A_inv = np.linalg.inv(A)\n",
    "    print(f\"Inverse matrix is are:\\n{A_inv}\\n\")\n",
    "else:\n",
    "    print(\"Matrix is Linearly Dependent\\nSo, inverse won't exist\")"
   ]
  },
  {
   "cell_type": "markdown",
   "id": "c9ea5e2a",
   "metadata": {},
   "source": [
    "## **Echolon form**"
   ]
  },
  {
   "cell_type": "markdown",
   "id": "84d389ae",
   "metadata": {},
   "source": [
    "* Used to findout the solutions of a given matrix\n",
    "* Can findout the pivot and free variables\n",
    "* Used to findout the rank of a matrix"
   ]
  },
  {
   "cell_type": "code",
   "execution_count": 30,
   "id": "f2efa68f",
   "metadata": {},
   "outputs": [],
   "source": [
    "# need to import sympy library\n",
    "\n",
    "import sympy as sp"
   ]
  },
  {
   "cell_type": "code",
   "execution_count": 31,
   "id": "5b62bb03",
   "metadata": {},
   "outputs": [
    {
     "name": "stdout",
     "output_type": "stream",
     "text": [
      "Matrix is:\n",
      "[[2 -1 -1]\n",
      " [-3 -1 2]\n",
      " [2 -1 -1]]\n",
      "\n",
      "Echolon form of above matrix is:\n",
      "[[2 -1 -1]\n",
      " [0 -5 1]\n",
      " [0 0 0]]\n"
     ]
    }
   ],
   "source": [
    "A = sp.Matrix([[2, -1, -1], [-3, -1, 2], [2, -1, -1]])\n",
    "\n",
    "print(f\"Matrix is:\\n{np.array(A)}\\n\")\n",
    "A_ech = A.echelon_form()\n",
    "print(f\"Echolon form of above matrix is:\\n{np.array(A_ech)}\")"
   ]
  },
  {
   "cell_type": "markdown",
   "id": "d29d9880",
   "metadata": {},
   "source": [
    "* As, last row is 0, matrix is LD and rank is 2"
   ]
  },
  {
   "cell_type": "code",
   "execution_count": 32,
   "id": "5304b551",
   "metadata": {},
   "outputs": [
    {
     "name": "stdout",
     "output_type": "stream",
     "text": [
      "Matrix is:\n",
      "[[2 -1 -1]\n",
      " [-3 -1 2]\n",
      " [3 -1 -1]]\n",
      "\n",
      "Echolon form of above matrix is:\n",
      "[[2 -1 -1]\n",
      " [0 -5 1]\n",
      " [0 0 -6]]\n"
     ]
    }
   ],
   "source": [
    "A = sp.Matrix([[2, -1, -1], [-3, -1, 2], [3, -1, -1]])\n",
    "\n",
    "print(f\"Matrix is:\\n{np.array(A)}\\n\")\n",
    "A_ech = A.echelon_form()\n",
    "print(f\"Echolon form of above matrix is:\\n{np.array(A_ech)}\")"
   ]
  },
  {
   "cell_type": "markdown",
   "id": "d3e4e4fb",
   "metadata": {},
   "source": [
    "* As any row is not 0, matrix is LI and rank is 3"
   ]
  },
  {
   "cell_type": "markdown",
   "id": "c1e6ee47",
   "metadata": {},
   "source": [
    "## **System of Linear Equations**"
   ]
  },
  {
   "cell_type": "markdown",
   "id": "02798896",
   "metadata": {},
   "source": [
    "We have two types of Linear Equations\n",
    "* Homogenous equations: AX = 0\n",
    "* Heterogenous equations: AX = b"
   ]
  },
  {
   "cell_type": "markdown",
   "id": "3bb2ec1b",
   "metadata": {},
   "source": [
    "### **Homogenous example**\n",
    "* 2x - y - z = 0\n",
    "* -3x - y + 2z = 0\n",
    "* -2x + y + 2z = 0\n",
    "\n",
    "Need to findout the solution for this (may be trivial or non trivial(inifinite solutions))"
   ]
  },
  {
   "cell_type": "markdown",
   "id": "0261d7a5",
   "metadata": {},
   "source": [
    "The coefficient set is LI (so trivial solution)"
   ]
  },
  {
   "cell_type": "code",
   "execution_count": 33,
   "id": "be696735",
   "metadata": {},
   "outputs": [
    {
     "name": "stdout",
     "output_type": "stream",
     "text": [
      "coefficient matrix:\n",
      "[[ 2 -1 -1]\n",
      " [-3 -1  2]\n",
      " [-2  1  2]]\n",
      "\n",
      "output vector:\n",
      "[0. 0. 0.]\n",
      "\n",
      "Solution vector [x, y, z]:\n"
     ]
    },
    {
     "data": {
      "text/plain": [
       "array([-0., -0.,  0.])"
      ]
     },
     "execution_count": 33,
     "metadata": {},
     "output_type": "execute_result"
    }
   ],
   "source": [
    "A = np.array([[2, -1, -1], [-3, -1, 2], [-2, 1, 2]])\n",
    "b = np.zeros(3)\n",
    "\n",
    "print(f\"coefficient matrix:\\n{A}\\n\")\n",
    "print(f\"output vector:\\n{b}\\n\")\n",
    "print(\"Solution vector [x, y, z]:\")\n",
    "np.linalg.solve(A,b)"
   ]
  },
  {
   "cell_type": "markdown",
   "id": "3c8c12c6",
   "metadata": {},
   "source": [
    "* 2x - y - z = 0\n",
    "* -3x - y + 2z = 0\n",
    "* -4x + 2y + 2z = 0\n",
    "\n",
    "Need to findout the solution for this (may be trivial or non trivial(inifinite solutions))"
   ]
  },
  {
   "cell_type": "markdown",
   "id": "78c21be1",
   "metadata": {},
   "source": [
    "The coefficient matrix is LD (so inifinite solution)"
   ]
  },
  {
   "cell_type": "code",
   "execution_count": 34,
   "id": "6a4e6bc7",
   "metadata": {},
   "outputs": [
    {
     "name": "stdout",
     "output_type": "stream",
     "text": [
      "coefficient matrix:\n",
      "[[ 2 -1 -1]\n",
      " [-3 -1  2]\n",
      " [-4  2  2]]\n",
      "\n",
      "output vector:\n",
      "[0. 0. 0.]\n",
      "\n",
      "Solution vector [x, y, z]:\n"
     ]
    },
    {
     "ename": "LinAlgError",
     "evalue": "Singular matrix",
     "output_type": "error",
     "traceback": [
      "\u001b[31m---------------------------------------------------------------------------\u001b[39m",
      "\u001b[31mLinAlgError\u001b[39m                               Traceback (most recent call last)",
      "\u001b[36mCell\u001b[39m\u001b[36m \u001b[39m\u001b[32mIn[34]\u001b[39m\u001b[32m, line 7\u001b[39m\n\u001b[32m      5\u001b[39m \u001b[38;5;28mprint\u001b[39m(\u001b[33mf\u001b[39m\u001b[33m\"\u001b[39m\u001b[33moutput vector:\u001b[39m\u001b[38;5;130;01m\\n\u001b[39;00m\u001b[38;5;132;01m{\u001b[39;00mb\u001b[38;5;132;01m}\u001b[39;00m\u001b[38;5;130;01m\\n\u001b[39;00m\u001b[33m\"\u001b[39m)\n\u001b[32m      6\u001b[39m \u001b[38;5;28mprint\u001b[39m(\u001b[33m\"\u001b[39m\u001b[33mSolution vector [x, y, z]:\u001b[39m\u001b[33m\"\u001b[39m)\n\u001b[32m----> \u001b[39m\u001b[32m7\u001b[39m \u001b[43mnp\u001b[49m\u001b[43m.\u001b[49m\u001b[43mlinalg\u001b[49m\u001b[43m.\u001b[49m\u001b[43msolve\u001b[49m\u001b[43m(\u001b[49m\u001b[43mA\u001b[49m\u001b[43m,\u001b[49m\u001b[43mb\u001b[49m\u001b[43m)\u001b[49m\n",
      "\u001b[36mFile \u001b[39m\u001b[32md:\\srinivas\\trainee-assignment-2025\\training_venv\\Lib\\site-packages\\numpy\\linalg\\_linalg.py:471\u001b[39m, in \u001b[36msolve\u001b[39m\u001b[34m(a, b)\u001b[39m\n\u001b[32m    468\u001b[39m signature = \u001b[33m'\u001b[39m\u001b[33mDD->D\u001b[39m\u001b[33m'\u001b[39m \u001b[38;5;28;01mif\u001b[39;00m isComplexType(t) \u001b[38;5;28;01melse\u001b[39;00m \u001b[33m'\u001b[39m\u001b[33mdd->d\u001b[39m\u001b[33m'\u001b[39m\n\u001b[32m    469\u001b[39m \u001b[38;5;28;01mwith\u001b[39;00m errstate(call=_raise_linalgerror_singular, invalid=\u001b[33m'\u001b[39m\u001b[33mcall\u001b[39m\u001b[33m'\u001b[39m,\n\u001b[32m    470\u001b[39m               over=\u001b[33m'\u001b[39m\u001b[33mignore\u001b[39m\u001b[33m'\u001b[39m, divide=\u001b[33m'\u001b[39m\u001b[33mignore\u001b[39m\u001b[33m'\u001b[39m, under=\u001b[33m'\u001b[39m\u001b[33mignore\u001b[39m\u001b[33m'\u001b[39m):\n\u001b[32m--> \u001b[39m\u001b[32m471\u001b[39m     r = \u001b[43mgufunc\u001b[49m\u001b[43m(\u001b[49m\u001b[43ma\u001b[49m\u001b[43m,\u001b[49m\u001b[43m \u001b[49m\u001b[43mb\u001b[49m\u001b[43m,\u001b[49m\u001b[43m \u001b[49m\u001b[43msignature\u001b[49m\u001b[43m=\u001b[49m\u001b[43msignature\u001b[49m\u001b[43m)\u001b[49m\n\u001b[32m    473\u001b[39m \u001b[38;5;28;01mreturn\u001b[39;00m wrap(r.astype(result_t, copy=\u001b[38;5;28;01mFalse\u001b[39;00m))\n",
      "\u001b[36mFile \u001b[39m\u001b[32md:\\srinivas\\trainee-assignment-2025\\training_venv\\Lib\\site-packages\\numpy\\linalg\\_linalg.py:163\u001b[39m, in \u001b[36m_raise_linalgerror_singular\u001b[39m\u001b[34m(err, flag)\u001b[39m\n\u001b[32m    162\u001b[39m \u001b[38;5;28;01mdef\u001b[39;00m\u001b[38;5;250m \u001b[39m\u001b[34m_raise_linalgerror_singular\u001b[39m(err, flag):\n\u001b[32m--> \u001b[39m\u001b[32m163\u001b[39m     \u001b[38;5;28;01mraise\u001b[39;00m LinAlgError(\u001b[33m\"\u001b[39m\u001b[33mSingular matrix\u001b[39m\u001b[33m\"\u001b[39m)\n",
      "\u001b[31mLinAlgError\u001b[39m: Singular matrix"
     ]
    }
   ],
   "source": [
    "A = np.array([[2, -1, -1], [-3, -1, 2], [-4, 2, 2]])\n",
    "b = np.zeros(3)\n",
    "\n",
    "print(f\"coefficient matrix:\\n{A}\\n\")\n",
    "print(f\"output vector:\\n{b}\\n\")\n",
    "print(\"Solution vector [x, y, z]:\")\n",
    "np.linalg.solve(A,b)"
   ]
  },
  {
   "cell_type": "markdown",
   "id": "4eb1c9c8",
   "metadata": {},
   "source": [
    "* gives as **singular matrix**, so inifinite solution"
   ]
  },
  {
   "cell_type": "code",
   "execution_count": 35,
   "id": "8b660831",
   "metadata": {},
   "outputs": [
    {
     "name": "stdout",
     "output_type": "stream",
     "text": [
      "coefficient matrix:\n",
      "[[ 2 -1 -1]\n",
      " [-3 -1  2]\n",
      " [-4  2  2]]\n",
      "\n",
      "output vector:\n",
      "[0. 0. 0.]\n",
      "\n",
      "Solution vector [x, y, z]:\n"
     ]
    },
    {
     "data": {
      "text/plain": [
       "[6.29113629094514, 2.1027610821852902, 1.837479059192102e-16]"
      ]
     },
     "execution_count": 35,
     "metadata": {},
     "output_type": "execute_result"
    }
   ],
   "source": [
    "A = np.array([[2, -1, -1], [-3, -1, 2], [-4, 2, 2]])\n",
    "b = np.zeros(3)\n",
    "\n",
    "print(f\"coefficient matrix:\\n{A}\\n\")\n",
    "print(f\"output vector:\\n{b}\\n\")\n",
    "print(\"Solution vector [x, y, z]:\")\n",
    "np.linalg.lstsq(A,b, rcond=None)[3].tolist()"
   ]
  },
  {
   "cell_type": "markdown",
   "id": "a2117f9d",
   "metadata": {},
   "source": [
    "* This is the LI solution vector, from which infinite solutions can be generated"
   ]
  },
  {
   "cell_type": "markdown",
   "id": "c8ca7168",
   "metadata": {},
   "source": [
    "### **Heterogenous example**\n",
    "* 2x - y - z = 8\n",
    "* -3x - y + 2z = -11\n",
    "* -2x + y + 2z = -3\n",
    "\n",
    "Need to findout the solution for this (may be unique or infinite or no solution)"
   ]
  },
  {
   "cell_type": "markdown",
   "id": "457af963",
   "metadata": {},
   "source": [
    "The coeffmatrix is LI (so, may be unique or no solution)"
   ]
  },
  {
   "cell_type": "code",
   "execution_count": 36,
   "id": "eaca45a8",
   "metadata": {},
   "outputs": [
    {
     "name": "stdout",
     "output_type": "stream",
     "text": [
      "coefficient matrix:\n",
      "[[ 2 -1 -1]\n",
      " [-3 -1  2]\n",
      " [-2  1  2]]\n",
      "\n",
      "output vector:\n",
      "[  8 -11  -3]\n",
      "\n",
      "Solution vector [x, y, z]:\n"
     ]
    },
    {
     "data": {
      "text/plain": [
       "array([6.8, 0.6, 5. ])"
      ]
     },
     "execution_count": 36,
     "metadata": {},
     "output_type": "execute_result"
    }
   ],
   "source": [
    "A = np.array([[2, -1, -1], [-3, -1, 2], [-2, 1, 2]])\n",
    "b = np.array([8, -11, -3])\n",
    "\n",
    "print(f\"coefficient matrix:\\n{A}\\n\")\n",
    "print(f\"output vector:\\n{b}\\n\")\n",
    "print(\"Solution vector [x, y, z]:\")\n",
    "np.linalg.solve(A,b)"
   ]
  },
  {
   "cell_type": "markdown",
   "id": "1dab3974",
   "metadata": {},
   "source": [
    "* b is Linear combination of columns of A (since we got unique solution)"
   ]
  },
  {
   "cell_type": "markdown",
   "id": "76858faf",
   "metadata": {},
   "source": [
    "* 2x - y - z = 8\n",
    "* -3x - y + 2z = -11\n",
    "* 4x - 2y - 2z = 16\n",
    "\n",
    "Need to findout the solution for this (may be unique or infinite or no solution)"
   ]
  },
  {
   "cell_type": "markdown",
   "id": "7e08a342",
   "metadata": {},
   "source": [
    "Coefficient matrix is LD (so infinite sol (or) no sol)"
   ]
  },
  {
   "cell_type": "code",
   "execution_count": 37,
   "id": "99821047",
   "metadata": {},
   "outputs": [
    {
     "name": "stdout",
     "output_type": "stream",
     "text": [
      "coefficient matrix:\n",
      "[[ 2 -1 -1]\n",
      " [-3 -1  2]\n",
      " [ 4 -2 -2]]\n",
      "\n",
      "output vector:\n",
      "[  8 -11  16]\n",
      "\n",
      "Solution vector [x, y, z]:\n"
     ]
    },
    {
     "ename": "LinAlgError",
     "evalue": "Singular matrix",
     "output_type": "error",
     "traceback": [
      "\u001b[31m---------------------------------------------------------------------------\u001b[39m",
      "\u001b[31mLinAlgError\u001b[39m                               Traceback (most recent call last)",
      "\u001b[36mCell\u001b[39m\u001b[36m \u001b[39m\u001b[32mIn[37]\u001b[39m\u001b[32m, line 7\u001b[39m\n\u001b[32m      5\u001b[39m \u001b[38;5;28mprint\u001b[39m(\u001b[33mf\u001b[39m\u001b[33m\"\u001b[39m\u001b[33moutput vector:\u001b[39m\u001b[38;5;130;01m\\n\u001b[39;00m\u001b[38;5;132;01m{\u001b[39;00mb\u001b[38;5;132;01m}\u001b[39;00m\u001b[38;5;130;01m\\n\u001b[39;00m\u001b[33m\"\u001b[39m)\n\u001b[32m      6\u001b[39m \u001b[38;5;28mprint\u001b[39m(\u001b[33m\"\u001b[39m\u001b[33mSolution vector [x, y, z]:\u001b[39m\u001b[33m\"\u001b[39m)\n\u001b[32m----> \u001b[39m\u001b[32m7\u001b[39m \u001b[43mnp\u001b[49m\u001b[43m.\u001b[49m\u001b[43mlinalg\u001b[49m\u001b[43m.\u001b[49m\u001b[43msolve\u001b[49m\u001b[43m(\u001b[49m\u001b[43mA\u001b[49m\u001b[43m,\u001b[49m\u001b[43mb\u001b[49m\u001b[43m)\u001b[49m\n",
      "\u001b[36mFile \u001b[39m\u001b[32md:\\srinivas\\trainee-assignment-2025\\training_venv\\Lib\\site-packages\\numpy\\linalg\\_linalg.py:471\u001b[39m, in \u001b[36msolve\u001b[39m\u001b[34m(a, b)\u001b[39m\n\u001b[32m    468\u001b[39m signature = \u001b[33m'\u001b[39m\u001b[33mDD->D\u001b[39m\u001b[33m'\u001b[39m \u001b[38;5;28;01mif\u001b[39;00m isComplexType(t) \u001b[38;5;28;01melse\u001b[39;00m \u001b[33m'\u001b[39m\u001b[33mdd->d\u001b[39m\u001b[33m'\u001b[39m\n\u001b[32m    469\u001b[39m \u001b[38;5;28;01mwith\u001b[39;00m errstate(call=_raise_linalgerror_singular, invalid=\u001b[33m'\u001b[39m\u001b[33mcall\u001b[39m\u001b[33m'\u001b[39m,\n\u001b[32m    470\u001b[39m               over=\u001b[33m'\u001b[39m\u001b[33mignore\u001b[39m\u001b[33m'\u001b[39m, divide=\u001b[33m'\u001b[39m\u001b[33mignore\u001b[39m\u001b[33m'\u001b[39m, under=\u001b[33m'\u001b[39m\u001b[33mignore\u001b[39m\u001b[33m'\u001b[39m):\n\u001b[32m--> \u001b[39m\u001b[32m471\u001b[39m     r = \u001b[43mgufunc\u001b[49m\u001b[43m(\u001b[49m\u001b[43ma\u001b[49m\u001b[43m,\u001b[49m\u001b[43m \u001b[49m\u001b[43mb\u001b[49m\u001b[43m,\u001b[49m\u001b[43m \u001b[49m\u001b[43msignature\u001b[49m\u001b[43m=\u001b[49m\u001b[43msignature\u001b[49m\u001b[43m)\u001b[49m\n\u001b[32m    473\u001b[39m \u001b[38;5;28;01mreturn\u001b[39;00m wrap(r.astype(result_t, copy=\u001b[38;5;28;01mFalse\u001b[39;00m))\n",
      "\u001b[36mFile \u001b[39m\u001b[32md:\\srinivas\\trainee-assignment-2025\\training_venv\\Lib\\site-packages\\numpy\\linalg\\_linalg.py:163\u001b[39m, in \u001b[36m_raise_linalgerror_singular\u001b[39m\u001b[34m(err, flag)\u001b[39m\n\u001b[32m    162\u001b[39m \u001b[38;5;28;01mdef\u001b[39;00m\u001b[38;5;250m \u001b[39m\u001b[34m_raise_linalgerror_singular\u001b[39m(err, flag):\n\u001b[32m--> \u001b[39m\u001b[32m163\u001b[39m     \u001b[38;5;28;01mraise\u001b[39;00m LinAlgError(\u001b[33m\"\u001b[39m\u001b[33mSingular matrix\u001b[39m\u001b[33m\"\u001b[39m)\n",
      "\u001b[31mLinAlgError\u001b[39m: Singular matrix"
     ]
    }
   ],
   "source": [
    "A = np.array([[2, -1, -1], [-3, -1, 2], [4, -2, -2]])\n",
    "b = np.array([8, -11, 16])\n",
    "\n",
    "print(f\"coefficient matrix:\\n{A}\\n\")\n",
    "print(f\"output vector:\\n{b}\\n\")\n",
    "print(\"Solution vector [x, y, z]:\")\n",
    "np.linalg.solve(A,b)"
   ]
  },
  {
   "cell_type": "markdown",
   "id": "a7d74f35",
   "metadata": {},
   "source": [
    "* This method gives the solutions only if sol is unique"
   ]
  },
  {
   "cell_type": "markdown",
   "id": "c0cd3a2e",
   "metadata": {},
   "source": [
    "## **Eigen Values and Eigen Vectors**"
   ]
  },
  {
   "cell_type": "markdown",
   "id": "da770508",
   "metadata": {},
   "source": [
    "* For finding eigen values and eigen vectors, the matrix should be square"
   ]
  },
  {
   "cell_type": "code",
   "execution_count": 38,
   "id": "eff1ebda",
   "metadata": {},
   "outputs": [
    {
     "name": "stdout",
     "output_type": "stream",
     "text": [
      "Matrix is:\n",
      "[[1. 0. 0.]\n",
      " [0. 1. 0.]\n",
      " [0. 0. 1.]]\n",
      "\n",
      "Eigen values are:\n",
      "[1. 1. 1.]\n",
      "\n",
      "Eigen vectors are:\n",
      "[[1. 0. 0.]\n",
      " [0. 1. 0.]\n",
      " [0. 0. 1.]]\n"
     ]
    }
   ],
   "source": [
    "I = np.eye(3) # identity matrix of size 3*3\n",
    "\n",
    "print(f\"Matrix is:\\n{I}\\n\")\n",
    "evals, evecs = np.linalg.eig(I)\n",
    "print(f\"Eigen values are:\\n{evals}\\n\")\n",
    "print(f\"Eigen vectors are:\\n{evecs}\")\n"
   ]
  },
  {
   "cell_type": "code",
   "execution_count": 39,
   "id": "72775530",
   "metadata": {},
   "outputs": [
    {
     "name": "stdout",
     "output_type": "stream",
     "text": [
      "Matrix is:\n",
      "[[1 2]\n",
      " [5 7]]\n",
      "\n",
      "Eigen values are:\n",
      "[-0.35889894  8.35889894]\n",
      "\n",
      "Eigen vectors are:\n",
      "[[-0.82713818 -0.26226628]\n",
      " [ 0.5619986  -0.96499554]]\n"
     ]
    }
   ],
   "source": [
    "I = np.array([[1, 2], [5, 7]])\n",
    "\n",
    "print(f\"Matrix is:\\n{I}\\n\")\n",
    "evals, evecs = np.linalg.eig(I)\n",
    "print(f\"Eigen values are:\\n{evals}\\n\")\n",
    "print(f\"Eigen vectors are:\\n{evecs}\")"
   ]
  },
  {
   "cell_type": "code",
   "execution_count": 40,
   "id": "b0da1fa1",
   "metadata": {},
   "outputs": [
    {
     "name": "stdout",
     "output_type": "stream",
     "text": [
      "Matrix is:\n",
      "[[2 2 2]\n",
      " [2 2 2]\n",
      " [2 2 2]]\n",
      "\n",
      "Eigen values are:\n",
      "[-4.4408921e-16  6.0000000e+00  0.0000000e+00]\n",
      "\n",
      "Eigen vectors are:\n",
      "[[-0.81649658  0.57735027  0.        ]\n",
      " [ 0.40824829  0.57735027 -0.70710678]\n",
      " [ 0.40824829  0.57735027  0.70710678]]\n"
     ]
    }
   ],
   "source": [
    "I = np.array([[2, 2, 2], [2, 2, 2], [2, 2, 2]])\n",
    "\n",
    "print(f\"Matrix is:\\n{I}\\n\")\n",
    "evals, evecs = np.linalg.eig(I)\n",
    "print(f\"Eigen values are:\\n{evals}\\n\")\n",
    "print(f\"Eigen vectors are:\\n{evecs}\")"
   ]
  },
  {
   "cell_type": "markdown",
   "id": "6f71cb74",
   "metadata": {},
   "source": [
    "## **Orthogonal and Orthonormal vectors**"
   ]
  },
  {
   "cell_type": "markdown",
   "id": "79ce6805",
   "metadata": {},
   "source": [
    "**Orthogonal vectors**\n",
    "\n",
    "Two vectors u and v are orthogonal if their dot product is zero, i.e, the angle between the two vectors is 90\n",
    "\n"
   ]
  },
  {
   "cell_type": "code",
   "execution_count": 77,
   "id": "b8c6c366",
   "metadata": {},
   "outputs": [
    {
     "name": "stdout",
     "output_type": "stream",
     "text": [
      "u · v = 0\n"
     ]
    }
   ],
   "source": [
    "u = np.array([1, -2, 0])\n",
    "v = np.array([2, 1, 0])\n",
    "\n",
    "print(\"u · v =\", np.dot(u, v))"
   ]
  },
  {
   "cell_type": "markdown",
   "id": "36eba636",
   "metadata": {},
   "source": [
    "**Orthonormal vectors**"
   ]
  },
  {
   "cell_type": "markdown",
   "id": "6970d791",
   "metadata": {},
   "source": [
    "* Vectors are orthonormal if, both vectors are orthogonal and each vector norm is 1"
   ]
  },
  {
   "cell_type": "code",
   "execution_count": 80,
   "id": "b3fa0e51",
   "metadata": {},
   "outputs": [
    {
     "name": "stdout",
     "output_type": "stream",
     "text": [
      "e1 · e2 = 0\n",
      "e1 · e3 = 0\n",
      "e2 · e3 = 0\n",
      "||e1|| = 1.0\n",
      "||e2|| = 1.0\n",
      "||e3|| = 1.0\n"
     ]
    }
   ],
   "source": [
    "e1 = np.array([1, 0, 0])\n",
    "e2 = np.array([0, 1, 0])\n",
    "e3 = np.array([0, 0, 1])\n",
    "\n",
    "# Check dot products\n",
    "print(\"e1 · e2 =\", np.dot(e1, e2))  \n",
    "print(\"e1 · e3 =\", np.dot(e1, e3))  \n",
    "print(\"e2 · e3 =\", np.dot(e2, e3))  \n",
    "\n",
    "# Check norms\n",
    "print(\"||e1|| =\", np.linalg.norm(e1))\n",
    "print(\"||e2|| =\", np.linalg.norm(e2))  \n",
    "print(\"||e3|| =\", np.linalg.norm(e3))"
   ]
  },
  {
   "cell_type": "code",
   "execution_count": null,
   "id": "5a43a131",
   "metadata": {},
   "outputs": [],
   "source": []
  },
  {
   "cell_type": "markdown",
   "id": "89d60be8",
   "metadata": {},
   "source": [
    "## **Types of Matrices**"
   ]
  },
  {
   "cell_type": "markdown",
   "id": "b03282b1",
   "metadata": {},
   "source": [
    "**Indentity Matrix**\n",
    "* It's like 1 in scalar"
   ]
  },
  {
   "cell_type": "code",
   "execution_count": 41,
   "id": "71a0e0ba",
   "metadata": {},
   "outputs": [
    {
     "name": "stdout",
     "output_type": "stream",
     "text": [
      "[[1. 0.]\n",
      " [0. 1.]]\n"
     ]
    }
   ],
   "source": [
    "I_1 = np.eye(2) # 2*2 identity matrix\n",
    "\n",
    "print(I_1)"
   ]
  },
  {
   "cell_type": "code",
   "execution_count": 43,
   "id": "ff4680ad",
   "metadata": {},
   "outputs": [
    {
     "name": "stdout",
     "output_type": "stream",
     "text": [
      "[[1. 0. 0.]\n",
      " [0. 1. 0.]\n",
      " [0. 0. 1.]]\n"
     ]
    }
   ],
   "source": [
    "I_2 = np.eye(3) # 2*2 identity matrix\n",
    "\n",
    "print(I_2)"
   ]
  },
  {
   "cell_type": "code",
   "execution_count": 44,
   "id": "c10f2b6a",
   "metadata": {},
   "outputs": [
    {
     "name": "stdout",
     "output_type": "stream",
     "text": [
      "[[1. 0. 0. 0.]\n",
      " [0. 1. 0. 0.]\n",
      " [0. 0. 1. 0.]\n",
      " [0. 0. 0. 1.]]\n"
     ]
    }
   ],
   "source": [
    "I_3 = np.eye(4) # 2*2 identity matrix\n",
    "\n",
    "print(I_3)"
   ]
  },
  {
   "cell_type": "code",
   "execution_count": 46,
   "id": "4751d2ff",
   "metadata": {},
   "outputs": [
    {
     "name": "stdout",
     "output_type": "stream",
     "text": [
      "Matrix is: \n",
      "[[8 1 1 1]\n",
      " [7 2 5 0]\n",
      " [4 6 8 2]\n",
      " [0 5 3 4]]\n",
      "\n",
      "mat_1 * I\n"
     ]
    },
    {
     "data": {
      "text/plain": [
       "array([[8., 1., 1., 1.],\n",
       "       [7., 2., 5., 0.],\n",
       "       [4., 6., 8., 2.],\n",
       "       [0., 5., 3., 4.]])"
      ]
     },
     "execution_count": 46,
     "metadata": {},
     "output_type": "execute_result"
    }
   ],
   "source": [
    "# An identity matrix is like Multiplicative identiy\n",
    "\n",
    "mat_1 = np.random.randint(0, 10, (4,4))\n",
    "I_1 = np.eye(4)\n",
    "\n",
    "print(f\"Matrix is: \\n{mat_1}\\n\")\n",
    "print(\"mat_1 * I\")\n",
    "mat_1@I_1"
   ]
  },
  {
   "cell_type": "markdown",
   "id": "8d1966c5",
   "metadata": {},
   "source": [
    "**Trianlular matrix**\n",
    "\n",
    "There are two types of triangular matrices\n",
    "* Upper triangular\n",
    "* Lower triangular"
   ]
  },
  {
   "cell_type": "markdown",
   "id": "c74cdfb1",
   "metadata": {},
   "source": [
    "**Lower Triangular matrix**\n",
    "* all the elements above the principle diagonal are zero"
   ]
  },
  {
   "cell_type": "code",
   "execution_count": 48,
   "id": "5c6a34fa",
   "metadata": {},
   "outputs": [
    {
     "name": "stdout",
     "output_type": "stream",
     "text": [
      "lower triangular matrix\n",
      "[[1 0 0]\n",
      " [4 5 0]\n",
      " [7 8 9]]\n"
     ]
    }
   ],
   "source": [
    "lower = np.array([[1, 0, 0],\n",
    "                  [4, 5, 0],\n",
    "                  [7, 8, 9]])\n",
    "print(\"lower triangular matrix\")\n",
    "print(lower)"
   ]
  },
  {
   "cell_type": "code",
   "execution_count": 49,
   "id": "08d0cab0",
   "metadata": {},
   "outputs": [
    {
     "name": "stdout",
     "output_type": "stream",
     "text": [
      "Multiplication of lower trainagular matrices produces lower traingular matrix\n"
     ]
    },
    {
     "data": {
      "text/plain": [
       "array([[ 2,  0,  0],\n",
       "       [28, 45,  0],\n",
       "       [55, 27, 81]])"
      ]
     },
     "execution_count": 49,
     "metadata": {},
     "output_type": "execute_result"
    }
   ],
   "source": [
    "lower_1 = np.array([[1, 0, 0],\n",
    "                  [4, 5, 0],\n",
    "                  [7, 8, 9]])\n",
    "lower_2 = np.array([[2, 0, 0],\n",
    "                  [4, 9, 0],\n",
    "                  [1, -5, 9]])\n",
    "\n",
    "print(\"Multiplication of lower trainagular matrices produces lower traingular matrix\")\n",
    "lower_1@lower_2"
   ]
  },
  {
   "cell_type": "markdown",
   "id": "0c1b4920",
   "metadata": {},
   "source": [
    "**Upper Triangular matrix**\n",
    "* all the elements are below the principle diagonal are zero"
   ]
  },
  {
   "cell_type": "code",
   "execution_count": 51,
   "id": "c82606cc",
   "metadata": {},
   "outputs": [
    {
     "name": "stdout",
     "output_type": "stream",
     "text": [
      "Upper triangular matrix\n",
      "[[1 2 3]\n",
      " [0 5 6]\n",
      " [0 0 9]]\n"
     ]
    }
   ],
   "source": [
    "upper = np.array([[1, 2, 3],\n",
    "                  [0, 5, 6],\n",
    "                  [0, 0, 9]])\n",
    "\n",
    "print(\"Upper triangular matrix\")\n",
    "print(upper)"
   ]
  },
  {
   "cell_type": "code",
   "execution_count": 52,
   "id": "deeb25e5",
   "metadata": {},
   "outputs": [
    {
     "name": "stdout",
     "output_type": "stream",
     "text": [
      "Multiplication of upper trainagular matrices produces upper traingular matrix\n"
     ]
    },
    {
     "data": {
      "text/plain": [
       "array([[ 44,  98, 207],\n",
       "       [  0,  25, 156],\n",
       "       [  0,   0,  81]])"
      ]
     },
     "execution_count": 52,
     "metadata": {},
     "output_type": "execute_result"
    }
   ],
   "source": [
    "upper_1 = np.array([[44, 2, 7],\n",
    "                  [0, 5, 14],\n",
    "                  [0, 0, 9]])\n",
    "upper_2 = np.array([[1, 2, 3],\n",
    "                  [0, 5, 6],\n",
    "                  [0, 0, 9]])\n",
    "\n",
    "print(\"Multiplication of upper trainagular matrices produces upper traingular matrix\")\n",
    "upper_1@upper_2"
   ]
  },
  {
   "cell_type": "markdown",
   "id": "2c3ff2a7",
   "metadata": {},
   "source": [
    "**Symmetric Matrix**\n",
    "* A.T = A"
   ]
  },
  {
   "cell_type": "code",
   "execution_count": 56,
   "id": "99ec31fd",
   "metadata": {},
   "outputs": [
    {
     "name": "stdout",
     "output_type": "stream",
     "text": [
      "Symmetric matrix\n",
      "[[1 2 3]\n",
      " [2 5 6]\n",
      " [3 6 7]]\n",
      "Tranpose is a symetric matrix is same as original matrix\n",
      "[[1 2 3]\n",
      " [2 5 6]\n",
      " [3 6 7]]\n"
     ]
    }
   ],
   "source": [
    "sym_1 = np.array([[1, 2, 3], [2, 5, 6], [3, 6, 7]])\n",
    "\n",
    "print(\"Symmetric matrix\")\n",
    "print(sym_1)\n",
    "print(\"Tranpose is a symetric matrix is same as original matrix\")\n",
    "print(sym_1.T) # transpose of the matrix"
   ]
  },
  {
   "cell_type": "markdown",
   "id": "718324b5",
   "metadata": {},
   "source": [
    "product of any matrix and its transpose gives symmetric matrix"
   ]
  },
  {
   "cell_type": "code",
   "execution_count": 57,
   "id": "eb7ae001",
   "metadata": {},
   "outputs": [
    {
     "name": "stdout",
     "output_type": "stream",
     "text": [
      "original matrix:\n",
      "[[2 3 3 6]\n",
      " [1 1 7 8]\n",
      " [1 8 8 5]]\n",
      "\n",
      "Transpose of original matrix:\n",
      "[[2 1 1]\n",
      " [3 1 8]\n",
      " [3 7 8]\n",
      " [6 8 5]]\n",
      "\n",
      "A*A.T gives symmetric matrix:\n",
      "[[ 58  74  80]\n",
      " [ 74 115 105]\n",
      " [ 80 105 154]]\n"
     ]
    }
   ],
   "source": [
    "mat_1 = np.random.randint(1, 10, (3, 4))\n",
    "print(f\"original matrix:\\n{mat_1}\\n\")\n",
    "print(f\"Transpose of original matrix:\\n{mat_1.T}\\n\")\n",
    "print(f\"A*A.T gives symmetric matrix:\\n{mat_1@mat_1.T}\")"
   ]
  },
  {
   "cell_type": "code",
   "execution_count": 58,
   "id": "775e2cc9",
   "metadata": {},
   "outputs": [
    {
     "name": "stdout",
     "output_type": "stream",
     "text": [
      "original matrix:\n",
      "[[6 4 7 9]\n",
      " [8 3 9 1]\n",
      " [9 1 2 7]]\n",
      "\n",
      "Transpose of original matrix:\n",
      "[[6 8 9]\n",
      " [4 3 1]\n",
      " [7 9 2]\n",
      " [9 1 7]]\n",
      "\n",
      "A.T*A gives symmetric matrix:\n",
      "[[181  57 132 125]\n",
      " [ 57  26  57  46]\n",
      " [132  57 134  86]\n",
      " [125  46  86 131]]\n"
     ]
    }
   ],
   "source": [
    "mat_1 = np.random.randint(1, 10, (3, 4))\n",
    "print(f\"original matrix:\\n{mat_1}\\n\")\n",
    "print(f\"Transpose of original matrix:\\n{mat_1.T}\\n\")\n",
    "print(f\"A.T*A gives symmetric matrix:\\n{mat_1.T@mat_1}\")"
   ]
  },
  {
   "cell_type": "markdown",
   "id": "b89fab5d",
   "metadata": {},
   "source": [
    "Any square matrix can be written as sum of symmetric and skew-symmetric matrices"
   ]
  },
  {
   "cell_type": "code",
   "execution_count": 61,
   "id": "340cf4c2",
   "metadata": {},
   "outputs": [
    {
     "name": "stdout",
     "output_type": "stream",
     "text": [
      "Original matrix:\n",
      " [[6 4 3]\n",
      " [6 2 4]\n",
      " [8 5 8]]\n",
      "\n",
      "Symmetric part:\n",
      " [[6.  5.  5.5]\n",
      " [5.  2.  4.5]\n",
      " [5.5 4.5 8. ]]\n",
      "\n",
      "Skew-symmetric part:\n",
      " [[ 0.  -1.  -2.5]\n",
      " [ 1.   0.  -0.5]\n",
      " [ 2.5  0.5  0. ]]\n",
      "\n",
      "Check (Original = Sym + Skew):\n",
      " [[6. 4. 3.]\n",
      " [6. 2. 4.]\n",
      " [8. 5. 8.]]\n"
     ]
    }
   ],
   "source": [
    "mat_1 = np.random.randint(1, 10, (3, 3))\n",
    "\n",
    "sym_part = 0.5 * (mat_1 + mat_1.T)\n",
    "skew_part = 0.5 * (mat_1 - mat_1.T)\n",
    "\n",
    "# Pretty output\n",
    "print(\"Original matrix:\\n\", mat_1)\n",
    "print(\"\\nSymmetric part:\\n\", sym_part)\n",
    "print(\"\\nSkew-symmetric part:\\n\", skew_part)\n",
    "\n",
    "print(\"\\nCheck (Original = Sym + Skew):\\n\", sym_part + skew_part)"
   ]
  },
  {
   "cell_type": "markdown",
   "id": "44efa498",
   "metadata": {},
   "source": [
    "**Skew-symmetric matrix**"
   ]
  },
  {
   "cell_type": "code",
   "execution_count": 66,
   "id": "54038f71",
   "metadata": {},
   "outputs": [
    {
     "name": "stdout",
     "output_type": "stream",
     "text": [
      "matrix:\n",
      "[[ 0 -1 -3]\n",
      " [ 1  0  5]\n",
      " [ 3 -5  0]]\n",
      "\n",
      "Matrix Transpose:\n",
      "[[ 0  1  3]\n",
      " [-1  0 -5]\n",
      " [-3  5  0]]\n",
      "\n",
      "We can observe that, A.T = -A\n"
     ]
    }
   ],
   "source": [
    "mat_1 = np.array([[0, -1, -3],[1, 0, 5], [3, -5, 0]])\n",
    "print(f\"matrix:\\n{mat_1}\\n\")\n",
    "print(f\"Matrix Transpose:\\n{mat_1.T}\\n\")\n",
    "print(\"We can observe that, A.T = -A\")"
   ]
  },
  {
   "cell_type": "markdown",
   "id": "a4b60848",
   "metadata": {},
   "source": [
    "**orthogonal matrix**"
   ]
  },
  {
   "cell_type": "code",
   "execution_count": 69,
   "id": "1b5934e0",
   "metadata": {},
   "outputs": [
    {
     "name": "stdout",
     "output_type": "stream",
     "text": [
      "Orthogonal:\n",
      " [[ 0  1  0]\n",
      " [ 1  0  0]\n",
      " [ 0  0 -1]]\n",
      "\n",
      "Q.T*Q gives Idntity matrix:\n",
      "[[1 0 0]\n",
      " [0 1 0]\n",
      " [0 0 1]]\n"
     ]
    }
   ],
   "source": [
    "# Orthogonal Matrix (Q^T*Q = I)\n",
    "\n",
    "Q = np.array([[0, 1, 0],\n",
    "              [1, 0, 0],\n",
    "              [0, 0, -1]])\n",
    "print(\"Orthogonal:\\n\", Q)\n",
    "print(\"\\nQ.T*Q gives Idntity matrix:\")\n",
    "print(Q.T @ Q)"
   ]
  },
  {
   "cell_type": "markdown",
   "id": "3a8cb869",
   "metadata": {},
   "source": [
    "**hermition matrix**"
   ]
  },
  {
   "cell_type": "code",
   "execution_count": 71,
   "id": "f73ddf63",
   "metadata": {},
   "outputs": [
    {
     "name": "stdout",
     "output_type": "stream",
     "text": [
      "Hermitian:\n",
      " [[2.+0.j 1.-1.j 0.+2.j]\n",
      " [1.+1.j 3.+0.j 4.-1.j]\n",
      " [0.-2.j 4.+1.j 5.+0.j]]\n",
      "\n",
      "H.conj().T is same as H:\n",
      "[[2.-0.j 1.-1.j 0.+2.j]\n",
      " [1.+1.j 3.-0.j 4.-1.j]\n",
      " [0.-2.j 4.+1.j 5.-0.j]]\n"
     ]
    }
   ],
   "source": [
    "H = np.array([[2+0j, 1-1j, 0+2j],\n",
    "              [1+1j, 3+0j, 4-1j],\n",
    "              [0-2j, 4+1j, 5+0j]])\n",
    "\n",
    "print(\"Hermitian:\\n\", H)\n",
    "print(\"\\nH.conj().T is same as H:\")\n",
    "print(H.conj().T)\n"
   ]
  },
  {
   "cell_type": "markdown",
   "id": "5112df2b",
   "metadata": {},
   "source": [
    "**skew-hermition matrix**"
   ]
  },
  {
   "cell_type": "code",
   "execution_count": 73,
   "id": "5a15e2d8",
   "metadata": {},
   "outputs": [
    {
     "name": "stdout",
     "output_type": "stream",
     "text": [
      "Skew-Hermitian:\n",
      " [[ 0.+0.j  2.+3.j -1.+4.j]\n",
      " [-2.+3.j  0.+0.j  5.-2.j]\n",
      " [ 1.+4.j -5.-2.j  0.+0.j]]\n",
      "\n",
      "S.conj().T is same as -S:\n",
      "[[ 0.-0.j -2.-3.j  1.-4.j]\n",
      " [ 2.-3.j  0.-0.j -5.+2.j]\n",
      " [-1.-4.j  5.+2.j  0.-0.j]]\n"
     ]
    }
   ],
   "source": [
    "S = np.array([[0+0j, 2+3j, -1+4j],\n",
    "              [-2+3j, 0+0j, 5-2j],\n",
    "              [1+4j, -5-2j, 0+0j]])\n",
    "print(\"Skew-Hermitian:\\n\", S)\n",
    "print(\"\\nS.conj().T is same as -S:\")\n",
    "print(S.conj().T)"
   ]
  },
  {
   "cell_type": "markdown",
   "id": "5ca50348",
   "metadata": {},
   "source": [
    "**Idempotent matrix**\n",
    "* A^2 = A"
   ]
  },
  {
   "cell_type": "code",
   "execution_count": 74,
   "id": "e986fe5a",
   "metadata": {},
   "outputs": [
    {
     "name": "stdout",
     "output_type": "stream",
     "text": [
      "Idempotent:\n",
      " [[1 0 0]\n",
      " [0 1 0]\n",
      " [0 0 0]]\n",
      "\n",
      "A @ A is equal to A:\n",
      "[[1 0 0]\n",
      " [0 1 0]\n",
      " [0 0 0]]\n"
     ]
    }
   ],
   "source": [
    "A = np.array([[1, 0, 0],\n",
    "              [0, 1, 0],\n",
    "              [0, 0, 0]])\n",
    "print(\"Idempotent:\\n\", A)\n",
    "print(\"\\nA @ A is equal to A:\")\n",
    "print(A @ A)"
   ]
  },
  {
   "cell_type": "markdown",
   "id": "2e02c8a4",
   "metadata": {},
   "source": [
    "**Nilpotent matrix**"
   ]
  },
  {
   "cell_type": "markdown",
   "id": "7d4e520f",
   "metadata": {},
   "source": [
    "* A^n = 0\n",
    "* n is called nilpotent"
   ]
  },
  {
   "cell_type": "code",
   "execution_count": 75,
   "id": "732c5a83",
   "metadata": {},
   "outputs": [
    {
     "name": "stdout",
     "output_type": "stream",
     "text": [
      "Nilpotent:\n",
      " [[0 1 0]\n",
      " [0 0 1]\n",
      " [0 0 0]]\n",
      "\n",
      "N^2:\n",
      "[[0 0 1]\n",
      " [0 0 0]\n",
      " [0 0 0]]\n",
      "\n",
      "N^3:\n",
      "[[0 0 0]\n",
      " [0 0 0]\n",
      " [0 0 0]]\n"
     ]
    }
   ],
   "source": [
    "N = np.array([[0, 1, 0],\n",
    "              [0, 0, 1],\n",
    "              [0, 0, 0]])\n",
    "\n",
    "print(\"Nilpotent:\\n\", N)\n",
    "print(\"\\nN^2:\")\n",
    "print(N @ N)\n",
    "\n",
    "print(\"\\nN^3:\")\n",
    "print(N @ N @ N)"
   ]
  },
  {
   "cell_type": "markdown",
   "id": "101d0bad",
   "metadata": {},
   "source": [
    "**Involutary matrix**\n",
    "* A^2 = I"
   ]
  },
  {
   "cell_type": "code",
   "execution_count": 76,
   "id": "85e9d636",
   "metadata": {},
   "outputs": [
    {
     "name": "stdout",
     "output_type": "stream",
     "text": [
      "Involutory:\n",
      " [[ 0  1  0]\n",
      " [ 1  0  0]\n",
      " [ 0  0 -1]]\n",
      "\n",
      "M @ M gives Identity matrix:\n",
      "[[1 0 0]\n",
      " [0 1 0]\n",
      " [0 0 1]]\n"
     ]
    }
   ],
   "source": [
    "M = np.array([[0, 1, 0],\n",
    "              [1, 0, 0],\n",
    "              [0, 0, -1]])\n",
    "\n",
    "print(\"Involutory:\\n\", M)\n",
    "print(\"\\nM @ M gives Identity matrix:\")\n",
    "\n",
    "print(M @ M)"
   ]
  },
  {
   "cell_type": "markdown",
   "id": "c39e434e",
   "metadata": {},
   "source": [
    "## **Intutive Linear Regression**"
   ]
  },
  {
   "cell_type": "markdown",
   "id": "121b291f",
   "metadata": {},
   "source": [
    "* cosidering a 6*6 dataset with outputs seperate\n",
    "* Say the dataset is invertible\n",
    "* By using system of linear equations, we can find the weights and use it future value prediton"
   ]
  },
  {
   "cell_type": "markdown",
   "id": "664a4e16",
   "metadata": {},
   "source": [
    "X = A^-1 * b"
   ]
  },
  {
   "cell_type": "code",
   "execution_count": 81,
   "id": "83e28928",
   "metadata": {},
   "outputs": [],
   "source": [
    "import pandas as pd"
   ]
  },
  {
   "cell_type": "code",
   "execution_count": 90,
   "id": "ee300e02",
   "metadata": {},
   "outputs": [
    {
     "name": "stdout",
     "output_type": "stream",
     "text": [
      "Coefficient matrix is:\n",
      "[[52 66 71 70 90 52]\n",
      " [28 67  7 17 97 28]\n",
      " [82 68 25 24 50 72]\n",
      " [70 80 63 57 44 64]\n",
      " [66 32 35  8 68 63]\n",
      " [91 74 67 94 23 65]]\n",
      "\n",
      "Corresponding output values are:\n",
      "[44 25  4  4 16 40]\n",
      "\n",
      "Dataframe is:\n",
      "   x1  x2  x3  x4  x5  x6   y\n",
      "0  52  66  71  70  90  52  44\n",
      "1  28  67   7  17  97  28  25\n",
      "2  82  68  25  24  50  72   4\n",
      "3  70  80  63  57  44  64   4\n",
      "4  66  32  35   8  68  63  16\n",
      "5  91  74  67  94  23  65  40\n",
      "\n",
      "Weights are (by using A^-1 * b):\n",
      "[ 0.71174857 -0.66127384 -0.36097202  0.85269049  0.58681475 -0.69691347]\n"
     ]
    }
   ],
   "source": [
    "A = np.random.randint(1,100, (6, 6)) # 6*6 random matrix (so mostly independet)\n",
    "b = np.random.randint(1, 50, (6,)) # 6 output values\n",
    "\n",
    "print(f\"Coefficient matrix is:\\n{A}\\n\")\n",
    "print(f\"Corresponding output values are:\\n{b}\\n\")\n",
    "\n",
    "print(\"Dataframe is:\")\n",
    "lab = ['x1', 'x2', 'x3', 'x4', 'x5', 'x6']\n",
    "x = pd.DataFrame(A, columns=lab)\n",
    "y = pd.DataFrame(b, columns=['y'])\n",
    "x = pd.concat([x,y], axis=1)\n",
    "print(x)\n",
    "\n",
    "print(\"\\nWeights are (by using A^-1 * b):\")\n",
    "w = np.linalg.inv(A)@b\n",
    "print(w)"
   ]
  },
  {
   "cell_type": "markdown",
   "id": "d2ee390b",
   "metadata": {},
   "source": [
    "The generated weights are used for future preditions"
   ]
  },
  {
   "cell_type": "markdown",
   "id": "a39cdda0",
   "metadata": {},
   "source": [
    "## **Singular value decompogition**"
   ]
  },
  {
   "cell_type": "markdown",
   "id": "8ce014ab",
   "metadata": {},
   "source": [
    "For any dimetion of matrix, we can genrate the SVD"
   ]
  },
  {
   "cell_type": "code",
   "execution_count": 95,
   "id": "a21b3f79",
   "metadata": {},
   "outputs": [
    {
     "name": "stdout",
     "output_type": "stream",
     "text": [
      "A (original matrix):\n",
      " [[6 5 3 6]\n",
      " [8 4 5 7]\n",
      " [7 7 6 7]]\n",
      "\n",
      "U (left singular vectors):\n",
      " [[ 0.48960701  0.06562742 -0.86946996]\n",
      " [ 0.58838917 -0.76077222  0.27390474]\n",
      " [ 0.64349294  0.64569239  0.41109388]]\n",
      "\n",
      "S (singular values):\n",
      " [20.88730573  2.20760398  1.35902316]\n",
      "\n",
      "VT (right singular vectors transposed):\n",
      " [[ 0.58165501  0.44553579  0.39601683  0.55348531]\n",
      " [-0.53114895  0.81758094  0.1210251  -0.1865345 ]\n",
      " [-0.10884635 -0.27525191  0.90335258 -0.31039166]\n",
      " [-0.60639156 -0.23936509  0.11170371  0.75001061]]\n"
     ]
    }
   ],
   "source": [
    "A = np.random.randint(1, 10, (3, 4))\n",
    "\n",
    "# Perform SVD\n",
    "U, S, VT = np.linalg.svd(A)\n",
    "print(\"A (original matrix):\\n\", A)\n",
    "print(\"\\nU (left singular vectors):\\n\", U)\n",
    "print(\"\\nS (singular values):\\n\", S)\n",
    "print(\"\\nVT (right singular vectors transposed):\\n\", VT)"
   ]
  },
  {
   "cell_type": "code",
   "execution_count": 96,
   "id": "d20a9656",
   "metadata": {},
   "outputs": [
    {
     "name": "stdout",
     "output_type": "stream",
     "text": [
      "\n",
      "Reconstructed A:\n",
      " [[6. 5. 3. 6.]\n",
      " [8. 4. 5. 7.]\n",
      " [7. 7. 6. 7.]]\n"
     ]
    }
   ],
   "source": [
    "# Reconstruct A from SVD\n",
    "S_matrix = np.zeros((A.shape[0], A.shape[1]))\n",
    "np.fill_diagonal(S_matrix, S)\n",
    "\n",
    "A_reconstructed = U @ S_matrix @ VT\n",
    "\n",
    "print(\"\\nReconstructed A:\\n\", A_reconstructed)"
   ]
  },
  {
   "cell_type": "markdown",
   "id": "d4f2778f",
   "metadata": {},
   "source": [
    "## **Gramsmith orthonormalization**"
   ]
  },
  {
   "cell_type": "code",
   "execution_count": 104,
   "id": "02d8bc43",
   "metadata": {},
   "outputs": [
    {
     "name": "stdout",
     "output_type": "stream",
     "text": [
      "Original vectors:\n",
      " [[1. 1. 0.]\n",
      " [1. 0. 1.]\n",
      " [0. 1. 1.]]\n",
      "\n",
      "Orthonormal vectors:\n",
      " [[ 0.70710678  0.70710678  0.        ]\n",
      " [ 0.40824829 -0.40824829  0.81649658]\n",
      " [-0.57735027  0.57735027  0.57735027]]\n",
      "\n",
      "Check Q * Q^T = I:\n",
      "[[ 1.  0.  0.]\n",
      " [ 0.  1. -0.]\n",
      " [ 0. -0.  1.]]\n"
     ]
    }
   ],
   "source": [
    "def gram_ortho(vectors):\n",
    "    orthonormal = []\n",
    "    for v in vectors:\n",
    "        w = v.copy()\n",
    "        for u in orthonormal:\n",
    "            w -= np.dot(u, v) * u\n",
    "        w /= np.linalg.norm(w)  \n",
    "        orthonormal.append(w)\n",
    "    return np.array(orthonormal)\n",
    "\n",
    "v1 = np.array([1, 1, 0], dtype=float)\n",
    "v2 = np.array([1, 0, 1], dtype=float)\n",
    "v3 = np.array([0, 1, 1], dtype=float)\n",
    "\n",
    "V = np.array([v1, v2, v3])\n",
    "\n",
    "Q = gram_ortho(V)\n",
    "\n",
    "\n",
    "print(\"Original vectors:\\n\", V)\n",
    "print(\"\\nOrthonormal vectors:\\n\", Q)\n",
    "\n",
    "print(\"\\nCheck Q * Q^T = I:\")\n",
    "print(np.round(Q@Q.T, 6))"
   ]
  }
 ],
 "metadata": {
  "kernelspec": {
   "display_name": "training_venv (3.12.10)",
   "language": "python",
   "name": "python3"
  },
  "language_info": {
   "codemirror_mode": {
    "name": "ipython",
    "version": 3
   },
   "file_extension": ".py",
   "mimetype": "text/x-python",
   "name": "python",
   "nbconvert_exporter": "python",
   "pygments_lexer": "ipython3",
   "version": "3.12.10"
  }
 },
 "nbformat": 4,
 "nbformat_minor": 5
}
